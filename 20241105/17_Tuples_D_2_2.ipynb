{
 "cells": [
  {
   "cell_type": "markdown",
   "metadata": {},
   "source": [
    "# Tupel 2\n",
    "#### Wir wissen, dass Tupel geordnet (indiziert) und unveränderlich (immutable) sind.\n",
    "#### Können wir <code>.sort()</code> und <code>.reverse()</code> auf Tupel anwenden?"
   ]
  },
  {
   "cell_type": "code",
   "execution_count": null,
   "metadata": {},
   "outputs": [],
   "source": [
    "t = 50, 10, 20, 60, 15, 25, 60\n",
    "t = (50, 10, 20, 60, 15, 25, 60)\n",
    "l1 = [50, 10, 20, 60, 15, 25, 60]"
   ]
  },
  {
   "cell_type": "code",
   "execution_count": null,
   "metadata": {},
   "outputs": [],
   "source": [
    "print(t)\n",
    "print(type(t))"
   ]
  },
  {
   "cell_type": "code",
   "execution_count": null,
   "metadata": {},
   "outputs": [],
   "source": [
    "t.sort() # sort is not applicable to tuples"
   ]
  },
  {
   "cell_type": "code",
   "execution_count": null,
   "metadata": {},
   "outputs": [],
   "source": [
    "l1.sort()\n",
    "print(l1)"
   ]
  },
  {
   "cell_type": "code",
   "execution_count": null,
   "metadata": {},
   "outputs": [],
   "source": [
    "l = list(t)\n",
    "print(l, type(l))\n",
    "l.sort()\n",
    "print(l)"
   ]
  },
  {
   "cell_type": "markdown",
   "metadata": {},
   "source": [
    "#### Alternativ können Sie die eingebaute Funktion <code>sorted()</code> anwenden:"
   ]
  },
  {
   "cell_type": "code",
   "execution_count": null,
   "metadata": {},
   "outputs": [],
   "source": [
    "sorted(t) # erzeugt eine sortierte Liste aus Tupelelementen"
   ]
  },
  {
   "cell_type": "code",
   "execution_count": null,
   "metadata": {},
   "outputs": [],
   "source": [
    "tneu = sorted(t)\n",
    "print(type(tneu))\n",
    "print(tneu)"
   ]
  },
  {
   "cell_type": "code",
   "execution_count": null,
   "metadata": {},
   "outputs": [],
   "source": [
    "t # das ursprüngliche Objekt 't' wird nicht geändert:\n"
   ]
  },
  {
   "cell_type": "markdown",
   "metadata": {},
   "source": [
    "**Fazit:**\n",
    "wir können die Methode sort() nicht auf Tupel anwenden, weil es keine Tupelmethode ist. \n",
    "\n",
    "Wir können sorted() auf Tupel anwenden und es erstellt eine sortierte Liste aus Tupelelementen, aber das ursprüngliche Tupel bleibt unverändert."
   ]
  },
  {
   "cell_type": "markdown",
   "metadata": {},
   "source": [
    " ### <code>.reverse()</code> ist KEINE Tupelmethode:"
   ]
  },
  {
   "cell_type": "code",
   "execution_count": null,
   "metadata": {
    "scrolled": true
   },
   "outputs": [],
   "source": [
    "t.reverse() # reverse() ist KEINE Tupelmethode:"
   ]
  },
  {
   "cell_type": "markdown",
   "metadata": {},
   "source": [
    "#### Alternativ können wir die eingebaute Funktion <code>reversed()</code> verwenden:"
   ]
  },
  {
   "cell_type": "code",
   "execution_count": null,
   "metadata": {},
   "outputs": [],
   "source": [
    "listx = []\n",
    "x = reversed(t) # generiert ein neues Objekt mit einem spezifischen Typ\n",
    "#x = list(reversed(t)) # generiert ein neues Objekt mit einem spezifischen Typ\n",
    "print(x, type(x))\n",
    "listx = list(x)\n",
    "#for i in x:              #reversed Objekt im Speicher ist itterierbar\n",
    "for i in listx:           #Speicheradresse ist leer --> Zugriff über gespeicherte Liste\n",
    "    print(i, end=' | ')\n",
    "print(f'\\n{list(x)}')"
   ]
  },
  {
   "cell_type": "code",
   "execution_count": null,
   "metadata": {
    "scrolled": true
   },
   "outputs": [],
   "source": [
    "type(x) # reversed Typ des Objekts"
   ]
  },
  {
   "cell_type": "code",
   "execution_count": null,
   "metadata": {},
   "outputs": [],
   "source": [
    "print(x) # ein umgekehrtes Objekt, das in einer Speicheradresse 0x???? liegt.\n",
    "for i in x:\n",
    "    print(i, end=' # ') # Keine Ausgabe mehr, da Speicherobjekt leer!!"
   ]
  },
  {
   "cell_type": "code",
   "execution_count": null,
   "metadata": {},
   "outputs": [],
   "source": [
    "y = reversed(t)\n",
    "print(y)"
   ]
  },
  {
   "cell_type": "markdown",
   "metadata": {},
   "source": [
    "#### Mal sehen, ob dieses Objekt iterierbar ist und ob wir eine for-Schleife verwenden können, um den Inhalt des Objektes darzustellen:"
   ]
  },
  {
   "cell_type": "code",
   "execution_count": null,
   "metadata": {},
   "outputs": [],
   "source": [
    "print(t)\n",
    "for item in reversed(t):\n",
    "    print(item, end=' ')"
   ]
  },
  {
   "cell_type": "markdown",
   "metadata": {},
   "source": [
    "Wie wir sehen können, sind die Elemente in diesem Objekt die gleichen wie die Elemente unseres Tupels, aber in einer _umgekehrten_ Reihenfolge. Vergleichen Sie es einfach mit dem ursprünglichen Tupel:"
   ]
  },
  {
   "cell_type": "code",
   "execution_count": null,
   "metadata": {},
   "outputs": [],
   "source": [
    "sorted(reversed(t))    # erneute Generierung des Objektes reversed"
   ]
  },
  {
   "cell_type": "code",
   "execution_count": null,
   "metadata": {},
   "outputs": [],
   "source": [
    "for item in t: print(item, end=' ')"
   ]
  },
  {
   "cell_type": "markdown",
   "metadata": {},
   "source": [
    "#### Das ursprüngliche Tupel bleibt unverändert:"
   ]
  },
  {
   "cell_type": "code",
   "execution_count": null,
   "metadata": {},
   "outputs": [],
   "source": [
    "t"
   ]
  },
  {
   "cell_type": "markdown",
   "metadata": {},
   "source": [
    "### Fazit:\n",
    "\n",
    "Tupel sind unveränderlich. Wenn Sie also weitere Berechnungen oder Operationen mit ihnen durchführen müssen, können wir einige integrierte Funktionen verwenden, um neue Objekte mit denselben Elementen aus Tupeln zu erstellen."
   ]
  }
 ],
 "metadata": {
  "kernelspec": {
   "display_name": "Python 3 (ipykernel)",
   "language": "python",
   "name": "python3"
  },
  "language_info": {
   "codemirror_mode": {
    "name": "ipython",
    "version": 3
   },
   "file_extension": ".py",
   "mimetype": "text/x-python",
   "name": "python",
   "nbconvert_exporter": "python",
   "pygments_lexer": "ipython3",
   "version": "3.12.4"
  },
  "toc": {
   "base_numbering": 1,
   "nav_menu": {},
   "number_sections": true,
   "sideBar": true,
   "skip_h1_title": false,
   "title_cell": "Table of Contents",
   "title_sidebar": "Contents",
   "toc_cell": false,
   "toc_position": {},
   "toc_section_display": true,
   "toc_window_display": false
  },
  "varInspector": {
   "cols": {
    "lenName": 16,
    "lenType": 16,
    "lenVar": 40
   },
   "kernels_config": {
    "python": {
     "delete_cmd_postfix": "",
     "delete_cmd_prefix": "del ",
     "library": "var_list.py",
     "varRefreshCmd": "print(var_dic_list())"
    },
    "r": {
     "delete_cmd_postfix": ") ",
     "delete_cmd_prefix": "rm(",
     "library": "var_list.r",
     "varRefreshCmd": "cat(var_dic_list()) "
    }
   },
   "types_to_exclude": [
    "module",
    "function",
    "builtin_function_or_method",
    "instance",
    "_Feature"
   ],
   "window_display": false
  },
  "widgets": {
   "application/vnd.jupyter.widget-state+json": {
    "state": {},
    "version_major": 2,
    "version_minor": 0
   }
  }
 },
 "nbformat": 4,
 "nbformat_minor": 4
}
