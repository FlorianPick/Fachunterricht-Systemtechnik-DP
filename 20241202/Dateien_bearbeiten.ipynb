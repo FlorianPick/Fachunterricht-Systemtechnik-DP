{
 "cells": [
  {
   "cell_type": "markdown",
   "id": "324887ba",
   "metadata": {},
   "source": [
    "# Mit Dateien arbeiten\n",
    "Begleitbuch Seite 150 bis 154"
   ]
  },
  {
   "cell_type": "code",
   "execution_count": null,
   "id": "d4478a7d",
   "metadata": {},
   "outputs": [],
   "source": [
    "file = open(\"test.txt\", \"w\")\n",
    "file.write(\"Erste Zeile\")\n",
    "file.close()"
   ]
  },
  {
   "cell_type": "code",
   "execution_count": null,
   "id": "3c571929",
   "metadata": {},
   "outputs": [],
   "source": [
    "file = open(\"test.txt\", \"a\")\n",
    "file.write(\"Zweite Zeile\\n\")\n",
    "file.close()"
   ]
  },
  {
   "cell_type": "code",
   "execution_count": null,
   "id": "34cba852",
   "metadata": {},
   "outputs": [],
   "source": [
    "file = open(\"test.txt\", \"r\")\n",
    "print(file.read())\n",
    "file.close()"
   ]
  },
  {
   "cell_type": "code",
   "execution_count": null,
   "id": "29cff4b1",
   "metadata": {},
   "outputs": [],
   "source": [
    "doc = '''Längerer Text\n",
    "mit Zeilenumbruch\n",
    "als Docstring\n",
    "'''\n",
    "file = open(\"test.txt\", \"a\")\n",
    "file.write(doc)\n",
    "file.close()"
   ]
  },
  {
   "cell_type": "code",
   "execution_count": null,
   "id": "af439f05",
   "metadata": {},
   "outputs": [],
   "source": [
    "file = open(\"test.txt\", \"a\")\n",
    "file.write(\"Vierte Zeile\")\n",
    "file.close()"
   ]
  },
  {
   "cell_type": "markdown",
   "id": "1916b54e",
   "metadata": {},
   "source": [
    "Daten1.txt wird benötigt."
   ]
  },
  {
   "cell_type": "code",
   "execution_count": null,
   "id": "3e1f0138",
   "metadata": {},
   "outputs": [],
   "source": [
    "file = open(\"Daten1.txt\", \"r\")\n",
    "print(type(file))\n",
    "content = file.read()\n",
    "print(content, type(content))\n",
    "file.close()\n",
    "content"
   ]
  },
  {
   "cell_type": "code",
   "execution_count": null,
   "id": "5befeb87",
   "metadata": {},
   "outputs": [],
   "source": [
    "l1 = content.split('\\n')\n",
    "print(l1, type(l1))\n",
    "for i in l1:\n",
    "    print(i)\n",
    "print('Über Index : ',l1[1])\n"
   ]
  },
  {
   "cell_type": "code",
   "execution_count": null,
   "id": "c06bd05c",
   "metadata": {},
   "outputs": [],
   "source": [
    "print(content.split(','))\n",
    "print(content.strip().split(','))\n",
    "l = content.strip('\\n').split(\"\\n\")\n",
    "print(type(l), l)\n",
    "l"
   ]
  },
  {
   "cell_type": "code",
   "execution_count": null,
   "id": "f044e140",
   "metadata": {},
   "outputs": [],
   "source": [
    "# join() methode\n",
    "jpf = ['Reg', 'Loretta', 'Judith', 'Brian']\n",
    "s = ': '.join(jpf)    # '\\n' oder '# ' \n",
    "print(type(s))\n",
    "print(s)\n",
    "s"
   ]
  },
  {
   "cell_type": "code",
   "execution_count": null,
   "id": "6800a59f",
   "metadata": {},
   "outputs": [],
   "source": [
    "# erneutes lesen --> keine Daten\n",
    "file.read()"
   ]
  },
  {
   "cell_type": "code",
   "execution_count": null,
   "id": "ef8a104b",
   "metadata": {},
   "outputs": [],
   "source": [
    "file = open(\"Daten1.txt\", \"r\")\n",
    "print('1. ',file.read())\n",
    "file.seek(0)\n",
    "print('2. ',file.read())"
   ]
  },
  {
   "cell_type": "code",
   "execution_count": null,
   "id": "4e0da8d8",
   "metadata": {
    "scrolled": true
   },
   "outputs": [],
   "source": [
    "file.seek(0)\n",
    "for line in file:\n",
    "    print('1:',line)\n",
    "    print('2.',line.strip())\n"
   ]
  },
  {
   "cell_type": "code",
   "execution_count": null,
   "id": "908b331b",
   "metadata": {},
   "outputs": [],
   "source": [
    "file2 = open(\"new_file.txt\", \"w\")\n",
    "for i in range(1, 6):\n",
    "    file2.write(\"Dies ist Zeile \" + str(i) + \"\\n\")\n",
    "file2.close()"
   ]
  },
  {
   "cell_type": "code",
   "execution_count": null,
   "id": "44db9b8a",
   "metadata": {},
   "outputs": [],
   "source": [
    "file2 = open(\"new_file.txt\", \"r\")\n",
    "content = file2.read()\n",
    "print(content)\n",
    "content"
   ]
  },
  {
   "cell_type": "code",
   "execution_count": null,
   "id": "031bcd5a",
   "metadata": {},
   "outputs": [],
   "source": [
    "file3 = open('three_out.txt', 'w+')\n",
    "file3.write(\"0123456789\")"
   ]
  },
  {
   "cell_type": "code",
   "execution_count": null,
   "id": "7bac161c",
   "metadata": {},
   "outputs": [],
   "source": [
    "for i in range(3, 11, 3):\n",
    "    print(i)\n",
    "    file3.seek(i)\n",
    "    file3.write('*')\n"
   ]
  },
  {
   "cell_type": "code",
   "execution_count": null,
   "id": "bbef575f",
   "metadata": {},
   "outputs": [],
   "source": [
    "file3.seek(0)\n",
    "file3.read()"
   ]
  },
  {
   "cell_type": "code",
   "execution_count": null,
   "id": "c96e3919",
   "metadata": {},
   "outputs": [],
   "source": [
    "file3.close()"
   ]
  },
  {
   "cell_type": "code",
   "execution_count": null,
   "id": "1d9053c7",
   "metadata": {},
   "outputs": [],
   "source": [
    "with open(\"Daten1.txt\", \"r\") as file:\n",
    "    content = file.read()\n",
    "content"
   ]
  },
  {
   "cell_type": "code",
   "execution_count": null,
   "id": "76513511",
   "metadata": {},
   "outputs": [],
   "source": [
    "# Excel Datei als Beispiel öffnen und einlesen --> Unsinn! kann nicht interpretiert werden :-)\n",
    "with open(\"Print Optionen.xlsx\", \"r\", encoding='latin1') as file:\n",
    "    content = file.read()\n",
    "content"
   ]
  }
 ],
 "metadata": {
  "kernelspec": {
   "display_name": "Python 3 (ipykernel)",
   "language": "python",
   "name": "python3"
  },
  "language_info": {
   "codemirror_mode": {
    "name": "ipython",
    "version": 3
   },
   "file_extension": ".py",
   "mimetype": "text/x-python",
   "name": "python",
   "nbconvert_exporter": "python",
   "pygments_lexer": "ipython3",
   "version": "3.12.4"
  },
  "toc": {
   "base_numbering": 1,
   "nav_menu": {},
   "number_sections": true,
   "sideBar": true,
   "skip_h1_title": false,
   "title_cell": "Table of Contents",
   "title_sidebar": "Contents",
   "toc_cell": false,
   "toc_position": {},
   "toc_section_display": true,
   "toc_window_display": false
  },
  "varInspector": {
   "cols": {
    "lenName": 16,
    "lenType": 16,
    "lenVar": 40
   },
   "kernels_config": {
    "python": {
     "delete_cmd_postfix": "",
     "delete_cmd_prefix": "del ",
     "library": "var_list.py",
     "varRefreshCmd": "print(var_dic_list())"
    },
    "r": {
     "delete_cmd_postfix": ") ",
     "delete_cmd_prefix": "rm(",
     "library": "var_list.r",
     "varRefreshCmd": "cat(var_dic_list()) "
    }
   },
   "types_to_exclude": [
    "module",
    "function",
    "builtin_function_or_method",
    "instance",
    "_Feature"
   ],
   "window_display": false
  },
  "widgets": {
   "application/vnd.jupyter.widget-state+json": {
    "state": {},
    "version_major": 2,
    "version_minor": 0
   }
  }
 },
 "nbformat": 4,
 "nbformat_minor": 5
}
