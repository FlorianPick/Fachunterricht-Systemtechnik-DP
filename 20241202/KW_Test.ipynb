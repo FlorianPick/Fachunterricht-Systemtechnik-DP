{
 "cells": [
  {
   "cell_type": "markdown",
   "id": "f9137152-63ce-494f-bffd-5a1b39901de5",
   "metadata": {},
   "source": [
    "Die Kalenderwoche ist nach ISO 8601 so definiert:\n",
    "\n",
    "Kalenderwochen haben 7 Tage, beginnen an einem **Montag** und werden über das Jahr fortlaufend nummeriert.\n",
    "Die Kalenderwoche 1 eines Jahres ist diejenige, die den **ersten Donnerstag** des Jahres enthält.\n",
    "Weitere Eigenschaften dieser Zählweise sind:\n",
    "\n",
    "- Jedes Jahr hat entweder 52 oder 53 Kalenderwochen.\n",
    "- Ein Jahr hat genau dann 53 Kalenderwochen, wenn es mit einem Donnerstag beginnt oder endet:\n",
    "- Ein Gemeinjahr mit 53 Wochen beginnt an einem Donnerstag und endet an einem Donnerstag.\n",
    "- Ein Schaltjahr mit 53 Wochen beginnt entweder an einem Mittwoch und endet an einem Donnerstag oder es beginnt an einem Donnerstag und endet an einem Freitag.\n",
    "- Der 29., 30. und 31. Dezember können schon zur Kalenderwoche 1 des Folgejahres gehören.\n",
    "- Der 1., 2. und 3. Januar können noch zu der letzten Kalenderwoche des Vorjahres gehören.\n",
    "- Der 4. Januar ist immer in Kalenderwoche 1."
   ]
  },
  {
   "cell_type": "code",
   "execution_count": null,
   "id": "5c4b6ab8-9461-42e3-9b8b-2fe2c4e8de36",
   "metadata": {},
   "outputs": [],
   "source": [
    "### Test der Kalenderwochenberechnung ####\n",
    "import datetime as dt            # Referenz für Vergleich Methode .isocalendar()\n",
    "ergebnis =[0,0]                  # [korrekt, fehlerhaft]\n",
    "for i in range(1600, 2101):      # Jahreszahlen\n",
    "    for j in range(25,32):       # Letzten Tage des Jahres\n",
    "        if int(KW_Info(j,12,i)) == int(dt.datetime(i,12,j).isocalendar()[1]):\n",
    "            ergebnis[0] += 1\n",
    "        else:\n",
    "            ergebnis[1] += 1\n",
    "    for j in range(1,8):         # Ersten Tage des Jahres\n",
    "        if int(KW_Info(j,12,i)) == int(dt.datetime(i,12,j).isocalendar()[1]):\n",
    "            ergebnis[0] += 1\n",
    "        else:\n",
    "            ergebnis[1] += 1\n",
    "\n",
    "print(ergebnis)"
   ]
  },
  {
   "cell_type": "code",
   "execution_count": null,
   "id": "b623f83c-6b02-4864-8ab1-5ba763f325e1",
   "metadata": {},
   "outputs": [],
   "source": [
    "def KW_Info(tag, monat, jahr):\n",
    "    status = [0,0,0,0]                              # Wochentag 1.1.jahr, Offset KW1, Tag des Jahres, Kalenderwoche\n",
    "    status[0] = Wochentag(1,1,jahr)\n",
    "    if status[0] <= 4:                              # Wann startet der Montag in KW 1 ?\n",
    "        status[1] = status[0] - 2                   # Offset für die erste oder 53. Kalenderwoche.\n",
    "    else:\n",
    "        status[1] = status[0] - 9                   # Offset für ein normales Jahr mit 52 Wochen\n",
    "    status[2] = Tag_des_Jahres(tag, monat, jahr)    # Anzahl der Tage des Jahres\n",
    "    status[3] = ((status[1] + status[2]) //7) + 1   # Berechnung der Kalenderwoche = offset + Tage ab 1.1. // 7 \n",
    "                                                    # + 1, da erste Woche mit 0 berechnet! \n",
    "    if status[3] == 53 :                            # Prüfung 53 KW oder 1 KW des folgejahres\n",
    "        if Wochentag(1,1,jahr+1) <= 4:              # beginnt das nächste Jahr zwischen Montag und Donnerstag?\n",
    "            status[3] = 1                           # Kalenderwoche 1 beginnt im alten Jahr\n",
    "    if status[3] == 0 :\n",
    "        if Wochentag(1,1,jahr - 1) <= 4:            # beginnt das nächste Jahr zwischen Montag und Donnerstag?\n",
    "            status[3] = 1\n",
    "        else:\n",
    "            status[3] = 53\n",
    "    return status[3]"
   ]
  },
  {
   "cell_type": "code",
   "execution_count": null,
   "id": "95baf7ab-48ab-4d6d-a9c4-29520f653212",
   "metadata": {},
   "outputs": [],
   "source": []
  },
  {
   "cell_type": "code",
   "execution_count": null,
   "id": "9076b1c0-5a32-4737-b5bf-e9438a791d9c",
   "metadata": {
    "editable": true,
    "slideshow": {
     "slide_type": ""
    },
    "tags": []
   },
   "outputs": [],
   "source": [
    "# def Tag_des_Jahres(tag, monat, jahr):\n",
    "#     monatstage = [31,28,31,30,31,30,31,31,30,31,30,31]\n",
    "#     if (jahr%4==0 and (jahr%400==0 or not jahr%100==0)) == True:\n",
    "#         monatstage[1] = 29\n",
    "#     tage = tag\n",
    "#     for i in range(monat-1):\n",
    "#         tage += monatstage[i]\n",
    "#     print(monatstage)\n",
    "#     return tage\n",
    "Tag_des_Jahres(11,4,1969)"
   ]
  },
  {
   "cell_type": "code",
   "execution_count": null,
   "id": "9ce5f924-8160-42ae-89de-a7082d1ec05d",
   "metadata": {},
   "outputs": [],
   "source": [
    "def Tag_des_Jahres(tag,monat,jahr):\n",
    "    monatstage = [31,28,31,30,31,30,31,31,30,31,30,31]\n",
    "    monatstage[1]  += int(jahr%4==0 and (jahr%400==0 or not jahr%100==0)) # 29 Tage im Schaltjahr\n",
    "    return sum(monatstage[0:monat -1]) + tag   # Anzahl der Tage inkl. Enddatum\n",
    "\n",
    "Tag_des_Jahres(2,12,2024)"
   ]
  },
  {
   "cell_type": "code",
   "execution_count": null,
   "id": "1ccbb12f-04cb-4cbc-91ac-4224f9f06cda",
   "metadata": {},
   "outputs": [],
   "source": [
    "monatstage[0:3]"
   ]
  },
  {
   "cell_type": "code",
   "execution_count": null,
   "id": "aed13486-b8c3-4a51-b6fa-da26227a9c16",
   "metadata": {},
   "outputs": [],
   "source": [
    "import numpy as np\n",
    "def Wochentag(d, m, cy):\n",
    "    wt = ['Sonntag','Montag','Dienstag','Mittwoch','Donnerstag','Freitag','Samstag']\n",
    "    if m < 3:        # Monat Januar oder Februar\n",
    "        m = m + 10   # Korrektur Monat für julianischen Kalender\n",
    "        cy -= 1      # Korrektur Jahr \n",
    "        \n",
    "    else: m = m - 2\n",
    "    y = cy%100      # Jahreszahl\n",
    "    c = cy//100     # Jahrhundert\n",
    "    # Berechnungdes Wochentages\n",
    "    w = (d + np.floor((2.6 * m) - 0.2) + y + np.floor(y/4) + np.floor(c/4) - 2 * c) % 7\n",
    "    #print(f'Wochentag = {wt[int(w)]} ({int(w)})')  # Ausgabe\n",
    "    return int(w)"
   ]
  }
 ],
 "metadata": {
  "kernelspec": {
   "display_name": "Python 3 (ipykernel)",
   "language": "python",
   "name": "python3"
  },
  "language_info": {
   "codemirror_mode": {
    "name": "ipython",
    "version": 3
   },
   "file_extension": ".py",
   "mimetype": "text/x-python",
   "name": "python",
   "nbconvert_exporter": "python",
   "pygments_lexer": "ipython3",
   "version": "3.12.4"
  },
  "widgets": {
   "application/vnd.jupyter.widget-state+json": {
    "state": {},
    "version_major": 2,
    "version_minor": 0
   }
  }
 },
 "nbformat": 4,
 "nbformat_minor": 5
}
