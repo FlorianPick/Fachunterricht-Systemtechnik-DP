{
 "cells": [
  {
   "cell_type": "markdown",
   "id": "56484d7c",
   "metadata": {},
   "source": [
    "# csv-Daten einlesen  \n",
    "Begleitbuch Seite 298 bis 303"
   ]
  },
  {
   "cell_type": "code",
   "execution_count": null,
   "id": "59505842",
   "metadata": {},
   "outputs": [],
   "source": [
    "import csv\n",
    "with open('iris.csv', 'r', newline='') as iris_file:\n",
    "    irises = list(csv.reader(iris_file))\n",
    "    iris_file.close()"
   ]
  },
  {
   "cell_type": "code",
   "execution_count": null,
   "id": "207ad1ab",
   "metadata": {},
   "outputs": [],
   "source": [
    "dir(csv)"
   ]
  },
  {
   "cell_type": "code",
   "execution_count": null,
   "id": "654d3c71",
   "metadata": {},
   "outputs": [],
   "source": [
    "help(csv)"
   ]
  },
  {
   "cell_type": "code",
   "execution_count": null,
   "id": "4a6e9a6d",
   "metadata": {},
   "outputs": [],
   "source": [
    "print(type(irises))"
   ]
  },
  {
   "cell_type": "code",
   "execution_count": null,
   "id": "04da0353",
   "metadata": {
    "scrolled": true
   },
   "outputs": [],
   "source": [
    "for i in range (0,len(irises),10):\n",
    "    print(f'{i:>3}: {irises[i]}')"
   ]
  },
  {
   "cell_type": "code",
   "execution_count": null,
   "id": "ccd32033",
   "metadata": {},
   "outputs": [],
   "source": [
    "irises[::50]"
   ]
  },
  {
   "cell_type": "code",
   "execution_count": null,
   "id": "ae236cbd",
   "metadata": {},
   "outputs": [],
   "source": [
    "import csv\n",
    "with open('iris-tabs.csv', 'r', newline='') as iris_file:\n",
    "    reader = csv.reader(iris_file, delimiter = \"\\t\",\n",
    "    quoting=csv.QUOTE_NONNUMERIC)\n",
    "    header = next(reader)\n",
    "    irises = list(reader)\n",
    "    iris_file.close()\n",
    "print(header)"
   ]
  },
  {
   "cell_type": "code",
   "execution_count": null,
   "id": "f3208d43",
   "metadata": {},
   "outputs": [],
   "source": [
    "len(irises)"
   ]
  },
  {
   "cell_type": "code",
   "execution_count": null,
   "id": "8e9527f5",
   "metadata": {},
   "outputs": [],
   "source": [
    "irises[0]\n",
    "# irises[0][0]\n",
    "# type(irises[0][0])   # es ist wirklich ein float-Wert"
   ]
  },
  {
   "cell_type": "code",
   "execution_count": null,
   "id": "ee2fb772",
   "metadata": {},
   "outputs": [],
   "source": [
    "import pandas as pd\n",
    "#df1 = pd.read_csv('iris-tabs.csv', sep='\\t', header=0)\n",
    "df1 = pd.read_csv('iris-tabs.csv', sep='\\t', header=0,\n",
    "                 names=['Länge Klechblatt', 'Breite Kelchblatt', 'Länge Kronblatt', 'Breite Kronblatt', 'Art'])"
   ]
  },
  {
   "cell_type": "code",
   "execution_count": null,
   "id": "fbf729d0",
   "metadata": {},
   "outputs": [],
   "source": [
    "df1"
   ]
  },
  {
   "cell_type": "code",
   "execution_count": null,
   "id": "e11cbaa5",
   "metadata": {},
   "outputs": [],
   "source": [
    "import csv\n",
    "\n",
    "# Sniffer-Instanz erzeugen\n",
    "sniffer = csv.Sniffer()\n",
    "print(type(sniffer), sniffer)\n",
    "# Schleife über die zu prüfenden Dateien\n",
    "files = [\"iris.csv\", \"iris-tabs.csv\"]\n",
    "for csv_filename in files:\n",
    "    print(csv_filename)\n",
    "    csv_file = open(csv_filename, \"r\")\n",
    "    # Die ersten 1024 Byte der Datei lesen\n",
    "    chunk = csv_file.read(1024)\n",
    "    # Prüfen, ob die Datei einen Hedaer hat\n",
    "    header = sniffer.has_header(chunk)\n",
    "    print(f\"- Header: {header}\")\n",
    "    # CSV-Konfiguration (Dialect) ermitteln\n",
    "    dialect = sniffer.sniff(chunk)\n",
    "    # Beispielhaft das ermittelte Trennzeichen ausgeben\n",
    "    print(f\"- Trennzeichen: {repr(dialect.delimiter)}\")\n",
    "    # Wichtig: Datei \"zurückspulen\"\n",
    "    csv_file.seek(0)\n",
    "    # Reader mit dem ermittelten Dialect initialisieren\n",
    "    reader = csv.reader(csv_file, dialect)\n",
    "    # Falls Header vorhanden, überspringen (oder wegspeichern)\n",
    "    if header:\n",
    "        head = next(reader, None)\n",
    "        print('- Kopfzeile :', head)\n",
    "    # Als Test nur die Zeilen zählen\n",
    "    line_count = 0\n",
    "    for line in reader:\n",
    "        line_count += 1\n",
    "    print(f\"- Datensätze: {line_count}\")\n",
    "    csv_file.close()"
   ]
  },
  {
   "cell_type": "markdown",
   "id": "ee03b126",
   "metadata": {},
   "source": [
    "# json\n"
   ]
  },
  {
   "cell_type": "code",
   "execution_count": null,
   "id": "68db4475",
   "metadata": {},
   "outputs": [],
   "source": [
    "import json\n",
    "with open('iris.json', 'r', newline='') as json_file:\n",
    "    irises = json.load(json_file)"
   ]
  },
  {
   "cell_type": "code",
   "execution_count": null,
   "id": "8f30f776",
   "metadata": {},
   "outputs": [],
   "source": [
    "print(type(irises))\n",
    "len(irises)\n",
    "\n",
    "print(irises)"
   ]
  },
  {
   "cell_type": "code",
   "execution_count": null,
   "id": "6260656d",
   "metadata": {},
   "outputs": [],
   "source": [
    "print(irises[0])\n",
    "print(irises[0].values())\n",
    "print(irises[0]['sepal_length'])"
   ]
  },
  {
   "cell_type": "code",
   "execution_count": null,
   "id": "ef0342a4",
   "metadata": {
    "scrolled": true
   },
   "outputs": [],
   "source": [
    "json.loads(\"Unfug\")"
   ]
  },
  {
   "cell_type": "code",
   "execution_count": null,
   "id": "3b2a573a",
   "metadata": {},
   "outputs": [],
   "source": [
    "try:\n",
    "    json.loads(\"Unfug\")\n",
    "    #json.loads(\"new_file.txt\")\n",
    "except json.JSONDecodeError:\n",
    "    print(\"Kein gültiges JSON.\")\n"
   ]
  },
  {
   "cell_type": "code",
   "execution_count": null,
   "id": "ed446099",
   "metadata": {},
   "outputs": [],
   "source": [
    "# Daten direkt als Liste mit den einzelnen Datensätzen als Liste \n",
    "with open('iris.json', 'r', newline='') as json_file:\n",
    "    irises = json.load(json_file, object_hook = lambda obj: list(obj.values()))"
   ]
  },
  {
   "cell_type": "code",
   "execution_count": null,
   "id": "dd842e94-af0a-4f7b-b672-93ff4df13275",
   "metadata": {},
   "outputs": [],
   "source": [
    "### Funktion lambda obj: list(obj.values())) ###\n",
    "obj = {'sepal_length': 5.1, 'sepal_width': 3.5, 'petal_length': 1.4, 'petal_width': 0.2, 'species': 'Iris-setosa'}\n",
    "print(list(obj.values()))"
   ]
  },
  {
   "cell_type": "code",
   "execution_count": null,
   "id": "32665c94",
   "metadata": {},
   "outputs": [],
   "source": [
    "irises\n",
    "x = irises[2]\n",
    "print(type(x), x)\n",
    "irises[2][4]"
   ]
  },
  {
   "cell_type": "code",
   "execution_count": null,
   "id": "111f4308",
   "metadata": {},
   "outputs": [],
   "source": [
    "print(len(irises), type(irises))"
   ]
  },
  {
   "cell_type": "code",
   "execution_count": null,
   "id": "25f2ff56",
   "metadata": {},
   "outputs": [],
   "source": [
    "#x = irises[0::50]\n",
    "x = irises[0::50][2][4]\n",
    "print(type(x), x)\n"
   ]
  },
  {
   "cell_type": "code",
   "execution_count": null,
   "id": "4d3bfd14",
   "metadata": {},
   "outputs": [],
   "source": []
  }
 ],
 "metadata": {
  "kernelspec": {
   "display_name": "Python 3 (ipykernel)",
   "language": "python",
   "name": "python3"
  },
  "language_info": {
   "codemirror_mode": {
    "name": "ipython",
    "version": 3
   },
   "file_extension": ".py",
   "mimetype": "text/x-python",
   "name": "python",
   "nbconvert_exporter": "python",
   "pygments_lexer": "ipython3",
   "version": "3.12.4"
  },
  "toc": {
   "base_numbering": 1,
   "nav_menu": {},
   "number_sections": true,
   "sideBar": true,
   "skip_h1_title": false,
   "title_cell": "Table of Contents",
   "title_sidebar": "Contents",
   "toc_cell": false,
   "toc_position": {},
   "toc_section_display": true,
   "toc_window_display": false
  },
  "varInspector": {
   "cols": {
    "lenName": 16,
    "lenType": 16,
    "lenVar": 40
   },
   "kernels_config": {
    "python": {
     "delete_cmd_postfix": "",
     "delete_cmd_prefix": "del ",
     "library": "var_list.py",
     "varRefreshCmd": "print(var_dic_list())"
    },
    "r": {
     "delete_cmd_postfix": ") ",
     "delete_cmd_prefix": "rm(",
     "library": "var_list.r",
     "varRefreshCmd": "cat(var_dic_list()) "
    }
   },
   "types_to_exclude": [
    "module",
    "function",
    "builtin_function_or_method",
    "instance",
    "_Feature"
   ],
   "window_display": false
  },
  "widgets": {
   "application/vnd.jupyter.widget-state+json": {
    "state": {},
    "version_major": 2,
    "version_minor": 0
   }
  }
 },
 "nbformat": 4,
 "nbformat_minor": 5
}
