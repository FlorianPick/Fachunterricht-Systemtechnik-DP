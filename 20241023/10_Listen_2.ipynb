{
 "cells": [
  {
   "cell_type": "markdown",
   "metadata": {},
   "source": [
    "# Listen\n",
    "\n",
    "- werden verwendet, um Informationen als Elemente oder Objekte in einer einzigen Variablen zu speichern\n",
    "- Wir verwenden einen Listenkonstruktor <code>list()</code> oder <code>[]</code>, um eine Liste zu erstellen\n",
    "- Listen haben Elemente, auf die über ihren Index zugegriffen werden kann - beginnend bei 0\n",
    "- Listen sind geordnete Objekte - das heißt, jedes Element hat eine Position in der Liste (Index)\n",
    "- Duplikate und verschiedene \"Typen\" sind zugelassen\n",
    "- Eine Liste kann andere Listen als Element haben: verschachtelte Liste\n",
    "- Slicing: Erstellen Sie eine Ansicht aus einem Teil einer Liste\n",
    "- **veränderbare Objekte (mutable)**\n"
   ]
  },
  {
   "cell_type": "code",
   "execution_count": null,
   "metadata": {},
   "outputs": [],
   "source": [
    "# Folgende Listen werden angelegt\n",
    "colors = ['red', 'white']    # anlegen durch Eingabe von Werten\n",
    "reverse = []                 # Leere Liste anlegen; 1. Möglichkeit\n",
    "reverse1 =list()             # Leere Liste anlegen; 2. Möglichkeit"
   ]
  },
  {
   "cell_type": "markdown",
   "metadata": {},
   "source": [
    "Wir möchten dieser Liste ein neues Element hinzufügen. Dazu verwenden wir die Listenmethode <code>append()</code>:"
   ]
  },
  {
   "cell_type": "code",
   "execution_count": null,
   "metadata": {},
   "outputs": [],
   "source": [
    "# object.method(parameters): fügt ein neues Element am Ende der Liste ein\n",
    "print(colors)\n",
    "colors.append('blue')\n",
    "print(colors)"
   ]
  },
  {
   "cell_type": "markdown",
   "metadata": {},
   "source": [
    "Wir können das letzte Element der Liste durch <code>pop()</code> entfernen"
   ]
  },
  {
   "cell_type": "code",
   "execution_count": null,
   "metadata": {},
   "outputs": [],
   "source": [
    "colors = ['red', 'white', 'blue']\n",
    "lx = colors\n",
    "#lx = colors[:]     # richtige Kopie einer Liste (V1)\n",
    "#lx = list(colors)  # richtige Kopie einer Liste (V2)\n",
    "#print(lx)\n",
    "print(colors.pop())\n",
    "print(colors)\n",
    "#print(lx)\n",
    "x = colors.pop()    # entferntes Listenelement in x speichern\n",
    "print(x)            # Weiterverarbeitung\n",
    "print(colors)"
   ]
  },
  {
   "cell_type": "code",
   "execution_count": null,
   "metadata": {},
   "outputs": [],
   "source": [
    "# object.method()\n",
    "colors = ['red', 'white', 'blue']\n",
    "reverse = []                 # Leere Liste anlegen; 1. Möglichkeit\n",
    "reverse1 =list()             # Leere Liste anlegen; 2. Möglichkeit\n",
    "print(reverse, len(reverse))\n",
    "reverse.append(colors)  # komplette Liste color als 1. Element von Liste reverse\n",
    "print('R',reverse, len(reverse))\n",
    "reverse.append(colors.pop()) # Fügt das letzte Element der Liste color zu Liste reverse hinzu.\n",
    "                             # Gleichzeitig wird das letzte Element der Liste color entfernt\n",
    "print('R',reverse, len(reverse))\n",
    "print('C',colors)\n",
    "colors.pop()\n",
    "print('R',reverse)\n",
    "print('C',colors)"
   ]
  },
  {
   "cell_type": "code",
   "execution_count": null,
   "metadata": {},
   "outputs": [],
   "source": [
    "colors.pop()\n",
    "print('R',reverse)\n",
    "print('C',colors)\n",
    "colors.append('Orange')\n",
    "print('R',reverse)\n",
    "print('C',colors)\n"
   ]
  },
  {
   "cell_type": "code",
   "execution_count": null,
   "metadata": {},
   "outputs": [],
   "source": [
    "# Gezielt (Index) Elemente aus der Liste entnehmen\n",
    "colors = ['red', 'white', 'blue']\n",
    "print(colors.pop(1))\n",
    "print(colors)"
   ]
  },
  {
   "cell_type": "markdown",
   "metadata": {},
   "source": [
    "Da die Liste colors an die Liste <code>reverse</code> angehangen wird, werden Änderungen an der Liste <code>color</code> mit <code>pop()</code> auch in <code>reverse</code> übernommen!"
   ]
  },
  {
   "cell_type": "markdown",
   "metadata": {},
   "source": [
    "Diese Art des **Hinzufügen** und **Entfernens** eines Elements zu/aus einer Liste geschieht in einem Speicherprozess namens **LIFO**, last-in-first-out: Das bedeutet, das letzte Element wird in der Liste _eingefügt_ bekommt _first out_ wenn wir <code>pop()</code> anwenden (ohne Parameter)"
   ]
  },
  {
   "cell_type": "markdown",
   "metadata": {},
   "source": [
    "### Sortieren von Listen"
   ]
  },
  {
   "cell_type": "code",
   "execution_count": null,
   "metadata": {},
   "outputs": [],
   "source": [
    "fruit = ['orange', 'apple', 'banana', 'kiwi', 'cherry', 'melone', 'mango']"
   ]
  },
  {
   "cell_type": "code",
   "execution_count": null,
   "metadata": {},
   "outputs": [],
   "source": [
    "fruit[2] "
   ]
  },
  {
   "cell_type": "markdown",
   "metadata": {},
   "source": [
    "Die Methode <code>sort()</code> ändert die Reihenfolge der Elemente in einer Liste.\n",
    "\n",
    "- <code>listname.sort()</code>: sortiert die Elemente _aufsteigend_ (\"von klein nach groß\" oder \"alphabetisch von a bis z\")\n",
    "- <code>listname.sort(reverse=True)</code>: sortiert die Liste _absteigend_, sagen wir von z nach a oder von 9 nach 0 usw."
   ]
  },
  {
   "cell_type": "code",
   "execution_count": null,
   "metadata": {},
   "outputs": [],
   "source": [
    "# object.method()\n",
    "fruit.sort() # no output!"
   ]
  },
  {
   "cell_type": "code",
   "execution_count": null,
   "metadata": {},
   "outputs": [],
   "source": [
    "fruit"
   ]
  },
  {
   "cell_type": "code",
   "execution_count": null,
   "metadata": {},
   "outputs": [],
   "source": [
    "fruit[2]"
   ]
  },
  {
   "cell_type": "markdown",
   "metadata": {},
   "source": [
    "Wir sehen, dass sich jetzt die Struktur unserer Liste _geändert_ hat. Also sagen wir Listen sind veränderbar oder _mutable_"
   ]
  },
  {
   "cell_type": "code",
   "execution_count": null,
   "metadata": {},
   "outputs": [],
   "source": [
    "fruit.sort(reverse=True)"
   ]
  },
  {
   "cell_type": "code",
   "execution_count": null,
   "metadata": {},
   "outputs": [],
   "source": [
    "print(fruit)\n",
    "print(fruit[-1::-1])"
   ]
  },
  {
   "cell_type": "markdown",
   "metadata": {},
   "source": [
    "Manchmal müssen wir die ursprüngliche Reihenfolge in der Liste beibehalten, aber wir brauchen auch eine _sortierte_.\n",
    "<code>sorted()</code> erstellt eine neue sortierte Liste, ändert aber nicht die ursprüngliche:"
   ]
  },
  {
   "cell_type": "code",
   "execution_count": null,
   "metadata": {},
   "outputs": [],
   "source": [
    "# Strings sortieren unabhängig von Gross- und Kleinschreibung\n",
    "fruit = ['orange', 'apple', 'Banana', 'kiwi', 'cherry', 'melone', 'mango', '5']\n",
    "fruits = sorted(fruit, key=str.lower)\n",
    "print(fruit)\n",
    "print(fruits)\n"
   ]
  },
  {
   "cell_type": "code",
   "execution_count": null,
   "metadata": {},
   "outputs": [],
   "source": [
    "numbers = [51, 45, 100, 22, 82, 12, 5]"
   ]
  },
  {
   "cell_type": "code",
   "execution_count": null,
   "metadata": {},
   "outputs": [],
   "source": [
    "second = sorted(numbers) # Erzeugt eine neue Liste mit den sortierten Werten der Liste numbers\n",
    "second = sorted(numbers,reverse=True) # \n",
    "print('N',numbers)\n",
    "print('S',second)\n",
    "print('X',second[-1::-1] )"
   ]
  },
  {
   "cell_type": "code",
   "execution_count": null,
   "metadata": {},
   "outputs": [],
   "source": [
    "second.sort()\n",
    "print('S',second)"
   ]
  },
  {
   "cell_type": "code",
   "execution_count": null,
   "metadata": {},
   "outputs": [],
   "source": [
    "# key Parameter in Funktion sorted\n",
    "string = 'pYThoN'\n",
    "print(sorted(string, key=str.lower))\n",
    "print(sorted(string))"
   ]
  },
  {
   "cell_type": "markdown",
   "metadata": {},
   "source": [
    "https://docs.python.org/3.10/library/stdtypes.html?highlight=sort#list.sort\n"
   ]
  },
  {
   "cell_type": "markdown",
   "metadata": {},
   "source": [
    "## ! WICHTIG !\n",
    "\n",
    "Wann immer wir eine _Methode_ auf ein bestimmtes Objekt anwenden, schreiben wir es so:\n",
    "  \n",
    "<code> object.method(vielleicht einige Parameter oder einfach keine Parameter) </code>\n",
    "   \n",
    "aber für eingebaute Funktionen:\n",
    "  \n",
    "<code> function(object, vielleicht einige Parameter oder einfach keine Parameter) </code>"
   ]
  },
  {
   "cell_type": "code",
   "execution_count": null,
   "metadata": {},
   "outputs": [],
   "source": [
    "new_2nd_list = sorted(numbers, reverse=True)\n",
    "print('N',numbers)\n",
    "print('S',new_2nd_list)"
   ]
  },
  {
   "cell_type": "code",
   "execution_count": null,
   "metadata": {},
   "outputs": [],
   "source": [
    "liste = ['A', 'a', 'z', 'X', 'b','C', '3', '1', '2']\n",
    "listes = sorted(liste)\n",
    "#liste.sort()\n",
    "print(liste, id(liste))\n",
    "print(listes, id(listes))"
   ]
  },
  {
   "cell_type": "markdown",
   "metadata": {},
   "source": [
    "### Hinzufügen weiterer Elemente zu einer Liste\n",
    "\n",
    "- '+' um mehrere Listen zu verketten\n",
    "- <code>extend()</code>\n",
    "\n",
    "#### + verkettet Listen:"
   ]
  },
  {
   "cell_type": "code",
   "execution_count": null,
   "metadata": {},
   "outputs": [],
   "source": [
    "# 2 Listen verketten\n",
    "a = [1, 2, 3]\n",
    "b = [4, 5, 6]\n",
    "c = a + b\n",
    "#a = a + b     # kein 'extend', Liste ist abhängig von b!! \n",
    "#a.pop()       # Liste c wird nicht verändert!!\n",
    "print('a:',a)\n",
    "print('b:',b)\n",
    "print('c:',c)\n",
    "a.pop()\n",
    "print('a:',a)       # besteht eine Abhängigkeit? \n",
    "print('c:',c)       # NEIN"
   ]
  },
  {
   "cell_type": "markdown",
   "metadata": {},
   "source": [
    "#### <code>extend() Methode</code>"
   ]
  },
  {
   "cell_type": "code",
   "execution_count": null,
   "metadata": {},
   "outputs": [],
   "source": [
    "x = ['apple', 'banana', 'orange']\n",
    "y = ['ibm', 'apple', 'microsoft']"
   ]
  },
  {
   "cell_type": "code",
   "execution_count": null,
   "metadata": {},
   "outputs": [],
   "source": [
    "x.extend(y)   # Liste x um Liste y erweitern\n",
    "print(x)      # Liste y wird am Ende angehangen\n",
    "print(y)\n",
    "y.pop()\n",
    "print(x)      \n",
    "print(y)\n"
   ]
  },
  {
   "cell_type": "code",
   "execution_count": null,
   "metadata": {},
   "outputs": [],
   "source": [
    "print(x)\n",
    "print(x[:])\n",
    "print(x[2:4])"
   ]
  },
  {
   "cell_type": "code",
   "execution_count": null,
   "metadata": {},
   "outputs": [],
   "source": [
    "x1 = x[:] # richtige Kopie einer Liste\n",
    "x2 = x    # Kopie als Link auf die Speichradresse\n",
    "print('x1 : ',x1)\n",
    "print('x2 : ',x2)\n",
    "x.pop()   # Löschen des letzten Elements\n",
    "print('Nach pop() Methode auf x')\n",
    "print('x1 : ',x1)\n",
    "print('x2 : ',x2)\n",
    "print('x  : ',x)\n",
    "del x1[3:5] # Löschen mehrerer Elemente\n",
    "print('Nach löschen von mehreren Elementen: \\n',x1)\n",
    "print('x2 : ',x2)\n",
    "print('x  : ',x)"
   ]
  },
  {
   "cell_type": "code",
   "execution_count": null,
   "metadata": {},
   "outputs": [],
   "source": [
    "# Vorsicht Liste x und Liste alias sind voneinander abhängig\n",
    "alias = x # alias ist ein alias für die Liste x\n",
    "#alias = x[:] # alias ist eine Kopie der Liste x\n",
    "print('alias : ',alias)\n",
    "x.pop() \n",
    "print ('alias : ',alias)   # element ist aus alias entfernt!! alias = x[:] vermeidet dieses Verhalten\n",
    "print ('x : ',x)"
   ]
  },
  {
   "cell_type": "markdown",
   "metadata": {},
   "source": [
    "## Elementoperator 'in'\n",
    "\n",
    "Wir können überprüfen, ob sich ein Element in einer Liste befindet oder nicht:"
   ]
  },
  {
   "cell_type": "code",
   "execution_count": null,
   "metadata": {},
   "outputs": [],
   "source": [
    "companies = ['ibm', 'apple', 'microsoft']\n",
    "# prüfen ob apple in der Firmenliste ist\n",
    "print(('apple' in companies))\n",
    "#nur zum Spaß : \n",
    "#print(\"{0:d} : {0:d} : {2:d}\".format(id('apple'), id(companies[1]), id(companies)))"
   ]
  },
  {
   "cell_type": "code",
   "execution_count": null,
   "metadata": {},
   "outputs": [],
   "source": [
    "fruits = ['apple', 'banana', 'orange']\n",
    "'apple' in fruits "
   ]
  },
  {
   "cell_type": "markdown",
   "metadata": {},
   "source": [
    "##### Wir können dies verwenden, um die gemeinsamen Elemente zweier Listen herauszufinden: Wir brauchen logische Operatoren"
   ]
  },
  {
   "cell_type": "code",
   "execution_count": null,
   "metadata": {},
   "outputs": [],
   "source": [
    "'apple' in companies and 'apple' in fruits # True and True -> True"
   ]
  },
  {
   "cell_type": "markdown",
   "metadata": {},
   "source": [
    "### Andere Listenmethoden:\n",
    "\n",
    "<code>remove()</code> entfernt Element aus Liste"
   ]
  },
  {
   "cell_type": "code",
   "execution_count": null,
   "metadata": {},
   "outputs": [],
   "source": [
    "#remove() arbeitet über den Wert des Elements\n",
    "fruits = ['apple', 'banana', 'orange']\n",
    "fruits.remove('banana')\n",
    "print(fruits)\n",
    "#fruits.remove('banana')"
   ]
  },
  {
   "cell_type": "code",
   "execution_count": null,
   "metadata": {},
   "outputs": [],
   "source": [
    "if 'apple' in fruits: fruits.remove('apple')\n",
    "print(fruits)\n",
    "if 'apple' in fruits: fruits.remove('apple')\n",
    "print(fruits)\n",
    "    "
   ]
  },
  {
   "cell_type": "code",
   "execution_count": null,
   "metadata": {},
   "outputs": [],
   "source": [
    "#pop() arbeitet über den Index des Elements\n",
    "el = fruits.pop()\n",
    "print(fruits)\n",
    "print(el)"
   ]
  },
  {
   "cell_type": "code",
   "execution_count": null,
   "metadata": {},
   "outputs": [],
   "source": [
    "# Bearbeiten einer Liste mit pop() und while-loop\n",
    "alist = ['aufstehen', 'frühstücken', 'arbeiten', 'Mittagspause', 'arbeiten', 'Feierabend']\n",
    "zaehler = 0\n",
    "#alist.reverse()              # in Kombination mit .pop()!\n",
    "print(alist)\n",
    "while len(alist) > 0:         # \n",
    "    aufgabe = alist.pop(0)\n",
    "#    aufgabe = alist.pop()    # in Kombination mit alist.reverse()! \n",
    "    zaehler = zaehler + 1\n",
    "    print(f'Aufgabe {zaehler}:\\t{aufgabe}')\n",
    "    #print(alist)                     # zum Veranschaulichen\n",
    "print(alist)\n"
   ]
  },
  {
   "cell_type": "code",
   "execution_count": null,
   "metadata": {},
   "outputs": [],
   "source": [
    "# Bearbeiten einer Liste mit for ... in Konstrukt\n",
    "alist = ['aufstehen', 'frühstücken', 'arbeiten', 'Mittagspause', 'arbeiten', 'Feierabend']\n",
    "zaehler = 0\n",
    "for i in alist:\n",
    "    zaehler = zaehler + 1\n",
    "    print(f'Aufgabe {zaehler}:\\t{i}')\n",
    "print(alist)"
   ]
  },
  {
   "cell_type": "code",
   "execution_count": null,
   "metadata": {},
   "outputs": [],
   "source": [
    "list(range(3,10))"
   ]
  },
  {
   "cell_type": "code",
   "execution_count": null,
   "metadata": {},
   "outputs": [],
   "source": [
    "alist = ['aufstehen', 'frühstücken', 'arbeiten', 'Mittagspause', 'arbeiten', 'Feierabend', 'schlafen']\n",
    "zaehler = 0\n",
    "for i in range(4):\n",
    "#for i in range(len(alist)): # egal wie lang die Liste ist\n",
    "    j = alist[i]\n",
    "    zaehler = zaehler + 1\n",
    "    print(f'Aufgabe {zaehler}:\\t{j}')"
   ]
  },
  {
   "cell_type": "markdown",
   "metadata": {},
   "source": [
    "<code>pop(index)</code> entfernt das Element mit dem angegebenen Index. Wenn kein Element angegeben ist, wird das Element mit dem Index ```-1``` (letztes Element in der Liste) entfernt."
   ]
  },
  {
   "cell_type": "code",
   "execution_count": null,
   "metadata": {},
   "outputs": [],
   "source": [
    "fruits = ['apple', 'banana', 'orange', 'banana', 'apple', 'banana', 'orange', 'banana']\n",
    "x = fruits[:]      # Kopie von fruits\n",
    "print(fruits)\n",
    "fruits.pop(-3)     # 3: Index für 'banana'\n",
    "print(fruits)\n",
    "fruits.remove('banana') # lösche erstes von links auftretende Element von'banana'\n",
    "print(fruits)\n",
    "print(x)"
   ]
  },
  {
   "cell_type": "code",
   "execution_count": null,
   "metadata": {},
   "outputs": [],
   "source": [
    "print(fruits.pop())   # Entfernt das letzte Listenelement\n",
    "print(fruits)"
   ]
  },
  {
   "cell_type": "markdown",
   "metadata": {},
   "source": [
    "<code>clear()</code> löscht alle Elemente einer Liste"
   ]
  },
  {
   "cell_type": "code",
   "execution_count": null,
   "metadata": {},
   "outputs": [],
   "source": [
    "print(x)\n",
    "x.clear()\n",
    "print(x)"
   ]
  },
  {
   "cell_type": "markdown",
   "metadata": {},
   "source": [
    "<code>index()</code> zeigt uns den Index eines Elements in der Liste"
   ]
  },
  {
   "cell_type": "code",
   "execution_count": null,
   "metadata": {},
   "outputs": [],
   "source": [
    "companies = ['ibm', 'apple', 'microsoft', 'apple']"
   ]
  },
  {
   "cell_type": "code",
   "execution_count": null,
   "metadata": {},
   "outputs": [],
   "source": [
    "# Prüfe ob apple in der Liste ist\n",
    "'apple' in companies # "
   ]
  },
  {
   "cell_type": "code",
   "execution_count": null,
   "metadata": {},
   "outputs": [],
   "source": [
    "print(companies.pop(2))\n",
    "print(companies)"
   ]
  },
  {
   "cell_type": "code",
   "execution_count": null,
   "metadata": {},
   "outputs": [],
   "source": [
    "print(companies.index('apple')) # Wie ist der Index vom Element apple? => erstes Auftreten \n",
    "print(companies.count('apple'))\n",
    "companies.pop(companies.index('apple')) # companies.remove('apple') macht das gleiche!\n",
    "print(companies)"
   ]
  },
  {
   "cell_type": "markdown",
   "metadata": {},
   "source": [
    "<code>count()</code> zeigt die Häufigkeit von Elementen in der Liste"
   ]
  },
  {
   "cell_type": "code",
   "execution_count": null,
   "metadata": {},
   "outputs": [],
   "source": [
    "print(fruits)\n",
    "fruits.count('orange')   # wie oft kommt 'orange' in der Liste vor?"
   ]
  },
  {
   "cell_type": "code",
   "execution_count": null,
   "metadata": {},
   "outputs": [],
   "source": [
    "# Lösche alle 'banana' Elemente\n",
    "fruits = ['apple', 'banana', 'orange', 'banana', 'apple', 'banana', 'orange', 'banana']\n",
    "while fruits.count('banana') > 1:\n",
    "    fruits.remove('banana')\n",
    "print(fruits)"
   ]
  },
  {
   "cell_type": "code",
   "execution_count": null,
   "metadata": {},
   "outputs": [],
   "source": [
    "names = ['james', 'jil', 'peter', 'james', 'julia']\n",
    "print(names.count('james')) # the frequency of the name 'james' in the list 'names'\n",
    "print(type(names.count('james')))\n",
    "names.count(names[0]) # the frequency of the name 'james' in the list 'names'"
   ]
  },
  {
   "cell_type": "code",
   "execution_count": null,
   "metadata": {},
   "outputs": [],
   "source": [
    "for i in range(4):\n",
    "    print(i)\n",
    "    "
   ]
  },
  {
   "cell_type": "code",
   "execution_count": null,
   "metadata": {},
   "outputs": [],
   "source": [
    "names = ['james', 'jil', 'peter', 'james', 'julia', 'james']\n",
    "for i in range(names.count('james')):\n",
    "    names.pop(names.index('james'))\n",
    "#    names.remove('james')                    # Alternativ\n",
    "    print (i, names.count('james'), names)"
   ]
  },
  {
   "cell_type": "code",
   "execution_count": null,
   "metadata": {},
   "outputs": [],
   "source": [
    "#x = range(21, 2, -1) # (start, ende (-1), Schrittweite)\n",
    "#x = range(2, 21, 2) # (start, ende (-1), Schrittweite)\n",
    "#x = list(range(2, 21, 2))      # Liste über range() erzeugen\n",
    "x = [2,4,6,8,10,12,14,16,18,20]  # als Liste\n",
    "x = list('PYTHON')\n",
    "x = ['PYTHON']\n",
    "x = 'PYTHON'\n",
    "print(x, type(x))\n",
    "for i in x:\n",
    "    print(i, x)"
   ]
  },
  {
   "cell_type": "markdown",
   "metadata": {},
   "source": [
    "Methode <code>reverse()</code> kehrt die Reihenfolge der Listenelemente um"
   ]
  },
  {
   "cell_type": "code",
   "execution_count": null,
   "metadata": {},
   "outputs": [],
   "source": [
    "print(names)\n",
    "names.reverse()\n",
    "print(names)"
   ]
  },
  {
   "cell_type": "code",
   "execution_count": null,
   "metadata": {},
   "outputs": [],
   "source": [
    "print(names)\n",
    "l1 = []\n",
    "for i in range(len(names)):\n",
    "    print(names[-1 - i])\n",
    "    l1.append(names[-1 - i])\n",
    "print(l1)"
   ]
  },
  {
   "cell_type": "markdown",
   "metadata": {},
   "source": [
    "<code>insert()</code> fügt ein neues Element an einer bestimmten Position ein"
   ]
  },
  {
   "cell_type": "code",
   "execution_count": null,
   "metadata": {},
   "outputs": [],
   "source": [
    "cars = ['mercedes', 'bmw']\n",
    "cars.insert(-1, 'toyota')\n",
    "cars"
   ]
  },
  {
   "cell_type": "code",
   "execution_count": null,
   "metadata": {},
   "outputs": [],
   "source": [
    "#cars.insert(8,'VW')  #Kann auch über die imaginäre Position an das Ende eingefügt werden!\n",
    "cars.append('VW')\n",
    "cars"
   ]
  }
 ],
 "metadata": {
  "kernelspec": {
   "display_name": "Python 3 (ipykernel)",
   "language": "python",
   "name": "python3"
  },
  "language_info": {
   "codemirror_mode": {
    "name": "ipython",
    "version": 3
   },
   "file_extension": ".py",
   "mimetype": "text/x-python",
   "name": "python",
   "nbconvert_exporter": "python",
   "pygments_lexer": "ipython3",
   "version": "3.12.4"
  },
  "toc": {
   "base_numbering": 1,
   "nav_menu": {},
   "number_sections": true,
   "sideBar": true,
   "skip_h1_title": false,
   "title_cell": "Table of Contents",
   "title_sidebar": "Contents",
   "toc_cell": false,
   "toc_position": {},
   "toc_section_display": true,
   "toc_window_display": false
  },
  "varInspector": {
   "cols": {
    "lenName": 16,
    "lenType": 16,
    "lenVar": 40
   },
   "kernels_config": {
    "python": {
     "delete_cmd_postfix": "",
     "delete_cmd_prefix": "del ",
     "library": "var_list.py",
     "varRefreshCmd": "print(var_dic_list())"
    },
    "r": {
     "delete_cmd_postfix": ") ",
     "delete_cmd_prefix": "rm(",
     "library": "var_list.r",
     "varRefreshCmd": "cat(var_dic_list()) "
    }
   },
   "types_to_exclude": [
    "module",
    "function",
    "builtin_function_or_method",
    "instance",
    "_Feature"
   ],
   "window_display": false
  },
  "widgets": {
   "application/vnd.jupyter.widget-state+json": {
    "state": {},
    "version_major": 2,
    "version_minor": 0
   }
  }
 },
 "nbformat": 4,
 "nbformat_minor": 4
}
