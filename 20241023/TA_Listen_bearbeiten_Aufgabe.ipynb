{
 "cells": [
  {
   "cell_type": "markdown",
   "metadata": {},
   "source": [
    "# Übungen zu Listen\n",
    "\n",
    "Nutzen Sie diese Liste als Beispiel für die folgenden Aufgaben. \n",
    "\n",
    "```python\n",
    "mylist = [56, 25, 36, 43, 9, 50, 33, 42, 33, 14, 17, 52, 45, 14, 8, 42, 4, 14, 20]\n",
    "```\n",
    "\n",
    "Aber die Lösungen sollen auch mit jeder anderen Liste funktionieren!\n",
    "\n",
    "Bitte eine eigene Liste generieren und damit zusätzlich testen. (mischen Sie int und float)\n",
    "\n",
    "Wenn Sie fertig sind, bitte das Notebook oder die .py Datei(n) hochladen, damit diese bewertet werden können.\n",
    "\n",
    "Viel Erfolg"
   ]
  },
  {
   "cell_type": "code",
   "execution_count": 1,
   "metadata": {},
   "outputs": [],
   "source": [
    "# Beispielliste \n",
    "mylist = [56, 25, 36, 43, 9, 50, 33, 42, 33, 14, 17, 52, 45, 14, 8, 42, 4, 14, 20]"
   ]
  },
  {
   "cell_type": "markdown",
   "metadata": {},
   "source": [
    "1. Summieren Sie alle Elemente dieser Liste."
   ]
  },
  {
   "cell_type": "code",
   "execution_count": null,
   "metadata": {},
   "outputs": [],
   "source": [
    "# Schreiben Sie Ihren Programmcode hier\n"
   ]
  },
  {
   "cell_type": "markdown",
   "metadata": {},
   "source": [
    "2. Schreiben Sie ein Python-Programm, um die größte Zahl aus einer Liste zu erhalten."
   ]
  },
  {
   "cell_type": "code",
   "execution_count": null,
   "metadata": {},
   "outputs": [],
   "source": [
    "# Schreiben Sie Ihren Programmcode hier\n"
   ]
  },
  {
   "cell_type": "markdown",
   "metadata": {},
   "source": [
    "3. Schreiben Sie ein Python-Programm, um die Reihenfolge einer Liste umzukehren."
   ]
  },
  {
   "cell_type": "code",
   "execution_count": null,
   "metadata": {},
   "outputs": [],
   "source": [
    "# Schreiben Sie Ihren Programmcode hier\n",
    "# Beispielliste \n",
    "mylist = [56, 25, 36, 43, 9, 50, 33, 42, 33, 14, 17, 52, 45, 14, 8, 42, 4, 14, 20]\n"
   ]
  },
  {
   "cell_type": "markdown",
   "metadata": {},
   "source": [
    "4. Schreiben Sie ein Python-Programm, um zu prüfen, ob eine Liste leer ist oder nicht."
   ]
  },
  {
   "cell_type": "code",
   "execution_count": null,
   "metadata": {},
   "outputs": [],
   "source": [
    "# Schreiben Sie Ihren Programmcode hier\n",
    "mylist = [56, 25, 36, 43, 9, 50, 33, 42, 33, 14, 17, 52, 45, 14, 8, 42, 4, 14, 20]\n"
   ]
  },
  {
   "cell_type": "markdown",
   "metadata": {},
   "source": [
    "5. Schreiben Sie ein Programm, welches alle Zahlen der Liste mix_list addiert.\n",
    "\n",
    "Lösungsansatz:\n",
    "\n",
    "- for i in mix_list:\n",
    "- type() Prüfung"
   ]
  },
  {
   "cell_type": "code",
   "execution_count": null,
   "metadata": {},
   "outputs": [],
   "source": [
    "mix_list = [12, 3.3, -2, 'Flasche', 9, -4.1, 'Weg', 'auto', 2, 77, 0.5, 'X', 'Bla', 66.6, 22]"
   ]
  },
  {
   "cell_type": "code",
   "execution_count": null,
   "metadata": {},
   "outputs": [],
   "source": [
    "# Schreiben Sie Ihren Programmcode hier\n"
   ]
  },
  {
   "cell_type": "markdown",
   "metadata": {},
   "source": [
    "6. Vergleichen Sie 2 Listen und passen die 2. Liste entsprechend der Vorgaben an:\n",
    "\n",
    "- Prüfen Sie ob Elemente der 1. Liste in der 2. Liste vorkommen und geben diese Elemente aus.\n",
    "- Prüfen Sie wie oft die gefundenen Element in der 2. Liste vorhanden sind und geben diese Elemente aus.\n",
    "- Löschen Sie alle mehrfach vorkommende Elemente in der 2. Liste bis auf eins und geben Sie diese Liste aus.  "
   ]
  },
  {
   "cell_type": "code",
   "execution_count": null,
   "metadata": {},
   "outputs": [],
   "source": [
    "# Listen\n",
    "liste_1 = ['banana', 'peach', 'orange', 'apple']\n",
    "liste_2 = ['apple', 'peach', 'lemon', 'banana', 'orange', 'pear', 'banana', 'apple', 'peach',\n",
    "           'peach', 'banana', 'orange', 'banana']"
   ]
  },
  {
   "cell_type": "code",
   "execution_count": null,
   "metadata": {},
   "outputs": [],
   "source": [
    "# Schreiben Sie Ihren Programmcode hier\n"
   ]
  },
  {
   "cell_type": "code",
   "execution_count": null,
   "metadata": {},
   "outputs": [],
   "source": [
    "# Ohne die .count() Methode zu verwenden\n"
   ]
  },
  {
   "cell_type": "code",
   "execution_count": null,
   "metadata": {},
   "outputs": [],
   "source": [
    "# Schreiben Sie Ihren Programmcode hier\n",
    "liste_1 = ['banana', 'peach', 'orange', 'apple']\n",
    "liste_2 = ['apple', 'peach', 'lemon', 'banana', 'orange', 'pear', 'banana', 'apple', 'peach',\n",
    "           'peach', 'banana', 'orange', 'pear', 'banana', 'strawberry', 'lemon']\n"
   ]
  },
  {
   "cell_type": "code",
   "execution_count": null,
   "metadata": {},
   "outputs": [],
   "source": [
    "# Schreiben Sie Ihren Programmcode hier\n",
    "# Auch das doppelte Element 'lemon' entfernen!\n"
   ]
  }
 ],
 "metadata": {
  "kernelspec": {
   "display_name": "Python 3 (ipykernel)",
   "language": "python",
   "name": "python3"
  },
  "language_info": {
   "codemirror_mode": {
    "name": "ipython",
    "version": 3
   },
   "file_extension": ".py",
   "mimetype": "text/x-python",
   "name": "python",
   "nbconvert_exporter": "python",
   "pygments_lexer": "ipython3",
   "version": "3.12.4"
  },
  "toc": {
   "base_numbering": 1,
   "nav_menu": {
    "height": "20px",
    "width": "160px"
   },
   "number_sections": true,
   "sideBar": true,
   "skip_h1_title": false,
   "title_cell": "Table of Contents",
   "title_sidebar": "Contents",
   "toc_cell": false,
   "toc_position": {},
   "toc_section_display": true,
   "toc_window_display": false
  },
  "varInspector": {
   "cols": {
    "lenName": 16,
    "lenType": 16,
    "lenVar": 40
   },
   "kernels_config": {
    "python": {
     "delete_cmd_postfix": "",
     "delete_cmd_prefix": "del ",
     "library": "var_list.py",
     "varRefreshCmd": "print(var_dic_list())"
    },
    "r": {
     "delete_cmd_postfix": ") ",
     "delete_cmd_prefix": "rm(",
     "library": "var_list.r",
     "varRefreshCmd": "cat(var_dic_list()) "
    }
   },
   "types_to_exclude": [
    "module",
    "function",
    "builtin_function_or_method",
    "instance",
    "_Feature"
   ],
   "window_display": false
  },
  "widgets": {
   "application/vnd.jupyter.widget-state+json": {
    "state": {},
    "version_major": 2,
    "version_minor": 0
   }
  }
 },
 "nbformat": 4,
 "nbformat_minor": 4
}
