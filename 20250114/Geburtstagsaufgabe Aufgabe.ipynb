{
 "cells": [
  {
   "cell_type": "markdown",
   "id": "34335aae",
   "metadata": {},
   "source": [
    "**Berechnen Sie die Wahrscheinlichkeit, dass von 50 Studenten in einem Hörsaal mindestens 2 am gleichen Tag Geburtstag haben.**  \n",
    "Entwickeln Sie mit dem bekannten Wissen eine Lösung und setzen diese in Python um.  \n",
    "(Denken Sie auch an die Methode über ein **Gegenereignis** die Lösung zu finden!)\n"
   ]
  },
  {
   "cell_type": "markdown",
   "id": "aa86df03",
   "metadata": {},
   "source": [
    "Leiten Sie sich eine Berechnungsformel her und dokumentieren diese hier:  \n",
    "\n",
    "Wahrscheinlichkeit für **50** Studenten mit mind. einem gleichen Geburtstag?\n",
    "\n",
    "Dies ist gleichbedeutend mit: nicht alle **50** Studenten haben an jeweils unterschiedlichen Tagen Geburtstag.\n"
   ]
  },
  {
   "cell_type": "code",
   "execution_count": 1,
   "id": "0fde6164",
   "metadata": {},
   "outputs": [],
   "source": [
    "# Schreibe Sie Ihren Programmcode hier\n",
    "#TIP: math.comb; math.factorial kann helfen!\n",
    "import math\n"
   ]
  }
 ],
 "metadata": {
  "kernelspec": {
   "display_name": "Python 3 (ipykernel)",
   "language": "python",
   "name": "python3"
  },
  "language_info": {
   "codemirror_mode": {
    "name": "ipython",
    "version": 3
   },
   "file_extension": ".py",
   "mimetype": "text/x-python",
   "name": "python",
   "nbconvert_exporter": "python",
   "pygments_lexer": "ipython3",
   "version": "3.12.4"
  },
  "toc": {
   "base_numbering": 1,
   "nav_menu": {},
   "number_sections": true,
   "sideBar": true,
   "skip_h1_title": false,
   "title_cell": "Table of Contents",
   "title_sidebar": "Contents",
   "toc_cell": false,
   "toc_position": {},
   "toc_section_display": true,
   "toc_window_display": false
  },
  "varInspector": {
   "cols": {
    "lenName": 16,
    "lenType": 16,
    "lenVar": 40
   },
   "kernels_config": {
    "python": {
     "delete_cmd_postfix": "",
     "delete_cmd_prefix": "del ",
     "library": "var_list.py",
     "varRefreshCmd": "print(var_dic_list())"
    },
    "r": {
     "delete_cmd_postfix": ") ",
     "delete_cmd_prefix": "rm(",
     "library": "var_list.r",
     "varRefreshCmd": "cat(var_dic_list()) "
    }
   },
   "types_to_exclude": [
    "module",
    "function",
    "builtin_function_or_method",
    "instance",
    "_Feature"
   ],
   "window_display": false
  },
  "widgets": {
   "application/vnd.jupyter.widget-state+json": {
    "state": {},
    "version_major": 2,
    "version_minor": 0
   }
  }
 },
 "nbformat": 4,
 "nbformat_minor": 5
}
