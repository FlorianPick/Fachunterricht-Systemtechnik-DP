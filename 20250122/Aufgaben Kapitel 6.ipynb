{
 "cells": [
  {
   "cell_type": "markdown",
   "id": "5a1c43c4",
   "metadata": {},
   "source": [
    "# Aufgaben Kapitel 6\n",
    "## Aufgabe 6.1  \n",
    "\n",
    "Untersuchen Sie die CSV-Datei iris-semicolon.csv aus dem Listing-Verzeichnis zu diesem Kapitel und importieren Sie diese.\n"
   ]
  },
  {
   "cell_type": "code",
   "execution_count": null,
   "id": "6a9efccc",
   "metadata": {},
   "outputs": [],
   "source": [
    "# Schreiben Sie hier Ihren Programmcode\n"
   ]
  },
  {
   "cell_type": "markdown",
   "id": "71509ac5",
   "metadata": {},
   "source": [
    "## Aufgabe 6.2  \n",
    "Untersuchen Sie die XML-Datei iris-mixed.xml aus dem Listing-Verzeichnis und importieren Sie diese."
   ]
  },
  {
   "cell_type": "code",
   "execution_count": null,
   "id": "8d25aa22",
   "metadata": {},
   "outputs": [],
   "source": [
    "# Schreiben Sie hier Ihren Programmcode\n",
    "# Im DPA-Buch Kapitel 6.1.3 ab Seite 305\n",
    "# from xml.etree import ElementTree\n"
   ]
  },
  {
   "cell_type": "markdown",
   "id": "b7186f5b",
   "metadata": {},
   "source": [
    "## Aufgabe 6.3\n",
    "Laden Sie die Datei sample.txt aus dem Listing-Verzeichnis, zerlegen Sie sie in einzelne Zeilen, und erstellen Sie aus diesen verschiedene Bag-of-Words- und N-Gramm-Modelle."
   ]
  },
  {
   "cell_type": "code",
   "execution_count": null,
   "id": "8eae220c",
   "metadata": {},
   "outputs": [],
   "source": [
    "# Schreiben Sie hier Ihren Programmcode\n"
   ]
  },
  {
   "cell_type": "markdown",
   "id": "551849ef",
   "metadata": {},
   "source": [
    "## Aufgabe 6.4\n",
    "Überführen Sie die Wohnungsdaten aus der Datei size-rent.csv in eine SQLite3-Datenbanktabelle. Führen Sie Auswahlabfragen durch, um die höchste Miete, die niedrigste Miete, die Durchschnittsmiete und die Anzahl der Wohnungen zu ermitteln, jeweils pro Zimmeranzahl und insgesamt."
   ]
  },
  {
   "cell_type": "code",
   "execution_count": null,
   "id": "88f201f3",
   "metadata": {},
   "outputs": [],
   "source": [
    "# Schreiben Sie hier Ihren Programmcode\n"
   ]
  },
  {
   "cell_type": "markdown",
   "id": "0396a973",
   "metadata": {},
   "source": [
    "## Aufgabe 6.5\n",
    "Schreiben Sie eine Funktion, die ein Graustufenbild und einen Integerwert als Argumente entgegennimmt. Zunächst soll sie die Dimensionen des Bild-Arrays überprüfen und herausfinden, ob es Hoch- oder Querformat hat. Je nachdem soll sie oben\n",
    "und unten beziehungsweise rechts und links so viel wegschneiden, dass sich ein quadratisches Bild ergibt. Anschließend soll dieses Bild auf die durch den Integerwert angegebene Höhe und Breite herunterskaliert werden, und das umgerechnete Ergebnis soll zurückgegeben werden.  \n",
    "Probieren Sie die fertige Funktion mit verschiedenen Bildern aus."
   ]
  },
  {
   "cell_type": "code",
   "execution_count": null,
   "id": "2d3d8cf0",
   "metadata": {},
   "outputs": [],
   "source": [
    "# Schreiben Sie hier Ihren Programmcode\n"
   ]
  }
 ],
 "metadata": {
  "kernelspec": {
   "display_name": "Python 3 (ipykernel)",
   "language": "python",
   "name": "python3"
  },
  "language_info": {
   "codemirror_mode": {
    "name": "ipython",
    "version": 3
   },
   "file_extension": ".py",
   "mimetype": "text/x-python",
   "name": "python",
   "nbconvert_exporter": "python",
   "pygments_lexer": "ipython3",
   "version": "3.12.4"
  },
  "toc": {
   "base_numbering": 1,
   "nav_menu": {},
   "number_sections": true,
   "sideBar": true,
   "skip_h1_title": false,
   "title_cell": "Table of Contents",
   "title_sidebar": "Contents",
   "toc_cell": false,
   "toc_position": {},
   "toc_section_display": true,
   "toc_window_display": false
  },
  "varInspector": {
   "cols": {
    "lenName": 16,
    "lenType": 16,
    "lenVar": 40
   },
   "kernels_config": {
    "python": {
     "delete_cmd_postfix": "",
     "delete_cmd_prefix": "del ",
     "library": "var_list.py",
     "varRefreshCmd": "print(var_dic_list())"
    },
    "r": {
     "delete_cmd_postfix": ") ",
     "delete_cmd_prefix": "rm(",
     "library": "var_list.r",
     "varRefreshCmd": "cat(var_dic_list()) "
    }
   },
   "types_to_exclude": [
    "module",
    "function",
    "builtin_function_or_method",
    "instance",
    "_Feature"
   ],
   "window_display": false
  }
 },
 "nbformat": 4,
 "nbformat_minor": 5
}
