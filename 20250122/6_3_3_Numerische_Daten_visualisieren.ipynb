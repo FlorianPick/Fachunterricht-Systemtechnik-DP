{
 "cells": [
  {
   "cell_type": "markdown",
   "id": "3c835f7d",
   "metadata": {},
   "source": [
    "# 6.3.3 Numerische Daten visualisieren\n",
    "Begleitung zum Buch Daten- und Prozessanalyse für Fachinformatiker*innen (ISBN 978-3-8362-8112-6)  \n",
    "Seiten 342 bis 350  \n",
    "\n",
    "        Sepal_length  = Länge des Kelchblatts\n",
    "        Sepal_width   = Breite des Kelchblatts\n",
    "        Petal_length  = Länge des Kronblatts\n",
    "        Petal_width   = Breite des Kronblatts\n",
    "        "
   ]
  },
  {
   "cell_type": "code",
   "execution_count": null,
   "id": "306f760b",
   "metadata": {},
   "outputs": [],
   "source": [
    "import matplotlib.pyplot as plt\n",
    "import matplotlib.markers as markers\n",
    "import csv\n",
    "from sys import argv\n",
    "\n",
    "# Die vier verfügbaren Features und ihre Spalten\n",
    "feature_mapping = {\n",
    "        0: 'Sepal length',\n",
    "        1: 'Sepal width',\n",
    "        2: 'Petal length',\n",
    "        3: 'Petal width'\n",
    "}\n",
    "\n",
    "# Farben und Formen, die für die Spezies verwendet werden sollen\n",
    "color_mapping = {\n",
    "        'Iris-setosa': 'red',\n",
    "        'Iris-versicolor': 'green',\n",
    "        'Iris-virginica': 'blue'\n",
    "}\n",
    "marker_mapping = {\n",
    "        'Iris-setosa': 'o',\n",
    "        'Iris-versicolor': 'v',\n",
    "        'Iris-virginica': '*'\n",
    "}\n",
    "\n",
    "# CSV-Daten einlesen\n",
    "irises = []\n",
    "iris_file = open('iris.csv', 'r')\n",
    "for line in csv.reader(iris_file):\n",
    "    irises.append(line)\n",
    "iris_file.close()\n"
   ]
  },
  {
   "cell_type": "code",
   "execution_count": null,
   "id": "ad190008-d5ce-418d-8189-e004cc53038c",
   "metadata": {},
   "outputs": [],
   "source": [
    "irises"
   ]
  },
  {
   "cell_type": "code",
   "execution_count": null,
   "id": "42534815",
   "metadata": {},
   "outputs": [],
   "source": [
    "\n",
    "# Vorgabe: X = sepal length, Y = sepal width\n",
    "# Kombinationen: 0,1 0,2 0,3 1,2 1,3 2,3\n",
    "x_feature = 2\n",
    "y_feature = 3\n",
    "\n",
    "# Wurden zwei verschiedene erlaubte Features als Argumente übergeben?\n",
    "possible_features = ['0', '1', '2', '3']\n",
    "if (len(argv) >= 3 and argv[1] in possible_features\n",
    "    and argv[2] in possible_features and argv[1] != argv[2]):\n",
    "    x_feature = int(argv[1])\n",
    "    y_feature = int(argv[2])\n",
    "\n",
    "# plot_values enthält je eine zweidimensionale Liste für alle Punkte einer Spezies\n",
    "plot_values = {}\n",
    "for iris in irises:\n",
    "    if iris[4] not in plot_values:\n",
    "#        print(plot_values, iris[4])\n",
    "        plot_values[iris[4]] = [[], []]\n",
    "    plot_values[iris[4]][0].append(float(iris[x_feature]))\n",
    "    plot_values[iris[4]][1].append(float(iris[y_feature]))\n",
    "\n",
    "# Die eigentliche Zeichnung erstellen\n",
    "plt.title(\n",
    "    \"{} and {} of iris flowers\".format(\n",
    "        feature_mapping[x_feature],\n",
    "        feature_mapping[y_feature]\n",
    "    )\n",
    ")\n",
    "plt.xlabel(feature_mapping[x_feature])\n",
    "plt.ylabel(feature_mapping[y_feature])\n",
    "print(plot_values.keys())\n",
    "for species in plot_values.keys():\n",
    "    plt.scatter(\n",
    "        plot_values[species][0],\n",
    "        plot_values[species][1],\n",
    "        color = color_mapping[species],\n",
    "        marker = marker_mapping[species]\n",
    "    )\n",
    "plt.show()\n"
   ]
  },
  {
   "cell_type": "markdown",
   "id": "9277e051",
   "metadata": {},
   "source": [
    "# Visualisierungen der Datenmenge »Wohnungen« vornehmen"
   ]
  },
  {
   "cell_type": "code",
   "execution_count": null,
   "id": "83a0ee45",
   "metadata": {},
   "outputs": [],
   "source": [
    "import matplotlib.pyplot as plt\n",
    "import csv\n",
    "from sys import argv\n",
    "\n",
    "# Farben für die verschiedenen Zimmerzahlen\n",
    "color_mapping = {\n",
    "        1: 'black',\n",
    "        2: 'red',\n",
    "        3: 'green',\n",
    "        4: 'blue',\n",
    "        5: 'magenta'\n",
    "}\n",
    "\n",
    "# Grafik für eine bestimmte Zimmeranzahl?\n",
    "rooms = 0   # Alle\n",
    "#rooms = 3   # 1 Zimmer\n",
    "#lrooms = [1,2,3,4]      # OK\n",
    "#lrooms = (1,4)      # OK\n",
    "#lrooms = {0:1,1:5}  # NO\n",
    "#lrooms = \"13\"       # NO falsche Datentyp\n",
    "#lrooms = set([1,4,4])  # OK\n",
    "print(lrooms)\n",
    "#print(type(lrooms), lrooms)\n",
    "if len(argv) > 1 and argv[1] in ['1', '2', '3', '4', '5']:\n",
    "    rooms = int(argv[1])\n",
    "\n",
    "# Daten importieren\n",
    "rent_data = []\n",
    "rent_file = open('size-rent.csv', 'r')\n",
    "reader = csv.reader(rent_file)\n",
    "next(reader, None)\n",
    "for line in reader:\n",
    "    rent_data.append(line)\n",
    "rent_file.close()\n",
    "\n",
    "# Die Grafik erstellen\n",
    "plt.title(\"Miete zu Wohnfläche (€/m²)\")\n",
    "plt.xlabel(\"Wohnfläche in m²\")\n",
    "plt.ylabel(\"Miete in €\")\n",
    "for flat in rent_data:\n",
    "    # Überspringen, falls \"falsche\" Zimmeranzahl\n",
    "    if rooms and int(flat[1]) != rooms:\n",
    "#    if int(flat[1]) not in lrooms:\n",
    "        continue\n",
    "    plt.scatter(\n",
    "        float(flat[0]),\n",
    "        float(flat[2]),\n",
    "        color = color_mapping[int(flat[1])],\n",
    "        marker = f\"${flat[1]}$\"\n",
    "    )\n",
    "plt.show()\n",
    "\n",
    "\n"
   ]
  },
  {
   "cell_type": "markdown",
   "id": "4d8e0e1e",
   "metadata": {},
   "source": [
    "# Mit pandas und Seaborn arbeiten  \n",
    "Begleitung zum Buch Daten- und Prozessanalyse für Fachinformatiker*innen (ISBN 978-3-8362-8112-6)    \n",
    "Seiten 350 bis 355"
   ]
  },
  {
   "cell_type": "code",
   "execution_count": null,
   "id": "310e8b0b",
   "metadata": {},
   "outputs": [],
   "source": [
    "# Pandas Bibliothek importieren\n",
    "import pandas as pd"
   ]
  },
  {
   "cell_type": "code",
   "execution_count": null,
   "id": "05774cf1",
   "metadata": {},
   "outputs": [],
   "source": [
    "# CSV-Datei einlesen in DataFrame\n",
    "iris = pd.read_csv('iris-pandas.csv')\n",
    "print(type(iris))"
   ]
  },
  {
   "cell_type": "code",
   "execution_count": null,
   "id": "d6f3e928",
   "metadata": {},
   "outputs": [],
   "source": [
    "# Die ersten x Zeilen anzeigen\n",
    "#print(iris.head(10))\n",
    "iris.head(10)"
   ]
  },
  {
   "cell_type": "code",
   "execution_count": null,
   "id": "1dae553b",
   "metadata": {},
   "outputs": [],
   "source": [
    "# Informationen zum DataFrame\n",
    "iris.info()"
   ]
  },
  {
   "cell_type": "code",
   "execution_count": null,
   "id": "d760912f",
   "metadata": {},
   "outputs": [],
   "source": [
    "iris['PetalWidth']\n",
    "#iris['PetalWidth'].head(10)\n",
    "#iris['PetalWidth'].head(-20)\n"
   ]
  },
  {
   "cell_type": "code",
   "execution_count": null,
   "id": "431e8204",
   "metadata": {},
   "outputs": [],
   "source": [
    "# Welche verschiedene Werte gibt es in der Spalte \"???\"\n",
    "iris['PetalWidth'].unique()\n",
    "#iris['PetalWidth'].unique().min() # max\n",
    "#print(sorted(iris['PetalWidth'].unique()))\n",
    "#iris['PetalWidth'].nunique() # Anzahl der verschiedenen Werte\n",
    "#len(iris['PetalWidth'].unique())"
   ]
  },
  {
   "cell_type": "code",
   "execution_count": null,
   "id": "cf4b6c75",
   "metadata": {},
   "outputs": [],
   "source": [
    "# statische Methoden\n",
    "print(iris['PetalLength'].min())     # Minimumwert\n",
    "print(iris['PetalLength'].max())     # Maximalwert\n",
    "print(iris['PetalLength'].mean())    # Mittelwert\n",
    "print(iris['PetalLength'].median())  # Median \n",
    "print(iris['PetalLength'].std())     # Standard Abweichung\n"
   ]
  },
  {
   "cell_type": "code",
   "execution_count": null,
   "id": "b625ea13",
   "metadata": {},
   "outputs": [],
   "source": [
    "# statische Methoden auf den kompletten DataFrame\n",
    "iris.max()\n",
    "#iris.min(numeric_only=False)   # wie iris.min()\n",
    "#iris.min(numeric_only=True)    # nur numerische Spalten werden berücksichtigt"
   ]
  },
  {
   "cell_type": "code",
   "execution_count": null,
   "id": "f1d91ff3",
   "metadata": {},
   "outputs": [],
   "source": [
    "# Nich sinnvolle Spalten werden ignoriert!\n",
    "#iris.mean()\n",
    "iris.mean(numeric_only=True)    # nur numerische Spalten werden berücksichtigt"
   ]
  },
  {
   "cell_type": "code",
   "execution_count": null,
   "id": "dc0fe422",
   "metadata": {},
   "outputs": [],
   "source": [
    "# Gruppieren anwenden\n",
    "iris.groupby('Classification').max()\n",
    "#print(iris.groupby('Classification').max())\n",
    "#print(iris.groupby('Classification').min())\n",
    "#iris.groupby('PetalWidth').min(numeric_only=True)\n",
    "#iris.groupby('PetalWidth').mean(numeric_only=False) # geht oder geht nicht?"
   ]
  },
  {
   "cell_type": "code",
   "execution_count": null,
   "id": "8bd599bf",
   "metadata": {},
   "outputs": [],
   "source": [
    "# Vergleichsoperator zum filtern\n",
    "iris[iris['Classification'] == 'Iris-versicolor'].head(10)"
   ]
  },
  {
   "cell_type": "code",
   "execution_count": null,
   "id": "0b762b86",
   "metadata": {},
   "outputs": [],
   "source": [
    "# oder so\n",
    "iris[iris['SepalWidth'] == 2.3]"
   ]
  },
  {
   "cell_type": "code",
   "execution_count": null,
   "id": "7d3b9271",
   "metadata": {},
   "outputs": [],
   "source": [
    "# Selektion und dann min(); SepalWidth --> 2.4\n",
    "largest_sepals = iris[iris['SepalWidth'] > 2.3]\n",
    "print(type(largest_sepals))\n",
    "largest_sepals.min()\n",
    "largest_sepals.head(10)"
   ]
  },
  {
   "cell_type": "code",
   "execution_count": null,
   "id": "7ebcbeb5",
   "metadata": {},
   "outputs": [],
   "source": [
    "# Gezielt Werte verändern\n",
    "iris.at[100,'PetalLength'] = 6.3\n",
    "iris.at[100,'PetalLength']\n"
   ]
  },
  {
   "cell_type": "code",
   "execution_count": null,
   "id": "ce5eaacb",
   "metadata": {},
   "outputs": [],
   "source": [
    "largest_sepals"
   ]
  },
  {
   "cell_type": "code",
   "execution_count": null,
   "id": "9500620f",
   "metadata": {},
   "outputs": [],
   "source": [
    "data = {'students': ['Alexandra', 'Cem', 'Kimiko', 'Marvin', 'Olga', 'Pablo'],\n",
    "        'points': [90, 92, None, 71, 80, 64]} # mean = 79,4\n",
    "# data = {'students': ['Alexandra', 'Cem', 'Kimiko', 'Marvin', 'Olga', 'Pablo'],\n",
    "#         'points': [90, 92, 0, 71, 80, 64]} # mean = 66,166667\n",
    "points = pd.DataFrame(data)\n",
    "print(type(points))\n",
    "points.mean(numeric_only=True)"
   ]
  },
  {
   "cell_type": "markdown",
   "id": "59fc00bf",
   "metadata": {},
   "source": [
    "Dies war natürlich nur ein kurzer Einstieg in die vielfältigen Fähigkeiten von pandas.  \n",
    "Weitere Informationen über dieses nützliche Modul erhalten Sie in der ausführlichen Dokumentation unter:  \n",
    "\n",
    "https://pandas.pydata.org."
   ]
  },
  {
   "cell_type": "markdown",
   "id": "ae6f7af0",
   "metadata": {},
   "source": [
    "# Erweiterte Visualisierung mit Seaborn  \n",
    "Begleitung zum Buch Daten- und Prozessanalyse für Fachinformatiker*innen (ISBN 978-3-8362-8112-6)  \n",
    "Seiten 355 bis 358  \n",
    "\n",
    "https://seaborn.pydata.org"
   ]
  },
  {
   "cell_type": "code",
   "execution_count": null,
   "id": "bbdb90f6",
   "metadata": {},
   "outputs": [],
   "source": [
    "# Pandas Bibliothek importieren\n",
    "import pandas as pd"
   ]
  },
  {
   "cell_type": "code",
   "execution_count": null,
   "id": "de02889b",
   "metadata": {},
   "outputs": [],
   "source": [
    "# CSV-Datei einlesen in DataFrame\n",
    "iris = pd.read_csv('iris-pandas.csv')\n",
    "iris"
   ]
  },
  {
   "cell_type": "code",
   "execution_count": null,
   "id": "298e7808",
   "metadata": {},
   "outputs": [],
   "source": [
    "import seaborn as sns\n",
    "sns.scatterplot(\n",
    "data=iris, x='SepalLength', y='SepalWidth',\n",
    "hue='Classification', style='Classification',\n",
    "palette=['r', 'lime', 'b'] \n",
    ")\n"
   ]
  },
  {
   "cell_type": "code",
   "execution_count": null,
   "id": "236edf27",
   "metadata": {},
   "outputs": [],
   "source": [
    "sns.boxplot(x='Classification', y='PetalLength', data=iris, hue ='Classification', palette=['r', 'lime', 'b'])"
   ]
  },
  {
   "cell_type": "code",
   "execution_count": null,
   "id": "03862bb7",
   "metadata": {},
   "outputs": [],
   "source": [
    "sns.pairplot(data=iris, kind='scatter', hue='Classification')"
   ]
  },
  {
   "cell_type": "code",
   "execution_count": null,
   "id": "a82a8260",
   "metadata": {},
   "outputs": [],
   "source": [
    "iris.corr(numeric_only=True)"
   ]
  },
  {
   "cell_type": "code",
   "execution_count": null,
   "id": "cd4824e5",
   "metadata": {},
   "outputs": [],
   "source": [
    "sns.heatmap(iris.corr(numeric_only=True), annot=True, cmap='plasma')"
   ]
  },
  {
   "cell_type": "code",
   "execution_count": null,
   "id": "3396dd40",
   "metadata": {},
   "outputs": [],
   "source": []
  }
 ],
 "metadata": {
  "kernelspec": {
   "display_name": "Python 3 (ipykernel)",
   "language": "python",
   "name": "python3"
  },
  "language_info": {
   "codemirror_mode": {
    "name": "ipython",
    "version": 3
   },
   "file_extension": ".py",
   "mimetype": "text/x-python",
   "name": "python",
   "nbconvert_exporter": "python",
   "pygments_lexer": "ipython3",
   "version": "3.12.4"
  },
  "toc": {
   "base_numbering": 1,
   "nav_menu": {},
   "number_sections": true,
   "sideBar": true,
   "skip_h1_title": false,
   "title_cell": "Table of Contents",
   "title_sidebar": "Contents",
   "toc_cell": false,
   "toc_position": {},
   "toc_section_display": true,
   "toc_window_display": false
  },
  "varInspector": {
   "cols": {
    "lenName": 16,
    "lenType": 16,
    "lenVar": 40
   },
   "kernels_config": {
    "python": {
     "delete_cmd_postfix": "",
     "delete_cmd_prefix": "del ",
     "library": "var_list.py",
     "varRefreshCmd": "print(var_dic_list())"
    },
    "r": {
     "delete_cmd_postfix": ") ",
     "delete_cmd_prefix": "rm(",
     "library": "var_list.r",
     "varRefreshCmd": "cat(var_dic_list()) "
    }
   },
   "types_to_exclude": [
    "module",
    "function",
    "builtin_function_or_method",
    "instance",
    "_Feature"
   ],
   "window_display": false
  }
 },
 "nbformat": 4,
 "nbformat_minor": 5
}
