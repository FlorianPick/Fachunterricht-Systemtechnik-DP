{
 "cells": [
  {
   "cell_type": "markdown",
   "id": "bd54fb03",
   "metadata": {},
   "source": [
    "# Dictionaries\n",
    "Dictionaries sind ein Variablentyp, in welchen miteinander\n",
    "verknüpfte Daten abgelegt werden können.\n",
    "Dictionaries haben die folgende Syntax:"
   ]
  },
  {
   "cell_type": "code",
   "execution_count": null,
   "id": "2c076749",
   "metadata": {},
   "outputs": [],
   "source": [
    "my_dictionary={\"colour\" : \"red\", \"count\" : 1, 'Liste1' : [1,2,3,4]}\n",
    "print(my_dictionary[\"colour\"])\n",
    "print(my_dictionary[\"count\"])\n",
    "print(my_dictionary['Liste1'])"
   ]
  },
  {
   "cell_type": "markdown",
   "id": "fccfb49b",
   "metadata": {},
   "source": [
    "Dictionaries sind Daten, welche in verknüpften Schlüssel-Wert Paaren abgelegt sind.\n",
    "\n",
    "Wird ein Schlüssel aufgerufen, so wird der dazugehörige Wert ausgegeben.\n",
    "\n",
    "Es können alle verfügbaren Datentypen verwendet werden bis hin zu anderen Dictionaries. \n",
    "\n",
    "Die Schlüssel-Wert-Paare sind durch “:“ miteinander verknüpft und die einzelnen Paare durch “,“ getrennt. \n",
    "\n",
    "Der Zugriff auf einen Wert erfolgt über die Eingabe des dazugehörigen Schlüssels.\n",
    "\n",
    "Als Antwort erhält man den dazu gespeicherten Wert. Dieser kann dann weiterverwendet werden."
   ]
  },
  {
   "cell_type": "code",
   "execution_count": null,
   "id": "0479b4c9",
   "metadata": {},
   "outputs": [],
   "source": [
    "my_dictionary={\"colour\" : \"red\", \"length\" : 10}\n",
    "print(my_dictionary[\"length\"])\n",
    "x = my_dictionary[\"length\"]\n",
    "print(x)\n",
    "print(type(x))"
   ]
  },
  {
   "cell_type": "code",
   "execution_count": null,
   "id": "b652b046",
   "metadata": {},
   "outputs": [],
   "source": [
    "Total_Length = 5\n",
    "Total_Length = Total_Length + (my_dictionary[\"length\"])\n",
    "print (Total_Length) "
   ]
  },
  {
   "cell_type": "markdown",
   "id": "83657198",
   "metadata": {},
   "source": [
    "**Dictionaries sind dynamisch.**\n",
    "\n",
    "Das Hinzufügen von Einträgen zu einem Dictionary funktioniert wie folgt durch die Angabe eines Schlüssel-Werte Paares:\n"
   ]
  },
  {
   "cell_type": "code",
   "execution_count": null,
   "id": "a4867f0b",
   "metadata": {},
   "outputs": [],
   "source": [
    "my_dictionary={\"colour\" : \"red\", \"length\" : 10}\n",
    "print(my_dictionary)"
   ]
  },
  {
   "cell_type": "code",
   "execution_count": null,
   "id": "cb55bdc5",
   "metadata": {},
   "outputs": [],
   "source": [
    "my_dictionary[\"Height\"] = 20\n",
    "my_dictionary[\"Width\"] = 5\n",
    "print(my_dictionary)"
   ]
  },
  {
   "cell_type": "markdown",
   "id": "de9a86db",
   "metadata": {},
   "source": [
    "Ein leeres Dictionary, welches anschliessend befüllt wird, ist manchmal hilfreich, um einen NameError zu vermeiden.\n",
    "\n",
    "Anlegen eines leeren Dictionarys:"
   ]
  },
  {
   "cell_type": "code",
   "execution_count": null,
   "id": "9cdf278a",
   "metadata": {},
   "outputs": [],
   "source": [
    "# Aufruf nicht vorhandenes Dictionary\n",
    "my_dictionary1"
   ]
  },
  {
   "cell_type": "code",
   "execution_count": null,
   "id": "577b8f30",
   "metadata": {},
   "outputs": [],
   "source": [
    "# leeres Dictionary\n",
    "my_dictionary1 = {}\n",
    "#my_dictionary1 = dict()\n",
    "print(my_dictionary1)"
   ]
  },
  {
   "cell_type": "code",
   "execution_count": null,
   "id": "a08d236b",
   "metadata": {},
   "outputs": [],
   "source": [
    "# Neues Dictionary mit Daten anlegen\n",
    "my_dictionary1={\"colour\":\"red\"}\n",
    "print(my_dictionary1)"
   ]
  },
  {
   "cell_type": "markdown",
   "id": "347ef862",
   "metadata": {},
   "source": [
    "Die Änderung eines Wertes eines Dictionaries erfolgt, indem der neue Wert dem bestehenden Schlüssel zugewiesen wird.(Mutable-Objects)"
   ]
  },
  {
   "cell_type": "code",
   "execution_count": null,
   "id": "2989df56",
   "metadata": {},
   "outputs": [],
   "source": [
    "my_dictionary={\"colour\":\"red\",\"length\":10,\"Height\":20,\"Width\":5}\n",
    "print(my_dictionary)"
   ]
  },
  {
   "cell_type": "code",
   "execution_count": null,
   "id": "c684e5ed",
   "metadata": {},
   "outputs": [],
   "source": [
    "my_dictionary[\"Height\"] = 30\n",
    "print(my_dictionary)"
   ]
  },
  {
   "cell_type": "markdown",
   "id": "89b2c4e9",
   "metadata": {},
   "source": [
    "Schlüssel-Werte-Paar aus einem Dictionary mit „del“ entfernen.\n",
    "\n",
    "Hierbei müssen sowohl der Name des Dictionaries sowie der Schlüssel angegeben werden, der Wert hingegen nicht:\n"
   ]
  },
  {
   "cell_type": "code",
   "execution_count": null,
   "id": "613f61b4",
   "metadata": {},
   "outputs": [],
   "source": [
    "print(my_dictionary)\n",
    "del my_dictionary[\"Height\"]\n",
    "print(my_dictionary)"
   ]
  },
  {
   "cell_type": "markdown",
   "id": "a69dcdaa",
   "metadata": {},
   "source": [
    "Ein längeres Dictionary mit vielen Wertepaaren kann effizient auch in mehreren Zeilen definiert werden: "
   ]
  },
  {
   "cell_type": "code",
   "execution_count": null,
   "id": "eeb26773",
   "metadata": {},
   "outputs": [],
   "source": [
    "Bicycle_Price={\n",
    "\"Kalkhoff\":259.90,\n",
    "\"Kreidler\":399.99,\n",
    "\"Bullet\":899.49,\n",
    "\"VanMoof\":1249.99\n",
    "}\n",
    "print(Bicycle_Price)"
   ]
  },
  {
   "cell_type": "code",
   "execution_count": null,
   "id": "48982501",
   "metadata": {},
   "outputs": [],
   "source": [
    "# Preis ändern\n",
    "print(Bicycle_Price)                # Ausgabe Dictionary\n",
    "Bicycle_Price['Kalkhoff'] =429.98\n",
    "print(Bicycle_Price)                # Ausgabe Dictionary"
   ]
  },
  {
   "cell_type": "markdown",
   "id": "abdf01e7",
   "metadata": {},
   "source": [
    "Dictionaries können in Schleifen durchlaufen werden. \n",
    "\n",
    "Zum Durchlaufen der Schlüssel-Werte-Paare existiert die Methode items(): \n"
   ]
  },
  {
   "cell_type": "code",
   "execution_count": null,
   "id": "24e9efaa",
   "metadata": {},
   "outputs": [],
   "source": [
    "for i in Bicycle_Price:\n",
    "    print(i)"
   ]
  },
  {
   "cell_type": "code",
   "execution_count": null,
   "id": "c1b11b65",
   "metadata": {},
   "outputs": [],
   "source": [
    "print(Bicycle_Price)                # Ausgabe Dictionary\n",
    "print(type(Bicycle_Price))\n",
    "for Name,Price in Bicycle_Price.items():\n",
    "    print(\"\\nName: \"+ Name)\n",
    "    print(\"Price: \"+ str(Price))\n",
    "    #print(f'Price: {Price}')"
   ]
  },
  {
   "cell_type": "markdown",
   "id": "90e047ed",
   "metadata": {},
   "source": [
    "Werden nur die Schlüssel, aber nicht die Werte benötigt, kann die Methode keys() zum Durchlaufen verwendet werden: "
   ]
  },
  {
   "cell_type": "code",
   "execution_count": null,
   "id": "d599c487",
   "metadata": {},
   "outputs": [],
   "source": [
    "print(Bicycle_Price)                # Ausgabe Dictionary\n",
    "for name in Bicycle_Price.keys():\n",
    "#for name in Bicycle_Price:          # .keys ist der Standardwert\n",
    "    print(\"\\nName: \"+ name)"
   ]
  },
  {
   "cell_type": "markdown",
   "id": "ec2e0370",
   "metadata": {},
   "source": [
    "keys() kann verwendet werden, um die Lesbarkeit zu erhöhen, ist aber nicht unbedingt erforderlich, da dies ebenfalls die Standardeinstellung ist:"
   ]
  },
  {
   "cell_type": "code",
   "execution_count": null,
   "id": "00bb1452",
   "metadata": {},
   "outputs": [],
   "source": [
    "print(Bicycle_Price)                # Ausgabe Dictionary\n",
    "for Name in Bicycle_Price:\n",
    "    print(\"\\nName: \"+ Name)\n"
   ]
  },
  {
   "cell_type": "markdown",
   "id": "3d80b1fa",
   "metadata": {},
   "source": [
    "Keys() kann aber auch ausserhalb von Schleifen verwendet werden:"
   ]
  },
  {
   "cell_type": "code",
   "execution_count": null,
   "id": "c93dc9a3",
   "metadata": {},
   "outputs": [],
   "source": [
    "print(Bicycle_Price)                # Ausgabe Dictionary\n",
    "Name = \"Winora\"\n",
    "print(type(Bicycle_Price.keys()))\n",
    "print(Bicycle_Price.keys())\n",
    "if Name not in Bicycle_Price.keys():\n",
    "    print(\"Enter missing brand \"+ Name+\"\\n\")"
   ]
  },
  {
   "cell_type": "code",
   "execution_count": null,
   "id": "71f8f009",
   "metadata": {},
   "outputs": [],
   "source": [
    "Bicycle_Price['Winora'] = 439.90\n",
    "if Name not in Bicycle_Price.keys():\n",
    "    print(\"Enter missing brand \"+ Name+\"\\n\")\n",
    "else:\n",
    "    print(f'{Name} bereits vorhanden!')\n",
    "print(Bicycle_Price)                # Ausgabe Dictionary"
   ]
  },
  {
   "cell_type": "markdown",
   "id": "2b0ee383",
   "metadata": {},
   "source": [
    "Um die Schlüssel (keys) eines Dictionarys in geordneter Reihenfolge zu durchlaufen bzw. auszugeben, verwendet man die Funktion sorted():"
   ]
  },
  {
   "cell_type": "code",
   "execution_count": null,
   "id": "b74255ad",
   "metadata": {},
   "outputs": [],
   "source": [
    "Bicycle_Price['klein'] = 529.90 # zum testen von sorted()"
   ]
  },
  {
   "cell_type": "code",
   "execution_count": null,
   "id": "7d7ce50b",
   "metadata": {},
   "outputs": [],
   "source": [
    "del Bicycle_Price['klein']      # Korrektur des Tests!"
   ]
  },
  {
   "cell_type": "code",
   "execution_count": null,
   "id": "f95b8e4f",
   "metadata": {},
   "outputs": [],
   "source": [
    "print(Bicycle_Price)                # Ausgabe Dictionary\n",
    "for Name in sorted(Bicycle_Price.keys(), reverse=True):\n",
    "    print(\"\\nName: \"+ Name)"
   ]
  },
  {
   "cell_type": "markdown",
   "id": "fcbeb142",
   "metadata": {},
   "source": [
    "Um ein gesamtes Dictionary nach den Werten (Values) sortiert zu durchlaufen, verwendet man die Funktion sorted() mit dem folgenden Parameter:"
   ]
  },
  {
   "cell_type": "code",
   "execution_count": null,
   "id": "ebcf254f",
   "metadata": {},
   "outputs": [],
   "source": [
    "help(sorted)\n"
   ]
  },
  {
   "cell_type": "code",
   "execution_count": null,
   "id": "aed0854c",
   "metadata": {},
   "outputs": [],
   "source": [
    "for i in sorted(Bicycle_Price.items()):\n",
    "    print(i)\n",
    "    print(i[1])\n"
   ]
  },
  {
   "cell_type": "code",
   "execution_count": null,
   "id": "6d26b5c6",
   "metadata": {},
   "outputs": [],
   "source": [
    "# Beispiel mit einer Liste und 3 Elemente in der Unterliste\n",
    "liste = [['Eins', 1, 4],['Zwei', 2, 2], ['Drei', 3 , 1]]\n",
    "#liste = [['Eins', 1, (4,2)],['Zwei', 2, (2,1)], ['Drei', 3 , (1,3)]]\n",
    "print(sorted(liste, key=lambda i: i[2]))\n",
    "#print(sorted(liste, key=lambda i: i[2][1]))\n",
    "for x,y,z in liste:\n",
    "    print(f'Spalte 1 : {x}\\tSpalte 2 : {y}\\tSpalte 3 : {z}')\n",
    "    \n",
    "listed = [['Eins', 1],['Zwei', 2], ['Drei', 3 ]]    \n",
    "dict1 = dict(listed)\n",
    "print(dict1)"
   ]
  },
  {
   "cell_type": "code",
   "execution_count": null,
   "id": "00f47af9",
   "metadata": {},
   "outputs": [],
   "source": [
    "sorted(Bicycle_Price.items(), key=lambda item: item[1])\n",
    "#sorted(Bicycle_Price.items(), key=lambda item: item[1], reverse=True)\n",
    "#print('ENDE')"
   ]
  },
  {
   "cell_type": "code",
   "execution_count": null,
   "id": "b0d1bbd1",
   "metadata": {},
   "outputs": [],
   "source": [
    "print(Bicycle_Price)                # Ausgabe Dictionary\n",
    "for dict_key, dict_value in sorted(Bicycle_Price.items(), key=lambda item: item[1]): # sortieren nach dem Wert!\n",
    "    #print(\"%s: %s\" % (dict_key, dict_value))\n",
    "    print(f'{dict_key:>10} \\t| {dict_value:>8.2f} €')\n",
    "# explanation: item is in the list of arguments to lambda func.\n",
    "# item is a tuple consisting of 2 values\n",
    "# item[1] is the \"value\" entry\n",
    "# so \"sorted\" gets as \"key\" entry the \"value\" item of the dictionary."
   ]
  },
  {
   "cell_type": "markdown",
   "id": "5f99f0dc",
   "metadata": {},
   "source": [
    "Um lediglich die Werte eines Dictionaries zu durchlaufen, verwendet man die Methode values() :"
   ]
  },
  {
   "cell_type": "code",
   "execution_count": null,
   "id": "b6b859bb",
   "metadata": {},
   "outputs": [],
   "source": [
    "for Price in Bicycle_Price.values():\n",
    "    print(\"\\nPrice: \"+ str(Price) +\"\\n\")"
   ]
  },
  {
   "cell_type": "markdown",
   "id": "46c50e6a",
   "metadata": {},
   "source": [
    "Um redundante Einträge zu vermeiden, kann man die Methode set() verwenden. \n",
    "\n",
    "Diese erzeugt aus einem iterable den Datentyp \"set\", welcher keine doppelten Elemente mehr enthält:"
   ]
  },
  {
   "cell_type": "code",
   "execution_count": null,
   "id": "12c96ad4",
   "metadata": {},
   "outputs": [],
   "source": [
    "x = set()\n",
    "print(type(x))"
   ]
  },
  {
   "cell_type": "code",
   "execution_count": null,
   "id": "7d4ed050",
   "metadata": {},
   "outputs": [],
   "source": [
    "Bicycle_Price[\"Kalkhoff\"]=399.99\n",
    "for Price in set(Bicycle_Price.values()):\n",
    "    print(\"Price: \"+ str(Price) +\"\\n\")\n",
    "print(Bicycle_Price)"
   ]
  },
  {
   "cell_type": "code",
   "execution_count": null,
   "id": "d173725b",
   "metadata": {},
   "outputs": [],
   "source": [
    "set('xxyyxzzy') # String ist iterierbar --> set() alle vorkommenden Elemente nur einmal!"
   ]
  },
  {
   "cell_type": "code",
   "execution_count": null,
   "id": "8957bf5a",
   "metadata": {},
   "outputs": [],
   "source": [
    "#x = frozenset('xxyyxzzy')\n",
    "x = set('xxyyxzzy')\n",
    "print(x)\n",
    "x.add('W')\n",
    "print(type(x), x)"
   ]
  },
  {
   "cell_type": "code",
   "execution_count": null,
   "id": "6e7d51f9",
   "metadata": {},
   "outputs": [],
   "source": [
    "# Variable x wird neu geschrieben, keine Methoden zur Datenmanipulation in der Klasse!\n",
    "x = frozenset('xxyyxzzy')\n",
    "print(x)\n",
    "x = frozenset('xxyyxzzyADF')\n",
    "print(x)"
   ]
  },
  {
   "cell_type": "markdown",
   "id": "04b33ce3",
   "metadata": {},
   "source": [
    "Die andernfalls identische Methode frozenset() enthält nach der Erzeugung nicht mehr veränderbare Elemente."
   ]
  },
  {
   "cell_type": "markdown",
   "id": "dab33889",
   "metadata": {},
   "source": [
    "Verschachtelungen: Dictionaries in einer Liste:"
   ]
  },
  {
   "cell_type": "code",
   "execution_count": null,
   "id": "c7723f4d",
   "metadata": {},
   "outputs": [],
   "source": [
    "Food_Price_0={\"Name\":\"Aldi\",\"Spaghetti_Price\":1.99}\n",
    "Food_Price_1={\"Name\":\"Lidl\",\"Spaghetti_Price\":1.89}\n",
    "Food_Price_2={\"Name\":\"Netto\",\"Spaghetti_Price\":1.79}\n",
    "Food_Prices=[Food_Price_0,Food_Price_1,Food_Price_2]\n",
    "print(Food_Prices)\n",
    "for Food_Price in Food_Prices:\n",
    "    print(Food_Price)\n",
    "print(Food_Prices[1]['Name'])  # Zugriff über Index und Key"
   ]
  },
  {
   "cell_type": "code",
   "execution_count": null,
   "id": "13be035f",
   "metadata": {},
   "outputs": [],
   "source": [
    "# Zugriff auf Strukturen\n",
    "print(Food_Prices[0]['Spaghetti_Price'])\n",
    "#print(Food_Prices[0][0] geht nicht!)\n",
    "print(Food_Prices[0].items())"
   ]
  },
  {
   "cell_type": "markdown",
   "id": "62ec2a40",
   "metadata": {},
   "source": [
    "Verschachtelungen: Listen in einem Dictionary: "
   ]
  },
  {
   "cell_type": "code",
   "execution_count": null,
   "id": "f0a80cb7",
   "metadata": {
    "scrolled": true
   },
   "outputs": [],
   "source": [
    "bicycles = {\n",
    "    'Kalkhoff': ['Master', 'Experteer'],\n",
    "    'Kreidler': ['4Runner'],\n",
    "    'Bullet': ['Gopro', 'Hike'],\n",
    "    'VanMoof': ['StreetRunner', 'CityGo'], }\n",
    "# Show all Bicycle Names for each Brand.\n",
    "for make, names in bicycles.items():\n",
    "    print(f\"{make}: \")\n",
    "    #print(f'Modell :\\t{names}')   #Liste mit Modellnamen\n",
    "    for name in names:\n",
    "        print(f\"\\t- {name}\") "
   ]
  },
  {
   "cell_type": "markdown",
   "id": "0ac12659",
   "metadata": {},
   "source": [
    "Verschachtelungen: Dictionary in einem Dictionary:"
   ]
  },
  {
   "cell_type": "code",
   "execution_count": null,
   "id": "28be2da3",
   "metadata": {},
   "outputs": [],
   "source": [
    "brands = {\n",
    "    'Rewe': {\n",
    "    'Icecream': 'cone',\n",
    "    'Name': 'cOrnetto',\n",
    "    'Taste': 'Chocolate',\n",
    "    },\n",
    "    'Aldi': {\n",
    "    'Icecream': 'Soft',\n",
    "    'Name': 'Langnese',\n",
    "    'Taste': 'Strawberry',\n",
    "    },\n",
    "}\n",
    "for brandname, brands_dict in brands.items():\n",
    "    print(\"\\nBrandname: \" + brandname)\n",
    "    Description = brands_dict['Icecream'] + \" \"\n",
    "    Description += brands_dict['Name'] #  Description = Description + brands_dict['Name']\n",
    "    Taste = brands_dict['Taste']\n",
    "    print(f\"\\tDescription: {Description.title()}\")\n",
    "    print(f\"\\tTaste: {Taste.lower()}\")"
   ]
  },
  {
   "cell_type": "code",
   "execution_count": null,
   "id": "e36adf2a",
   "metadata": {},
   "outputs": [],
   "source": [
    "print('urlaub im Süden'.capitalize())\n",
    "print('urlaub im Süden'.title())\n",
    "print('urlaub im Süden'.lower())"
   ]
  },
  {
   "cell_type": "markdown",
   "id": "c94617b3",
   "metadata": {},
   "source": [
    "# Übungen:\n",
    "- Erstellen Sie ein Dictionary mit 8 Schlüssel –Werte-Paaren. Dabei sollen mindestens 2 Werte identisch sein, die Schlüssel jedoch nicht.\n",
    "    - Geben Sie alle Schlüssel-Werte-Paare Zeilenweise aus.\n",
    "    - Geben Sie alle Werte (nur die Werte) sortiert aus. Sorgen Sie dafür, daß doppelte Werte nicht ausgegeben werden.\n",
    "    - Wie können sie alle Werte in einer einzigen Ausgabenzeile kombinieren?\n",
    "    - Geben Sie das gesamte Dictionary (Schlüssel-Werte Paare) nach den Werten sortiert aus. "
   ]
  },
  {
   "cell_type": "code",
   "execution_count": null,
   "id": "4b0b50ed",
   "metadata": {},
   "outputs": [],
   "source": [
    "# Schreiben Sie Ihre Lösung hier hinein\n",
    "# Definieren Sie ein Dictionary mit mindestens 8 Schlüssel:Wert Paaren\n"
   ]
  },
  {
   "cell_type": "code",
   "execution_count": null,
   "id": "cb26489a",
   "metadata": {},
   "outputs": [],
   "source": [
    "# Geben Sie alle Schlüssel-Werte-Paare Zeilenweise aus.\n"
   ]
  },
  {
   "cell_type": "code",
   "execution_count": null,
   "id": "1739dd0a",
   "metadata": {},
   "outputs": [],
   "source": [
    "# Geben Sie alle Werte (nur die Werte) sortiert aus.\n",
    "# Sorgen Sie dafür, daß doppelte Werte nicht ausgegeben werden.\n"
   ]
  },
  {
   "cell_type": "code",
   "execution_count": null,
   "id": "d770ff83",
   "metadata": {},
   "outputs": [],
   "source": [
    "# Wie können sie alle Werte in einer einzigen Ausgabenzeile kombinieren?\n",
    "# Mehrere Lösungen möglich (print(), .values, eigene Variable, ..)\n"
   ]
  },
  {
   "cell_type": "code",
   "execution_count": null,
   "id": "52dc69cd",
   "metadata": {},
   "outputs": [],
   "source": [
    "# Geben Sie das gesamte Dictionary (Schlüssel-Werte Paare) nach den Werten sortiert aus.\n"
   ]
  },
  {
   "cell_type": "code",
   "execution_count": null,
   "id": "9eef495b",
   "metadata": {},
   "outputs": [],
   "source": [
    "### Comprehension für Dictionaries\n",
    "d = {i: \"XX\" for i in [1,2,3]}\n",
    "d = {int(i): 'XX'+i for i in '1234'}\n",
    "print(d)"
   ]
  },
  {
   "cell_type": "code",
   "execution_count": null,
   "id": "77c988a8-57bc-44f4-a138-67a7245be44e",
   "metadata": {},
   "outputs": [],
   "source": [
    "# Dictionaries zusammenfügen\n",
    "############################\n",
    "d1 = {'a':1,'b':2,'e':5}\n",
    "d2 = {'c':3,'d':4,'a':1,'e':6}\n",
    "dg = {*d1,*d2}\n",
    "print(f'ein Stern   : {dg} {type(dg)}')    # Nur Index\n",
    "dg = {**d1,**d2}\n",
    "print(f'zwei Sterne : {dg} {type(dg)}')    # Index und Wert, dictionary\n",
    "dg = {*d1.items(),*d2.items()}\n",
    "print(f'Items       : {dg} {type(dg)}')    # Index und Wert, set \n",
    "dg = [*d1.items(),*d2.items()]\n",
    "print(f'Items       : {dg} {type(dg)}')    # Index und Wert, list\n",
    "dg = (*d1.items(),*d2.items())\n",
    "print(f'Items       : {dg} {type(dg)}')    # Index und Wert, tuple\n",
    "list(dg)[2]\n"
   ]
  },
  {
   "cell_type": "code",
   "execution_count": null,
   "id": "a82fc8aa",
   "metadata": {},
   "outputs": [],
   "source": [
    "for i in '1,20,3'.split(','):\n",
    "    print(i)\n",
    "# Warum klappt das?\n",
    "'1,20,3'.split(',')   # Liste als Ergebnis"
   ]
  },
  {
   "cell_type": "code",
   "execution_count": null,
   "id": "cd0b607e",
   "metadata": {},
   "outputs": [],
   "source": [
    "l1 = [2,4,6,1,2,3]\n",
    "l2 = sorted(l1)     # Sortieren und neue Liste\n",
    "print('l2 :',l2)\n",
    "print('l1 :',l1)\n",
    "l1.sort()           # Liste l1 sortieren \n",
    "print('l1 :',l1)\n",
    "#print(sorted(l))\n"
   ]
  }
 ],
 "metadata": {
  "kernelspec": {
   "display_name": "Python 3 (ipykernel)",
   "language": "python",
   "name": "python3"
  },
  "language_info": {
   "codemirror_mode": {
    "name": "ipython",
    "version": 3
   },
   "file_extension": ".py",
   "mimetype": "text/x-python",
   "name": "python",
   "nbconvert_exporter": "python",
   "pygments_lexer": "ipython3",
   "version": "3.12.4"
  },
  "toc": {
   "base_numbering": 1,
   "nav_menu": {},
   "number_sections": true,
   "sideBar": true,
   "skip_h1_title": false,
   "title_cell": "Table of Contents",
   "title_sidebar": "Contents",
   "toc_cell": false,
   "toc_position": {},
   "toc_section_display": true,
   "toc_window_display": false
  },
  "varInspector": {
   "cols": {
    "lenName": 16,
    "lenType": 16,
    "lenVar": 40
   },
   "kernels_config": {
    "python": {
     "delete_cmd_postfix": "",
     "delete_cmd_prefix": "del ",
     "library": "var_list.py",
     "varRefreshCmd": "print(var_dic_list())"
    },
    "r": {
     "delete_cmd_postfix": ") ",
     "delete_cmd_prefix": "rm(",
     "library": "var_list.r",
     "varRefreshCmd": "cat(var_dic_list()) "
    }
   },
   "types_to_exclude": [
    "module",
    "function",
    "builtin_function_or_method",
    "instance",
    "_Feature"
   ],
   "window_display": false
  },
  "widgets": {
   "application/vnd.jupyter.widget-state+json": {
    "state": {},
    "version_major": 2,
    "version_minor": 0
   }
  }
 },
 "nbformat": 4,
 "nbformat_minor": 5
}
