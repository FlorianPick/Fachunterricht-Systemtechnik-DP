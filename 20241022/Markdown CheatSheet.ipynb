{
 "cells": [
  {
   "cell_type": "markdown",
   "id": "d306d3b6-fad4-4d53-abde-a19cca5dc7f3",
   "metadata": {},
   "source": [
    "# Markdown Cheat Sheet\n",
    "*Menü: View - Table of Contends oder Tastenkombination: CTRL + SHIFT + K*\n",
    "\n",
    "Quelle: [The Markdown Guide](https://www.markdownguide.org)!\n",
    "\n",
    "Dieser Markdown-CheatSheet bietet einen schnellen Überblick über alle gängigen Markdown-Syntaxelemente. Es ist nur ein kleiner Überblick der Möglichkeiten. Weitere Informationen finden sie z.B. hier:\n",
    "\n",
    "- [basic syntax](https://www.markdownguide.org/basic-syntax/)\n",
    "- [extended syntax](https://www.markdownguide.org/extended-syntax/)."
   ]
  },
  {
   "cell_type": "markdown",
   "id": "7873bca3-06e8-4bfb-804a-f857b40bbad4",
   "metadata": {},
   "source": [
    "Es gibt aber auch noch andere Möglichkeiten die Markdown Felder in Jupyter Notebook zu formatieren.  \n",
    "z.B:\n",
    "* HTML\n",
    "* LaTeX\n",
    " "
   ]
  },
  {
   "cell_type": "markdown",
   "id": "d5846fe6-e955-4da6-b14a-113a897edca4",
   "metadata": {},
   "source": [
    "# Basic Syntax\n",
    "\n",
    "Dies sind die Elemente, die in John Grubers ursprünglichem Designdokument skizziert sind. Alle Markdown-Anwendungen unterstützen diese Elemente."
   ]
  },
  {
   "cell_type": "markdown",
   "id": "a235fadc-0c92-4d10-a1dd-34e8cf5a1ea8",
   "metadata": {},
   "source": [
    "\n",
    "# Heading 1\n",
    "Funktioniert nur am Anfang einer Zeile. ##\n",
    "## Heading 2\n",
    "### Heading 3\n"
   ]
  },
  {
   "cell_type": "markdown",
   "id": "6e22c64d-b9cd-4894-ac63-aa7be0f21878",
   "metadata": {},
   "source": [
    "## Italic\n",
    "\n",
    "*Italicized text*\n",
    "\n",
    "## Bold\n",
    "\n",
    "**Bold text**\n",
    "\n",
    "## Bold + Italic\n",
    "\n",
    "***Bold + Italicised text***\n",
    "\n",
    "## Blockquote\n",
    "\n",
    "> blockquote\n"
   ]
  },
  {
   "cell_type": "markdown",
   "id": "9d76cc80-9574-4b01-96a8-d63f12cebec2",
   "metadata": {},
   "source": [
    "\n",
    "## Ordered List  \n",
    "\n",
    "1. First item\n",
    "2. Second item\n",
    "3. Third item\n",
    "\n",
    "## Unordered List\n",
    "\n",
    "- First item\n",
    "- Second item\n",
    "- Third item\n",
    "\n",
    "## Code\n",
    "\n",
    "`code in einer Zeile`\n",
    "\n",
    "## Horizontale Linie\n",
    "\n",
    "---\n",
    "\n"
   ]
  },
  {
   "cell_type": "markdown",
   "id": "3a31e329-d60e-4d2c-a508-ca72b4a1f5f7",
   "metadata": {},
   "source": [
    "\n",
    "\n",
    "\n",
    "## Link\n",
    "\n",
    "[Markdown Guide](https://www.markdownguide.org)\n",
    "\n",
    "## Image\n",
    "\n",
    "![alt text](https://www.markdownguide.org/assets/images/tux.png)\n",
    "\n",
    "### Image skalieren\n",
    "\n",
    "<img src=https://www.markdownguide.org/assets/images/tux.png width=\"300\" />\n",
    "\n"
   ]
  },
  {
   "cell_type": "markdown",
   "id": "cd7d509a-f9cd-4bea-99ca-fc27c71e434c",
   "metadata": {},
   "source": [
    "# Extended Syntax\n",
    "\n",
    "Diese Elemente erweitern den grundlegenden Syntax durch Hinzufügen zusätzlicher Funktionen. Diese Elemente werden nicht von allen Markdown-Anwendungen unterstützt.\n"
   ]
  },
  {
   "cell_type": "markdown",
   "id": "a651dd32-ee4f-4c55-97f2-ba37375e345c",
   "metadata": {},
   "source": [
    "## Tabelle (mit Formatierung)\n",
    "\n",
    "| Syntax | Description |\n",
    "| ----: | ------------- |\n",
    "| Header | Title |\n",
    "| Paragraph | Text |\n",
    "| XX | YYY |\n",
    "\n",
    "| Syntax | Description |\n",
    "| :--- | :---: |\n",
    "| Header | Title |\n",
    "| Paragraph     | Text |\n",
    "| XX | YYY |\n",
    "\n",
    "## Code Block\n",
    "\n",
    "```\n",
    "{\n",
    "  \"firstName\": \"John\",\n",
    "  \"lastName\": \"Smith\",\n",
    "  \"age\": 25\n",
    "}\n",
    "```\n",
    "\n",
    "## Fußnote\n",
    "\n",
    "Here's a sentence with a footnote. [^1]\n",
    "\n",
    "[^1]: This is the footnote.\n",
    "\n",
    "## My Great Heading {#custom-id}\n",
    "\n",
    "## Definition List\n",
    "\n",
    "term\n",
    ": definition\n",
    "\n",
    "## Strikethrough\n",
    "\n",
    "~~The world is flat.~~\n",
    "\n",
    "## Task List\n",
    "\n",
    "- [x] Write the press release\n",
    "- [ ] Update the website\n",
    "- [ ] Contact the media\n",
    "\n",
    "## Emoji\n",
    "Können in Jupyter Notebook per Cut and Paste eingefügt werden!   \n",
    "z.B.: https://emojikeyboard.org/  \n",
    "😘💔\n",
    "\n",
    "Der ebenfalls mögliche Weg bei anderen Anwendungen\n",
    "\n",
    "- That is so funny! :joy:  \n",
    "oder\n",
    "- Gone camping! :tent: Be back soon.\n",
    "\n",
    "**funktioniert nicht**"
   ]
  },
  {
   "cell_type": "markdown",
   "id": "2be2e25e-9473-46dd-81e2-3fb73a8c9e2d",
   "metadata": {},
   "source": [
    "## Escaping Zeichen\n",
    "Wenn Sie ein Literalzeichen anzeigen möchten, das andernfalls zum Formatieren von Text in einem Markdown-Dokument verwendet würde, fügen Sie vor dem Zeichen einen umgekehrten Schrägstrich (\\) hinzu.\n",
    "\n",
    "\\* Korrekte Darstellung mit Sternchen\n",
    "\n",
    "Ohne Escaping passiert folgendes:\n",
    "\n",
    "* Ohne Backslash ist die Ausgabe ein Listenenlement!\n",
    "\n",
    "Zeichen, die man quoten kann:\n",
    "\n",
    "|Zeichen |\tName|\n",
    "| --- | :--- |\n",
    "|\\ | backslash|\n",
    "|` |backtick (see also escaping backticks in code)|\n",
    "|* |asteriks|\n",
    "|_ |underscore|\n",
    "|{ } |curly braces|\n",
    "|[ ] |brackets|\n",
    "|< > |angle brackets|\n",
    "|( ) |parentheses|\n",
    "|# |pound sign|\n",
    "|+ |plus sign|\n",
    "|- |minus sign (hyphen)|\n",
    "|. |dot|\n",
    "|! |exclamation mark|\n",
    "|\\| |\tpipe (see also escaping pipe in tables)|"
   ]
  },
  {
   "cell_type": "markdown",
   "id": "67d0866b-7e41-43e9-891d-b0b4da75d636",
   "metadata": {},
   "source": [
    "# HTML\n",
    "\n",
    "HTML Code kann ebenfalls zur Formatierung in Markdown-Feldern verwendet werden.  \n",
    "\n",
    "Markup Code:  \n",
    "I just love **bold text**.  \n",
    "Italicized text is the *cat's meow*.  \n",
    "This text is ***really important***.  \n",
    "\n",
    "HTML Code:  \n",
    "I just love <strong>bold text</strong>.  \n",
    "Italicized text is the <em>cat's meow</em>.  \n",
    "This text is <em><strong>really important</strong></em>.  \n",
    "\n",
    "Dann geht es auch farbig!  \n",
    "This <font color=\"red\">text is <em><strong>really important</strong></em></font>.  \n"
   ]
  },
  {
   "cell_type": "markdown",
   "id": "331d52a3-4d9d-4a55-b870-07a5edeb303d",
   "metadata": {},
   "source": [
    "<h1>Inhaltsverzeichnis</h1>\n",
    "\n",
    "<div class=\"alert alert-block alert-info\" style=\"margin-top: 20px\">\n",
    "    <ol>\n",
    "        <li><a href=\"#1\">Verlinkung 1</a></li>\n",
    "        <li><a href=\"#2\">Verlinkung 2</a></li>\n",
    "        <li><a href=\"#3\">Verlinkung 3</a></li>\n",
    "        <li><a href=\"#4\">Verlinkung 4</a></li>\n",
    "        <li><a href=\"#5\">Verlinkung 5</a></li>\n",
    "    </ol>\n",
    "</div>\n",
    "<br>\n",
    "<hr>"
   ]
  },
  {
   "cell_type": "markdown",
   "id": "236a3d8d-82af-48ea-90f8-a2d759b5d47f",
   "metadata": {},
   "source": [
    "<div id=\"1\">\n",
    "    <h2>Verlinkung 1 HTML</h2>\n",
    "    <br>\n",
    "Text 1\n",
    "</div>"
   ]
  },
  {
   "cell_type": "markdown",
   "id": "f47e7895-4dd8-4c59-99c0-8177bca37b36",
   "metadata": {},
   "source": [
    "<div id=\"4\">\n",
    "    <h2>Verlinkung 4 HTML</h2>\n",
    "    <br>\n",
    "This <font color=\"red\">text is <em><strong>really important</strong></em></font>.\n",
    "</div>"
   ]
  },
  {
   "cell_type": "markdown",
   "id": "d374d3bf-d64a-43d0-85d3-bb448e7753cd",
   "metadata": {},
   "source": [
    "<div id=\"3\">\n",
    "    <h2>Verlinkung 3 HTML</h2>\n",
    "    <br>\n",
    "This <font color=\"green\">text is <em><strong>really important</strong></em></font>.\n",
    "</div>"
   ]
  },
  {
   "cell_type": "markdown",
   "id": "dccfca55-0a33-422f-8d3c-ee34ea5685ec",
   "metadata": {},
   "source": [
    "<div id=\"5\">\n",
    "    <h2>Verlinkung 5 HTML</h2>\n",
    "    <br>\n",
    "Text 5\n",
    "</div>"
   ]
  },
  {
   "cell_type": "markdown",
   "id": "bdfe4715-8f7a-4f00-8001-beaf6407a0fb",
   "metadata": {},
   "source": [
    "# LaTeX\n",
    "LaTeX ist ein plattformunabhängiges und freies Softwarepaket, das die Benutzung des Textsatzsystems TeX mit Hilfe von Makros vereinfacht. LaTeX ist eine Auszeichnungssprache und ein Dateiformat, um insbesondere Texte, die mathematische Formeln enthalten, zu schreiben und für den Druck oder die Bildschirmansicht zu formatieren.\n",
    "\n",
    "Beispiel:\n",
    "```\n",
    "\\begin{align}\n",
    "    E \\underset{Einstein}{=} m \\cdot c^2\n",
    "    \\underset{Pythagoras}{=} m \\cdot (a^2 + b^2)\n",
    "\\end{align}\n",
    "```\n",
    "\\begin{align}\n",
    "    E \\underset{Einstein}{=} m \\cdot c^2\n",
    "    \\underset{Pythagoras}{=} m \\cdot (a^2 + b^2)\n",
    "\\end{align}"
   ]
  },
  {
   "cell_type": "markdown",
   "id": "b4710ad6-9019-4e26-b7d4-d5e086b806b6",
   "metadata": {},
   "source": [
    "Weitere Informationen zu LaTeX finden sie z.B. unter:\n",
    "\n",
    "https://www.grund-wissen.de/informatik/latex/mathematischer-formelsatz.html"
   ]
  },
  {
   "cell_type": "markdown",
   "id": "a2daf90b-ab5f-4c88-8972-8cf20ff096b6",
   "metadata": {},
   "source": [
    "Kombinationen sind auch möglich. Einfach mal ausprobieren!\n",
    "\n",
    "<font color=\"red\">\n",
    "\\begin{align}\n",
    "    E \\underset{Einstein}{=} m \\cdot c^2\n",
    "    \\underset{Pythagoras}{=} m \\cdot (a^2 + b^2)\n",
    "\\end{align}\n",
    "</font>"
   ]
  }
 ],
 "metadata": {
  "kernelspec": {
   "display_name": "Python 3 (ipykernel)",
   "language": "python",
   "name": "python3"
  },
  "language_info": {
   "codemirror_mode": {
    "name": "ipython",
    "version": 3
   },
   "file_extension": ".py",
   "mimetype": "text/x-python",
   "name": "python",
   "nbconvert_exporter": "python",
   "pygments_lexer": "ipython3",
   "version": "3.12.4"
  },
  "widgets": {
   "application/vnd.jupyter.widget-state+json": {
    "state": {},
    "version_major": 2,
    "version_minor": 0
   }
  }
 },
 "nbformat": 4,
 "nbformat_minor": 5
}
