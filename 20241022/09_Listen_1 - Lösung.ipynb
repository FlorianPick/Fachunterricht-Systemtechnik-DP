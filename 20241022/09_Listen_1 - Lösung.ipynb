{
 "cells": [
  {
   "cell_type": "markdown",
   "metadata": {},
   "source": [
    "# Sequenzen\n",
    "\n",
    "- String: text\n",
    "- Listen\n",
    "- Tuple\n",
    "- Dictionary\n",
    "- Set\n",
    "\n",
    "Wenn wir eine Berechnung durchführen oder irgendeine Art von Operation mit einer Reihe von Objekten ausführen müssen, die eine bestimmte Beziehung zueinander haben, können wir Sequenzen verwenden."
   ]
  },
  {
   "cell_type": "markdown",
   "metadata": {},
   "source": [
    "### Warmup\n",
    "**Schülerin \"Una\"** hat 4 Fächer in der Schule: **Mathe, Kunst, Physik, Sport** und sie hat folgende Punktzahlen: **4, 5, 3 und 4**.\n",
    "\n",
    "Wir wollen den Punktedurchschnitt berechnen.\n",
    "\n",
    "Dafür müssen wir die Summe der Punkte berechnen und dann diese durch 4 teilen.\n",
    "\n",
    "Die Summe: 4+5+3+4 = 16\n",
    "\n",
    "Der Durchschnitt. 16 / 4 = 4\n"
   ]
  },
  {
   "cell_type": "code",
   "execution_count": null,
   "metadata": {},
   "outputs": [],
   "source": [
    "# Die Noten einzelnen Variablen zuweisen\n",
    "math = 4\n",
    "arts = 5\n",
    "physics = 3\n",
    "sport = 4"
   ]
  },
  {
   "cell_type": "code",
   "execution_count": null,
   "metadata": {},
   "outputs": [],
   "source": [
    "sum_of_scores = math + arts + physics + sport\n",
    "print('Die Summe der Punkte ist: ',sum_of_scores)"
   ]
  },
  {
   "cell_type": "code",
   "execution_count": null,
   "metadata": {},
   "outputs": [],
   "source": [
    "average = sum_of_scores/4\n",
    "print('Der Punktedurchschnitt beträgt: ', average)"
   ]
  },
  {
   "cell_type": "markdown",
   "metadata": {},
   "source": [
    "# Listen\n",
    "\n",
    "Eine Liste ist eine geordnete Art, verschiedene Objekte zusammen zu speichern, wenn sie in irgendeiner Beziehung zueinander stehen. Zum Beispiel gehören alle oben genannten Ergebnisse einem Schüler, sodass wir sie in einer Liste in Python speichern können:\n",
    "```python\n",
    "una = [4, 5, 3, 4]\n",
    "```"
   ]
  },
  {
   "cell_type": "code",
   "execution_count": null,
   "metadata": {},
   "outputs": [],
   "source": [
    "una = [4, 5, 3, 4]\n",
    "print(type(una)) # Der Python Typ der Liste una\n",
    "print(una)"
   ]
  },
  {
   "cell_type": "markdown",
   "metadata": {},
   "source": [
    "Die Objekte in einer Liste können jeden beliebigen Typ haben und es können beliebig viele sein (**keine Begrenzung**). Diese werden als **Elemente** bezeichnet.\n",
    "\n",
    "#### Leere Liste erstellen:"
   ]
  },
  {
   "cell_type": "code",
   "execution_count": null,
   "metadata": {},
   "outputs": [],
   "source": [
    "mylist = []    # Eine leere Liste anlegen\n",
    "print(type(mylist))\n",
    "print(mylist)"
   ]
  },
  {
   "cell_type": "code",
   "execution_count": null,
   "metadata": {},
   "outputs": [],
   "source": [
    "mylist1 = list()  # list(): Funktion zum anlegen einer Liste\n",
    "print(type(mylist1))\n",
    "print(mylist1)"
   ]
  },
  {
   "cell_type": "markdown",
   "metadata": {},
   "source": [
    "#### Vorteile\n",
    "\n",
    "- eingebaute Funktionen\n",
    "- Methoden und Funktionen zur Verarbeitung von Listen"
   ]
  },
  {
   "cell_type": "markdown",
   "metadata": {},
   "source": [
    "**eingebaute Funktionen**\n",
    "\n",
    "Beispiel: Wie viele Elemente enthält eine Liste? <code>len()</code>:"
   ]
  },
  {
   "cell_type": "code",
   "execution_count": null,
   "metadata": {},
   "outputs": [],
   "source": [
    "una = [4, 5, 3, 4]\n",
    "print(una)\n",
    "print(len(una))            # wieviele Elemente befinden sich aktuell in der Liste?"
   ]
  },
  {
   "cell_type": "markdown",
   "metadata": {},
   "source": [
    "Beispiel: Summe aller Listenelemente berechnen: <code>sum()</code>"
   ]
  },
  {
   "cell_type": "code",
   "execution_count": null,
   "metadata": {},
   "outputs": [],
   "source": [
    "sum(una)     # Summe aller Listenelemente wenn alle Elemente Zahlen sind"
   ]
  },
  {
   "cell_type": "code",
   "execution_count": null,
   "metadata": {},
   "outputs": [],
   "source": [
    "una.append('XX')     # Neues Element an Liste anhängen\n",
    "print(una)"
   ]
  },
  {
   "cell_type": "code",
   "execution_count": null,
   "metadata": {},
   "outputs": [],
   "source": [
    "print (una)           # Fehler simulieren\n",
    "print(sum(una))       # Summe über alle Listenelemente berechnen --> Fehler\n",
    "#print(sum(una[0:4]))  # Summe über Listenelemente 1 bis 4 berechnen\n",
    "#print(una[:4])"
   ]
  },
  {
   "cell_type": "markdown",
   "metadata": {},
   "source": [
    "Jetzt können wir den Durchschnitt der Punktzahlen wie folgt berechnen:"
   ]
  },
  {
   "cell_type": "code",
   "execution_count": null,
   "metadata": {},
   "outputs": [],
   "source": [
    "una = [4, 5, 3, 4]\n",
    "avg = sum(una)/len(una) # Berechne die durchschnittliche Punktezahl\n",
    "print(avg)"
   ]
  },
  {
   "cell_type": "markdown",
   "metadata": {},
   "source": [
    "Natürlich sind in diesem Beispiel alle Elemente in der Liste Zahlen. Eine Liste kann auch andere Arten von Elementen haben:"
   ]
  },
  {
   "cell_type": "markdown",
   "metadata": {},
   "source": [
    "### Zugriff auf Elemente über ihren _index_\n",
    "\n",
    "Index ist eine Zahl, die die Position jedes Elements in der Liste anzeigt. Indizes beginnen mit **0**. Das bedeutet, dass das allererste Element in einer Liste den **Index 0** hat."
   ]
  },
  {
   "cell_type": "code",
   "execution_count": null,
   "metadata": {},
   "outputs": [],
   "source": [
    "colors = ['red', 'blue', 'yellow', 'black', 'yellow']\n",
    "colors[0] # Welches ist das erste Element der Liste? (index 0)"
   ]
  },
  {
   "cell_type": "code",
   "execution_count": null,
   "metadata": {},
   "outputs": [],
   "source": [
    "len(colors)   # Anzahl der Elemente in der Liste"
   ]
  },
  {
   "cell_type": "markdown",
   "metadata": {},
   "source": [
    "Die Liste hat 5 Elemente, wie heißt das letzte Element?"
   ]
  },
  {
   "cell_type": "code",
   "execution_count": null,
   "metadata": {},
   "outputs": [],
   "source": [
    "print(colors[0]) # Da der Index mit 0 beginnt: 0, 1, 2, 3, 4\n",
    "print(colors[len(colors)-1])   # Anzahl der Elemente -1, da Index bei 0 beginnt und nicht bei 1!"
   ]
  },
  {
   "cell_type": "markdown",
   "metadata": {},
   "source": [
    "### Negative Indexierung\n",
    "\n",
    "Wir können auch einen negativen Index verwenden, um auf ein Element zuzugreifen. Das letzte Element hat immer den Index ```-1```"
   ]
  },
  {
   "cell_type": "code",
   "execution_count": null,
   "metadata": {},
   "outputs": [],
   "source": [
    "print(colors)\n",
    "print('letztes Element:   ',colors[-1]) # das letzte Element\n",
    "print('vorletztes Element:',colors[-2]) # das vorletzte Element\n"
   ]
  },
  {
   "cell_type": "markdown",
   "metadata": {},
   "source": [
    "Was passiert, wenn wir versuchen, auf ein Element zuzugreifen, das nicht in der Liste vorhanden ist?"
   ]
  },
  {
   "cell_type": "code",
   "execution_count": null,
   "metadata": {},
   "outputs": [],
   "source": [
    "colors[5] # IndexError: list index out of range"
   ]
  },
  {
   "cell_type": "markdown",
   "metadata": {},
   "source": [
    "### Die Indizierung funktioniert genauso auch für Strings:"
   ]
  },
  {
   "cell_type": "markdown",
   "metadata": {},
   "source": [
    "<img src='indexing.png' style='width:450px;'/>"
   ]
  },
  {
   "cell_type": "code",
   "execution_count": null,
   "metadata": {},
   "outputs": [],
   "source": [
    "x = 'python'\n",
    "\n",
    "# to findout/access the first character\n",
    "#print(x[3])\n",
    "#print(x[1:4])   # Zeichen von Index 1 bis Index 3!\n",
    "#print(len(x))\n",
    "print('python'[0:3])    # direkt auf einen String indexieren"
   ]
  },
  {
   "cell_type": "code",
   "execution_count": null,
   "metadata": {},
   "outputs": [],
   "source": [
    "# what is the 3rd character in x?\n",
    "x[2] # 0, 1, 2"
   ]
  },
  {
   "cell_type": "markdown",
   "metadata": {},
   "source": [
    "### Verschachtelte Listen\n",
    "\n",
    "Verschachtelte Listen sind Listen, die Listen als Elemente enthalten!\n",
    "\n",
    "Angenommen, wir möchten einige Gruppen von Schülern in einer Klasse bilden:"
   ]
  },
  {
   "cell_type": "code",
   "execution_count": null,
   "metadata": {},
   "outputs": [],
   "source": [
    "# Verschachtelte Liste\n",
    "mygroups = [['Daniel','Robert','Alaa'], # Gruppe 1\n",
    "          ['Una', 'Benjamin','Paula'],  # Gruppe 2\n",
    "          ['Sima', 'Emtiaz', 'Wissam']] # Gruppe 3"
   ]
  },
  {
   "cell_type": "code",
   "execution_count": null,
   "metadata": {},
   "outputs": [],
   "source": [
    "print(mygroups)\n",
    "print(mygroups[2]) # Aufrufen der 1. Gruppe (Index: 0, 1 and 2)\n",
    "print(type(mygroups[2]))"
   ]
  },
  {
   "cell_type": "code",
   "execution_count": null,
   "metadata": {},
   "outputs": [],
   "source": [
    "mygroups[0][0] # Wer ist der 1. Name der 1. Liste?"
   ]
  },
  {
   "cell_type": "markdown",
   "metadata": {},
   "source": [
    "( ) Parantheses (runde Klammer)  \n",
    "[ ] Brackets (eckige Klammer)"
   ]
  },
  {
   "cell_type": "markdown",
   "metadata": {},
   "source": [
    "## Wie wird eine Liste in Pythons 'Speicher' gespeichert?"
   ]
  },
  {
   "cell_type": "markdown",
   "metadata": {},
   "source": [
    "Die Elemente, die wir innerhalb einer Liste „sehen“, werden tatsächlich unabhängig voneinander an anderer Stelle im Speicher gespeichert. Wir erstellen einen Listencontainer mit einigen Platzhaltern mit Indizes und zeigen nur auf diese Objekte:\n",
    "<img src='list_inside.png' style='width:450px;'/>"
   ]
  },
  {
   "cell_type": "code",
   "execution_count": null,
   "metadata": {},
   "outputs": [],
   "source": [
    "fruits = ['apple', 'orange', 'banana', 'cherry', 'pine', 'avocado'] "
   ]
  },
  {
   "cell_type": "markdown",
   "metadata": {},
   "source": [
    "## Slicing/Schneiden\n",
    "eine Art „Brille“ aufsetzen, um nur einen Teil von etwas zu sehen:"
   ]
  },
  {
   "cell_type": "code",
   "execution_count": null,
   "metadata": {},
   "outputs": [],
   "source": [
    "len(fruits)"
   ]
  },
  {
   "cell_type": "markdown",
   "metadata": {},
   "source": [
    "Mich interessieren nur die ersten drei Elemente:"
   ]
  },
  {
   "cell_type": "code",
   "execution_count": null,
   "metadata": {},
   "outputs": [],
   "source": [
    "print(fruits[0:3]) # zeige die Elemente index 0, 1 and 2 - 3 ist nicht dabei!!\n",
    "print(fruits)\n",
    "print(fruits[2:])  # ab Index 2 bis zum Ende\n",
    "print(fruits[:3])  # ab Index 0 --> entspricht 1. Zeile"
   ]
  },
  {
   "cell_type": "markdown",
   "metadata": {},
   "source": [
    "Mittels Slicing erzeugen wir lediglich eine neue Ansicht einer Liste (String). Wir ändern die ursprüngliche Liste (String) nicht"
   ]
  },
  {
   "cell_type": "code",
   "execution_count": null,
   "metadata": {},
   "outputs": [],
   "source": [
    "x = fruits[2:]\n",
    "print(type(x), '\\n', x)\n",
    "print(x[1])              # x ist eine Liste --> Zugriff über Index möglich!\n",
    "print(fruits)"
   ]
  },
  {
   "cell_type": "code",
   "execution_count": null,
   "metadata": {},
   "outputs": [],
   "source": [
    "print('python'[0:3]) # the first 3 characters\n",
    "#print('python'[:3]) # the first 3 characters   # Alternativ"
   ]
  },
  {
   "cell_type": "code",
   "execution_count": null,
   "metadata": {},
   "outputs": [],
   "source": [
    "len('Python')"
   ]
  },
  {
   "cell_type": "code",
   "execution_count": null,
   "metadata": {},
   "outputs": [],
   "source": [
    "zahlen = ['null', 'eins', 'zwei', 'drei', 'vier', 'fünf', 'sechs', 'sieben', 'acht', 'neun']\n",
    "# geben sie die Anzahl der Elemente der Liste aus\n",
    "print(len(zahlen))\n",
    "# geben Sie die ersten 3 Elemente der Liste aus (mehrere Lösungen)\n",
    "print('### Ersten 3 Elemente ###')\n",
    "print(zahlen[0:3])\n",
    "print(zahlen[:3])\n",
    "# geben Sie 3 Elemente aus der Mitte der Liste aus (mehrere Lösungen)\n",
    "print('### 3 Elemente in der Mitte ###')\n",
    "print(zahlen[3:6])\n",
    "print(zahlen[-7:-4])\n",
    "print(zahlen[len(zahlen)-6:len(zahlen)-3])\n",
    "print('1/3 von LEN() ',int(len(zahlen)/3))\n",
    "print('Mit Modulo : ', zahlen[len(zahlen)//2 -1:len(zahlen)//2 + 2])\n",
    "print(zahlen[int(len(zahlen)/3):int(len(zahlen)/3)+3]) # Berechnet als int()\n",
    "# geben Sie die letzten 4 Elemente der Liste (mehrere Lösungen)\n",
    "print('### 4 letzten Elemente ###')\n",
    "print(zahlen[6:10])\n",
    "print(zahlen[len(zahlen)-4:])\n",
    "print(zahlen[-4:])\n",
    "print('### letztes Element ###')\n",
    "print(zahlen[-1])-1\n",
    "print(zahlen[len(zahlen)-1])\n",
    "print('### Anzeige mit Schrittweite ###')\n",
    "print(zahlen[::3])\n",
    "print(zahlen[-1::-3])"
   ]
  }
 ],
 "metadata": {
  "hide_input": false,
  "kernelspec": {
   "display_name": "Python 3 (ipykernel)",
   "language": "python",
   "name": "python3"
  },
  "language_info": {
   "codemirror_mode": {
    "name": "ipython",
    "version": 3
   },
   "file_extension": ".py",
   "mimetype": "text/x-python",
   "name": "python",
   "nbconvert_exporter": "python",
   "pygments_lexer": "ipython3",
   "version": "3.12.4"
  },
  "toc": {
   "base_numbering": 1,
   "nav_menu": {},
   "number_sections": true,
   "sideBar": true,
   "skip_h1_title": false,
   "title_cell": "Table of Contents",
   "title_sidebar": "Contents",
   "toc_cell": false,
   "toc_position": {},
   "toc_section_display": true,
   "toc_window_display": false
  },
  "varInspector": {
   "cols": {
    "lenName": 16,
    "lenType": 16,
    "lenVar": 40
   },
   "kernels_config": {
    "python": {
     "delete_cmd_postfix": "",
     "delete_cmd_prefix": "del ",
     "library": "var_list.py",
     "varRefreshCmd": "print(var_dic_list())"
    },
    "r": {
     "delete_cmd_postfix": ") ",
     "delete_cmd_prefix": "rm(",
     "library": "var_list.r",
     "varRefreshCmd": "cat(var_dic_list()) "
    }
   },
   "types_to_exclude": [
    "module",
    "function",
    "builtin_function_or_method",
    "instance",
    "_Feature"
   ],
   "window_display": false
  },
  "widgets": {
   "application/vnd.jupyter.widget-state+json": {
    "state": {},
    "version_major": 2,
    "version_minor": 0
   }
  }
 },
 "nbformat": 4,
 "nbformat_minor": 4
}
