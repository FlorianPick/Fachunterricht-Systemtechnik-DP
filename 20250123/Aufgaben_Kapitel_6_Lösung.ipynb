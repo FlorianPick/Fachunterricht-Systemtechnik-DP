{
 "cells": [
  {
   "cell_type": "markdown",
   "id": "d5740e00",
   "metadata": {},
   "source": [
    "# Aufgaben Kapitel 6\n",
    "## Aufgabe 6.1  \n",
    "\n",
    "Untersuchen Sie die CSV-Datei iris-semicolon.csv aus dem Listing-Verzeichnis zu diesem Kapitel und importieren Sie diese.\n"
   ]
  },
  {
   "cell_type": "code",
   "execution_count": null,
   "id": "2699cb3d",
   "metadata": {},
   "outputs": [],
   "source": [
    "import csv\n",
    "# Schreiben Sie hier Ihren Programmcode\n",
    "# Sniffer-Instanz erzeugen\n",
    "sniffer = csv.Sniffer()\n",
    "# Schleife über die zu prüfenden Dateien\n",
    "csv_filename = 'iris-semicolon.csv'\n",
    "#print(csv_filename)\n",
    "with open(csv_filename, 'r', newline = '') as csv_file:\n",
    "    # Die ersten 1024 Byte der Datei lesen\n",
    "    chunk = csv_file.read(1024)\n",
    "    # Prüfen, ob die Datei einen Header hat\n",
    "    header = sniffer.has_header(chunk)\n",
    "    print(f\"- Header: {header}\")\n",
    "    # CSV-Konfiguration (Dialect) ermitteln\n",
    "    dialect = sniffer.sniff(chunk)\n",
    "    # Beispielhaft das ermittelte Trennzeichen ausgeben\n",
    "    print(f\"- Trennzeichen: {repr(dialect.delimiter)}\")\n",
    "    # Wichtig: Datei \"zurückspulen\"\n",
    "    csv_file.seek(0)\n",
    "    # Reader mit dem ermittelten Dialect initialisieren\n",
    "    reader = csv.reader(csv_file, dialect)\n",
    "    # Falls Header vorhanden, überspringen (oder wegspeichern)\n",
    "    if header:\n",
    "        header_data = next(reader, None)\n",
    "        print(\"- Spaltentitel:\", header_data)\n",
    "    iris_data = list(reader)\n",
    "    print(f\"{len(iris_data)} Datensätze importiert.\")\n",
    "    print(iris_data[0])\n",
    "    print(iris_data[50])\n",
    "    print(iris_data[100])"
   ]
  },
  {
   "cell_type": "code",
   "execution_count": null,
   "id": "085db704",
   "metadata": {},
   "outputs": [],
   "source": [
    "# Kurzversion mit Pandas\n",
    "import pandas as pd\n",
    "\n",
    "iris_c = pd.read_csv('iris-semicolon.csv', sep=';')\n",
    "print(f\"{len(iris_c)} Datensätze importiert.\")\n",
    "print(iris_c.iloc[[0]])\n",
    "print(iris_c.iloc[[50]])\n",
    "print(iris_c.iloc[[100]])\n"
   ]
  },
  {
   "cell_type": "markdown",
   "id": "f8a39e73",
   "metadata": {},
   "source": [
    "## Aufgabe 6.2  \n",
    "Untersuchen Sie die XML-Datei iris-mixed.xml aus dem Listing-Verzeichnis und importieren Sie diese."
   ]
  },
  {
   "cell_type": "code",
   "execution_count": null,
   "id": "72167cd9",
   "metadata": {},
   "outputs": [],
   "source": [
    "# Schreiben Sie hier Ihren Programmcode\n",
    "# Im DPA-Buch Kapitel 6.1.3 ab Seite 305\n",
    "from xml.etree import ElementTree\n",
    "\n",
    "doc = ElementTree.parse('iris-mixed.xml')\n",
    "root = doc.getroot()\n",
    "irises = []\n",
    "for iris in root.findall('iris'):\n",
    "    iris_type = iris.attrib['type']\n",
    "    sepal = iris.find('sepal')\n",
    "    sepal_length = sepal.attrib['length']\n",
    "    sepal_width = sepal.attrib['width']\n",
    "    petal = iris.find('petal')\n",
    "    petal_length = petal.attrib['length']\n",
    "    petal_width = petal.attrib['width']\n",
    "    irises.append([\n",
    "        float(sepal_length),\n",
    "        float(sepal_width),\n",
    "        float(petal_length),\n",
    "        float(petal_width),\n",
    "        iris_type\n",
    "    ])\n",
    "print(f\"{len(irises)} Datensätze importiert.\")\n",
    "print(irises[0])\n",
    "print(irises[50])\n",
    "print(irises[100])"
   ]
  },
  {
   "cell_type": "markdown",
   "id": "66900e8e",
   "metadata": {},
   "source": [
    "## Aufgabe 6.3\n",
    "Laden Sie die Datei sample.txt aus dem Listing-Verzeichnis, zerlegen Sie sie in einzelne Zeilen, und erstellen Sie aus diesen verschiedene Bag-of-Words- und N-Gramm-Modelle."
   ]
  },
  {
   "cell_type": "code",
   "execution_count": null,
   "id": "535e2023",
   "metadata": {
    "scrolled": true
   },
   "outputs": [],
   "source": [
    "# Schreiben Sie hier Ihren Programmcode\n",
    "from sklearn.feature_extraction.text import CountVectorizer\n",
    "import numpy as np\n",
    "#import re\n",
    "#EXCLUDE = re.compile('[^0-9 a-zäöüß]+')\n",
    "#BLANKS = re.compile(' +')\n",
    "\n",
    "# def normalize(text):\n",
    "#     # Kleinschreibung\n",
    "#     text = text.lower()\n",
    "#     # Sonderzeichen ersetzen\n",
    "#     text = EXCLUDE.sub(' ', text)\n",
    "#     # Mehrere Leerzeichen durch ein Leerzeichen ersetzen\n",
    "#     text = BLANKS.sub(' ', text)\n",
    "#     return text\n",
    "##################\n",
    "### M A I N ######\n",
    "##################\n",
    "with open('sample_OK.txt', encoding=\"utf-8\") as file: # korrekte Umlaute\n",
    "#with open('sample.txt', encoding=\"utf-8\") as file:    # zusammengesetzte Umlaute\n",
    "    text1  = []\n",
    "    for i in file:\n",
    "#        text1.append(normalize(i))\n",
    "        text1.append(i)\n",
    "file.close()       \n",
    "s_data = np.array(text1)\n",
    "#print(s_data)\n",
    "vectorizer = CountVectorizer(strip_accents = 'unicode')   # Normalisierung und Kleinschreibung (Standard(lowercase=True))\n",
    "bag_of_words = vectorizer.fit_transform(s_data)\n",
    "#print(bag_of_words.toarray())\n",
    "print('Features :\\n',vectorizer.get_feature_names_out(),\\\n",
    "      '\\nAnzahl der Features : ', len(vectorizer.get_feature_names_out()))"
   ]
  },
  {
   "cell_type": "code",
   "execution_count": null,
   "id": "a165bb19",
   "metadata": {},
   "outputs": [],
   "source": [
    "s_words = [\"der\", \"die\", \"das\", \"des\", \"dem\", \"den\", \"oder\", \"aber\", \"auch\", \"ist\", \"hat\", \"mit\", \"sind\", \"und\", \"von\",\n",
    "        \"ab\", \"alle\", \"an\", \"auf\", \"aus\", \"da\", \"ein\", \"es\", \"den\", \"fur\", \"in\", \"nur\", \"ob\", \"of\", \"sie\", \"um\", \"vom\",\n",
    "        \"zu\", \"um\" ]\n",
    "vectorizer1 = CountVectorizer(stop_words = s_words, strip_accents = 'unicode')\n",
    "#vectorizer1 = CountVectorizer(stop_words = s_words)\n",
    "bag_of_words1 = vectorizer1.fit_transform(s_data)\n",
    "#print(bag_of_words1.toarray())\n",
    "print('Features :\\n',vectorizer1.get_feature_names_out(),\\\n",
    "      '\\nAnzahl der Features : ', len(vectorizer1.get_feature_names_out()))"
   ]
  },
  {
   "cell_type": "code",
   "execution_count": null,
   "id": "1ac27ed4",
   "metadata": {},
   "outputs": [],
   "source": [
    "vectorizer2 = CountVectorizer(stop_words = s_words, strip_accents = 'unicode', ngram_range = (2, 2))\n",
    "bigrams = vectorizer2.fit_transform(s_data)\n",
    "#bigrams.toarray()\n",
    "print('Bigramme :\\n',vectorizer2.get_feature_names_out(),\\\n",
    "      '\\nAnzahl der Bigramme : ', len(vectorizer2.get_feature_names_out()))"
   ]
  },
  {
   "cell_type": "code",
   "execution_count": null,
   "id": "9138aadc",
   "metadata": {},
   "outputs": [],
   "source": [
    "vectorizer3 = CountVectorizer(stop_words = s_words, strip_accents = 'unicode', ngram_range = (3, 3))\n",
    "trigrams = vectorizer3.fit_transform(s_data)\n",
    "#trigrams.toarray()\n",
    "print('Trigramme :\\n',vectorizer3.get_feature_names_out(),\\\n",
    "      '\\nAnzahl der Trigramme : ', len(vectorizer3.get_feature_names_out()))"
   ]
  },
  {
   "cell_type": "markdown",
   "id": "a6b62024",
   "metadata": {},
   "source": [
    "## Aufgabe 6.4\n",
    "Überführen Sie die Wohnungsdaten aus der Datei size-rent.csv in eine SQLite3-Datenbanktabelle. Führen Sie Auswahlabfragen durch, um die höchste Miete, die niedrigste Miete, die Durchschnittsmiete und die Anzahl der Wohnungen zu ermitteln, jeweils pro Zimmeranzahl und insgesamt."
   ]
  },
  {
   "cell_type": "code",
   "execution_count": null,
   "id": "41d97c29",
   "metadata": {},
   "outputs": [],
   "source": [
    "# Schreiben Sie hier Ihren Programmcode\n"
   ]
  },
  {
   "cell_type": "markdown",
   "id": "ed398e64",
   "metadata": {},
   "source": [
    "## Aufgabe 6.5\n",
    "Schreiben Sie eine Funktion, die ein Graustufenbild und einen Integerwert als Argumente entgegennimmt. Zunächst soll sie die Dimensionen des Bild-Arrays überprüfen und herausfinden, ob es Hoch- oder Querformat hat. Je nachdem soll sie oben\n",
    "und unten beziehungsweise rechts und links so viel wegschneiden, dass sich ein quadratisches Bild ergibt. Anschließend soll dieses Bild auf die durch den Integerwert angegebene Höhe und Breite herunterskaliert werden, und das umgerechnete Ergebnis soll zurückgegeben werden.  \n",
    "Probieren Sie die fertige Funktion mit verschiedenen Bildern aus."
   ]
  },
  {
   "cell_type": "code",
   "execution_count": null,
   "id": "8a5e1d26",
   "metadata": {},
   "outputs": [],
   "source": [
    "# Schreiben Sie hier Ihren Programmcode\n",
    "from skimage.io import imread, imshow\n",
    "from skimage.transform import resize"
   ]
  },
  {
   "cell_type": "code",
   "execution_count": null,
   "id": "37081970",
   "metadata": {},
   "outputs": [],
   "source": [
    "def im_cut(image, size=20):\n",
    "    if size > 100:\n",
    "#        print(f\"Resultierende Größe ({size}) zu groß. (>100!)\")\n",
    "        return f\"Resultierende Größe ({size}) zu groß. (maximal 100!)\"\n",
    "    cw = ch = 0                           # Hilfsvariablen Image Höhe und Breite\n",
    "    h, w = image.shape\n",
    "    print('Abmessungen \\t| Zielgröße\\n', h, 'x', w,'\\t| ', size)\n",
    "    if h > w:\n",
    "        ch = (h - w)//2 \n",
    "        cropped=image[ch:ch+w, 0:w]\n",
    "    else:\n",
    "        cw = (w - h)//2\n",
    "        cropped=image[0:h, cw:cw+h]\n",
    "    qh, qw = cropped.shape\n",
    "    print('Quadrat-Grösse\\n', qh, 'x', qw )\n",
    "    resized = resize(cropped, (size, size))\n",
    "    imshow(resized)\n",
    "    return 'OK'\n",
    "###########################\n",
    "### M A I N ###############\n",
    "###########################\n",
    "\n",
    "image = imread(\"schnecke.jpg\", as_gray = True)\n",
    "image1 = imread(\"katze1.jpg\", as_gray = True)\n",
    "image2 = imread(\"katze.jpg\", as_gray = True)\n",
    "#imshow(\"schnecke.jpg\")\n",
    "#imshow(imread(\"katze1.jpg\"))\n",
    "#imshow(\"katze.jpg\")\n",
    "#ret = im_cut(image,25)\n",
    "ret = im_cut(image1,20)\n",
    "#ret = im_cut(image2,50)\n",
    "print('Returnwert:',ret)"
   ]
  }
 ],
 "metadata": {
  "kernelspec": {
   "display_name": "Python 3 (ipykernel)",
   "language": "python",
   "name": "python3"
  },
  "language_info": {
   "codemirror_mode": {
    "name": "ipython",
    "version": 3
   },
   "file_extension": ".py",
   "mimetype": "text/x-python",
   "name": "python",
   "nbconvert_exporter": "python",
   "pygments_lexer": "ipython3",
   "version": "3.12.4"
  },
  "toc": {
   "base_numbering": 1,
   "nav_menu": {},
   "number_sections": true,
   "sideBar": true,
   "skip_h1_title": false,
   "title_cell": "Table of Contents",
   "title_sidebar": "Contents",
   "toc_cell": false,
   "toc_position": {},
   "toc_section_display": true,
   "toc_window_display": false
  },
  "varInspector": {
   "cols": {
    "lenName": 16,
    "lenType": 16,
    "lenVar": 40
   },
   "kernels_config": {
    "python": {
     "delete_cmd_postfix": "",
     "delete_cmd_prefix": "del ",
     "library": "var_list.py",
     "varRefreshCmd": "print(var_dic_list())"
    },
    "r": {
     "delete_cmd_postfix": ") ",
     "delete_cmd_prefix": "rm(",
     "library": "var_list.r",
     "varRefreshCmd": "cat(var_dic_list()) "
    }
   },
   "types_to_exclude": [
    "module",
    "function",
    "builtin_function_or_method",
    "instance",
    "_Feature"
   ],
   "window_display": false
  },
  "widgets": {
   "application/vnd.jupyter.widget-state+json": {
    "state": {},
    "version_major": 2,
    "version_minor": 0
   }
  }
 },
 "nbformat": 4,
 "nbformat_minor": 5
}
