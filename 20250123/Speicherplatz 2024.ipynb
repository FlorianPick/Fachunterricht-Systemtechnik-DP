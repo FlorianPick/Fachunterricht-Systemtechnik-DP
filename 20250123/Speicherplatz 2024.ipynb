{
 "cells": [
  {
   "cell_type": "markdown",
   "id": "classified-switch",
   "metadata": {},
   "source": [
    "# Pandas - der optimale in-memory Speicherplatz\n",
    "\n",
    "In Python/Pandas werden die Datentypen und die Größe des Speicherplatzes automatisch festgelegt. Die Festlegung erfolgt dabei nicht immer optimal. Weiterhin können aufgrund fehlender Werte die Datentypen und Speicherplätze zu groß gewählt werden. Nach Bereinigung der fehlenden Werte sind die Datentypen/Speicherplätze anzupassen.\n",
    "\n",
    "Die offizielle Dokumentation in Pandas zu diesem Thema findest du unter folgendem Link:\n",
    "\n",
    "https://pandas.pydata.org/docs/user_guide/scale.html#use-efficient-datatypes\n",
    "\n",
    "In diesem Notebook schauen wir uns folgende Themen an:\n",
    "        \n",
    "                                                        - Wie identifiziere ich die richtigen Datentypen?\n",
    "                                                        - Wie identifiziere ich den richtigen Speicherplatz?\n",
    "                                                        \n",
    "                                                        \n",
    "## Wie identifiziere ich die richtigen Datentypen?"
   ]
  },
  {
   "cell_type": "code",
   "execution_count": null,
   "id": "animal-teaching",
   "metadata": {},
   "outputs": [],
   "source": [
    "# benötigte bib importieren\n",
    "    \n",
    "import pandas as pd \n",
    "import seaborn as sns\n",
    "import numpy as np"
   ]
  },
  {
   "cell_type": "code",
   "execution_count": null,
   "id": "0638b173",
   "metadata": {},
   "outputs": [],
   "source": [
    "sns.get_dataset_names()"
   ]
  },
  {
   "cell_type": "code",
   "execution_count": null,
   "id": "reduced-stranger",
   "metadata": {
    "scrolled": true
   },
   "outputs": [],
   "source": [
    "# datensatz laden\n",
    "\n",
    "df = sns.load_dataset('titanic')\n",
    "df "
   ]
  },
  {
   "attachments": {},
   "cell_type": "markdown",
   "id": "7ff579b7",
   "metadata": {},
   "source": [
    "Weitere Informationen:  \n",
    "**https://en.wikipedia.org/wiki/Passengers_of_the_Titanic#Third_class_2**\n",
    "\n",
    "Survived: Outcome of survival (0 = No; 1 = Yes)  \n",
    "Pclass: Socio-economic class (1 = Upper class; 2 = Middle class; 3 = Lower class)  \n",
    "Name: Name of passenger  \n",
    "Sex: Sex of the passenger  \n",
    "Age: Age of the passenger (Some entries contain NaN)  \n",
    "SibSp: Number of siblings and spouses of the passenger aboard  \n",
    "Parch: Number of parents and children of the passenger aboard  \n",
    "Ticket: Ticket number of the passenger  \n",
    "Fare: Fare paid by the passenger  \n",
    "Cabin: Cabin number of the passenger (Some entries contain NaN)  \n",
    "Embarked: Port of embarkation of the passenger (C = Cherbourg; Q = Queenstown; S = Southampton)  \n"
   ]
  },
  {
   "cell_type": "code",
   "execution_count": null,
   "id": "8dd6ee95",
   "metadata": {
    "scrolled": true
   },
   "outputs": [],
   "source": [
    "df.info()"
   ]
  },
  {
   "cell_type": "markdown",
   "id": "a05cc1f3-5cac-476c-924a-80375602b80e",
   "metadata": {},
   "source": [
    "Die Spalten 'class' und 'deck' wurden automatisch als Datentyp 'category' deklariert!"
   ]
  },
  {
   "cell_type": "code",
   "execution_count": null,
   "id": "champion-experience",
   "metadata": {},
   "outputs": [],
   "source": [
    "# datentypen in erfahrung bringen\n",
    "df.dtypes[['age', 'alive']]   # Wenn gezielt Spalten zu betrachten sind\n",
    "df.dtypes"
   ]
  },
  {
   "cell_type": "code",
   "execution_count": null,
   "id": "6b53da64",
   "metadata": {},
   "outputs": [],
   "source": [
    "# Spalte mit Objekten näher untersuchen\n",
    "# Wieviele Werte gibt es und wie oft werden diese verwendet?\n",
    "df['pclass'].value_counts()    # Summe nach Werten (alle)\n",
    "df['pclass'].size              # Gesamtsumme Werte\n",
    "df['pclass'].count()           # Gesamtsumme Werte\n",
    "    "
   ]
  },
  {
   "cell_type": "code",
   "execution_count": null,
   "id": "3547674f",
   "metadata": {},
   "outputs": [],
   "source": [
    "# wieviele verschiedene Werte gibt es?\n",
    "print(df['pclass'].unique().size)\n",
    "print(df['pclass'].unique())"
   ]
  },
  {
   "cell_type": "markdown",
   "id": "parental-coffee",
   "metadata": {},
   "source": [
    "__Erste Erkenntnisse:__\n",
    "\n",
    "\n",
    "\n",
    "__Ergebnis:__\n",
    "\n",
    "\n",
    "\n",
    "## Wie identifiziere ich den richtigen Speicherplatz?  \n",
    "https://pandas.pydata.org/docs/reference/api/pandas.DataFrame.memory_usage.html"
   ]
  },
  {
   "cell_type": "code",
   "execution_count": null,
   "id": "b3885d16",
   "metadata": {},
   "outputs": [],
   "source": [
    "# schauen, ob der richtige Speicherplatz festgelegt ist  - memory_usage() --> Rückgabewert: speicherplatz in bytes\n",
    "\n",
    "df.memory_usage(deep=True) \n",
    "\n",
    "# was ist deep=True?\n",
    "\n",
    "# hier werden Spalten mit dem Datentyp Object näher angeschaut und geprüft wie groß deren \n",
    "# \"system-level memory consumption\" ist."
   ]
  },
  {
   "cell_type": "code",
   "execution_count": null,
   "id": "ec75ec68",
   "metadata": {},
   "outputs": [],
   "source": [
    "# Gesamter Speicherbedarf des Datensatzes\n",
    "df.memory_usage(deep=True).sum()"
   ]
  },
  {
   "cell_type": "code",
   "execution_count": null,
   "id": "developmental-voltage",
   "metadata": {},
   "outputs": [],
   "source": [
    "# ohne deep=True\n",
    "\n",
    "df.memory_usage()"
   ]
  },
  {
   "cell_type": "code",
   "execution_count": null,
   "id": "4dbefc15",
   "metadata": {},
   "outputs": [],
   "source": [
    "# Oberflächige Speichernutzung! (ohne deep=True)\n",
    "df.memory_usage().sum()"
   ]
  },
  {
   "cell_type": "code",
   "execution_count": null,
   "id": "6d344259",
   "metadata": {},
   "outputs": [],
   "source": [
    "# Verhältnis Tatsächlicher zu oberflächlicher Speichernutzung\n",
    "vsp = df.memory_usage(deep=True).sum() / df.memory_usage().sum()\n",
    "print(f'{vsp:.4f}')"
   ]
  },
  {
   "cell_type": "code",
   "execution_count": null,
   "id": "immediate-davis",
   "metadata": {},
   "outputs": [],
   "source": [
    "# Um später die Speicherplatzersparniss erreichen zu können, arbeiten wir im weiteren mit einer Kopie. \n",
    "# Diese Kopie enthält die optimalen Speicherplätze und Datentypen\n",
    "\n",
    "df_opti = df.copy()\n",
    "df_opti"
   ]
  },
  {
   "cell_type": "code",
   "execution_count": null,
   "id": "4a847ed9",
   "metadata": {},
   "outputs": [],
   "source": [
    "df['survived'].value_counts()"
   ]
  },
  {
   "cell_type": "code",
   "execution_count": null,
   "id": "72caf9a8",
   "metadata": {},
   "outputs": [],
   "source": [
    "# wieviele verschiedene Werte gibt es?\n",
    "print(df['survived'].unique().size)\n",
    "print(df['survived'].unique())"
   ]
  },
  {
   "cell_type": "code",
   "execution_count": null,
   "id": "coupled-absence",
   "metadata": {},
   "outputs": [],
   "source": [
    "# Datentyp von survived (dtype = int64) anpassen in type 'category'\n",
    "df_opti['survived'] = df_opti['survived'].astype('category') # Vergleich category zu bool\n",
    "#df_opti['survived'] = df_opti['survived'].astype('bool')\n",
    "\n",
    "df_opti.dtypes"
   ]
  },
  {
   "cell_type": "code",
   "execution_count": null,
   "id": "frozen-ridge",
   "metadata": {},
   "outputs": [],
   "source": [
    "# erster Check zur Optimierung\n",
    "\n",
    "df_opti.memory_usage(deep=True)\n",
    "\n",
    "# wow von 7128 auf 1015! Eine Reduzierung, bei category, des Speicherplatzes um ca. 1/7!"
   ]
  },
  {
   "cell_type": "code",
   "execution_count": null,
   "id": "ba60eb92",
   "metadata": {},
   "outputs": [],
   "source": [
    "df_opti\n"
   ]
  },
  {
   "cell_type": "code",
   "execution_count": null,
   "id": "d36364fa",
   "metadata": {},
   "outputs": [],
   "source": [
    "print(df_opti.memory_usage(deep=True).sum())\n",
    "df_opti"
   ]
  },
  {
   "cell_type": "code",
   "execution_count": null,
   "id": "411f911b",
   "metadata": {},
   "outputs": [],
   "source": [
    "# Verhältnis ursprünglicher zum 1. optimierten Speicherplatzbedarf \n",
    "vsp = df_opti.memory_usage(deep=True).sum() / df.memory_usage(deep=True).sum()\n",
    "print(f'{vsp:.4f}')"
   ]
  },
  {
   "cell_type": "code",
   "execution_count": null,
   "id": "847f4166-8b74-41ba-8084-df00f1b2ffdd",
   "metadata": {},
   "outputs": [],
   "source": [
    "# Datentyp von pclass (dtype = int64) anpassen in type 'category'\n",
    "df_opti['pclass'] = df_opti['pclass'].astype('category')\n",
    "df_opti.dtypes"
   ]
  },
  {
   "cell_type": "code",
   "execution_count": null,
   "id": "4e96f3df-a31d-4900-9f00-3ce0df898d01",
   "metadata": {},
   "outputs": [],
   "source": [
    "df_opti.memory_usage(deep=True)"
   ]
  },
  {
   "cell_type": "code",
   "execution_count": null,
   "id": "68f88cfd-90b8-4287-84c5-9dd651040e5a",
   "metadata": {},
   "outputs": [],
   "source": [
    "print(df_opti.memory_usage(deep=True).sum())\n",
    "df_opti"
   ]
  },
  {
   "cell_type": "code",
   "execution_count": null,
   "id": "ff72df39-352e-45cb-8d92-c941f29d3cf0",
   "metadata": {},
   "outputs": [],
   "source": [
    "# Verhältnis ursprünglicher zum 1. optimierten Speicherplatzbedarf \n",
    "vsp = df_opti.memory_usage(deep=True).sum() / df.memory_usage(deep=True).sum()\n",
    "print(f'{vsp:.4f}')"
   ]
  },
  {
   "attachments": {
    "image.png": {
     "image/png": "[encoded data removed]"
    }
   },
   "cell_type": "markdown",
   "id": "84f8aaec",
   "metadata": {},
   "source": [
    "Mögliche Datentypen in NumPy:  \n",
    "\n",
    "![image.png](attachment:image.png)\n"
   ]
  },
  {
   "cell_type": "code",
   "execution_count": null,
   "id": "89bfcd01",
   "metadata": {},
   "outputs": [],
   "source": [
    "pi16 = np.float16(np.pi)\n",
    "#pi16 = np.float16(np.pi*1000)   # Beispiel für die Beschränkung des Wertebereichs\n",
    "print('float16 : ', pi16)\n",
    "pi32 = np.float32(np.pi)\n",
    "#pi32 = np.float32(np.pi*1000)\n",
    "print('float32 : ', pi32)\n",
    "pi64 = np.float64(np.pi)\n",
    "#pi64 = np.float64(np.pi*1000)\n",
    "print('float64 : ', pi64)\n"
   ]
  },
  {
   "cell_type": "code",
   "execution_count": null,
   "id": "93cf1f90",
   "metadata": {},
   "outputs": [],
   "source": [
    "num8 = np.int8(128)       # -128 .. 127\n",
    "#num8 = np.int8(384)\n",
    "#num8 = np.int8(-128)\n",
    "#num8 = np.int8(-129)\n",
    "print('int8    : ', num8)\n",
    "#num8new = np.array(128).astype(int)  # Automatische Typzuweisung!\n",
    "#print('num8new :', num8new , type(num8new))\n",
    "unum8 = np.uint8(256)\n",
    "#unum8 = np.uint8(-123456789)\n",
    "#unum8 = np.uint8(-129)\n",
    "print('uint8   : ',unum8)"
   ]
  },
  {
   "cell_type": "code",
   "execution_count": null,
   "id": "9db37f16",
   "metadata": {},
   "outputs": [],
   "source": [
    "num16 = np.int16(123456789)\n",
    "#num16 = np.int16(32767)       # Wertebereich -32768 bis 32767\n",
    "print('int16   : ', num16)\n",
    "num16 = np.uint16(123456789)\n",
    "#num16 = np.uint16(65535)      # Wertebreich 0 bis 65535 (65536 möglich Werte bei 16 Bit)\n",
    "print('uint16  : ', num16)\n",
    "num32 = np.int32(1234567890)\n",
    "#num32 = np.int32(12345678901)\n",
    "#num32 = np.array(12345678911).astype(np.int32)   # Wenn der Überlauf keinen Fehler erzeugen soll\n",
    "print('int32   : ', num32)\n",
    "num32 = np.uint32(1234567890)\n",
    "#num32 = np.uint32(123456789011)     # Fehler bei Überlauf\n",
    "print('uint32  : ', num32)\n",
    "num64 = np.int64(1234567890123456789)\n",
    "num64 = np.int64(9223372036854775808-1)   # Grenze für int64 Datentyp \n",
    "print('int64   : ', num64)\n",
    "num64 = np.uint64(1234567890123456789)\n",
    "num64 = np.uint64(18446744073709551616-1)   # Grenze für uint64 Datentyp\n",
    "print('uint64  : ', num64)"
   ]
  },
  {
   "cell_type": "code",
   "execution_count": null,
   "id": "07e1e375",
   "metadata": {},
   "outputs": [],
   "source": [
    "cnum64 = np.complex64(1234567890123456789)\n",
    "print('complex64  : ', cnum64)\n",
    "cnum128 = np.complex128(1234567890123456789)\n",
    "print('complex128  : ', cnum128)"
   ]
  },
  {
   "cell_type": "code",
   "execution_count": null,
   "id": "confident-smoke",
   "metadata": {},
   "outputs": [],
   "source": [
    "# Optimierung des Speicherplatzes bei den floats\n",
    "\n",
    "df_opti[[\"age\",\"fare\"]] = df_opti[[\"age\",\"fare\"]].apply(pd.to_numeric, downcast=\"float\")\n",
    "df_opti.dtypes "
   ]
  },
  {
   "cell_type": "code",
   "execution_count": null,
   "id": "bcc5691c-57f2-40e4-8f64-bcbd7b2519fc",
   "metadata": {},
   "outputs": [],
   "source": [
    "print(df_opti.memory_usage(deep=True).sum())\n",
    "df_opti"
   ]
  },
  {
   "cell_type": "code",
   "execution_count": null,
   "id": "cc399bc7",
   "metadata": {},
   "outputs": [],
   "source": [
    "# wieviele verschiedene Werte gibt es?\n",
    "print(df['sex'].unique().size)\n",
    "print(df['sex'].unique())"
   ]
  },
  {
   "cell_type": "code",
   "execution_count": null,
   "id": "62e239c4",
   "metadata": {},
   "outputs": [],
   "source": [
    "df_opti['sex'] = df_opti['sex'].astype('category')"
   ]
  },
  {
   "cell_type": "code",
   "execution_count": null,
   "id": "14f5447e-08d1-41a5-a341-c77cd4eda499",
   "metadata": {},
   "outputs": [],
   "source": [
    "print(df_opti.memory_usage(deep=True).sum())\n",
    "df_opti.dtypes"
   ]
  },
  {
   "cell_type": "code",
   "execution_count": null,
   "id": "87910ea1",
   "metadata": {},
   "outputs": [],
   "source": [
    "# wieviele verschiedene Werte gibt es?\n",
    "print(df['age'].unique().size)\n",
    "print(df['age'].unique())"
   ]
  },
  {
   "cell_type": "markdown",
   "id": "3d1e13d4",
   "metadata": {},
   "source": [
    "89 verschiedene Werte und der Informationsinhalt machen keinen Sinn für eine Kategorisierung.  \n",
    "Man kann also nur eine Reduzierung des Speicherplatzes über den Datentyp erreichen.  \n",
    "Dieses wurde bereits am Anfang auf float32 optimiert!"
   ]
  },
  {
   "cell_type": "markdown",
   "id": "4844b09e",
   "metadata": {},
   "source": [
    "Hätte im Vorfeld eine Datenbereinigung stattgefunden wäre auch ein Datentyp Integer ausreichend! (Das Alter wird normalerweise nicht als float dargestellt)"
   ]
  },
  {
   "cell_type": "code",
   "execution_count": null,
   "id": "118f42ef",
   "metadata": {},
   "outputs": [],
   "source": [
    "# Zwingende Konvertierung versuchen\n",
    "try:\n",
    "    df_opti[[\"age\"]] = df_opti[[\"age\"]].astype('uint8')\n",
    "except Exception as e:\n",
    "    print(f'Konvertierung nicht möglich! ({e})')\n",
    "df_opti.dtypes"
   ]
  },
  {
   "cell_type": "code",
   "execution_count": null,
   "id": "4daeb726",
   "metadata": {},
   "outputs": [],
   "source": [
    "# wieviele verschiedene Werte gibt es?\n",
    "print(df_opti['sibsp'].unique().size)\n",
    "print(df_opti['sibsp'].unique())\n",
    "print(df_opti['parch'].unique().size)\n",
    "print(df_opti['parch'].unique())"
   ]
  },
  {
   "cell_type": "code",
   "execution_count": null,
   "id": "b160cc25",
   "metadata": {},
   "outputs": [],
   "source": [
    "df_opti[[\"sibsp\", \"parch\"]] = df_opti[[\"sibsp\", \"parch\"]].apply(pd.to_numeric, downcast=\"unsigned\") # optimierter Datentyp\n",
    "#df_opti[[\"sibsp\", \"parch\"]] = df_opti[[\"sibsp\", \"parch\"]].apply(pd.to_numeric, downcast=\"integer\")\n",
    "df_opti.dtypes"
   ]
  },
  {
   "cell_type": "code",
   "execution_count": null,
   "id": "7dc443d3",
   "metadata": {},
   "outputs": [],
   "source": [
    "# df_opti[['sibsp', 'parch']] = df_opti[['sibsp', 'parch']].astype('category')\n",
    "# df_opti.dtypes"
   ]
  },
  {
   "cell_type": "code",
   "execution_count": null,
   "id": "a753ec11-8c21-4aaf-8c67-639870eb6a33",
   "metadata": {},
   "outputs": [],
   "source": [
    "print(df_opti.memory_usage(deep=True).sum())\n",
    "df_opti.dtypes"
   ]
  },
  {
   "cell_type": "code",
   "execution_count": null,
   "id": "ab1ecfd9",
   "metadata": {},
   "outputs": [],
   "source": [
    "# wieviele verschiedene Werte gibt es?\n",
    "print(df_opti['fare'].unique().size)\n",
    "print(df_opti['fare'].unique())"
   ]
  },
  {
   "cell_type": "markdown",
   "id": "1970d02c-1914-47ff-b33f-d679feb4e251",
   "metadata": {},
   "source": [
    "Wurde bereits auf den optimalen Datentyp 'float32' geändert.  \n",
    "Sonst mit folgendem Kommando den optimalen datentyp ermitteln lassen."
   ]
  },
  {
   "cell_type": "code",
   "execution_count": null,
   "id": "727f62bb",
   "metadata": {},
   "outputs": [],
   "source": [
    "df_opti[[\"fare\"]] = df_opti[[\"fare\"]].apply(pd.to_numeric, downcast=\"float\")\n",
    "df_opti.dtypes"
   ]
  },
  {
   "cell_type": "code",
   "execution_count": null,
   "id": "16344026-4524-42f6-916e-a51b6eb2af34",
   "metadata": {},
   "outputs": [],
   "source": [
    "print(df_opti.memory_usage(deep=True))"
   ]
  },
  {
   "cell_type": "code",
   "execution_count": null,
   "id": "1777ae80",
   "metadata": {},
   "outputs": [],
   "source": [
    "# wieviele verschiedene Werte gibt es?\n",
    "print(df_opti['embarked'].unique().size)\n",
    "print(df_opti['embarked'].unique())"
   ]
  },
  {
   "cell_type": "code",
   "execution_count": null,
   "id": "4394aea3",
   "metadata": {},
   "outputs": [],
   "source": [
    "# wieviele verschiedene Werte gibt es?\n",
    "print(df_opti['class'].unique().size)\n",
    "print(df_opti['class'].unique())"
   ]
  },
  {
   "cell_type": "code",
   "execution_count": null,
   "id": "3eabd0da",
   "metadata": {},
   "outputs": [],
   "source": [
    "# wieviele verschiedene Werte gibt es?\n",
    "print(df_opti['fare'].unique().size)\n",
    "print(df_opti['fare'].unique())"
   ]
  },
  {
   "cell_type": "code",
   "execution_count": null,
   "id": "42064eda",
   "metadata": {},
   "outputs": [],
   "source": [
    "# wieviele verschiedene Werte gibt es?\n",
    "print(df_opti['who'].unique().size)\n",
    "print(df_opti['who'].unique())"
   ]
  },
  {
   "cell_type": "code",
   "execution_count": null,
   "id": "72f25a44-96ff-46b0-92e2-1dfdd45d2ce1",
   "metadata": {},
   "outputs": [],
   "source": [
    "# wieviele verschiedene Werte gibt es?\n",
    "print(df_opti['embark_town'].unique().size)\n",
    "print(df_opti['embark_town'].unique())"
   ]
  },
  {
   "cell_type": "code",
   "execution_count": null,
   "id": "4ccacd53-59ff-4b7c-a3e2-65e6a73ad6aa",
   "metadata": {},
   "outputs": [],
   "source": [
    "# wieviele verschiedene Werte gibt es?\n",
    "print(df_opti['alive'].unique().size)\n",
    "print(df_opti['alive'].unique())"
   ]
  },
  {
   "cell_type": "markdown",
   "id": "2508b602-e283-4a58-b7ce-2435487c3daf",
   "metadata": {},
   "source": [
    "Die Spalten 'embarked', 'who', 'embark_town' und 'alive' können in den Typ 'category' umgewandelt werden."
   ]
  },
  {
   "cell_type": "code",
   "execution_count": null,
   "id": "cab4ac95-139c-4dae-b880-67e68853cd6d",
   "metadata": {},
   "outputs": [],
   "source": [
    "df_opti[['embarked', 'who', 'embark_town', 'alive']] = df_opti[['embarked', 'who', 'embark_town', 'alive']].astype('category')\n",
    "df_opti.dtypes"
   ]
  },
  {
   "cell_type": "code",
   "execution_count": null,
   "id": "90d6a8f9-08f7-4628-a09f-4bcb64b71505",
   "metadata": {},
   "outputs": [],
   "source": [
    "print(df_opti.memory_usage(deep=True))\n",
    "print(df_opti.memory_usage(deep=True).sum())\n",
    "df_opti.dtypes"
   ]
  },
  {
   "cell_type": "markdown",
   "id": "threaded-simulation",
   "metadata": {},
   "source": [
    "__Erkenntnis:__\n",
    "\n",
    "Der Speicherplatz wurde von 64 auf 32 angepasst! "
   ]
  },
  {
   "cell_type": "code",
   "execution_count": null,
   "id": "a2b0093e",
   "metadata": {},
   "outputs": [],
   "source": [
    "# gesamte in-memory-Speicherplatzreduzierung\n",
    "# Verhältnis ursprünglicher zum 2. optimierten Speicherplatzbedarf \n",
    "vsp = df.memory_usage(deep=True).sum() / df_opti.memory_usage(deep=True).sum()\n",
    "print(f'{vsp:.4f}')\n",
    "reduction = (df.memory_usage(deep=True).sum()-df_opti.memory_usage(deep=True).sum())/df.memory_usage(deep=True).sum()\n",
    "\n",
    "print(f\"Reduktion um: {reduction*100:0.2f}%\")"
   ]
  },
  {
   "cell_type": "code",
   "execution_count": null,
   "id": "48ddf2fc",
   "metadata": {},
   "outputs": [],
   "source": [
    "\n",
    "df_opti[\"NEW\"] = round(df_opti[\"age\"]).astype(dtype=\"Int8\")\n",
    "#df_opti[\"NEW\"] = round(df_opti[\"NEW\"]).astype(dtype=np.uint8) # NumPy kann NA nicht konvertieren --> Fehler!\n",
    "#df_opti[\"NEW\"] = round(df_opti[\"age\"]).apply(pd.to_numeric, downcast=\"unsigned\")\n",
    "df_opti.head(40)\n",
    "df_opti.dtypes"
   ]
  },
  {
   "cell_type": "code",
   "execution_count": null,
   "id": "ddc936ea",
   "metadata": {},
   "outputs": [],
   "source": [
    "#df_opti[[\"NEW\"]] = df_opti[[\"NEW\"]].apply(pd.to_numeric, downcast=\"integer\")   # to_numeric stört sich an NaN-Werten!\n",
    "#df_opti[\"NEW\"] = round(df_opti[\"NEW\"]).apply(pd.to_numeric, downcast=\"unsigned\")\n",
    "print(df_opti.dtypes)\n",
    "print(df_opti['NEW'].unique())\n",
    "df_opti.head(20)"
   ]
  }
 ],
 "metadata": {
  "kernelspec": {
   "display_name": "Python 3 (ipykernel)",
   "language": "python",
   "name": "python3"
  },
  "language_info": {
   "codemirror_mode": {
    "name": "ipython",
    "version": 3
   },
   "file_extension": ".py",
   "mimetype": "text/x-python",
   "name": "python",
   "nbconvert_exporter": "python",
   "pygments_lexer": "ipython3",
   "version": "3.12.4"
  },
  "toc": {
   "base_numbering": 1,
   "nav_menu": {},
   "number_sections": true,
   "sideBar": true,
   "skip_h1_title": false,
   "title_cell": "Table of Contents",
   "title_sidebar": "Contents",
   "toc_cell": false,
   "toc_position": {},
   "toc_section_display": true,
   "toc_window_display": false
  },
  "varInspector": {
   "cols": {
    "lenName": 16,
    "lenType": 16,
    "lenVar": 40
   },
   "kernels_config": {
    "python": {
     "delete_cmd_postfix": "",
     "delete_cmd_prefix": "del ",
     "library": "var_list.py",
     "varRefreshCmd": "print(var_dic_list())"
    },
    "r": {
     "delete_cmd_postfix": ") ",
     "delete_cmd_prefix": "rm(",
     "library": "var_list.r",
     "varRefreshCmd": "cat(var_dic_list()) "
    }
   },
   "types_to_exclude": [
    "module",
    "function",
    "builtin_function_or_method",
    "instance",
    "_Feature"
   ],
   "window_display": false
  },
  "widgets": {
   "application/vnd.jupyter.widget-state+json": {
    "state": {},
    "version_major": 2,
    "version_minor": 0
   }
  }
 },
 "nbformat": 4,
 "nbformat_minor": 5
}
