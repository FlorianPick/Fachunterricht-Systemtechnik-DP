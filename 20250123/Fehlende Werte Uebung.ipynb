{
 "cells": [
  {
   "cell_type": "markdown",
   "metadata": {},
   "source": [
    "# Übung - fehlende Werte\n",
    "\n",
    "In dieser Übung wollen wir uns Grundtechnicken aneigenen um fehlende Werte zu identifizieren. Bei der Identifizierung von fehlenden Werten geht es nicht nur darum die Missings zu finden, sondern dieser Part ermöglicht es dir gleichzeitig, systematische Fehler zu finden, die z.B. beim Datenabzug entstanden sind.\n",
    "\n",
    "Was können systematische Fehler sein?\n",
    "\n",
    "        - auffällig ist, dass fehlende Werte an bestimmten Stellen für bestimmte Felder vorkommen\n",
    "        - wurden die Filter beim Datenabzug korrekt gesetzt? --> du möchtest dir nur das Jahr 2019 anschauen\n",
    "          --> sind vlt auch Daten von 2018 oder 2020 enthalten?\n",
    "        - Namen wurden nicht einheitlich geschrieben\n",
    "          --> z.B. USA, U.S.A, America, Amerika, Vereinigten Staaten ...\n",
    "\n",
    "**Aufgabe:**\n",
    "\n",
    "Lese die csv Datei \"fehlende_Werte_uebung\" ein.\n",
    "In den Daten sind 4 Spalten mit fehlenden Werten enthalten. Entdecke diese! Du kannst die fehlenden Werte erst einmal mit np.nan ersetzen. Ziel der Übung ist es, Techniken zu finden, die dir helfen Unstimmigkeiten im Datensatz zu finden.\n",
    "\n",
    "Du kannst dir gern eine Zusammenfassung mit hilfreichen Funktionen notieren."
   ]
  },
  {
   "cell_type": "code",
   "execution_count": null,
   "metadata": {},
   "outputs": [],
   "source": [
    "import pandas as pd\n",
    "import numpy as np"
   ]
  },
  {
   "cell_type": "code",
   "execution_count": null,
   "metadata": {},
   "outputs": [],
   "source": [
    "df_e = pd.read_csv(r'fehlende_Werte_uebung.csv', sep='|', index_col=0 )\n",
    "df_e"
   ]
  },
  {
   "cell_type": "code",
   "execution_count": null,
   "metadata": {},
   "outputs": [],
   "source": [
    "df_e.isnull().sum()"
   ]
  }
 ],
 "metadata": {
  "hide_input": false,
  "kernelspec": {
   "display_name": "Python 3 (ipykernel)",
   "language": "python",
   "name": "python3"
  },
  "language_info": {
   "codemirror_mode": {
    "name": "ipython",
    "version": 3
   },
   "file_extension": ".py",
   "mimetype": "text/x-python",
   "name": "python",
   "nbconvert_exporter": "python",
   "pygments_lexer": "ipython3",
   "version": "3.12.4"
  },
  "toc": {
   "base_numbering": 1,
   "nav_menu": {},
   "number_sections": true,
   "sideBar": true,
   "skip_h1_title": false,
   "title_cell": "Table of Contents",
   "title_sidebar": "Contents",
   "toc_cell": false,
   "toc_position": {},
   "toc_section_display": true,
   "toc_window_display": false
  },
  "varInspector": {
   "cols": {
    "lenName": 16,
    "lenType": 16,
    "lenVar": 40
   },
   "kernels_config": {
    "python": {
     "delete_cmd_postfix": "",
     "delete_cmd_prefix": "del ",
     "library": "var_list.py",
     "varRefreshCmd": "print(var_dic_list())"
    },
    "r": {
     "delete_cmd_postfix": ") ",
     "delete_cmd_prefix": "rm(",
     "library": "var_list.r",
     "varRefreshCmd": "cat(var_dic_list()) "
    }
   },
   "types_to_exclude": [
    "module",
    "function",
    "builtin_function_or_method",
    "instance",
    "_Feature"
   ],
   "window_display": false
  },
  "widgets": {
   "application/vnd.jupyter.widget-state+json": {
    "state": {},
    "version_major": 2,
    "version_minor": 0
   }
  }
 },
 "nbformat": 4,
 "nbformat_minor": 4
}
