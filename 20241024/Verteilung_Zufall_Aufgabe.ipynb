{
 "cells": [
  {
   "cell_type": "markdown",
   "id": "8b9a074e",
   "metadata": {},
   "source": [
    "# Verteilung Zufallsgenerator\n",
    "- Lassen Sie sich, per Zufallsgenerator, eine Zufallszahl zwischen 1 und 6 generieren.\n",
    "- Definieren Sie eine Variable, die die Anzahl der Durchläufe bestimmt.\n",
    "- Bei jedem Durchlauf wird eine neue Zufallszahl generiert und abhängig davon ein Zähler für diese Zahl um 1 erhöht.\n",
    "Nach Beendigung der Durchläufe sollen folgende Werte pro Zähler (1 bis 6) berechnet und ausgegeben werden:\n",
    "-- Zählerstand\n",
    "-- Abweichung vom Wert (Durchläufe / 6) als Zahl und in %\n",
    "\n",
    "**Beispiel für 1.000.000 Durchläufe**\n",
    "```python\n",
    "Durchläufe  :\t1000000\n",
    "Durchschnitt:\t166666.67\n",
    "Zähler 1: 166799\tDiff:  132.33 \t%: 0.08\n",
    "Zähler 2: 166675\tDiff:    8.33 \t%: 0.01\n",
    "Zähler 3: 167345\tDiff:  678.33 \t%: 0.41\n",
    "Zähler 4: 166866\tDiff:  199.33 \t%: 0.12\n",
    "Zähler 5: 166073\tDiff: -593.67 \t%: 0.36\n",
    "Zähler 6: 166243\tDiff: -423.67 \t%: 0.25\n",
    "```\n",
    "\n",
    "**Führen Sie das Programm mit 100, 1.000, 10.000, 100.000 und 1.000.000 Durchläufen aus und erläutern Sie die Ergebnisse.**"
   ]
  },
  {
   "cell_type": "code",
   "execution_count": 3,
   "id": "24d12321",
   "metadata": {},
   "outputs": [
    {
     "name": "stdout",
     "output_type": "stream",
     "text": [
      "1\n",
      "2\n",
      "3\n",
      "5\n",
      "5\n",
      "2\n",
      "5\n",
      "4\n",
      "1\n",
      "1\n"
     ]
    }
   ],
   "source": [
    "from random import randint\n",
    "for i in range(10):\n",
    "    print(randint(1,6))"
   ]
  },
  {
   "cell_type": "code",
   "execution_count": null,
   "id": "a736b849",
   "metadata": {},
   "outputs": [],
   "source": [
    "from random import randint\n",
    "# Geben Sie hier Ihren Programmcode ein"
   ]
  },
  {
   "cell_type": "markdown",
   "id": "3106234a",
   "metadata": {},
   "source": [
    "Kommentar:"
   ]
  }
 ],
 "metadata": {
  "kernelspec": {
   "display_name": "Python 3 (ipykernel)",
   "language": "python",
   "name": "python3"
  },
  "language_info": {
   "codemirror_mode": {
    "name": "ipython",
    "version": 3
   },
   "file_extension": ".py",
   "mimetype": "text/x-python",
   "name": "python",
   "nbconvert_exporter": "python",
   "pygments_lexer": "ipython3",
   "version": "3.12.4"
  },
  "toc": {
   "base_numbering": 1,
   "nav_menu": {},
   "number_sections": true,
   "sideBar": true,
   "skip_h1_title": false,
   "title_cell": "Table of Contents",
   "title_sidebar": "Contents",
   "toc_cell": false,
   "toc_position": {},
   "toc_section_display": true,
   "toc_window_display": false
  },
  "varInspector": {
   "cols": {
    "lenName": 16,
    "lenType": 16,
    "lenVar": 40
   },
   "kernels_config": {
    "python": {
     "delete_cmd_postfix": "",
     "delete_cmd_prefix": "del ",
     "library": "var_list.py",
     "varRefreshCmd": "print(var_dic_list())"
    },
    "r": {
     "delete_cmd_postfix": ") ",
     "delete_cmd_prefix": "rm(",
     "library": "var_list.r",
     "varRefreshCmd": "cat(var_dic_list()) "
    }
   },
   "types_to_exclude": [
    "module",
    "function",
    "builtin_function_or_method",
    "instance",
    "_Feature"
   ],
   "window_display": false
  },
  "widgets": {
   "application/vnd.jupyter.widget-state+json": {
    "state": {},
    "version_major": 2,
    "version_minor": 0
   }
  }
 },
 "nbformat": 4,
 "nbformat_minor": 5
}
