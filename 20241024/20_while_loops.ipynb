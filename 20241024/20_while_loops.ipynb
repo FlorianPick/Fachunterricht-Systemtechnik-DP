{
 "cells": [
  {
   "cell_type": "markdown",
   "metadata": {},
   "source": [
    "# Loops\n",
    "\n",
    "- For-Schleifen: um etw. mit jedem Element in einer Reihe von Elementen zu tun (Liste, Tupel, String)\n",
    "\n",
    "- **while-Schleifen**: etwas wiederholen, solange eine Bedingung erfüllt ist"
   ]
  },
  {
   "cell_type": "markdown",
   "metadata": {},
   "source": [
    "Angenommen, wir wollen ein Spiel entwickeln, um eine Zufallszahl zu generieren, z. B. zwischen 1 und 5. Dann bitten wir den Benutzer, diese Zahl zu erraten, und wenn er sie nicht richtig erraten kann, fragen wir weiter, bis er die richtige Antwort gibt:"
   ]
  },
  {
   "cell_type": "code",
   "execution_count": null,
   "metadata": {},
   "outputs": [],
   "source": [
    "### Import der Biliothek random\n",
    "from random import randint, shuffle  # import Funktion randint\n",
    "help(randint)\n",
    "help(shuffle)"
   ]
  },
  {
   "cell_type": "code",
   "execution_count": 5,
   "metadata": {},
   "outputs": [
    {
     "name": "stdout",
     "output_type": "stream",
     "text": [
      "Help on method randint in module random:\n",
      "\n",
      "randint(a, b) method of random.Random instance\n",
      "    Return random integer in range [a, b], including both end points.\n",
      "\n",
      "Help on method shuffle in module random:\n",
      "\n",
      "shuffle(x, random=None) method of random.Random instance\n",
      "    Shuffle list x in place, and return None.\n",
      "    \n",
      "    Optional argument random is a 0-argument function returning a\n",
      "    random float in [0.0, 1.0); if it is the default None, the\n",
      "    standard random.random will be used.\n",
      "\n"
     ]
    }
   ],
   "source": [
    "#import random\n",
    "import random as rd\n",
    "# dir(random) # Anzeige aller Funktionen der Bibliothel random\n",
    "# help(random.randint)\n",
    "# help(random.shuffle)\n",
    "help(rd.randint)\n",
    "help(rd.shuffle)\n",
    "#help(rd)"
   ]
  },
  {
   "cell_type": "code",
   "execution_count": 6,
   "metadata": {},
   "outputs": [
    {
     "name": "stdout",
     "output_type": "stream",
     "text": [
      "['c', 'd', 'b', 'a', 'e', 'f', 'g']\n"
     ]
    }
   ],
   "source": [
    "# Liste zufällig neu anordnen\n",
    "mylist = ['a', 'b', 'C']\n",
    "#mylist = list('abcdefg')\n",
    "rd.shuffle(mylist)\n",
    "print(mylist)"
   ]
  },
  {
   "cell_type": "code",
   "execution_count": 16,
   "metadata": {},
   "outputs": [
    {
     "name": "stdout",
     "output_type": "stream",
     "text": [
      "Raten Sie eine Nummer zwischen 1 und 5: 1\n",
      "Raten Sie eine Nummer zwischen 1 und 5: 2\n",
      "Raten Sie eine Nummer zwischen 1 und 5: 3\n",
      "Yeah! nach 3 Versuch(en) haben Sie richtig geraten\n",
      "Die gesuchte Zahl ist 3.\n"
     ]
    }
   ],
   "source": [
    "### Erzeuge eine Zufallsnummer\n",
    "answer = rd.randint(1, 5)\n",
    "#print(answer)\n",
    "# Initiale Wert für guess außerhalb des möglichen Bereichs\n",
    "# sichert ein erstmaliges durchlaufen der while-Schleife\n",
    "guess = 0\n",
    "zg = 0    # Zähler für Anzahl der Versuche\n",
    "# Schleife läuft solange input ungleich answer und Zähler < 5 Versuche\n",
    "while guess != answer and zg < 5: \n",
    "    # Frage den Benutzer:\n",
    "    guess = int(input('Raten Sie eine Nummer zwischen 1 und 5: '))\n",
    "#    guess = int(float(input('Raten Sie eine Nummer zwischen 1 und 5: '))) # Test für float-Eingabe\n",
    "    zg += 1\n",
    "# Wenn richtig gerate --> gratuliere\n",
    "if zg < 5:print(f'Yeah! nach {zg} Versuch(en) haben Sie richtig geraten\\nDie gesuchte Zahl ist {answer}.')\n",
    "else: print('Sie haben die Zahl nicht erraten! :-(')"
   ]
  },
  {
   "cell_type": "markdown",
   "metadata": {},
   "source": [
    "Anzahl der Durchläufe definieren"
   ]
  },
  {
   "cell_type": "code",
   "execution_count": 17,
   "metadata": {
    "scrolled": true
   },
   "outputs": [
    {
     "name": "stdout",
     "output_type": "stream",
     "text": [
      "5\n",
      "4\n",
      "3\n",
      "2\n",
      "1\n"
     ]
    }
   ],
   "source": [
    "# Definiere die gewünschten Durchläufe\n",
    "n = 5\n",
    "while n > 0: # Solange n > 0 ist:\n",
    "    print(n) # gebe n aus \n",
    "    n = n - 1 \n",
    "    #n -= 1   # In der Schleife muss die Schleifenvariable n verändert werden (n = n - 1)\n",
    "             # damit die Schleife kontrolliert beendet wird"
   ]
  },
  {
   "cell_type": "code",
   "execution_count": 19,
   "metadata": {
    "scrolled": true
   },
   "outputs": [
    {
     "name": "stdout",
     "output_type": "stream",
     "text": [
      "1.00\n",
      "2.00\n",
      "3.00\n",
      "4.00\n",
      "5.00\n"
     ]
    }
   ],
   "source": [
    "# anders herum!\n",
    "n = 1\n",
    "while n <= 5: # solange n <= 5 ist:\n",
    "    #print(n)           # gebe n aus\n",
    "    print(f'{n:.2f}')  # gebe n formatiert aus\n",
    "    n += 1            # erhöhe n um 1 bei jedem Durchlauf(n = n +1)\n"
   ]
  },
  {
   "cell_type": "markdown",
   "metadata": {},
   "source": [
    "Wir können While-Schleifen verwenden, um Befehle auszuführen, _solange_ eine Bedingung erfüllt ist."
   ]
  },
  {
   "cell_type": "markdown",
   "metadata": {},
   "source": [
    "Fakultät einer natürlichen Zahl n ist gleich dem Multiplikationsprodukt von n mit allen natürlichen Zahlen davor (kleiner):\n",
    "\n",
    "``` 4! = 4 x 3 x 2 x 1 ```"
   ]
  },
  {
   "cell_type": "markdown",
   "metadata": {},
   "source": [
    "Schreiben Sie ein Programm mit einer While-Schleife, um eine positive Ganzzahl vom Benutzer zu lesen und ihre Fakultät (Fakultät) zu berechnen und anzuzeigen:"
   ]
  },
  {
   "cell_type": "code",
   "execution_count": 21,
   "metadata": {},
   "outputs": [
    {
     "name": "stdout",
     "output_type": "stream",
     "text": [
      "Geben Sie eine positive natürliche Ganzzahl ein: 6\n",
      "Vorher:  n = 6 and f = 1\n",
      "Nachher: n = 5 and f = 6\n",
      "\n",
      "Vorher:  n = 5 and f = 6\n",
      "Nachher: n = 4 and f = 30\n",
      "\n",
      "Vorher:  n = 4 and f = 30\n",
      "Nachher: n = 3 and f = 120\n",
      "\n",
      "Vorher:  n = 3 and f = 120\n",
      "Nachher: n = 2 and f = 360\n",
      "\n",
      "Vorher:  n = 2 and f = 360\n",
      "Nachher: n = 1 and f = 720\n",
      "\n",
      "Die Fakultät von 6:  720\n"
     ]
    }
   ],
   "source": [
    "# Geben Sie Ihren Programmcode ein\n",
    "n = int(input('Geben Sie eine positive natürliche Ganzzahl ein: '))\n",
    "f = 1 \n",
    "org = n\n",
    "while n > 1:\n",
    "    print(f'Vorher:  n = {n} and f = {f}')        # zum Verständnis\n",
    "    #f = f * n                                    # alternativ zu:\n",
    "    f *= n                                        # 1 * 4; 4 * 3; 12 * 2; 24 * 1  (f = f * n)\n",
    "    # n= n - 1                                    # alternativ zu:\n",
    "    n -= 1                                        #   3  ;   2  ;    1  ;    0    (n = n - 1)\n",
    "    print(f'Nachher: n = {n} and f = {f}')        # zum Verständnis\n",
    "    print()                                       # Leerzeile\n",
    "# output\n",
    "print(f'Die Fakultät von {org}: ', f)             # Ausgabe"
   ]
  },
  {
   "cell_type": "markdown",
   "metadata": {},
   "source": [
    "## Endlosschleife für Benutzereingabe"
   ]
  },
  {
   "cell_type": "code",
   "execution_count": 22,
   "metadata": {},
   "outputs": [
    {
     "name": "stdout",
     "output_type": "stream",
     "text": [
      "Programm verlassen? Yes oder No? antworte mit y or n: b\n",
      "Falsche Eingabe!\n",
      "Programm verlassen? Yes oder No? antworte mit y or n: n\n",
      "Programm läuft weiter.\n",
      "Programm verlassen? Yes oder No? antworte mit y or n: y\n",
      "So long, and thanks for all the fish\n"
     ]
    }
   ],
   "source": [
    "while True: # endlos, da die Bedingung True immer Wahr ist\n",
    "    answer = input('Programm verlassen? Yes oder No? antworte mit y or n: ').upper()\n",
    "    if answer == 'Y':      \n",
    "        break              # break verlässt die while-Schleife\n",
    "    elif answer == 'N':    # answer == 'N':\n",
    "        print('Programm läuft weiter.')\n",
    "    else:\n",
    "        print('Falsche Eingabe!')\n",
    "print('So long, and thanks for all the fish')"
   ]
  }
 ],
 "metadata": {
  "kernelspec": {
   "display_name": "Python 3 (ipykernel)",
   "language": "python",
   "name": "python3"
  },
  "language_info": {
   "codemirror_mode": {
    "name": "ipython",
    "version": 3
   },
   "file_extension": ".py",
   "mimetype": "text/x-python",
   "name": "python",
   "nbconvert_exporter": "python",
   "pygments_lexer": "ipython3",
   "version": "3.10.13"
  },
  "toc": {
   "base_numbering": 1,
   "nav_menu": {},
   "number_sections": true,
   "sideBar": true,
   "skip_h1_title": false,
   "title_cell": "Table of Contents",
   "title_sidebar": "Contents",
   "toc_cell": false,
   "toc_position": {},
   "toc_section_display": true,
   "toc_window_display": false
  },
  "varInspector": {
   "cols": {
    "lenName": 16,
    "lenType": 16,
    "lenVar": 40
   },
   "kernels_config": {
    "python": {
     "delete_cmd_postfix": "",
     "delete_cmd_prefix": "del ",
     "library": "var_list.py",
     "varRefreshCmd": "print(var_dic_list())"
    },
    "r": {
     "delete_cmd_postfix": ") ",
     "delete_cmd_prefix": "rm(",
     "library": "var_list.r",
     "varRefreshCmd": "cat(var_dic_list()) "
    }
   },
   "types_to_exclude": [
    "module",
    "function",
    "builtin_function_or_method",
    "instance",
    "_Feature"
   ],
   "window_display": false
  }
 },
 "nbformat": 4,
 "nbformat_minor": 4
}
