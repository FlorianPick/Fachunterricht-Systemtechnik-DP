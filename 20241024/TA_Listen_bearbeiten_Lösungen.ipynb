{
 "cells": [
  {
   "cell_type": "markdown",
   "metadata": {},
   "source": [
    "# Übungen zu Listen\n",
    "\n",
    "Nutzen Sie diese Liste als Beispiel für die folgenden Aufgaben. \n",
    "\n",
    "```python\n",
    "mylist = [56, 25, 36, 43, 9, 50, 33, 42, 33, 14, 17, 52, 45, 14, 8, 42, 4, 14, 20]\n",
    "```\n",
    "\n",
    "Aber die Lösungen sollen auch mit jeder anderen Liste funktionieren!\n",
    "\n",
    "Bitte eine eigene Liste generieren und damit zusätzlich testen. (mischen Sie int und float)\n",
    "\n",
    "Wenn Sie fertig sind, bitte das Notebook oder die .py Datei(n) hochladen, damit diese bewertet werden können.\n",
    "\n",
    "Viel Erfolg"
   ]
  },
  {
   "cell_type": "code",
   "execution_count": null,
   "metadata": {},
   "outputs": [],
   "source": [
    "# Beispielliste \n",
    "mylist = [56, 25, 36, 43, 9, 50, 33, 42, 33, 14, 17, 52, 45, 14, 8, 42, 4, 14, 20]"
   ]
  },
  {
   "cell_type": "markdown",
   "metadata": {},
   "source": [
    "1. Summieren Sie alle Elemente dieser Liste."
   ]
  },
  {
   "cell_type": "code",
   "execution_count": null,
   "metadata": {},
   "outputs": [],
   "source": [
    "# Schreiben Sie Ihren Programmcode hier\n",
    "ergebnis = 0      # Variable für Gesamtsumme\n",
    "for i in mylist:\n",
    "#    ergebnis = ergebnis + i\n",
    "    ergebnis += i\n",
    "#    print(ergebnis, i)       # Hilfe für Programmaufbau\n",
    "#    print(i, type(i))        # Hilfe für Programmaufbau  \n",
    "print(f'Summe = {ergebnis}')\n",
    "    "
   ]
  },
  {
   "cell_type": "markdown",
   "metadata": {},
   "source": [
    "2. Schreiben Sie ein Python-Programm, um die größte Zahl aus einer Liste zu erhalten."
   ]
  },
  {
   "cell_type": "code",
   "execution_count": null,
   "metadata": {},
   "outputs": [],
   "source": [
    "# Schreiben Sie Ihren Programmcode hier\n",
    "min = max = mylist[0]      # Variablen für Min- und Max-Wert\n",
    "for i in mylist:\n",
    "    if i > max:\n",
    "        max = i\n",
    "    elif i < min:\n",
    "        min = i\n",
    "print(f'Maximum : {max}')\n",
    "print(f'Minimum : {min}')\n",
    "    "
   ]
  },
  {
   "cell_type": "code",
   "execution_count": null,
   "metadata": {},
   "outputs": [],
   "source": [
    "newlist = sorted(mylist)\n",
    "print(newlist,'\\n', type(newlist))\n",
    "print(f'Maximum: {newlist[-1]}')\n",
    "print(f'Minimum: {newlist[0]}')"
   ]
  },
  {
   "cell_type": "code",
   "execution_count": null,
   "metadata": {},
   "outputs": [],
   "source": [
    "### Mit Methode sort()\n",
    "mylist = [56, 25, 36, 43, 9, 50, 33, 42, 33, 14, 17, 52, 45, 14, 8, 42, 4, 14, 20]\n",
    "newlist1 = mylist[:]\n",
    "newlist1.sort()\n",
    "print(newlist1)\n",
    "print('MyList :', mylist)\n",
    "print(f'Maximum: {newlist1[-1]}')\n",
    "print(f'Minimum: {newlist1[0]}')"
   ]
  },
  {
   "cell_type": "markdown",
   "metadata": {},
   "source": [
    "3. Schreiben Sie ein Python-Programm, um die Reihenfolge einer Liste umzukehren."
   ]
  },
  {
   "cell_type": "code",
   "execution_count": null,
   "metadata": {},
   "outputs": [],
   "source": [
    "# Schreiben Sie Ihren Programmcode hier\n",
    "# Beispielliste \n",
    "mylist = [56, 25, 36, 43, 9, 50, 33, 42, 33, 14, 17, 52, 45, 14, 8, 42, 4, 14, 20]\n",
    "reverse = []\n",
    "for i in mylist:\n",
    "    reverse.insert(0,i) # Listenelement nach vorne (0) in der reverse Liste\n",
    "print(reverse) \n"
   ]
  },
  {
   "cell_type": "code",
   "execution_count": null,
   "metadata": {},
   "outputs": [],
   "source": [
    "reverse = mylist[::-1]\n",
    "print(reverse)"
   ]
  },
  {
   "cell_type": "markdown",
   "metadata": {},
   "source": [
    "4. Schreiben Sie ein Python-Programm, um zu prüfen, ob eine Liste leer ist oder nicht."
   ]
  },
  {
   "cell_type": "code",
   "execution_count": null,
   "metadata": {},
   "outputs": [],
   "source": [
    "# Schreiben Sie Ihren Programmcode hier\n",
    "mylist = [56, 25, 36, 43, 9, 50, 33, 42, 33, 14, 17, 52, 45, 14, 8, 42, 4, 14, 20]\n",
    "#mylist = []     # Test für leere Liste\n",
    "if len(mylist) == 0:             # Gibt es Elemente in der Liste\n",
    "#if mylist == []:                # Alternativ\n",
    "    print('Liste ist leer!')\n",
    "else:\n",
    "    print(f'Liste enthält Daten.\\n{mylist}')"
   ]
  },
  {
   "cell_type": "code",
   "execution_count": null,
   "metadata": {},
   "outputs": [],
   "source": [
    "mylist = [56, 25, 12]\n",
    "if len(mylist) < 3:\n",
    "    print(f'Liste {mylist} enthält weniger als 3 Elemente!')\n",
    "else:\n",
    "    print(f'Liste {mylist} enthält genug Elemente (>2)')      "
   ]
  },
  {
   "cell_type": "markdown",
   "metadata": {},
   "source": [
    "5. Schreiben Sie ein Programm, welches alle Zahlen der Liste mix_list addiert.\n",
    "\n",
    "Lösungsansatz:\n",
    "\n",
    "- for i in mix_list:\n",
    "- type() Prüfung"
   ]
  },
  {
   "cell_type": "code",
   "execution_count": null,
   "metadata": {},
   "outputs": [],
   "source": [
    "mix_list = [12, 3.3, -2, 'Flasche', -4.1, 'Weg', 'auto', 2, 77, 0.5, 'X', 'Bla', 66.6, 22, 4+2j, True, None]"
   ]
  },
  {
   "cell_type": "code",
   "execution_count": null,
   "metadata": {},
   "outputs": [],
   "source": [
    "# Schreiben Sie Ihren Programmcode hier\n",
    "summe = 0\n",
    "for i in mix_list:\n",
    "    if type(i) == int or type(i) == float or type(i) == complex:\n",
    "        summe = summe + i\n",
    "    else:\n",
    "        print(f'{i} ist keine Zahl')\n",
    "print(f'\\nErgebnis : {summe}')"
   ]
  },
  {
   "cell_type": "code",
   "execution_count": null,
   "metadata": {},
   "outputs": [],
   "source": [
    "summe = 0\n",
    "#werte = (int, float, complex) # Tuple\n",
    "werte = [int, float, complex] # Liste\n",
    "for i in mix_list:\n",
    "    if type(i) in werte:\n",
    "        summe = summe + i\n",
    "    else:\n",
    "        print(f'{i} ist keine Zahl')\n",
    "print(f'\\nErgebnis : {summe}')\n",
    "# for i in werte:\n",
    "#     print(i)\n",
    "#print(werte[1])"
   ]
  },
  {
   "cell_type": "markdown",
   "metadata": {},
   "source": [
    "6. Vergleichen Sie 2 Listen und passen die 2. Liste entsprechend der Vorgaben an:\n",
    "\n",
    "- Prüfen Sie ob Elemente der 1. Liste in der 2. Liste vorkommen und geben diese Elemente aus.\n",
    "- Prüfen Sie wie oft die gefundenen Element in der 2. Liste vorhanden sind und geben diese Elemente aus.\n",
    "- Löschen Sie alle mehrfach vorkommende Elemente der 1. Liste in der 2. Liste bis auf eins und geben Sie diese Liste aus.  "
   ]
  },
  {
   "cell_type": "code",
   "execution_count": null,
   "metadata": {},
   "outputs": [],
   "source": [
    "# Listen\n",
    "liste_1 = ['banana', 'peach', 'orange', 'apple']\n",
    "liste_2 = ['apple', 'peach', 'lemon', 'banana', 'orange', 'pear', 'banana', 'apple', 'peach',\n",
    "           'peach', 'banana', 'orange', 'banana']"
   ]
  },
  {
   "cell_type": "code",
   "execution_count": null,
   "metadata": {},
   "outputs": [],
   "source": [
    "# Schreiben Sie Ihren Programmcode hier\n",
    "# Prüfen Sie ob Elemente der 1. Liste in der 2. Liste vorkommen und geben diese Elemente aus.\n",
    "erg_liste = []\n",
    "z = 0\n",
    "for i in liste_1:\n",
    "    for j in liste_2:\n",
    "        z += 1\n",
    "        if i == j and i not in erg_liste:\n",
    "            erg_liste.append(i)\n",
    "print(erg_liste)\n",
    "print('Durchläufe:',z)"
   ]
  },
  {
   "cell_type": "code",
   "execution_count": null,
   "metadata": {},
   "outputs": [],
   "source": [
    "# Schreiben Sie Ihren Programmcode hier\n",
    "# Vergleich wir abgebrochen, wenn Eintrag aus liste 1 in liste 2 vorhanden ist.\n",
    "erg_liste = []\n",
    "z = 0\n",
    "for i in liste_1:\n",
    "    for j in liste_2:\n",
    "        z += 1\n",
    "        if i == j:\n",
    "            erg_liste.append(i)\n",
    "            break\n",
    "print(erg_liste)\n",
    "print('Durchläufe:',z)"
   ]
  },
  {
   "cell_type": "code",
   "execution_count": null,
   "metadata": {},
   "outputs": [],
   "source": [
    "# Ohne die .count() Methode zu verwenden\n",
    "liste_1 = ['banana', 'peach', 'orange', 'apple']\n",
    "liste_2 = ['apple', 'peach', 'lemon', 'banana', 'orange', 'pear', 'banana', 'apple', 'peach',\n",
    "           'peach', 'banana', 'orange', 'banana', 'lemon']\n",
    "#erg_liste = []\n",
    "for i in liste_1:\n",
    "    count = 0        # Zähler für Anzahl Elemente\n",
    "    for j in liste_2:\n",
    "        if i == j:\n",
    "            count = count +1\n",
    "    print(f'{i}\\t ist {count} mal in der 2. Liste vorhanden')"
   ]
  },
  {
   "cell_type": "code",
   "execution_count": null,
   "metadata": {},
   "outputs": [],
   "source": [
    "# Schreiben Sie Ihren Programmcode hier\n",
    "# Löschen Sie alle mehrfach vorkommende Elemente der 1. Liste in der 2. Liste bis auf eins und geben Sie diese Liste aus.\n",
    "liste_1 = ['banana', 'peach', 'orange', 'apple']\n",
    "liste_2 = ['apple', 'peach', 'lemon', 'banana', 'orange', 'pear', 'banana', 'apple', 'peach',\n",
    "           'peach', 'banana', 'orange', 'pear', 'banana', 'strawberry', 'lemon']\n",
    "erg_liste = liste_2[:]\n",
    "for i in liste_1:\n",
    "    for j in liste_2:\n",
    "        if i == j:\n",
    "            if erg_liste.count(i) >1:\n",
    "                erg_liste.remove(i)\n",
    "print(erg_liste)"
   ]
  },
  {
   "cell_type": "code",
   "execution_count": null,
   "metadata": {},
   "outputs": [],
   "source": [
    "# Schreiben Sie Ihren Programmcode hier\n",
    "# Auch das doppelte Element 'lemon' entfernen!\n",
    "liste_1 = ['banana', 'peach', 'orange', 'apple']\n",
    "liste_2 = ['apple', 'peach', 'lemon', 'banana', 'orange', 'pear', 'banana', 'apple', 'peach',\n",
    "           'peach', 'banana', 'orange', 'pear', 'banana', 'strawberry', 'lemon']\n",
    "erg_liste = liste_2[:]\n",
    "for i in liste_2:\n",
    "    if erg_liste.count(i) >1:\n",
    "        erg_liste.remove(i)\n",
    "print(sorted(erg_liste))"
   ]
  },
  {
   "cell_type": "code",
   "execution_count": null,
   "metadata": {},
   "outputs": [],
   "source": [
    "print(sorted(set(liste_2)))\n",
    "print(type(set(liste_2)))\n",
    "print(type(sorted(set(liste_2))))"
   ]
  }
 ],
 "metadata": {
  "kernelspec": {
   "display_name": "Python 3 (ipykernel)",
   "language": "python",
   "name": "python3"
  },
  "language_info": {
   "codemirror_mode": {
    "name": "ipython",
    "version": 3
   },
   "file_extension": ".py",
   "mimetype": "text/x-python",
   "name": "python",
   "nbconvert_exporter": "python",
   "pygments_lexer": "ipython3",
   "version": "3.12.4"
  },
  "toc": {
   "base_numbering": 1,
   "nav_menu": {
    "height": "20px",
    "width": "160px"
   },
   "number_sections": true,
   "sideBar": true,
   "skip_h1_title": false,
   "title_cell": "Table of Contents",
   "title_sidebar": "Contents",
   "toc_cell": false,
   "toc_position": {},
   "toc_section_display": true,
   "toc_window_display": false
  },
  "varInspector": {
   "cols": {
    "lenName": 16,
    "lenType": 16,
    "lenVar": 40
   },
   "kernels_config": {
    "python": {
     "delete_cmd_postfix": "",
     "delete_cmd_prefix": "del ",
     "library": "var_list.py",
     "varRefreshCmd": "print(var_dic_list())"
    },
    "r": {
     "delete_cmd_postfix": ") ",
     "delete_cmd_prefix": "rm(",
     "library": "var_list.r",
     "varRefreshCmd": "cat(var_dic_list()) "
    }
   },
   "types_to_exclude": [
    "module",
    "function",
    "builtin_function_or_method",
    "instance",
    "_Feature"
   ],
   "window_display": false
  },
  "widgets": {
   "application/vnd.jupyter.widget-state+json": {
    "state": {},
    "version_major": 2,
    "version_minor": 0
   }
  }
 },
 "nbformat": 4,
 "nbformat_minor": 4
}
