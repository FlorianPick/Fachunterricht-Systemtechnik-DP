{
 "cells": [
  {
   "cell_type": "markdown",
   "metadata": {},
   "source": [
    "### Warmup\n",
    "\n",
    "Wir haben folgende Liste:"
   ]
  },
  {
   "cell_type": "code",
   "execution_count": 1,
   "metadata": {},
   "outputs": [],
   "source": [
    "names = ['una', 'alaa', 'daniel', 'benjamin', 'emtiaz', 'wissam', 'sima', 'paula']"
   ]
  },
  {
   "cell_type": "markdown",
   "metadata": {},
   "source": [
    "Wir brauchen die Namen, die mindestens 5 Buchstaben haben."
   ]
  },
  {
   "cell_type": "markdown",
   "metadata": {},
   "source": [
    "Wir versuchen das Problem zu lösen:\n",
    "\n",
    "Wir wissen, dass die Funktion <code>len()</code> uns zeigen kann, wie viele Elemente in einer Liste oder in einem String sind:"
   ]
  },
  {
   "cell_type": "code",
   "execution_count": 2,
   "metadata": {},
   "outputs": [
    {
     "data": {
      "text/plain": [
       "3"
      ]
     },
     "execution_count": 2,
     "metadata": {},
     "output_type": "execute_result"
    }
   ],
   "source": [
    "len('una')"
   ]
  },
  {
   "cell_type": "code",
   "execution_count": 3,
   "metadata": {},
   "outputs": [
    {
     "data": {
      "text/plain": [
       "False"
      ]
     },
     "execution_count": 3,
     "metadata": {},
     "output_type": "execute_result"
    }
   ],
   "source": [
    "len('una') >= 5"
   ]
  },
  {
   "cell_type": "code",
   "execution_count": 4,
   "metadata": {},
   "outputs": [
    {
     "data": {
      "text/plain": [
       "4"
      ]
     },
     "execution_count": 4,
     "metadata": {},
     "output_type": "execute_result"
    }
   ],
   "source": [
    "len('alaa') "
   ]
  },
  {
   "cell_type": "code",
   "execution_count": 5,
   "metadata": {},
   "outputs": [
    {
     "data": {
      "text/plain": [
       "False"
      ]
     },
     "execution_count": 5,
     "metadata": {},
     "output_type": "execute_result"
    }
   ],
   "source": [
    "len('alaa') >= 5"
   ]
  },
  {
   "cell_type": "code",
   "execution_count": 6,
   "metadata": {},
   "outputs": [
    {
     "data": {
      "text/plain": [
       "6"
      ]
     },
     "execution_count": 6,
     "metadata": {},
     "output_type": "execute_result"
    }
   ],
   "source": [
    "len('daniel')"
   ]
  },
  {
   "cell_type": "code",
   "execution_count": 7,
   "metadata": {},
   "outputs": [
    {
     "data": {
      "text/plain": [
       "True"
      ]
     },
     "execution_count": 7,
     "metadata": {},
     "output_type": "execute_result"
    }
   ],
   "source": [
    "len('daniel') >= 5"
   ]
  },
  {
   "cell_type": "markdown",
   "metadata": {},
   "source": [
    "Wir brauchen eine Technik, um die Funktion <code>len()</code> auf jedes Element in der Liste anzuwenden.\n",
    "Um dann zu prüfen, ob das Ergebnis größer oder gleich 5 ist."
   ]
  },
  {
   "cell_type": "markdown",
   "metadata": {},
   "source": [
    "**Iteration**\n",
    "\n",
    "ist eine Technik, um jedes Element in einem iterierbaren Objekt _individuell_ zu überprüfen/abzufragen.\n",
    "\n",
    "Python-Strings und -Listen sind Beispiele für iterierbare Objekte."
   ]
  },
  {
   "cell_type": "markdown",
   "metadata": {},
   "source": [
    "**Schleifen**\n",
    "\n",
    "Eine Schleife ist eine automatisierte Technik zum Iterieren eines iterierbaren Objekts.\n",
    "\n",
    "- for-Schleifen\n",
    "- while-Schleifen"
   ]
  },
  {
   "cell_type": "markdown",
   "metadata": {},
   "source": [
    "**for Schleife**\n",
    "\n",
    "Wir weisen Python an, einige Befehle _für jedes Element_ in einer Liste oder Zeichenfolge usw. zu wiederholen.\n",
    "\n",
    "Im folgenden Beispiel wollen wir den Druckbefehl für jeden Buchstaben in einem String wiederholen:"
   ]
  },
  {
   "cell_type": "code",
   "execution_count": 8,
   "metadata": {},
   "outputs": [
    {
     "name": "stdout",
     "output_type": "stream",
     "text": [
      "u\n",
      "n\n",
      "a\n"
     ]
    }
   ],
   "source": [
    "for letter in 'una':\n",
    "    print(letter) # Wiederholung"
   ]
  },
  {
   "cell_type": "markdown",
   "metadata": {},
   "source": [
    "Im obigen Beispiel wird _letter_ Schleifenvariable genannt und kann einen beliebigen Namen haben. Es ist wichtig, dass wir für die Befehle in der Schleife denselben Namen verwenden.\n",
    "\n",
    "Kommen wir zurück zu unserer Liste:"
   ]
  },
  {
   "cell_type": "code",
   "execution_count": 9,
   "metadata": {},
   "outputs": [
    {
     "name": "stdout",
     "output_type": "stream",
     "text": [
      "daniel\n",
      "benjamin\n",
      "emtiaz\n",
      "wissam\n",
      "paula\n"
     ]
    }
   ],
   "source": [
    "names = ['una', 'alaa', 'daniel', 'benjamin', 'emtiaz', 'wissam', 'sima', 'paula']\n",
    "for name in names:\n",
    "    if len(name) >= 5:  # prüfen ob die Stringlänge >=5 ist\n",
    "        print(name)     # wenn ja, gebe den Namen aus"
   ]
  },
  {
   "cell_type": "markdown",
   "metadata": {},
   "source": [
    "**Übung**\n",
    "\n",
    "Schreiben Sie ein Programm, um jeden Namen aus der Liste 'Namen' zusammen mit der Anzahl der Buchstaben in jedem Namen auszugeben:\n",
    "\n",
    "Ausgabe:\n",
    "```\n",
    "Namen = ['una', 'alaa', 'daniel', 'benjamin', 'emtiaz', 'wissam', 'sima', 'paula']\n",
    "Der Name \"una\" hat 3 Buchstaben.\n",
    "Der Name \"alaa\" hat 4 Buchstaben.\n",
    "...\n",
    "```"
   ]
  },
  {
   "cell_type": "code",
   "execution_count": 10,
   "metadata": {},
   "outputs": [
    {
     "name": "stdout",
     "output_type": "stream",
     "text": [
      "Der Name \"una\" hat 3 Buchstaben.\n",
      "Der Name \"alaa\" hat 4 Buchstaben.\n",
      "Der Name \"daniel\" hat 6 Buchstaben.\n",
      "Der Name \"benjamin\" hat 8 Buchstaben.\n",
      "Der Name \"emtiaz\" hat 6 Buchstaben.\n",
      "Der Name \"wissam\" hat 6 Buchstaben.\n",
      "Der Name \"sima\" hat 4 Buchstaben.\n",
      "Der Name \"paula\" hat 5 Buchstaben.\n"
     ]
    }
   ],
   "source": [
    "# Liste mit Namen\n",
    "names = ['una', 'alaa', 'daniel', 'benjamin', 'emtiaz', 'wissam', 'sima', 'paula']\n",
    "# Iteration der Liste und Ausgabe\n",
    "for name in names:\n",
    "    print(f'Der Name \"{name}\" hat {len(name)} Buchstaben.')"
   ]
  },
  {
   "cell_type": "code",
   "execution_count": 12,
   "metadata": {},
   "outputs": [
    {
     "name": "stdout",
     "output_type": "stream",
     "text": [
      "The name \"Una\" has 3 letters.\n",
      "The name \"Alaa\" has 4 letters.\n",
      "The name \"Daniel\" has 6 letters.\n",
      "The name \"Benjamin\" has 8 letters.\n",
      "The name \"Emtiaz\" has 6 letters.\n",
      "The name \"Wissam\" has 6 letters.\n",
      "The name \"Sima\" has 4 letters.\n",
      "The name \"Paula\" has 5 letters.\n"
     ]
    }
   ],
   "source": [
    "# Pytons Weg\n",
    "names = ['una', 'alaa', 'daniel', 'benjamin', 'emtiaz', 'wissam', 'sima', 'paula']\n",
    "for _ in names: print(f'The name \"{_.capitalize()}\" has {len(_)} letters.')"
   ]
  }
 ],
 "metadata": {
  "kernelspec": {
   "display_name": "Python 3 (ipykernel)",
   "language": "python",
   "name": "python3"
  },
  "language_info": {
   "codemirror_mode": {
    "name": "ipython",
    "version": 3
   },
   "file_extension": ".py",
   "mimetype": "text/x-python",
   "name": "python",
   "nbconvert_exporter": "python",
   "pygments_lexer": "ipython3",
   "version": "3.10.13"
  },
  "toc": {
   "base_numbering": 1,
   "nav_menu": {},
   "number_sections": true,
   "sideBar": true,
   "skip_h1_title": false,
   "title_cell": "Table of Contents",
   "title_sidebar": "Contents",
   "toc_cell": false,
   "toc_position": {},
   "toc_section_display": true,
   "toc_window_display": false
  },
  "varInspector": {
   "cols": {
    "lenName": 16,
    "lenType": 16,
    "lenVar": 40
   },
   "kernels_config": {
    "python": {
     "delete_cmd_postfix": "",
     "delete_cmd_prefix": "del ",
     "library": "var_list.py",
     "varRefreshCmd": "print(var_dic_list())"
    },
    "r": {
     "delete_cmd_postfix": ") ",
     "delete_cmd_prefix": "rm(",
     "library": "var_list.r",
     "varRefreshCmd": "cat(var_dic_list()) "
    }
   },
   "types_to_exclude": [
    "module",
    "function",
    "builtin_function_or_method",
    "instance",
    "_Feature"
   ],
   "window_display": false
  }
 },
 "nbformat": 4,
 "nbformat_minor": 4
}
