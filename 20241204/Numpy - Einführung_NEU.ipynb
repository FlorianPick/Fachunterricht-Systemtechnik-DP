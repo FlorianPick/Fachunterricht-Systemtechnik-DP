{
 "cells": [
  {
   "cell_type": "markdown",
   "metadata": {},
   "source": [
    "<h1><font color='darkblue'>Einführung NumPy (Numerical Python)</font></h1>\n",
    "\n",
    "*Siehe auch: Daten- und Prozessanalyse Seite 189 4.2.3 ff*\n",
    "\n",
    "In diesem Notebook lernen wir die Bibliothek NumPy kennen. NumPy steht für numerical python. Diese Bibliothek wird insbesondere für mathematische Berechnungen verwendet. Desweiteren ist NumPy die Grundlage für viele weitere Bibliotheken, wie auch für die Pandas Bibliothek.  \n",
    "\n",
    "Lernziele:\n",
    "\n",
    "            1. Warum gibt es NumPy?\n",
    "            \n",
    "            2. Eindimensionale Array`s\n",
    "                2.1) Erstellen\n",
    "                2.2) Arbeiten mit Array´s (Array Eigenschaften, auf einzelne Elemente zugreifen, slicing, Elemente \n",
    "                     ändern)\n",
    "                     \n",
    "            3. Mehrdimensionale Array`s\n",
    "                3.1) Erstellen\n",
    "                3.2) Arbeiten mit np.Array´s\n",
    "                \n",
    "            4. Eingebaute Funktionen - rechnen mit Array`s\n",
    "            \n",
    "            5. Strukturierte Array`s\n",
    "                5.1) Erstellen\n",
    "                5.2) Arbeiten mit einem strukturierten Array\n",
    "\n",
    "            \n",
    "# Warum gibt es NumPy?\n",
    "\n",
    "Die Notwendigkeit ergibt sich aus den Grenzen der Standardelemente wie Listen, Dictionaries etc. Rechnen mit Listen ist zeitintensiv, da jedes mal durch for-schleifen \"gegangen\" werden muss. Aus diesem Grund wurde eine Bibliothek entwickelt, die schneller rechnen kann. \n",
    "\n",
    "Das nachfolgende Beispiel soll einmal die Grenzen von Listen verdeutlichen.\n",
    "\n",
    "Stell dir vor die Verkaufszahlen liegen in Listen vor. Jede Liste enthält die Verkaufszahlen des Monats pro Abteilung.\n",
    "\n",
    "                    revenues_march = [50,60,70,80,50]\n",
    "                         /                   \\\n",
    "                        /                     \\\n",
    "                 Liste Verkaufszahlen      Verkaufszahlen der \n",
    "                         vom März          Abteilung Nummer 3\n",
    "\n",
    "\n",
    "\n",
    "Dein Chef will nun von dir wissen, wie hoch die Verkaufszahlen der letzten zwei Monate für jede Abteilung waren und schickt dir im Anhang der eMail die 2 Listen.\n",
    "\n",
    "Da NumPy in deiner Welt noch nicht existiert und du die Aufgabe nicht an jemand anderen auslagern kannst, musst du nun selber die Aufgabe lösen. \n",
    "\n",
    "Lasst uns einmal anschauen, was zu tun ist!\n"
   ]
  },
  {
   "cell_type": "code",
   "execution_count": null,
   "metadata": {},
   "outputs": [],
   "source": [
    "# Ausgangspunkt - Listen mit Verkausfzahlen von Mai und Juni\n",
    "\n",
    "revenues_may = [1,2,3,4,5]     # der Index steht jeweils für die Abteilung z.B. Index 2 --> Abteilung X \n",
    "revenues_june = [6,7,8,9,10]   # hat im Mai 3 und im Juni 8 Einheiten verkauft\n",
    "\n",
    "# Wir müssen das 1.te Element aus der ersten Liste mit dem 1.ten Element der 2.ten Liste addieren und dass Ergebnis in \n",
    "# einer dritten Liste speichern.\n",
    "\n",
    "# Vorüberlegung: kann ich nicht einfach beide Listen addieren?"
   ]
  },
  {
   "cell_type": "code",
   "execution_count": null,
   "metadata": {},
   "outputs": [],
   "source": [
    "# Versuch, ob ich nicht einfach beide Listen addieren kann?\n",
    "\n",
    "ergebnis = revenues_may + revenues_june\n",
    "ergebnis\n",
    "\n",
    "# Fazit: Beide Listen werden nur aneinandergehangen\n",
    "# Muss wohl doch eine For-Schleife bauen"
   ]
  },
  {
   "cell_type": "code",
   "execution_count": null,
   "metadata": {},
   "outputs": [],
   "source": [
    "revenues_may_june = [] #um Ergebnis anzuzeigen\n",
    "\n",
    "for rev_may, rev_june in zip(revenues_may, revenues_june):\n",
    "    revenues_may_june.append(rev_may + rev_june)\n",
    "    print(rev_may, rev_june)\n",
    "revenues_may_june"
   ]
  },
  {
   "cell_type": "code",
   "execution_count": null,
   "metadata": {},
   "outputs": [],
   "source": [
    "revenues_may_june = [] #um Ergebnis anzuzeigen\n",
    "\n",
    "for rev_ges in zip(revenues_may, revenues_june, revenues_june, \"ABCDE\", (20,21,22,23,24)):\n",
    "    revenues_may_june.append(rev_ges[0] + rev_ges[1])\n",
    "    print(rev_ges[2])\n",
    "    print(rev_ges)\n",
    "revenues_may_june"
   ]
  },
  {
   "cell_type": "code",
   "execution_count": null,
   "metadata": {},
   "outputs": [],
   "source": [
    "revenues_may_june = [] #um Ergebnis anzuzeigen\n",
    "\n",
    "for i in range(min(len(revenues_may),len(revenues_june))):\n",
    "    revenues_may_june.append(revenues_may[i] + revenues_june[i])\n",
    "print(revenues_may_june)"
   ]
  },
  {
   "cell_type": "code",
   "execution_count": null,
   "metadata": {},
   "outputs": [],
   "source": [
    "# For-Schleife bauen\n",
    "\n",
    "revenues_may_june = [] #um Ergebnis anzuzeigen\n",
    "z = 0\n",
    "for zahl in revenues_may:\n",
    "    for nummer in revenues_june:\n",
    "        z += 1\n",
    "        if revenues_may.index(zahl) == revenues_june.index(nummer):  # über den Index gehen und die Werte mit gleichen                                \n",
    "            summe = zahl + nummer                                    # Indizes addieren\n",
    "            revenues_may_june.append(summe)\n",
    "            break                                                    # innere for-Schleife abbrechen\n",
    "print(revenues_may_june)\n",
    "print(z)\n",
    "\n",
    "# über den Index gehen und die Indizes gleichsetzen"
   ]
  },
  {
   "cell_type": "code",
   "execution_count": null,
   "metadata": {},
   "outputs": [],
   "source": [
    "# alternativ: Funktion schreiben\n",
    "\n",
    "def revenues(revenue_list1, revenue_list2):\n",
    "    revenues_2lists = [] #um Ergebnis anzuzeigen\n",
    "    \n",
    "    for zahl in revenue_list1:\n",
    "        for nummer in revenue_list2:\n",
    "            if revenue_list1.index(zahl) == revenue_list2.index(nummer):  # über den Index gehen und die Werte mit gleichen                                \n",
    "                summe = zahl + nummer                                    # Indizes addieren\n",
    "                revenues_2lists.append(summe)\n",
    "\n",
    "    return revenues_2lists"
   ]
  },
  {
   "cell_type": "code",
   "execution_count": null,
   "metadata": {},
   "outputs": [],
   "source": [
    "revenues(revenues_may,revenues_june)"
   ]
  },
  {
   "cell_type": "markdown",
   "metadata": {},
   "source": [
    "Ok, für diese Aufgabe von deinem Chef konntest du rechtzeitig eine Lösung entwickeln und bist froh, ihm die neue Liste präsentieren zu dürfen. Voller Stolz gehst du in sein Büro. \n",
    "\n",
    "Dort siehst du deinen Chef schon leicht verstimmt sitzen.\n",
    "Als du ihm die Zahlen geben möchtest, sagt er dir, dass er diese nicht mehr benötigt, da er gerade von der Zentrale eine eMail erhalten hat, dass \"die\" eine Auswertung über alle Abteilungen der Konzerngesellschaften brauchen für die letzen 20 Jahre. \n",
    "\n",
    "Da dein Chef weiß, dass er die Arbeit dir geben kann, leitet er dir die eMail weiter und sagt dir, dass du in einer Stunde die Zahlen liefern musst. Du merkst wie innerlich Panik in dir aufsteigt, denn du kennst dich gut mit der Konzernstruktur aus und weißt, dass ihr 200 Gesellschaften habt mit jeweils mind. 20 Abteilungen...und dann noch die Zahlen der letzten 20 Jahre!\n",
    "\n",
    "Eh du deine For-Schleife angepasst hast und diese dann auch noch durchgelaufen ist, vergeht mehr als eine Stunde.\n",
    "\n",
    "\n",
    "\n",
    "\n",
    "Wie du gemerkt hast, ist dass Rechnen mit Listen und den damit einhergehenden FOR-Schleifen zeitintensiv. Aus diesem Grund wurde ein Modul entwickelt, welches schneller numerische Rechnungen ausführen kann - nämlich NumPy :-)\n",
    "\n",
    "Lasst uns nun in NumPy einsteigen!"
   ]
  },
  {
   "cell_type": "markdown",
   "metadata": {},
   "source": [
    "<h2><font color='darkblue'>Eindimensionale Array`s</font></h2>     \n",
    "            \n",
    "NumPy steht für numerical Python und ist dafür konzipiert mathematische Rechnungen schnell durchzuführen.\n",
    "\n",
    "Während in Python Daten in Listen, Dictionaries etc. gespeichert und bearbeitet werden können, werden die Daten in NumPy in sogenannten ndimArray´s gespeichert und bearbeitet.\n",
    "\n",
    "\n",
    "Um mit NumPy arbeiten zu können, muss zunächst die Bibliothek importiert werden.\n",
    "\n",
    "<h3><font color='darkblue'>Erstellen</font></h3> "
   ]
  },
  {
   "cell_type": "code",
   "execution_count": null,
   "metadata": {},
   "outputs": [],
   "source": [
    "#!pip install numpy "
   ]
  },
  {
   "cell_type": "code",
   "execution_count": null,
   "metadata": {},
   "outputs": [],
   "source": [
    "# benötigte Bibliothek importieren\n",
    "\n",
    "import numpy as np     # Konvention mit \"np\" abzukürzen, grundsätzlich kann beliebiges Kürzel verwendet werden"
   ]
  },
  {
   "cell_type": "code",
   "execution_count": null,
   "metadata": {},
   "outputs": [],
   "source": [
    "# Erstellung eines eindimensionalen Array aus einer Liste mit der Funktion array\n",
    "\n",
    "liste = [1,2.55,3,4,5,6]  # Python-Liste\n",
    "\n",
    "neues_array = np.array(liste)    # Umwandlung in ein NumPy - Array\n",
    "print(type(neues_array), neues_array )"
   ]
  },
  {
   "cell_type": "code",
   "execution_count": null,
   "metadata": {
    "scrolled": true
   },
   "outputs": [],
   "source": [
    "# wie sieht dein array aus?\n",
    "\n",
    "print(neues_array) "
   ]
  },
  {
   "cell_type": "markdown",
   "metadata": {},
   "source": [
    "Ah! NumPy hat im Hintergrund aus den integers floats gemacht! Die Werte wurden also \"geupgraded\".\n",
    "\n",
    "Dies ist eine Eigenschaft von arrays - arrays müssen den selben Datentyp haben! Enthält eine Liste, die du in ein array umwandeln möchtest, verschiedene Datentypen, dann handhabt NumPy im Hintergrund die Anpassung der Datentypen auf ein und denselben Datentyp.\n",
    "\n",
    "Und wie ist das mit strings?"
   ]
  },
  {
   "cell_type": "code",
   "execution_count": null,
   "metadata": {},
   "outputs": [],
   "source": [
    "str_liste = [1, 4.5, \"max\"] # Python-Liste\n",
    "\n",
    "neue_array2 = np.array(str_liste) # Umwandlung in ein NumPy - Array\n",
    "\n",
    "neue_array2 "
   ]
  },
  {
   "cell_type": "markdown",
   "metadata": {},
   "source": [
    "Ok - hier wurden alle Werte in strings umgewandelt!\n",
    "\n",
    "<div style=\"background-color:rgba(241, 158, 158, .5); margin:20px; padding:30px;\">\n",
    "<h5><font color='black'>Merkbox:</font></h5> \n",
    "\n",
    "Es exisitiert eine Hierarchie:\n",
    "\n",
    "                                 str > float > int\n",
    "\n",
    "Diese Handhabung ist im DataPreprocessing später für die Identifizierung von fehlenden Werten wichtig!\n",
    "\n",
    "Auch bezogen auf den Speicherplatz ist diese Information wichtig!\n",
    "\n",
    "Denn bei großen Datenmengen haben wir ein Speicherplatzproblem und können dieses durch die Anpassung der Datentypen minimieren/reduzieren!\n",
    "\n",
    "</div>"
   ]
  },
  {
   "cell_type": "code",
   "execution_count": null,
   "metadata": {},
   "outputs": [],
   "source": [
    "str_liste = [1, 4, 7] # Python-Liste\n",
    "\n",
    "neue_array22 = np.array(str_liste) # Umwandlung in ein NumPy - Array\n",
    "\n",
    "neue_array22 "
   ]
  },
  {
   "cell_type": "code",
   "execution_count": null,
   "metadata": {},
   "outputs": [],
   "source": [
    "# Wie kann ich einen bestimmten Datentyp mitgeben?\n",
    "# mit dtype\n",
    "\n",
    "neue_array3 = np.array([1, 4.5, 3,8.6], dtype='int')\n",
    "neue_array3 "
   ]
  },
  {
   "cell_type": "markdown",
   "metadata": {},
   "source": [
    "Wie du siehst, hat NumPy die floats in int umgewandelt.\n",
    "\n",
    "Aber funktioniert das auch mit strings? Also kann ich NumPy sagen, dass ich einen float haben möchte, obwohl NumPy\n",
    "von natur aus alle Elemente in strings umwandeln würde? Kurz: Geht ein \"Management override\"?"
   ]
  },
  {
   "cell_type": "code",
   "execution_count": null,
   "metadata": {},
   "outputs": [],
   "source": [
    "# Kann ich einem string sagen, dass es ein float sein soll?\n",
    "\n",
    "neue_array4 = np.array([1, 2.5, \"test\"], dtype='float32')\n",
    "neue_array4 "
   ]
  },
  {
   "cell_type": "markdown",
   "metadata": {},
   "source": [
    "<div style=\"background-color:rgba(241, 158, 158, .5); margin:20px; padding:30px;\">\n",
    "<h5><font color='black'>Merkbox:</font></h5>  \n",
    "\n",
    "Ich kann kein \"downgrade\" durchführen. Die Liste wird automatisch an den \"höchsten\" Datentyp angepasst.\n",
    "\n",
    "Hier haben wir einen weiteren Unterschied zwischen Python-Listen und NumPy-arrays erarbeitet:\n",
    "\n",
    "Python-Listen können unterschiedliche Datentypen händeln.\n",
    "\n",
    "NumPy-Arrays können nur mit gleichen Datentypen arbeiten und wandeln diese automatisch um.\n",
    "\n",
    "</div>\n",
    "\n",
    "<h3><font color='darkblue'>Arbeiten mit Array´s (Array Eigenschaften, auf einzelne Elemente zugreifen, slicing, Elemente ändern, verketten/aufteilen)</font></h3> \n",
    "\n",
    "\n",
    "Zunächst einmal wollen wir schauen, wie du die Eigenschaften des Arrays ausfindig machst.\n",
    "\n",
    "<h4><font color='darkblue'>Array Eigenschaften</font></h4> "
   ]
  },
  {
   "cell_type": "code",
   "execution_count": null,
   "metadata": {},
   "outputs": [],
   "source": [
    "# Um heraus zu finden, ob ein numpy array vorliegt, kannst du type() verwenden\n",
    "\n",
    "type(neues_array)"
   ]
  },
  {
   "cell_type": "code",
   "execution_count": null,
   "metadata": {},
   "outputs": [],
   "source": [
    "print(neues_array)\n",
    "neues_array.dtype"
   ]
  },
  {
   "cell_type": "code",
   "execution_count": null,
   "metadata": {},
   "outputs": [],
   "source": [
    "# Um den Datentyp herauszufinden aus dem die Elemente in dem array bestehen,\n",
    "# kannst du die Methode dtype() verwenden\n",
    "print(neue_array2)\n",
    "neue_array2.dtype"
   ]
  },
  {
   "cell_type": "code",
   "execution_count": null,
   "metadata": {},
   "outputs": [],
   "source": [
    "print(neue_array22)\n",
    "neue_array22.dtype "
   ]
  },
  {
   "cell_type": "code",
   "execution_count": null,
   "metadata": {},
   "outputs": [],
   "source": [
    "# Um die Anzahl der Elemente herauszufinden, verwendest du einfache size\n",
    "print(neue_array2)\n",
    "print(neue_array2.size)\n",
    "#print(len(neue_array2))\n",
    "# die neue_larray2 besteht also aus 3 Elementen"
   ]
  },
  {
   "cell_type": "code",
   "execution_count": null,
   "metadata": {},
   "outputs": [],
   "source": [
    "#Python\n",
    "print(str_liste)\n",
    "len(str_liste)"
   ]
  },
  {
   "cell_type": "code",
   "execution_count": null,
   "metadata": {},
   "outputs": [],
   "source": [
    "# später wirst du sehen, dass es auch arrays mit mehreren Dimensionen gibt. Um herauszufinden wie viele Dimensionen das\n",
    "# array hat, verwendest du einfach ndim\n",
    "\n",
    "print(neue_array2.ndim)\n",
    "\n",
    "# ok, unser array ist eindimensional"
   ]
  },
  {
   "cell_type": "code",
   "execution_count": null,
   "metadata": {},
   "outputs": [],
   "source": [
    "# um herauszufinden aus wievielen Elementen dein mehrdimensionales array in jeder Dimension besteht,\n",
    "# verwendest du einfach shape\n",
    "\n",
    "x = neue_array2.shape\n",
    "print(x)\n",
    "print(type(x))\n",
    "\n",
    "# ok, du erhälsts also ein Tupel zurück, welches dir sagt, dass dein array aus einer Dimension und diese Dimension\n",
    "# aus 3 Elementen besteht"
   ]
  },
  {
   "cell_type": "markdown",
   "metadata": {},
   "source": [
    "<h4><font color='darkblue'>auf einzelne Elemente zugreifen</font></h4>\n",
    "\n",
    "Auf eindimensionale Arrays kannst du wie auf Listen drauf zugreifen - über den Index!\n"
   ]
  },
  {
   "cell_type": "code",
   "execution_count": null,
   "metadata": {},
   "outputs": [],
   "source": [
    "# Ausgangspunkt\n",
    "\n",
    "liste = [1, 4, 6.8, 9.5]  # Python-Liste\n",
    "\n",
    "np_array2 = np.array(liste)  # numpy array "
   ]
  },
  {
   "cell_type": "code",
   "execution_count": null,
   "metadata": {},
   "outputs": [],
   "source": [
    "print(np_array2)"
   ]
  },
  {
   "cell_type": "code",
   "execution_count": null,
   "metadata": {},
   "outputs": [],
   "source": [
    "# Wie kommst du an die 6.8 heran?\n",
    "\n",
    "np_array2[2]"
   ]
  },
  {
   "cell_type": "code",
   "execution_count": null,
   "metadata": {},
   "outputs": [],
   "source": [
    "# Wie kannst du an der Stelle von 9.5 den Wert 99.9 zuweisen?\n",
    "\n",
    "np_array2[3] = 99.9\n",
    "#np_array2[3] = 'XX'\n",
    "print(np_array2)"
   ]
  },
  {
   "cell_type": "code",
   "execution_count": null,
   "metadata": {},
   "outputs": [],
   "source": [
    "liste = [1, 4, 6.8, 9.5]  # Python-Liste\n",
    "\n",
    "np_array31 = np.array(liste)  # numpy array \n",
    "print(np_array31, np_array31.dtype)\n",
    "np_array31[2] = 7.1                        # float-wert\n",
    "print(np_array31, np_array31.dtype)        # Bei Aktualisierung wird der Datentyp des array nicht geändert\n"
   ]
  },
  {
   "cell_type": "markdown",
   "metadata": {},
   "source": [
    "<h4><font color='darkblue'>slicing - auf mehrere Elemente zugreifen</font></h4>"
   ]
  },
  {
   "cell_type": "code",
   "execution_count": null,
   "metadata": {},
   "outputs": [],
   "source": [
    "# Wie kannst du dir die 4 und 6.8 anzeigen lassen?\n",
    "\n",
    "np_array2[1:3]\n",
    "np_array2[::-1]\n"
   ]
  },
  {
   "cell_type": "code",
   "execution_count": null,
   "metadata": {},
   "outputs": [],
   "source": [
    "liste[::-1]"
   ]
  },
  {
   "cell_type": "markdown",
   "metadata": {},
   "source": [
    "<h4><font color='darkblue'>Elemente ändern</font></h4>"
   ]
  },
  {
   "cell_type": "code",
   "execution_count": null,
   "metadata": {},
   "outputs": [],
   "source": [
    "# Wie kannst du der 4 und der 6.8 die Werte 45 und 68 zuweisen?\n",
    "\n",
    "np_array2[1:3:] = 44, 68\n",
    "np_array2[3] = 99\n",
    "\n",
    "print(np_array2)"
   ]
  },
  {
   "cell_type": "markdown",
   "metadata": {},
   "source": [
    "# <h2><font color='darkblue'>Mehrdimensionale Arrays</font></h2>\n",
    "\n",
    "<div style=\"background-color:rgba(255, 255,0, 0.6); margin:20px; padding:30px;\">\n",
    "<h5><font color='black'>Hinweis:</font></h5> \n",
    "\n",
    "Arrays können unendliche Dimensionen haben. Eine Voraussetzung dafür ist, dass sie die gleiche Form haben (den gleichen Shape). Wenn einzelne Dimensionen nicht den gleichen shape haben, müssen diese vorher auf ein und denselben shape angepasst werden. Dass nennt man broadcasting.\n",
    "\n",
    "Im nachfolgenden werden wir immer Arrays mit gleicher shape haben.\n",
    "</div>\n",
    "\n",
    "\n",
    "## <h3><font color='darkblue'>Erstellen</font></h3> "
   ]
  },
  {
   "cell_type": "code",
   "execution_count": null,
   "metadata": {},
   "outputs": [],
   "source": [
    "# Erstellen eines zweidimensionalen arrays\n",
    "\n",
    "# Ausgangsliste - Pythonliste\n",
    "\n",
    "liste_fuer_2darray = [[1,2,3], [4,5,6]]\n",
    "liste_fuer_2darray"
   ]
  },
  {
   "cell_type": "code",
   "execution_count": null,
   "metadata": {},
   "outputs": [],
   "source": [
    "# Umwandeln in ein 2D-Array\n",
    "\n",
    "np_2darray = np.array(liste_fuer_2darray)\n",
    "print(np_2darray) \n",
    "np_2darray"
   ]
  },
  {
   "cell_type": "markdown",
   "metadata": {},
   "source": [
    "<h3><font color='darkblue'>Arbeiten mit nd.Array´s</font></h3> \n",
    "\n",
    "Zunächst einmal wollen wir schauen, wie du die Eigenschaften des Arrays ausfindig machst.\n",
    "\n",
    "<h4><font color='darkblue'>Array Eigenschaften</font></h4> "
   ]
  },
  {
   "cell_type": "code",
   "execution_count": null,
   "metadata": {},
   "outputs": [],
   "source": [
    "# wie viele Dimensionen hat das array?\n",
    "# Methode ndim\n",
    "\n",
    "np_2darray.ndim \n",
    "\n",
    "# ok, dass array besteht aus 2 Dimensionen --> könntest du diese Info auch optisch erkennen? \n",
    "#                                              Siehe dir dazu das nächste Beispiel an"
   ]
  },
  {
   "cell_type": "code",
   "execution_count": null,
   "metadata": {},
   "outputs": [],
   "source": [
    "# Kannst du optisch erkennen aus wie vielen Dimensionen das Array besteht?\n",
    "\n",
    "liste = [[[\"a\",\"z\",\"d\"],[\"k\",\"h\",\"b\"]],[[\"f\",\"n\",\"u\"],[\"o\",\"p\",\"q\"]]]\n",
    "\n",
    "np_array = np.array(liste) \n",
    "print(np_array,'\\n', np_array.ndim)"
   ]
  },
  {
   "cell_type": "code",
   "execution_count": null,
   "metadata": {},
   "outputs": [],
   "source": [
    "# wie komme ich an das n?\n",
    "\n",
    "print(np_array[1,0,1])"
   ]
  },
  {
   "cell_type": "code",
   "execution_count": null,
   "metadata": {},
   "outputs": [],
   "source": [
    "np_array.ndim"
   ]
  },
  {
   "cell_type": "code",
   "execution_count": null,
   "metadata": {},
   "outputs": [],
   "source": [
    "np_array.shape\n",
    "\n",
    "# anhand der Anzahl der Elemente in dem Tupel erkennst du die Anzahl der Dimension\n",
    "# d.h. hier sind 3 Elemente in dem Tupel und somit 3 Dimensionen\n",
    "# jedes Element wiederum zeigt dir aus wie vielen Elementen jede Dimension besteht, beginnend \n",
    "# von außen nach innen folglich hat Dimension 1 zwei Elemente, in der Dimension 2 sind wiederum 2 Elemente und in der Dimension 3 sind\n",
    "# drei Elemente enthalten"
   ]
  },
  {
   "cell_type": "code",
   "execution_count": null,
   "metadata": {},
   "outputs": [],
   "source": [
    "np_array.size\n",
    "\n",
    "# mit size kannst du die Gesamtanzahl der Elemente bestimmen"
   ]
  },
  {
   "cell_type": "markdown",
   "metadata": {},
   "source": [
    "<h4><font color='darkblue'>auf einzelne Elemente zugreifen</font></h4>\n",
    "\n",
    "Um auf Elemente zugreifen zu können, musst du verschiedene Dimensionen \"knacken\".\n",
    "Die Funktionsweise aus Python wie man auf Elemente in einer Liste drauf zugreift liste[] wird in NumPy um die Dimensionen erweitert. Das Grundprinzip bleibt also gleich.\n",
    "\n",
    "Wie schon beim JSON können wir hier auch Schritt für Schritt (Tippel-tappel-tour) schauen, wie wir an die nächste Ebene herankommen.\n",
    "\n",
    "Lasst uns nun anhand eines Beispiels kennen lernen, wie ihr auf Elemente drauf zu greift."
   ]
  },
  {
   "cell_type": "code",
   "execution_count": null,
   "metadata": {},
   "outputs": [],
   "source": [
    "# Ausgangsbeispiel - Python Liste\n",
    "\n",
    "a = [[11, 12, 13], [21, 22, 23], [31, 32, 33]]\n",
    "a "
   ]
  },
  {
   "cell_type": "code",
   "execution_count": null,
   "metadata": {},
   "outputs": [],
   "source": [
    "# Umwandlung in ein array\n",
    "import numpy as np\n",
    "a_np_array = np.array(a)\n",
    "a_np_array"
   ]
  },
  {
   "attachments": {},
   "cell_type": "markdown",
   "metadata": {},
   "source": [
    "Die Werte für ein zweidimensionales Array könnt ihr anhand folgender Grafik erkennen:\n",
    "\n",
    "\n",
    "<img src=\"NumTwoFT.png\" width=\"400\" />\n"
   ]
  },
  {
   "cell_type": "code",
   "execution_count": null,
   "metadata": {},
   "outputs": [],
   "source": [
    "# Lasst uns auf die 23 drauf zugreifen. Welche Möglichkeiten gibt es?\n",
    "\n",
    "# Möglichkeit 1: (und zu empfehlen!)\n",
    "\n",
    "a_np_array[1,2] "
   ]
  },
  {
   "cell_type": "code",
   "execution_count": null,
   "metadata": {},
   "outputs": [],
   "source": [
    "# Möglichkeit 2: (diese Möglichkeit hat ihre Grenzen! Wer kann diese Grenze jetzt schon sehen?)\n",
    "\n",
    "a_np_array[1][2]  # auf Array\n",
    "#a[1][2]           # auf Liste"
   ]
  },
  {
   "cell_type": "markdown",
   "metadata": {},
   "source": [
    "Lasst uns nun auf mehrere Elemente drauf zugreifen.\n",
    "\n",
    "Wie greifst du auf die markierten Werte drauf zu?\n",
    "\n",
    "<img src=\"NumTwoFSF.png\" width=\"400\" />"
   ]
  },
  {
   "cell_type": "markdown",
   "metadata": {},
   "source": [
    "<h4><font color='darkblue'>slicing - auf mehrere Elemente zugreifen</font></h4>"
   ]
  },
  {
   "cell_type": "code",
   "execution_count": null,
   "metadata": {},
   "outputs": [],
   "source": [
    "# Auf die 11 und 12 greife ich wie folgt drauf zu:\n",
    "\n",
    "# Möglichkeit 1:\n",
    "    \n",
    "a_np_array[0][0:2]\n",
    "#a[0][0:2]\n"
   ]
  },
  {
   "cell_type": "code",
   "execution_count": null,
   "metadata": {},
   "outputs": [],
   "source": [
    "# Möglichkeit 2:\n",
    "\n",
    "a_np_array[0,0:2]\n",
    "#a[0,0:2]                # geht bei einer Liste nicht!\n"
   ]
  },
  {
   "cell_type": "markdown",
   "metadata": {},
   "source": [
    "Wie greifst du auf nachfolgende Werte drauf zu?\n",
    "\n",
    "<img src=\"NumTwoTST.png\" width=\"400\" />"
   ]
  },
  {
   "cell_type": "code",
   "execution_count": null,
   "metadata": {},
   "outputs": [],
   "source": [
    "# Auf die 23 und 33 greife ich wie folgt drauf zu:\n",
    "\n",
    "# Möglichkeit 1:\n",
    "\n",
    "a_np_array[1:3,2] \n",
    "\n",
    "# oder\n",
    "\n",
    "#a_np_array[1:,2]"
   ]
  },
  {
   "cell_type": "code",
   "execution_count": null,
   "metadata": {
    "scrolled": true
   },
   "outputs": [],
   "source": [
    "# Möglichkeit 2: \n",
    "\n",
    "# Funktioniert irgendwie nicht?!?!? # Oder wie funktioniert das Slicing nun wirklich?\n",
    "# vertikal ist nicht möglich\n",
    "a_np_array[1:][:,2]\n"
   ]
  },
  {
   "cell_type": "markdown",
   "metadata": {},
   "source": [
    "<h4><font color='darkblue'>Elemente ändern</font></h4>"
   ]
  },
  {
   "cell_type": "code",
   "execution_count": null,
   "metadata": {},
   "outputs": [],
   "source": [
    "# Werte ändern - wie kannst du der 22 die 88 zuweisen?\n",
    "\n",
    "a_np_array[1,1] = 88 \n",
    "a_np_array"
   ]
  },
  {
   "cell_type": "code",
   "execution_count": null,
   "metadata": {},
   "outputs": [],
   "source": [
    "# Was passiert, wenn du der 23 den Wert 55.55 zuweist? Eingangs haben wir gelernt, dass ein array nur aus EINEM \n",
    "# Datentyp bestehen darf. Was macht NumPy hier - wertet NumPy die bisherigen Datentyp \"auf\" oder wird der neue\n",
    "# Wert an die bisherigen Werte angepasst?\n",
    "\n",
    "a_np_array[1,2] = 55.55\n",
    "print(a_np_array.dtype)\n",
    "a_np_array"
   ]
  },
  {
   "cell_type": "code",
   "execution_count": null,
   "metadata": {},
   "outputs": [],
   "source": [
    "int(55.55)"
   ]
  },
  {
   "cell_type": "markdown",
   "metadata": {},
   "source": [
    "ok - der neue Wert wird an den bisherigen Datentyp angepasst!\n",
    "\n",
    "Warum ist das so?\n",
    "\n",
    "Weil der Speicherplatz beim Erstellen des Arrays vergeben wurde und damit festgelegt ist."
   ]
  },
  {
   "cell_type": "markdown",
   "metadata": {},
   "source": [
    "## array erweitern"
   ]
  },
  {
   "cell_type": "code",
   "execution_count": null,
   "metadata": {},
   "outputs": [],
   "source": [
    "a_np_array = np.array(a)\n",
    "print(a_np_array)\n",
    "print('Dimension: ',a_np_array.ndim)\n",
    "print('Shape    : ',a_np_array.shape)\n",
    "print('Size     : ',a_np_array.size)\n",
    "a_np_array_a = np.append(a_np_array, np.ones((1,3), dtype=int), axis=0 )   # np.ones legt ein eindim. array mit gleichen Werten an\n",
    "#a_np_array_a = np.append(a_np_array, [[2, 2, 2]], axis=0 )\n",
    "#a_np_array_a = np.append(a_np_array, np.ones((3,1), dtype=int), axis=1 )\n",
    "#a_np_array_a = np.append(a_np_array, [[2],[2],[2]], axis=1 )\n",
    "#a_np_array_a = np.append(a_np_array, [[2., 2., 2.]], axis=0 ) # float Wert --> was passiert?\n",
    "#a_np_array_a = np.append(a_np_array, [[\"2.\", 2., 2.]], axis=0 ) # 1 string Wert --> was passiert?\n",
    "# print(id(a_np_array))\n",
    "# a_np_array_a = np.append(a_np_array, [[2., 2, 2]], axis=0 ) # a_np_array bekommt eine neue ID, wird neu im Speicher abgelegt\n",
    "# print(id(a_np_array_a))\n",
    "print(a_np_array_a)\n",
    "print('Dimension: ',a_np_array_a.ndim)\n",
    "print('Shape    : ',a_np_array_a.shape)\n",
    "print('Size     : ',a_np_array_a.size)"
   ]
  },
  {
   "cell_type": "code",
   "execution_count": null,
   "metadata": {
    "scrolled": true
   },
   "outputs": [],
   "source": [
    "# Kopieren eines Arrays\n",
    "a_np_array = np.array(a)\n",
    "#a_np_array_copy = a_np_array         # wird das gleiche Objekt!!\n",
    "#a_np_array_copy = a_np_array[:,:]     # wird das gleiche Objekt!!\n",
    "a_np_array_copy =  a_np_array.copy()  # wird nicht das gleiche Objekt!! (Deep copy)\n",
    "print(id(a_np_array))\n",
    "print(id(a_np_array_copy))\n",
    "a_np_array_copy[:,:] = 99\n",
    "print(a_np_array_copy)\n",
    "print(a_np_array)\n"
   ]
  },
  {
   "cell_type": "code",
   "execution_count": null,
   "metadata": {},
   "outputs": [],
   "source": [
    "np.ones((3,1))"
   ]
  },
  {
   "cell_type": "code",
   "execution_count": null,
   "metadata": {},
   "outputs": [],
   "source": [
    "array_z = (np.ones((3,3,3))*5)\n",
    "#arrarray_z = (np.zeros((3,3,3))*5)\n",
    "#array_z[:,:,1] = 99    # Zugriff auf eine Spalte (Array gesamt)\n",
    "print(array_z)"
   ]
  },
  {
   "cell_type": "markdown",
   "metadata": {},
   "source": [
    "append() benutzt in numpy die Funktion concatenate.\n",
    "Somit haben append() und concatenate() die gleiche funktionalität!\n",
    "\n",
    "```python\n",
    "def append(arr, values, axis=None):\n",
    "    arr = asanyarray(arr)\n",
    "    if axis is None:\n",
    "        if arr.ndim != 1:\n",
    "            arr = arr.ravel()\n",
    "        values = ravel(values)\n",
    "        axis = arr.ndim-1\n",
    "    return concatenate((arr, values), axis=axis)\n",
    "```\n"
   ]
  },
  {
   "cell_type": "code",
   "execution_count": null,
   "metadata": {},
   "outputs": [],
   "source": [
    "# Arrays über concatenate zusammenführen\n",
    "a_np_array = np.array(a)\n",
    "print(a_np_array)\n",
    "print('Dimension: ',a_np_array.ndim)\n",
    "print('Shape    : ',a_np_array.shape)\n",
    "print('Size     : ',a_np_array.size)\n",
    "a_np_array_c = np.concatenate((a_np_array, [[2, 2, 2]]))\n",
    "#a_np_array_c = np.concatenate((a_np_array, [[2., 2, 2]]))   # anderer Datentyp\n",
    "#a_np_array_c = np.concatenate((a_np_array, [[2], [2], [2]]),axis=1)\n",
    "#a_np_array_c = np.concatenate((a_np_array, np.ones((1,3), dtype=int)))\n",
    "print(a_np_array_c)\n",
    "print('Dimension: ',a_np_array_c.ndim)\n",
    "print('Shape    : ',a_np_array_c.shape)\n",
    "print('Size     : ',a_np_array_c.size)"
   ]
  },
  {
   "cell_type": "code",
   "execution_count": null,
   "metadata": {},
   "outputs": [],
   "source": [
    "list0 = [1,2,3]\n",
    "list1 = [4,5,6]\n",
    "#list0.append(list1)\n",
    "#concatenate(list0,  list1)\n",
    "print(list0 + list1)\n",
    "list0.extend(list1)\n",
    "print(list0)"
   ]
  },
  {
   "cell_type": "markdown",
   "metadata": {},
   "source": [
    "<h2><font color='darkblue'>Eingebaute Funktionen - rechnen mit Array`s</font></h2>\n",
    "\n",
    "Um mit arrays rechnen zu können, existieren eingebaute Funktionen. \n",
    "\n",
    "Mit diesen Funktionen können Berechnungen erstens übersichtlich (kürzerer Code) und schneller durchgeführt werden.\n",
    "\n",
    "Würde diese Funktionen nicht existieren, müsste man sich jedes mal eine Schleife schreiben, die die Rechnung für jedes einzelne Element ausführt und danach speichert.\n",
    "\n",
    "Grundsätzlich können die Standardoperation per Zeichen oder per Funktion ausgeführt werden\n",
    "\n",
    "### Standardoperationen per Zeichen: Addieren, Subtrahieren, Dividieren, Multiplizieren"
   ]
  },
  {
   "cell_type": "code",
   "execution_count": null,
   "metadata": {},
   "outputs": [],
   "source": [
    "# Ausgangspunkt\n",
    "\n",
    "import numpy as np\n",
    "\n",
    "liste = [1.234, 5.5555, 9.5, 7.8]\n",
    "\n",
    "y_np_array = np.array(liste)\n",
    "z_np_array = np.array(liste)\n",
    "print(np.append(z_np_array,[66.], axis=0))\n",
    "print(z_np_array)\n",
    "print(y_np_array)"
   ]
  },
  {
   "cell_type": "code",
   "execution_count": null,
   "metadata": {},
   "outputs": [],
   "source": [
    "# mit 10 addieren\n",
    "x = y_np_array + 10\n",
    "# Version mit Liste\n",
    "print(liste)\n",
    "liste1 = list(liste)\n",
    "for i, j in enumerate(liste):\n",
    "#    print(i, j)\n",
    "    liste1[i] = j + 10\n",
    "print(liste1)\n",
    "print(x)"
   ]
  },
  {
   "cell_type": "code",
   "execution_count": null,
   "metadata": {},
   "outputs": [],
   "source": [
    "# Mehrdimensionales Array\n",
    "a = [[11, 12, 13], [21, 22, 23], [31, 32, 33]]\n",
    "a_np_array = np.array(a)\n",
    "\n",
    "print(a_np_array)\n",
    "a_np_array += 10\n",
    "#a_np_array = a_np_array + 10\n",
    "print(f'######\\n{a_np_array}')\n"
   ]
  },
  {
   "cell_type": "code",
   "execution_count": null,
   "metadata": {},
   "outputs": [],
   "source": [
    "# mit 10 mulitplizieren\n",
    "print(y_np_array)\n",
    "print(y_np_array*10)"
   ]
  },
  {
   "cell_type": "code",
   "execution_count": null,
   "metadata": {},
   "outputs": [],
   "source": [
    "# mit 10 subtrahieren\n",
    "\n",
    "print(y_np_array)\n",
    "print(y_np_array-10)"
   ]
  },
  {
   "cell_type": "code",
   "execution_count": null,
   "metadata": {},
   "outputs": [],
   "source": [
    "# durch 10 teilen\n",
    "\n",
    "print(y_np_array)\n",
    "print(y_np_array/10)"
   ]
  },
  {
   "cell_type": "code",
   "execution_count": null,
   "metadata": {},
   "outputs": [],
   "source": [
    "# \"hoch\" rechnen\n",
    "\n",
    "print(y_np_array)\n",
    "print(y_np_array ** 3)"
   ]
  },
  {
   "cell_type": "code",
   "execution_count": null,
   "metadata": {},
   "outputs": [],
   "source": [
    "# Zahlen ins negative drehen\n",
    "print(y_np_array)\n",
    "print(-y_np_array)\n",
    "print(y_np_array * -1)"
   ]
  },
  {
   "cell_type": "code",
   "execution_count": null,
   "metadata": {},
   "outputs": [],
   "source": [
    "print(a_np_array)\n",
    "print(a_np_array * (a_np_array))\n",
    "#print(a_np_array ** 2)\n"
   ]
  },
  {
   "cell_type": "code",
   "execution_count": null,
   "metadata": {},
   "outputs": [],
   "source": [
    "print(a_np_array)\n",
    "print(a_np_array * [[2,5,10]])"
   ]
  },
  {
   "cell_type": "code",
   "execution_count": null,
   "metadata": {},
   "outputs": [],
   "source": [
    "print(a_np_array)\n",
    "print(a_np_array * [[2],[5],[10]])"
   ]
  },
  {
   "cell_type": "code",
   "execution_count": null,
   "metadata": {},
   "outputs": [],
   "source": [
    "print(a_np_array)\n",
    "print(a_np_array * [[1,0,0], [0,1,0], [0,0,1]])  # Werte filtern"
   ]
  },
  {
   "cell_type": "markdown",
   "metadata": {},
   "source": [
    "### Standardoperationen per Funktionen: Addieren, Subtrahieren, Dividieren, Multiplizieren"
   ]
  },
  {
   "cell_type": "code",
   "execution_count": null,
   "metadata": {},
   "outputs": [],
   "source": [
    "# Ausgangspunkt\n",
    "\n",
    "import numpy as np\n",
    "\n",
    "liste = [1.234, 5.5555, 9.5, 7.8]\n",
    "\n",
    "y_np_array = np.array(liste)\n",
    "y_np_array"
   ]
  },
  {
   "cell_type": "code",
   "execution_count": null,
   "metadata": {},
   "outputs": [],
   "source": [
    "# mit 10 addieren\n",
    "erg = np.add(y_np_array, 10)\n",
    "print(erg, type(erg))\n",
    "erg1 = np.add(liste,20)\n",
    "print(erg1, type(erg1))\n",
    "erg2 = np.add((20,22,24), 20)\n",
    "print(erg2, type(erg2))"
   ]
  },
  {
   "cell_type": "code",
   "execution_count": null,
   "metadata": {},
   "outputs": [],
   "source": [
    "# mit 10 mulitplizieren\n",
    "\n",
    "np.multiply(y_np_array, 10)"
   ]
  },
  {
   "cell_type": "code",
   "execution_count": null,
   "metadata": {},
   "outputs": [],
   "source": [
    "# mit 10 subtrahieren\n",
    "\n",
    "np.subtract(y_np_array, 10)"
   ]
  },
  {
   "cell_type": "code",
   "execution_count": null,
   "metadata": {},
   "outputs": [],
   "source": [
    "# durch 10 teilen\n",
    "\n",
    "np.divide(y_np_array, 10)"
   ]
  },
  {
   "cell_type": "code",
   "execution_count": null,
   "metadata": {},
   "outputs": [],
   "source": [
    "# Zahlen ins negative drehen\n",
    "\n",
    "np.negative(y_np_array)"
   ]
  },
  {
   "cell_type": "markdown",
   "metadata": {},
   "source": [
    "## Binär"
   ]
  },
  {
   "cell_type": "code",
   "execution_count": null,
   "metadata": {},
   "outputs": [],
   "source": [
    "b_array = np.zeros((3,3), dtype=bool)\n",
    "print(b_array)\n",
    "print(b_array | [[True,True,True],[False,True,False],[True,True,True]])"
   ]
  },
  {
   "cell_type": "markdown",
   "metadata": {},
   "source": [
    "<h2><font color='darkblue'>Strukturiertes Arrays</font></h2>\n",
    "\n",
    "\n",
    "<h3><font color='darkblue'>Erstellen</font></h3> \n",
    "\n",
    "Wenn du Daten analysierst, wirst du i.d.R. eine Tabelle bekommen in der die Daten beschrieben sind. In diesen Fällen handhabt Pandas diese Fälle unkomplizierter. NumPy wird eher verwendet, wenn es um \"reine\" Zahlen geht wie in der Bildverarbeitung oder beim Rechnen mit Matrizen.\n",
    "\n",
    "Allerdings kann NumPy auch Daten  die inhaltlich zusammenhängen verarbeiten. \n",
    "\n",
    "Stell dir vor, du hast verschiedene Daten über Personen von einer Studie in Listen vorliegen:"
   ]
  },
  {
   "cell_type": "code",
   "execution_count": null,
   "metadata": {},
   "outputs": [],
   "source": [
    "name = ['Alice', 'Bob', 'Cathy', 'Doug']\n",
    "age = [25, 45, 37, 19]\n",
    "weight = [55.0, 85.5, 68.0, 61.5] "
   ]
  },
  {
   "cell_type": "markdown",
   "metadata": {},
   "source": [
    "Du könntest diese Listen jetzt entweder in 3 separaten arrays speichern. Deine Abfragen müssten dann über alle 3 arrays laufen - das wäre ganz schön umständlich.\n",
    "\n",
    "Daher bilden wir alles in einem array ab. Dazu werden folgende Schritte benötigt:\n",
    "\n",
    "1. erst ein leeres array erstellen "
   ]
  },
  {
   "cell_type": "code",
   "execution_count": null,
   "metadata": {},
   "outputs": [],
   "source": [
    "np_array_candidates = np.zeros(4, dtype={'names':('name', 'alter', 'gewicht'),\n",
    "                          'formats':('U10', 'i4', 'f8')})\n",
    "\n",
    "np_array_candidates "
   ]
  },
  {
   "cell_type": "code",
   "execution_count": null,
   "metadata": {},
   "outputs": [],
   "source": [
    "# Alternativ mit Liste und Tuple\n",
    "np_array_candidates_1 = np.zeros(4, dtype=[('name', 'U10'), ('alter', 'i4'), ('gewicht', 'f8')])\n",
    "\n",
    "np_array_candidates_1"
   ]
  },
  {
   "cell_type": "markdown",
   "metadata": {},
   "source": [
    "Wofür steht was?\n",
    "\n",
    " np.zero --> erstellt ein leeren array mit Nullen\n",
    "    \n",
    " 4 --> gibt die Anzahl der Elemente pro Dimension mit\n",
    " \n",
    " names --> gibt die Namen für die Labels mit, auf die nachher zugegriffen wird\n",
    " \n",
    " dtype --> gibt die Datentypen mit\n",
    " \n",
    " dtpye - formats:\n",
    " \n",
    "       U10 --> steht dafür, dass ein string (unicode) mit maximal 10 Zeichen gefüllt werden kann\n",
    "       \n",
    "       i4 --> steht für einen integer mit einem Speicherplatz von 4-Byte\n",
    "       \n",
    "       f8 --> steht für einen float mit einem Speicherplatz von 8 Byte\n",
    "       "
   ]
  },
  {
   "cell_type": "code",
   "execution_count": null,
   "metadata": {},
   "outputs": [],
   "source": [
    "print(np_array_candidates.dtype)\n",
    "print(np_array_candidates, '\\n', type(np_array_candidates))"
   ]
  },
  {
   "cell_type": "markdown",
   "metadata": {},
   "source": [
    "2. Nun ordnen wir dem array die Listen zu"
   ]
  },
  {
   "cell_type": "code",
   "execution_count": null,
   "metadata": {},
   "outputs": [],
   "source": [
    "np_array_candidates['name'] = name\n",
    "np_array_candidates['alter'] = age\n",
    "np_array_candidates['gewicht'] = weight\n",
    "print(name, '\\n', age , '\\n', weight, '\\n')\n",
    "print(np_array_candidates)"
   ]
  },
  {
   "cell_type": "code",
   "execution_count": null,
   "metadata": {},
   "outputs": [],
   "source": [
    "print('Dimension: ',np_array_candidates.ndim)\n",
    "print('Shape    : ',np_array_candidates.shape)\n",
    "print('Size     : ',np_array_candidates.size)"
   ]
  },
  {
   "cell_type": "markdown",
   "metadata": {},
   "source": [
    "<h3><font color='darkblue'>Arbeiten mit strukturierten Arrays</font></h3> \n",
    "\n",
    "Ein strukturiertes array ist ein zweidimensionales array. \n",
    "\n",
    "Auf die Zeilen greifst du über den Index und auf die Spalten über den label drauf zu."
   ]
  },
  {
   "cell_type": "code",
   "execution_count": null,
   "metadata": {},
   "outputs": [],
   "source": [
    "# Lass dir alle Namen ausgeben --> über das Label des Spaltennamen\n",
    "\n",
    "np_array_candidates['name'] "
   ]
  },
  {
   "cell_type": "code",
   "execution_count": null,
   "metadata": {},
   "outputs": [],
   "source": [
    "# Lass dir die erste Zeile anzeigen --> über den Zeilenindex\n",
    "\n",
    "np_array_candidates[0]\n",
    "#np_array_candidates[2][0]"
   ]
  },
  {
   "cell_type": "code",
   "execution_count": null,
   "metadata": {},
   "outputs": [],
   "source": [
    "# Lass dir den Namen vom 2. Kandidaten anzeigen --> Zeile und Spalte kombiniert\n",
    "\n",
    "np_array_candidates[1]['name']\n",
    "#np_array_candidates[1][0]    # Alternativ"
   ]
  },
  {
   "cell_type": "code",
   "execution_count": null,
   "metadata": {},
   "outputs": [],
   "source": [
    "np_array_candidates['alter']"
   ]
  },
  {
   "cell_type": "code",
   "execution_count": null,
   "metadata": {},
   "outputs": [],
   "source": [
    "# Lass dir die Namme der Personen anzeigen, die jünger als 30 Jahre alt sind\n",
    "# --> hier kannst du boolean masking verwenden\n",
    "\n",
    "np_array_candidates[np_array_candidates['alter'] < 30]['name']"
   ]
  },
  {
   "cell_type": "code",
   "execution_count": null,
   "metadata": {},
   "outputs": [],
   "source": [
    "np_array_candidates[1][0]"
   ]
  },
  {
   "cell_type": "markdown",
   "metadata": {},
   "source": [
    "Für komplexere Abfragen ist Pandas besser. NumPy hat hier seine Grenzen. Wenn du allerdings in der Bildverarbeitung oder im numerischen Bereich unterwegs bist, wirst du mit NumPy arbeiten."
   ]
  }
 ],
 "metadata": {
  "hide_input": false,
  "kernelspec": {
   "display_name": "Python 3 (ipykernel)",
   "language": "python",
   "name": "python3"
  },
  "language_info": {
   "codemirror_mode": {
    "name": "ipython",
    "version": 3
   },
   "file_extension": ".py",
   "mimetype": "text/x-python",
   "name": "python",
   "nbconvert_exporter": "python",
   "pygments_lexer": "ipython3",
   "version": "3.12.4"
  },
  "nbTranslate": {
   "displayLangs": [
    "*"
   ],
   "hotkey": "alt-t",
   "langInMainMenu": true,
   "sourceLang": "en",
   "targetLang": "fr",
   "useGoogleTranslate": true
  },
  "toc": {
   "base_numbering": 1,
   "nav_menu": {},
   "number_sections": true,
   "sideBar": true,
   "skip_h1_title": false,
   "title_cell": "Table of Contents",
   "title_sidebar": "Contents",
   "toc_cell": false,
   "toc_position": {},
   "toc_section_display": true,
   "toc_window_display": false
  },
  "varInspector": {
   "cols": {
    "lenName": 16,
    "lenType": 16,
    "lenVar": 40
   },
   "kernels_config": {
    "python": {
     "delete_cmd_postfix": "",
     "delete_cmd_prefix": "del ",
     "library": "var_list.py",
     "varRefreshCmd": "print(var_dic_list())"
    },
    "r": {
     "delete_cmd_postfix": ") ",
     "delete_cmd_prefix": "rm(",
     "library": "var_list.r",
     "varRefreshCmd": "cat(var_dic_list()) "
    }
   },
   "types_to_exclude": [
    "module",
    "function",
    "builtin_function_or_method",
    "instance",
    "_Feature"
   ],
   "window_display": false
  },
  "widgets": {
   "application/vnd.jupyter.widget-state+json": {
    "state": {},
    "version_major": 2,
    "version_minor": 0
   }
  }
 },
 "nbformat": 4,
 "nbformat_minor": 4
}
