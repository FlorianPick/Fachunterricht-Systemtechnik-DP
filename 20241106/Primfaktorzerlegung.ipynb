{
 "cells": [
  {
   "cell_type": "markdown",
   "id": "e87172cb-d349-4ac7-be73-657ac79848fd",
   "metadata": {},
   "source": [
    "# Primfaktorzerlegung\n",
    "\n",
    "Jede natürliche Zahl kann als ein bis auf die Reihenfolge eindeutiges Produkt von Primzahlen geschrieben werden. Dieses Produkt nennt man die Primfaktorzerlegung der Zahl. Beispiele: 700 = 2·2·5·5·7;  562309 = 11·17·97·31. Es gibt jeweils keine andere Möglichkeit, mit anderen als mit diesen Faktoren auf dieses Produkt zu kommen, wenn alle Faktoren Primzahlen sein sollen. Weitere Beispiele beliebiger Zahl über das obige Formular.\n",
    "\n",
    "Zur Gewinnung der Primfaktorzerlegung geht man gewöhnlich die Primzahlen von unten (d.h. 2, 3, 5, 7...) durch und prüft, ob die zu zerlegende Zahl durch sie ohne Rest glatt teilbar ist. In diesem Fall schreibt man die Primzahl auf, teilt die zu zerlegende Zahl durch die Primzahl und macht mit dem Ergebnis (dem Quotienten) weiter, bis am Schluß nur noch eine Primzahl übrig bleibt.\n",
    "\n",
    "Beispiel:  \n",
    "2394 soll in Primfaktoren zerlegt werden.  \n",
    "- 2394 ist durch 2 teilbar, also: eine 2 gemerkt und 2394:2=1197 berechnen.  \n",
    "- 1197 ist nicht mehr durch 2, aber durch 3 teilbar. 3 merken, Quotient: 1197:3=399.  \n",
    "- 399 ist nochmal durch 3 teilbar: die zweite 3 merken, Quotient: 133.  \n",
    "- Das ist nicht mehr durch 3 und nicht durch 5, aber durch die 7 teilbar. 7 merken; 133:7=19.  \n",
    "- Das ist eine Primzahl, d.h. die Primfaktorzerlegung ist gefunden mit  \n",
    "**2394=2·3·3·7·19 oder 2·3\\*\\*2·7·19.**\n",
    "\n",
    "Quelle: https://www.arndt-bruenner.de/mathe/scripts/primzahlen.htm  \n",
    "Weitere Infos: https://de.wikipedia.org/wiki/Primfaktorzerlegung"
   ]
  },
  {
   "cell_type": "code",
   "execution_count": 14,
   "id": "dbaef6bf-4b07-4609-8082-f1fb98627fc5",
   "metadata": {},
   "outputs": [
    {
     "name": "stdin",
     "output_type": "stream",
     "text": [
      "Geben Sie eine Zahl an die in Primfaktoren zerlegt werden soll:  20\n"
     ]
    },
    {
     "name": "stdout",
     "output_type": "stream",
     "text": [
      "8\n",
      "2 20\n",
      "2 10.0\n",
      "2 5.0\n",
      "3 5.0\n",
      "5 5.0\n",
      "[2, 2, 5]\n"
     ]
    }
   ],
   "source": [
    "# Schreiben Sie Ihren Programmcode hier\n",
    "# Es wird eine Liste mit Primzahlen benötigt.\n",
    "# Verwenden Sie Ihre gefundene Lösung aus der vorherigen Aufgabe.\n",
    "\n",
    "def primz(n):\n",
    "    # Ermittlung der Primzahlen bis n\n",
    "    # Rückgabe als Liste\n",
    "    liste = list(range(2,n+1, 1))      # Liste mit allen Zahlen von 2 bis n erzeugen\n",
    "    z = int(round(n ** 0.5 + .5))      # Wurzel der Listenelemente (aufgerundet)\n",
    "    for j in range(2,len(liste),2):  # alle geraden Zahlen in der Liste markieren\n",
    "        liste[j] = ''                # und durch '' ersetzen, Listenlänge bleibt gleich!!\n",
    "    primz = 3                        # Start mit der Primzahl 3\n",
    "    while primz <= z:                # Solange zu untersuchende Primzahl <= Wurzel max. Zahl\n",
    "        for j in range(primz*2-2,len(liste),primz): # Start ab dem aktuellen Index der Primzahl * 2, Schrittweite Primzahl\n",
    "             liste[j] = ''                          # markiere vielfache Zahlen durch '' \n",
    "        for j in range(primz-1,len(liste)):         # Identifizierung der nächsten Primzahl\n",
    "            if type(liste[j]) == int:               # Wenn Listenelement ein Integer\n",
    "                primz = liste[j]                    # dann nächste Primzahl gefunden \n",
    "                break                               # for-Schleife verlassen\n",
    "    primzahlen = set(liste)                         # Lösche doppelte Werte, nur noch ein ''\n",
    "    primzahlen.remove('')                           # Lösche Element ''\n",
    "    return sorted(primzahlen)                       # sortieren, da set willkürlich  \n",
    "\n",
    "###############\n",
    "### M A I N ###\n",
    "###############\n",
    "\n",
    "while True:\n",
    "    try:\n",
    "        pfz = int(input('Geben Sie eine Zahl an die in Primfaktoren zerlegt werden soll: '))\n",
    "        break\n",
    "    except:\n",
    "        print('Geben Sie eine gültige Zahl ein!')\n",
    "pzahlen = primz(pfz)\n",
    "print(len(pzahlen))\n",
    "erg = []\n",
    "if pfz in pzahlen:    # ist pfz bereits ein Primzahl?\n",
    "    erg.append(pfz)\n",
    "else:                 # sonst suche Primfaktoren \n",
    "    x = pfz\n",
    "    while True and x > 1:        #Solange bis x = 1 ist --> keine weitere Zerlegung nötig\n",
    "        for i in pzahlen:        # Fange mit der kleinsten Primzahl an\n",
    "            print(i, x)\n",
    "            if x % i == 0:       # Ist eine Teilung möglich?\n",
    "                erg.append(i)    # Divident speichern\n",
    "                x /= i           # Rest weiter zerlegen\n",
    "                break            # For-Schleife verlassen\n",
    "            \n",
    "print(erg)"
   ]
  },
  {
   "cell_type": "code",
   "execution_count": null,
   "id": "c030a905-eaeb-4437-82d5-4c313ed8277f",
   "metadata": {},
   "outputs": [],
   "source": [
    "# Gibt es noch etwas zu optimieren?\n"
   ]
  }
 ],
 "metadata": {
  "kernelspec": {
   "display_name": "Python 3 (ipykernel)",
   "language": "python",
   "name": "python3"
  },
  "language_info": {
   "codemirror_mode": {
    "name": "ipython",
    "version": 3
   },
   "file_extension": ".py",
   "mimetype": "text/x-python",
   "name": "python",
   "nbconvert_exporter": "python",
   "pygments_lexer": "ipython3",
   "version": "3.12.4"
  },
  "widgets": {
   "application/vnd.jupyter.widget-state+json": {
    "state": {},
    "version_major": 2,
    "version_minor": 0
   }
  }
 },
 "nbformat": 4,
 "nbformat_minor": 5
}
