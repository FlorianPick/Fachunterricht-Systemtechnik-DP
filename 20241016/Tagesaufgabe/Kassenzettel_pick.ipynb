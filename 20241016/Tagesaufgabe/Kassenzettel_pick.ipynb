{
 "cells": [
  {
   "attachments": {
    "receipt.jpeg": {
     "image/jpeg": "[encoded data removed]"
    }
   },
   "cell_type": "markdown",
   "id": "0286f804",
   "metadata": {},
   "source": [
    "Erstellen Sie ein Python-Programm zur Darstellung des Kassenbons.  \n",
    "Erstellen Sie ein neues Jupyter Notebook für die Aufgabe.  \n",
    "Verwenden Sie dabei für jedes Element eine Variable und einen geeigneten Datentyp.  \n",
    "Geben Sie den Kassenbon-Inhalt Zeile für Zeile mittels der Funktion print() aus. Dabei benutzen Sie die zuvor definierten Variablen.\n",
    "\n",
    "![receipt.jpeg](attachment:receipt.jpeg)  \n",
    "\n",
    "**Achtung!:** Die Summe des Kassenzettels stimmt nicht."
   ]
  },
  {
   "cell_type": "code",
   "execution_count": 5,
   "id": "eb566792",
   "metadata": {},
   "outputs": [
    {
     "name": "stdout",
     "output_type": "stream",
     "text": [
      "     RECEIPT     \n",
      "  CUSTOMER COPY  \n",
      "*****************\n",
      "\n",
      "         125.50 +\n",
      "          45.00 +\n",
      "          80.25 +\n",
      "          12.50 +\n",
      "          12.50 +\n",
      "         130.00 +\n",
      "          29.95 +\n",
      "          34.75 +\n",
      "          12.50 -\n",
      "\n",
      "SUB TOTAL  384.83\n",
      "SALES TAX   73.12\n",
      "           ======\n",
      "AMOUNT DUE 457.95\n",
      "\n",
      "*****************\n",
      "\n"
     ]
    }
   ],
   "source": [
    "# Programm zur Darstellung des Kassenzettels\n",
    "#Lösung nur mit Strings ohne Berechnung der Zahlenwerte!!!\n",
    "\n",
    "head = \"receipt\"\n",
    "head_u = head.upper()\n",
    "sub_head = \"customer copy\"\n",
    "sub_head_u = sub_head.upper()\n",
    "div = 17*\"*\"\n",
    "div2 = 6*\"=\"\n",
    "\n",
    "amount1 = \"125.50 +\"\n",
    "amount2 = \"45.00 +\"\n",
    "amount3 = \"80.25 +\"\n",
    "amount4 = \"12.50 +\"\n",
    "amount5 = \"12.50 +\"\n",
    "amount6 = \"130.00 +\"\n",
    "amount7 = \"29.95 +\"\n",
    "amount8 = \"34.75 +\"\n",
    "amount9 = \"12.50 -\"\n",
    "\n",
    "total =\"457.95\" #amount1+amount2+amount3+amount4+amount5+amount6+amount7+amount8-amount9\n",
    "total_label = \"AMOUNT DUE\"\n",
    "tax = \"73.12\" #total/119 *19\n",
    "tax_label =\"SALES TAX\"\n",
    "sub_total = \"384.83\" #total - tax\n",
    "sub_total_label = \"SUB TOTAL\"\n",
    "\n",
    "#print(sub_total)\n",
    "#print(tax)\n",
    "#print(total)\n",
    "\n",
    "print(head_u.center(17) + '\\n' \n",
    "      + sub_head_u.center(17) + '\\n' \n",
    "      + div.center(17) + '\\n'\n",
    "      + '\\n'\n",
    "      + amount1.rjust(17) +'\\n'\n",
    "      + amount2.rjust(17) +'\\n'\n",
    "      + amount3.rjust(17) +'\\n'\n",
    "      + amount4.rjust(17) +'\\n'\n",
    "      + amount5.rjust(17) +'\\n'\n",
    "      + amount6.rjust(17) +'\\n'\n",
    "      + amount7.rjust(17) +'\\n'\n",
    "      + amount8.rjust(17) +'\\n'\n",
    "      + amount9.rjust(17) +'\\n'\n",
    "      + '\\n'\n",
    "      + sub_total_label.ljust(11)+ sub_total.rjust(6) +'\\n' \n",
    "      + tax_label.ljust(11) + tax.rjust(6) + '\\n' \n",
    "      + div2.rjust(17) + '\\n'\n",
    "      + total_label.ljust(11) + total.rjust(6) + '\\n' \n",
    "      + '\\n'\n",
    "      + div.center(17) + '\\n')"
   ]
  },
  {
   "cell_type": "code",
   "execution_count": 3,
   "id": "2d4743be-e150-4c11-b363-966c8da4b010",
   "metadata": {
    "scrolled": true
   },
   "outputs": [
    {
     "name": "stdout",
     "output_type": "stream",
     "text": [
      "     RECEIPT     \n",
      "  CUSTOMER COPY  \n",
      "*****************\n",
      "\n",
      "         125.50 +\n",
      "          45.00 +\n",
      "          80.25 +\n",
      "          12.50 +\n",
      "          12.50 +\n",
      "         130.00 +\n",
      "          29.95 +\n",
      "          34.75 +\n",
      "          12.50 -\n",
      "\n",
      "SUB TOTAL  384.83\n",
      "SALES TAX   73.12\n",
      "           ======\n",
      "AMOUNT DUE 457.95\n",
      "\n",
      "*****************\n",
      "\n"
     ]
    }
   ],
   "source": [
    "#Lösung 2 mit Berechnung der Zahlenwerte und Überführung der Floats in Strings\n",
    "\n",
    "head = \"receipt\"\n",
    "head_u = head.upper()\n",
    "sub_head = \"customer copy\"\n",
    "sub_head_u = sub_head.upper()\n",
    "div = 17*\"*\"\n",
    "div2 = 6*\"=\"\n",
    "\n",
    "\n",
    "amount1 = 125.50\n",
    "amount1_format = f\"{amount1:.2f}\"\n",
    "amount2 = 45.00\n",
    "amount2_format = f\"{amount2:.2f}\"\n",
    "amount3 = 80.25\n",
    "amount3_format = f\"{amount3:.2f}\"\n",
    "amount4 = 12.50\n",
    "amount4_format = f\"{amount4:.2f}\"\n",
    "amount5 = 12.50\n",
    "amount5_format = f\"{amount5:.2f}\"\n",
    "amount6 = 130.00\n",
    "amount6_format = f\"{amount6:.2f}\"\n",
    "amount7 = 29.95\n",
    "amount7_format = f\"{amount7:.2f}\"\n",
    "amount8 = 34.75\n",
    "amount8_format = f\"{amount8:.2f}\"\n",
    "amount9 = 12.50\n",
    "amount9_format = f\"{amount9:.2f}\"\n",
    "\n",
    "total = (amount1+amount2+amount3+amount4+amount5+amount6+amount7+amount8)-amount9\n",
    "#total_round = round(total, 2)\n",
    "total_format = f\"{total:.2f}\"\n",
    "total_label = \"amount due\"\n",
    "total_label_upper = total_label.upper() \n",
    "\n",
    "tax = (total/119) *19\n",
    "#tax_round = round(tax, 2)\n",
    "tax_format = f\"{tax:.2f}\"\n",
    "tax_label =\"sales tax\"\n",
    "tax_label_upper = tax_label.upper()\n",
    "\n",
    "sub_total = total - tax\n",
    "#sub_total_round = round(sub_total, 2)\n",
    "sub_total_format = f\"{sub_total:.2f}\"\n",
    "sub_total_label = \"sub total\"\n",
    "sub_total_label_upper = sub_total_label.upper()\n",
    "\n",
    "#print(amount1_format)\n",
    "#print(tax_label, tax_str)\n",
    "#print(sub_total_label, sub_total_round)\n",
    "#print(total_label, total_str)\n",
    "\n",
    "\n",
    "print(head_u.center(17) + '\\n' \n",
    "      + sub_head_u.center(17) + '\\n' \n",
    "      + div.center(17) + '\\n'\n",
    "      + '\\n' \n",
    "      + amount1_format.rjust(15)+ ' +' + '\\n'\n",
    "      + amount2_format.rjust(15)+ ' +' + '\\n' \n",
    "      + amount3_format.rjust(15)+ ' +' + '\\n' \n",
    "      + amount4_format.rjust(15)+ ' +' + '\\n' \n",
    "      + amount5_format.rjust(15)+ ' +' + '\\n' \n",
    "      + amount6_format.rjust(15)+ ' +' + '\\n' \n",
    "      + amount7_format.rjust(15)+ ' +' + '\\n'\n",
    "      + amount8_format.rjust(15)+ ' +' + '\\n' \n",
    "      + amount9_format.rjust(15)+ ' -' + '\\n'\n",
    "      + '\\n'\n",
    "      + sub_total_label_upper.ljust(11)+ sub_total_format.rjust(6) +'\\n' \n",
    "      + tax_label_upper.ljust(11) + tax_format.rjust(6) + '\\n' \n",
    "      + div2.rjust(17) + '\\n'\n",
    "      + total_label_upper.ljust(11) + total_format.rjust(6) + '\\n' \n",
    "      + '\\n'\n",
    "      + div.center(17) + '\\n')"
   ]
  },
  {
   "cell_type": "code",
   "execution_count": null,
   "id": "34523c09-c816-48de-85b2-19b55a275409",
   "metadata": {},
   "outputs": [],
   "source": []
  }
 ],
 "metadata": {
  "kernelspec": {
   "display_name": "Python 3 (ipykernel)",
   "language": "python",
   "name": "python3"
  },
  "language_info": {
   "codemirror_mode": {
    "name": "ipython",
    "version": 3
   },
   "file_extension": ".py",
   "mimetype": "text/x-python",
   "name": "python",
   "nbconvert_exporter": "python",
   "pygments_lexer": "ipython3",
   "version": "3.12.4"
  },
  "toc": {
   "base_numbering": 1,
   "nav_menu": {},
   "number_sections": true,
   "sideBar": true,
   "skip_h1_title": false,
   "title_cell": "Table of Contents",
   "title_sidebar": "Contents",
   "toc_cell": false,
   "toc_position": {},
   "toc_section_display": true,
   "toc_window_display": false
  },
  "varInspector": {
   "cols": {
    "lenName": 16,
    "lenType": 16,
    "lenVar": 40
   },
   "kernels_config": {
    "python": {
     "delete_cmd_postfix": "",
     "delete_cmd_prefix": "del ",
     "library": "var_list.py",
     "varRefreshCmd": "print(var_dic_list())"
    },
    "r": {
     "delete_cmd_postfix": ") ",
     "delete_cmd_prefix": "rm(",
     "library": "var_list.r",
     "varRefreshCmd": "cat(var_dic_list()) "
    }
   },
   "types_to_exclude": [
    "module",
    "function",
    "builtin_function_or_method",
    "instance",
    "_Feature"
   ],
   "window_display": false
  }
 },
 "nbformat": 4,
 "nbformat_minor": 5
}
