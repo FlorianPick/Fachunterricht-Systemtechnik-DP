{
 "cells": [
  {
   "cell_type": "markdown",
   "id": "95c520c2",
   "metadata": {},
   "source": [
    "**Installation von Jupyter nbextensions**\n",
    "\n",
    "Danach Jupyter neu starten!"
   ]
  },
  {
   "cell_type": "code",
   "execution_count": null,
   "id": "07300837",
   "metadata": {
    "scrolled": true
   },
   "outputs": [],
   "source": [
    "pip install jupyter_contrib_nbextensions"
   ]
  },
  {
   "cell_type": "code",
   "execution_count": null,
   "id": "bb4cd860",
   "metadata": {},
   "outputs": [],
   "source": []
  },
  {
   "cell_type": "code",
   "execution_count": null,
   "id": "7779b3ae",
   "metadata": {},
   "outputs": [],
   "source": [
    "#pip install jupyter_nbextensions_configurator"
   ]
  },
  {
   "cell_type": "markdown",
   "id": "10092059",
   "metadata": {},
   "source": [
    "**Folgende Befehle in einer anaconda shell ausführen:**\n",
    "\n",
    "- jupyter contrib nbextension install --user\n",
    "- jupyter nbextensions_configurator enable --user"
   ]
  },
  {
   "cell_type": "markdown",
   "id": "232a7b70",
   "metadata": {},
   "source": [
    "# Wie arbeitet Python"
   ]
  },
  {
   "cell_type": "markdown",
   "id": "9e022cc2",
   "metadata": {
    "raw_mimetype": "text/latex"
   },
   "source": [
    "Der Python Interpreter liest den Programmcode Zeile für Zeile und führt diesen aus."
   ]
  },
  {
   "cell_type": "code",
   "execution_count": null,
   "id": "05c82057",
   "metadata": {
    "raw_mimetype": "text/x-python"
   },
   "outputs": [],
   "source": [
    "print('Hallo Welt')\n",
    "print('Willkommen beim Python Kurs')\n"
   ]
  },
  {
   "cell_type": "markdown",
   "id": "27246c01",
   "metadata": {},
   "source": [
    "Beispiel für Dokumentation von Programmcode:\n",
    "```Python\n",
    "print('Hallo Welt')\n",
    "print('Willkommen beim Python Kurs')\n",
    "```"
   ]
  },
  {
   "cell_type": "markdown",
   "id": "7e66c031",
   "metadata": {},
   "source": [
    "**Kommentare**\n",
    "- werden verwendet um den Programmcode zu dokumentieren\n",
    "- der Programmcode wird dadurch besser lesbar und verständlicher\n",
    "- man kann bei der Entwicklung damit schnell einzelne Programmzeilen auskommentieren"
   ]
  },
  {
   "cell_type": "code",
   "execution_count": null,
   "id": "f56041d4",
   "metadata": {},
   "outputs": [],
   "source": [
    "#<div class=\"mark\">\n",
    "# Dies ist ein Kommentar\n",
    "print('Hallo Welt')      # Gebe \"Hallo Welt\" aus\n",
    "# Jetzt wird eine Programmzeile auskommentiert\n",
    "#print('Keine Ausgabe')"
   ]
  },
  {
   "cell_type": "markdown",
   "id": "82f84b52",
   "metadata": {},
   "source": [
    "Kommentare über mehrere Zeilen schreiben (**Docstrings**)\n",
    "\n",
    "Wenn Zeilenlänge über 79 Zeichen hinausgeht oder der Text sonst unübersichtlich wird."
   ]
  },
  {
   "cell_type": "code",
   "execution_count": null,
   "id": "3bb3330e",
   "metadata": {},
   "outputs": [],
   "source": [
    "\"\"\"\n",
    "Dies ist ein Kommentar\n",
    "über mehrere Zeilen,\n",
    "um ihn besser lesbar zu gestalten.\n",
    "\"\"\"\n",
    "x = '''\n",
    "Dies\n",
    "ist \n",
    "ein \n",
    "Test!\n",
    "'''\n",
    "print(\"Hallo Zusammen\")\n",
    "print('Hallo Zusammen')\n",
    "#print(x)"
   ]
  },
  {
   "cell_type": "markdown",
   "id": "7fc03b7b",
   "metadata": {},
   "source": [
    "**input und output**\n",
    "\n",
    "- input : Tastatur\n",
    "- output: Bildschirm \n"
   ]
  },
  {
   "cell_type": "code",
   "execution_count": null,
   "id": "86fa60d0",
   "metadata": {},
   "outputs": [],
   "source": [
    "# Verwende input() zur Eingabe\n",
    "input() # erwartet eine Eingabe"
   ]
  },
  {
   "cell_type": "markdown",
   "id": "8f2e2b87",
   "metadata": {},
   "source": [
    "Eingabe mit Informationstext"
   ]
  },
  {
   "cell_type": "code",
   "execution_count": null,
   "id": "b8b8e239",
   "metadata": {},
   "outputs": [],
   "source": [
    "# Erweiterte Eingabe\n",
    "input('Wie ist Dein Name? ')\n",
    "print('ist mein Name.')"
   ]
  },
  {
   "cell_type": "markdown",
   "id": "b0f461b1",
   "metadata": {},
   "source": [
    "Zur Ausgabe auf dem Bildschirm wird das print Kommando verwendet"
   ]
  },
  {
   "cell_type": "code",
   "execution_count": null,
   "id": "6455004f",
   "metadata": {
    "scrolled": true
   },
   "outputs": [],
   "source": [
    "# Ausgabe auf den Bildschirm\n",
    "#print('Ausgabe')\n",
    "print(input('Wie ist Dein Name? '))\n",
    "print('ist mein Name.')"
   ]
  },
  {
   "cell_type": "markdown",
   "id": "7b46c0f6",
   "metadata": {},
   "source": [
    "**Variable**  \n",
    "Wird eine Eingabe mehrfach benötigt, kann diese in eine Variable gespeichert werden."
   ]
  },
  {
   "cell_type": "code",
   "execution_count": null,
   "id": "662122c3",
   "metadata": {},
   "outputs": [],
   "source": [
    "# Es wird eine Variable \"name\" erzeugt,\n",
    "# und der Wert \"Wolfgang\" zugewiesen\n",
    "name = 'Wolfgang'\n",
    "# Der Wert der Variable wird ausgegeben\n",
    "print(name)"
   ]
  },
  {
   "cell_type": "markdown",
   "id": "5369d999",
   "metadata": {},
   "source": [
    "**Aufgabe 1**\n",
    "Schreiben Sie ein kurzes Programm in dem Sie einer Variablen einen Wert zuweisen und diesen dann ausgeben."
   ]
  },
  {
   "cell_type": "markdown",
   "id": "af7bc5c1",
   "metadata": {},
   "source": [
    "**Merke:**\n",
    "Eine Variable ist wie eine Tasse. Sie kann Tee, Kaffee, Milch usw. beinhalten."
   ]
  },
  {
   "cell_type": "code",
   "execution_count": null,
   "id": "382a3d0b",
   "metadata": {},
   "outputs": [],
   "source": [
    "# Tasse befüllen"
   ]
  },
  {
   "cell_type": "code",
   "execution_count": null,
   "id": "b1fc5e3c",
   "metadata": {},
   "outputs": [],
   "source": [
    "# Ändern des Inhaltes\n"
   ]
  },
  {
   "cell_type": "code",
   "execution_count": null,
   "id": "651b0893",
   "metadata": {},
   "outputs": [],
   "source": [
    "# Ändern des Inhaltes\n",
    "# Prüfe den Inhalt von tasse\n",
    "print(tasse)"
   ]
  },
  {
   "cell_type": "markdown",
   "id": "51077dd3",
   "metadata": {},
   "source": [
    "**Aufgabe 2**\n",
    "Fragen Sie Ihren Namen ab und geben danach eine freundliche Begrüßung aus."
   ]
  },
  {
   "cell_type": "code",
   "execution_count": null,
   "id": "61036044",
   "metadata": {},
   "outputs": [],
   "source": [
    "# Hier Euren Lösungscode eintragen\n"
   ]
  },
  {
   "cell_type": "markdown",
   "id": "2708744e",
   "metadata": {},
   "source": [
    "**Zusammenfassung**\n",
    "- input: jede Information die ein Programm vom Anwender benötigt um zu arbeiten. Diese können über die Funktion input() abgefragt werden.\n",
    "- output: sind Ergebnisse, die vom Programm auf dem Ausgabegerät ausgegeben werden. In Python wird die Funktion Print() verwendet.\n",
    "- variables: Variablen verhalten sich wie ein Kontainer. Der Kontainer bleibt der gleiche (Name) aber der Inhalt kann sich ändern.\n",
    "- Variablen werden über ihren Namen definiert und benötigen eine Wertzuweisung.\n",
    "- Eine Variable kann während eines Programmablaufs verschiedene Werte haben. Gültig ist aber nur der letzte gesetzte Wert."
   ]
  },
  {
   "cell_type": "code",
   "execution_count": null,
   "id": "9c728678",
   "metadata": {},
   "outputs": [],
   "source": [
    "# Integer Zahl als Wert\n",
    "name = 1000         # Variable name wird mit Zahl (Integer) belegt.\n",
    "print(type(name))   # Welchen Datentyp hat die Variable name?\n",
    "print(name)\n",
    "\n",
    "name = name + 100\n",
    "\n",
    "print(name)"
   ]
  },
  {
   "cell_type": "markdown",
   "id": "a75e4dc2",
   "metadata": {},
   "source": [
    "Eine Variable (name) kann unterschiedliche Datentypen beinhalten. Gültig und gespeichert ist aber immer nur der letzte zugewiesene Wert."
   ]
  },
  {
   "cell_type": "markdown",
   "id": "6f695b6c",
   "metadata": {},
   "source": [
    "In Python können Variablennamen aus Groß- und Kleinbuchstaben, Ziffern und dem Unterstrich-Zeichen bestehen, wobei sie nicht mit einer Ziffer beginnen dürfen. Bei der Benennung von Variablen ist außerdem auf Groß- und Kleinschreibung zu achten, beispielsweise bezeichnen var_1 und Var_1 zwei unterschiedliche Variablen. Zudem dürfen keine von der Programmiersprache reservierten Wörter **(Keywords)** als Variablennamen verwendet werden (beispielsweise and, or, is, type, key usw.) Ein Wert kann in einer Variablen mittels des Zuweisungs-Operators = gespeichert werden:"
   ]
  },
  {
   "cell_type": "code",
   "execution_count": null,
   "id": "052a992e",
   "metadata": {},
   "outputs": [],
   "source": [
    "XX = 25"
   ]
  },
  {
   "cell_type": "markdown",
   "id": "d1aa71f8",
   "metadata": {},
   "source": [
    "**Siehe auch: PEP 8 Style Guide for Python Code**\n",
    "\n",
    "https://legacy.python.org/dev/peps/pep-0008/  \n",
    "https://peps.python.org/pep-0008/"
   ]
  },
  {
   "cell_type": "code",
   "execution_count": null,
   "id": "ae509d78",
   "metadata": {
    "scrolled": true
   },
   "outputs": [],
   "source": [
    "# Erzeuge eine Liste der aktuellen Keywords der installierten Umgebung\n",
    "import keyword\n",
    "print(keyword.kwlist)\n",
    "#for i in keyword.kwlist:print(i)"
   ]
  },
  {
   "cell_type": "markdown",
   "id": "6b810f01",
   "metadata": {},
   "source": [
    "**Aufgabe 3**\n",
    "Welche der folgenden Variablennamen sind in Python gültig?\n",
    "\n",
    "Sollten diese verwendet werden?\n",
    "- 1eins = 12     \n",
    "- eins1 = 15\n",
    "- None = 66\n",
    "- none = 77\n",
    "- String = 11\n",
    "- is1 = 21\n",
    "- __ = 32\n"
   ]
  },
  {
   "cell_type": "code",
   "execution_count": null,
   "id": "8b6ac011",
   "metadata": {},
   "outputs": [],
   "source": [
    "######################\n",
    "### Test Variablen ###\n",
    "######################\n",
    "\n"
   ]
  }
 ],
 "metadata": {
  "celltoolbar": "Raw Cell Format",
  "kernelspec": {
   "display_name": "Python 3 (ipykernel)",
   "language": "python",
   "name": "python3"
  },
  "language_info": {
   "codemirror_mode": {
    "name": "ipython",
    "version": 3
   },
   "file_extension": ".py",
   "mimetype": "text/x-python",
   "name": "python",
   "nbconvert_exporter": "python",
   "pygments_lexer": "ipython3",
   "version": "3.10.13"
  },
  "toc": {
   "base_numbering": 1,
   "nav_menu": {},
   "number_sections": true,
   "sideBar": true,
   "skip_h1_title": false,
   "title_cell": "Table of Contents",
   "title_sidebar": "Contents",
   "toc_cell": false,
   "toc_position": {},
   "toc_section_display": true,
   "toc_window_display": false
  },
  "varInspector": {
   "cols": {
    "lenName": 16,
    "lenType": 16,
    "lenVar": 40
   },
   "kernels_config": {
    "python": {
     "delete_cmd_postfix": "",
     "delete_cmd_prefix": "del ",
     "library": "var_list.py",
     "varRefreshCmd": "print(var_dic_list())"
    },
    "r": {
     "delete_cmd_postfix": ") ",
     "delete_cmd_prefix": "rm(",
     "library": "var_list.r",
     "varRefreshCmd": "cat(var_dic_list()) "
    }
   },
   "types_to_exclude": [
    "module",
    "function",
    "builtin_function_or_method",
    "instance",
    "_Feature"
   ],
   "window_display": false
  }
 },
 "nbformat": 4,
 "nbformat_minor": 5
}
