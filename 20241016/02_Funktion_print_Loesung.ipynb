{
 "cells": [
  {
   "cell_type": "markdown",
   "id": "9c7651fd",
   "metadata": {},
   "source": [
    "# Die Funktion print()"
   ]
  },
  {
   "cell_type": "markdown",
   "id": "bc825294",
   "metadata": {},
   "source": [
    "Die funktion print() gibt Informationen auf der Konsole oder dem Bildschirm aus."
   ]
  },
  {
   "cell_type": "code",
   "execution_count": null,
   "id": "059d973e",
   "metadata": {},
   "outputs": [],
   "source": [
    "print('Guten Morgen')"
   ]
  },
  {
   "cell_type": "markdown",
   "id": "d8c4c2e3",
   "metadata": {},
   "source": [
    "**Text oder Strings in Python**\n",
    "- Text oder Strings müssen mit 'Text' oder \"Text\" eingefasst werden.\n",
    "- Mehrzeiliger Text wird mit 3-fachen ''' ''' oder \"\"\" \"\"\" eingefasst."
   ]
  },
  {
   "cell_type": "code",
   "execution_count": null,
   "id": "236499ed",
   "metadata": {},
   "outputs": [],
   "source": [
    "txt = \"Mary's Cat's name's James.\"\n",
    "print(txt)"
   ]
  },
  {
   "cell_type": "code",
   "execution_count": null,
   "id": "2d2fa283",
   "metadata": {},
   "outputs": [],
   "source": [
    "dev = 'Python was developed by \"Guido van Rossum\" in 1990.'\n",
    "print(dev)"
   ]
  },
  {
   "cell_type": "code",
   "execution_count": null,
   "id": "bd4c0382",
   "metadata": {},
   "outputs": [],
   "source": [
    "var = \"Python's syntax implements \"autotyping\"\"\n",
    "#var = 'Python's syntax implements \"autotyping\"'\n",
    "#var = Python's syntax implements \"autotyping\"\n",
    "print(var)"
   ]
  },
  {
   "cell_type": "markdown",
   "id": "16933a92",
   "metadata": {},
   "source": [
    "Soll ein Text mit einem der möglichen Zeichen ' oder \" ausgegeben werden kann für die äußeren Marker der jeweils andere verwendet werden.\n",
    "\n",
    "**Escaping**\n",
    "\n",
    "Ist dies nicht möglich, müssen solche Zeichen maskiert werden. Dafür wird das Zeichen \\ verwendet."
   ]
  },
  {
   "cell_type": "code",
   "execution_count": null,
   "id": "dacc34e9",
   "metadata": {},
   "outputs": [],
   "source": [
    "sent = \"Python's was developed by \\\"Guido van Rossum\\\" in 1990.\"\n",
    "print(sent)"
   ]
  },
  {
   "cell_type": "code",
   "execution_count": null,
   "id": "649e3258",
   "metadata": {},
   "outputs": [],
   "source": [
    "# Version 1\n",
    "var = 'Python\\'s syntax implements \"autotyping\".'\n",
    "print(var)"
   ]
  },
  {
   "cell_type": "code",
   "execution_count": null,
   "id": "af1d0f67",
   "metadata": {},
   "outputs": [],
   "source": [
    "# Version 2\n",
    "var = 'Python\\'s syntax implements \\'autotyping\\'.'\n",
    "print(var)"
   ]
  },
  {
   "cell_type": "code",
   "execution_count": null,
   "id": "b92d8496",
   "metadata": {},
   "outputs": [],
   "source": [
    "# Version 3\n",
    "var = \"Python's syntax\\\" implements 'autotyping'.\"\n",
    "print(var)"
   ]
  },
  {
   "cell_type": "markdown",
   "id": "803f427c",
   "metadata": {},
   "source": [
    "**Aufgabe 1**\n",
    "\n",
    "Drucken Sie in Python folgende Ausgaben:\n",
    "1. \"I'm\"\n",
    "2. \"\"learning\"\"\n",
    "3. \"\"\"python\"\"\""
   ]
  },
  {
   "cell_type": "code",
   "execution_count": 1,
   "id": "ee1b6132",
   "metadata": {},
   "outputs": [
    {
     "name": "stdout",
     "output_type": "stream",
     "text": [
      "1. \"I'm\"\n",
      "2. \"\"learning\"\"\n",
      "3. \"\"\"python\"\"\"\n",
      "4. 'Verbinden 1'\n"
     ]
    }
   ],
   "source": [
    "# Hier Euren Lösungscode eintragen\n",
    "print('1. \"I\\'m\"')\n",
    "print('2. \"\"learning\"\"')\n",
    "print('3. \"\"\"python\"\"\"')\n",
    "print('4.' + \" 'Verbinden 1'\")"
   ]
  },
  {
   "cell_type": "markdown",
   "id": "93a57899",
   "metadata": {},
   "source": [
    "**print Optionen**\n",
    "\n",
    "Mit der Print() Funktion kann jede Art von Objekten angezeigt werden inklusive einer Leerzeile (none)."
   ]
  },
  {
   "cell_type": "code",
   "execution_count": 4,
   "id": "077e9ebb",
   "metadata": {},
   "outputs": [
    {
     "name": "stdout",
     "output_type": "stream",
     "text": [
      "1\n",
      "\n",
      "2.99\n"
     ]
    }
   ],
   "source": [
    "print('1')\n",
    "print()       # Leerzeile\n",
    "print(2.99)"
   ]
  },
  {
   "cell_type": "code",
   "execution_count": 13,
   "id": "dae4237e",
   "metadata": {},
   "outputs": [
    {
     "name": "stdout",
     "output_type": "stream",
     "text": [
      "Hello\n",
      "every body\n"
     ]
    }
   ],
   "source": [
    "# Version 1\n",
    "print('Hello')\n",
    "#print('Hello' , end=\" \")   # Beide Print Anweisungen in einer Zeile\n",
    "print('every body')"
   ]
  },
  {
   "cell_type": "markdown",
   "id": "18fb5e64",
   "metadata": {},
   "source": [
    "Alles in 1 Zeile:"
   ]
  },
  {
   "cell_type": "code",
   "execution_count": 14,
   "id": "1e2a8dc3",
   "metadata": {},
   "outputs": [
    {
     "name": "stdout",
     "output_type": "stream",
     "text": [
      "Hello every body\n",
      "Hello every body\n",
      "Hello every body\n"
     ]
    }
   ],
   "source": [
    "print('Hello', 'every', 'body')\n",
    "print('Hello','every','body')\n",
    "print('Hello every body')"
   ]
  },
  {
   "cell_type": "markdown",
   "id": "370603a2",
   "metadata": {},
   "source": [
    "**Achtung:** Zwischen den einzelnen Strings wir je ein Leerzeichen eingefügt!"
   ]
  },
  {
   "cell_type": "markdown",
   "id": "612f7dc4",
   "metadata": {},
   "source": [
    "Zur Formatierung von print() Ausgaben können Escape-Sequenzen verwendet werden."
   ]
  },
  {
   "cell_type": "code",
   "execution_count": 19,
   "id": "4ff22c25",
   "metadata": {},
   "outputs": [
    {
     "name": "stdout",
     "output_type": "stream",
     "text": [
      "Hello \n",
      "every body\n"
     ]
    }
   ],
   "source": [
    "# Version 2 von der obrigen Ausgabe (Version 1)\n",
    "print('Hello','\\nevery body') # \\n --> newline"
   ]
  },
  {
   "cell_type": "code",
   "execution_count": 16,
   "id": "be74cfd0",
   "metadata": {},
   "outputs": [
    {
     "name": "stdout",
     "output_type": "stream",
     "text": [
      "learning \n",
      "learning \n",
      "learning\n"
     ]
    }
   ],
   "source": [
    "print('learning', '\\nlearning', '\\nlearning') # \\n --> newline"
   ]
  },
  {
   "cell_type": "code",
   "execution_count": 20,
   "id": "99a65206",
   "metadata": {},
   "outputs": [
    {
     "name": "stdout",
     "output_type": "stream",
     "text": [
      "learning \n",
      "\tlearning \n",
      "\t\tlearning\n"
     ]
    }
   ],
   "source": [
    "print('learning', '\\n\\tlearning', '\\n\\t\\tlearning') # \\t --> Tabulator"
   ]
  },
  {
   "cell_type": "code",
   "execution_count": 21,
   "id": "facb3375",
   "metadata": {},
   "outputs": [
    {
     "name": "stdout",
     "output_type": "stream",
     "text": [
      "learning   \n",
      "\tlearning \n",
      "\t\tlearning\n"
     ]
    }
   ],
   "source": [
    "print('learning   \\n\\tlearning \\n\\t\\tlearning') # \\t --> Tabulator"
   ]
  },
  {
   "cell_type": "markdown",
   "id": "626c4631",
   "metadata": {},
   "source": [
    "Weitere Steuerzeichen:\n",
    "\n",
    "https://www.quackit.com/python/reference/python_3_escape_sequences.cfm"
   ]
  },
  {
   "cell_type": "code",
   "execution_count": 25,
   "id": "3f5a72f7",
   "metadata": {},
   "outputs": [
    {
     "ename": "SyntaxError",
     "evalue": "unterminated string literal (detected at line 3) (3668549059.py, line 2)",
     "output_type": "error",
     "traceback": [
      "\u001b[1;36m  Cell \u001b[1;32mIn[25], line 2\u001b[1;36m\u001b[0m\n\u001b[1;33m    txt ='learning \\\u001b[0m\n\u001b[1;37m         ^\u001b[0m\n\u001b[1;31mSyntaxError\u001b[0m\u001b[1;31m:\u001b[0m unterminated string literal (detected at line 3)\n"
     ]
    }
   ],
   "source": [
    "# \\ um längere Texte zu schreiben ohne die Übersicht zu verlieren\n",
    "txt ='learning \\\n",
    "learning1 \\\n",
    "learning2' #\n",
    "print(txt)"
   ]
  },
  {
   "cell_type": "code",
   "execution_count": 26,
   "id": "8c0ed990",
   "metadata": {},
   "outputs": [
    {
     "name": "stdout",
     "output_type": "stream",
     "text": [
      "learning learning1      \n",
      "learning2\n",
      "\n"
     ]
    }
   ],
   "source": [
    "# \\ um längere Texte zu schreiben ohne die Übersicht zu verlieren\n",
    "txt ='''learning \\\n",
    "learning1 \n",
    "learning2\n",
    "''' \n",
    "print(txt)"
   ]
  },
  {
   "cell_type": "code",
   "execution_count": 28,
   "id": "878dd957",
   "metadata": {},
   "outputs": [
    {
     "name": "stdout",
     "output_type": "stream",
     "text": [
      "I love monday\n",
      "I lovemonday\n"
     ]
    }
   ],
   "source": [
    "# Verketten von Strings mit print()\n",
    "a = 'I love'\n",
    "b = 'monday'\n",
    "print(a, b)  # , mit Leerzeichen\n",
    "print(a + b) # + ohne Leerzeichen\n"
   ]
  },
  {
   "cell_type": "code",
   "execution_count": 36,
   "id": "00b425d4",
   "metadata": {},
   "outputs": [
    {
     "name": "stdout",
     "output_type": "stream",
     "text": [
      "1.I lovemonday\n",
      "2.\n",
      "I love\n",
      "monday\n",
      "3. I love monday\n",
      "4. | I love | monday\n",
      "4. | I love | monday |\n",
      "----------------------\n",
      "4. | I love | monday |\n",
      "4. | I love | monday |\n"
     ]
    }
   ],
   "source": [
    "# Zusätzlicher Trenner (seperator)\n",
    "print('1.',a, b, sep='')   # sep = kann verschiedene Werte annehmen.\n",
    "print('2.',a, b, sep='\\n') # sep = Newline\n",
    "print('3.', a, b)\n",
    "print('4.',a, b, sep=' | ')   # sep = kann verschiedene Werte annehmen.\n",
    "print('4.',a, b, sep=' | ', end=' |\\n')   # sep = kann verschiedene Werte annehmen.\n",
    "print(22*'-')\n",
    "print('4.',a, b, sep=' | ', end=' |\\n')   # sep = kann verschiedene Werte annehmen.\n",
    "print('4.',a, b, sep=' | ', end=' |\\n')   # sep = kann verschiedene Werte annehmen.\n"
   ]
  },
  {
   "cell_type": "code",
   "execution_count": 37,
   "id": "27590a01",
   "metadata": {},
   "outputs": [
    {
     "name": "stdout",
     "output_type": "stream",
     "text": [
      "100#1\n"
     ]
    }
   ],
   "source": [
    "# Endmarkierung eines Strings mit end=\n",
    "x = 100\n",
    "y = 1\n",
    "print(x, end='#') # end bedeutet String'??' einfügen und kein newline verwenden\n",
    "print(y)"
   ]
  },
  {
   "cell_type": "code",
   "execution_count": 38,
   "id": "5a367282",
   "metadata": {},
   "outputs": [
    {
     "name": "stdout",
     "output_type": "stream",
     "text": [
      "##################################################*****\n",
      "Text\n",
      "##################################################*****\n"
     ]
    }
   ],
   "source": [
    "#\n",
    "linie1 = 50*'#'+5*'*'\n",
    "#print('##########')\n",
    "print(linie1)\n",
    "print('Text')\n",
    "print(linie1)"
   ]
  },
  {
   "cell_type": "code",
   "execution_count": 43,
   "id": "235adbad",
   "metadata": {},
   "outputs": [
    {
     "name": "stdout",
     "output_type": "stream",
     "text": [
      "<class 'str'>\n",
      "++++++++++++\n",
      "Vier        \n"
     ]
    }
   ],
   "source": [
    "# String links justieren (Breite vorgeben)\n",
    "inhalt = \"Vier\"\n",
    "print(type(inhalt))\n",
    "ausgabe = inhalt.ljust(12)\n",
    "#print(1234.ljust(12)) # funktioniert nur bei String\n",
    "print(12*'+')\n",
    "print(ausgabe)"
   ]
  },
  {
   "cell_type": "code",
   "execution_count": 47,
   "id": "c22cd431",
   "metadata": {},
   "outputs": [
    {
     "name": "stdout",
     "output_type": "stream",
     "text": [
      "++++++++++++\n",
      "   mittig   \n"
     ]
    }
   ],
   "source": [
    "# String mittig justieren (Breite vorgeben)\n",
    "\n",
    "inhalt = \"mittig\"\n",
    "print(12*'+')\n",
    "print(inhalt.center(12))"
   ]
  },
  {
   "cell_type": "code",
   "execution_count": 45,
   "id": "112c8ec1",
   "metadata": {},
   "outputs": [
    {
     "name": "stdout",
     "output_type": "stream",
     "text": [
      "++++++++++++\n",
      "        Vier\n"
     ]
    }
   ],
   "source": [
    "# String rechts justieren (Breite vorgeben)\n",
    "inhalt = \"Vier\"\n",
    "ausgabe = inhalt.rjust(12)\n",
    "print(12*'+')\n",
    "print(ausgabe)"
   ]
  },
  {
   "cell_type": "markdown",
   "id": "2e25e21c",
   "metadata": {},
   "source": [
    "**PCAP test**\n",
    "Was (1-4) wird ausgegeben wenn folgendes Programm ausgeführt wird?\n",
    "\n",
    "    x = 100\n",
    "    y = 1\n",
    "    z = 1\n",
    "    print(x,y,end='')\n",
    "    print(z)\n",
    "\n",
    "1. 10011\n",
    "2. 1001 \n",
    "   1\n",
    "3. Error\n",
    "4. 100 11"
   ]
  },
  {
   "cell_type": "code",
   "execution_count": 50,
   "id": "87779702",
   "metadata": {},
   "outputs": [
    {
     "name": "stdout",
     "output_type": "stream",
     "text": [
      "101 1\n"
     ]
    }
   ],
   "source": [
    "# Teste deine Auswahl\n",
    "x = 100\n",
    "y = 1\n",
    "z = 1\n",
    "print(x,y,end='')\n",
    "print(z)\n",
    "# zwischen x und y wird ein Leerzeichen eingefügt; end= verhindert den Zeilenumbruh"
   ]
  },
  {
   "attachments": {
    "image.png": {
     "image/png": "[encoded data removed]"
    }
   },
   "cell_type": "markdown",
   "id": "b854413f",
   "metadata": {},
   "source": [
    "**Aufgabe 2**\n",
    "\n",
    "Versuche den folgenden Text in der gleichen Formatierung per Python darzustellen.\n",
    "![image.png](attachment:image.png)"
   ]
  },
  {
   "cell_type": "code",
   "execution_count": 1,
   "id": "40fac3b1",
   "metadata": {},
   "outputs": [
    {
     "name": "stdout",
     "output_type": "stream",
     "text": [
      "Twinkle, twinkle, little star,\n",
      "        How I wonder what you are!\n",
      "                Up above the world so high,\n",
      "                Like a diamond in the sky.\n",
      "Twinkle, twinkle, little star,\n",
      "        How I wonder what you are\n"
     ]
    }
   ],
   "source": [
    "# Lösung mit Methoden\n",
    "twinkle = 'Twinkle, twinkle, little star,'\n",
    "how = 'How I wonder what you are'\n",
    "print(twinkle)\n",
    "str1 = (how + '!').rjust(34)                    # 1. String rechstbündig, Zeile 34 Zeichen\n",
    "print(str1)\n",
    "str2 = 'Up above the world so high,'.rjust(43)  # 2. String rechtsbündig, Zeile 43 Zeichen\n",
    "print(str2)\n",
    "print(('Like a diamond in the sky.'.rjust(42))) # 2 Zeilen zusammengefasst\n",
    "print(twinkle)\n",
    "print(how.rjust(33))                            # 1 Klammer weg, da .rjust direkt mit Variable "
   ]
  },
  {
   "cell_type": "code",
   "execution_count": 2,
   "id": "880c3d93",
   "metadata": {},
   "outputs": [
    {
     "name": "stdout",
     "output_type": "stream",
     "text": [
      "Twinkle, twinkle, little star,\n",
      "\tHow I wonder what you are!\n",
      "\t\tUp above the world so high,\n",
      "\t\tLike a diamond in the sky.\n",
      "Twinkle, twinkle, little star,\n",
      "\tHow I wonder what you are\n"
     ]
    }
   ],
   "source": [
    "# Hier Euren Lösungscode eintragen\n",
    "twinkle = 'Twinkle, twinkle, little star,'\n",
    "how = 'How I wonder what you are'\n",
    "print(twinkle)\n",
    "print('\\t' + how + '!')\n",
    "print('\\t\\tUp above the world so high,')\n",
    "print('\\t\\tLike a diamond in the sky.')\n",
    "print(twinkle)\n",
    "print('\\t' + how)"
   ]
  }
 ],
 "metadata": {
  "kernelspec": {
   "display_name": "Python 3 (ipykernel)",
   "language": "python",
   "name": "python3"
  },
  "language_info": {
   "codemirror_mode": {
    "name": "ipython",
    "version": 3
   },
   "file_extension": ".py",
   "mimetype": "text/x-python",
   "name": "python",
   "nbconvert_exporter": "python",
   "pygments_lexer": "ipython3",
   "version": "3.12.4"
  },
  "toc": {
   "base_numbering": 1,
   "nav_menu": {},
   "number_sections": true,
   "sideBar": true,
   "skip_h1_title": false,
   "title_cell": "Table of Contents",
   "title_sidebar": "Contents",
   "toc_cell": false,
   "toc_position": {},
   "toc_section_display": true,
   "toc_window_display": false
  },
  "varInspector": {
   "cols": {
    "lenName": 16,
    "lenType": 16,
    "lenVar": 40
   },
   "kernels_config": {
    "python": {
     "delete_cmd_postfix": "",
     "delete_cmd_prefix": "del ",
     "library": "var_list.py",
     "varRefreshCmd": "print(var_dic_list())"
    },
    "r": {
     "delete_cmd_postfix": ") ",
     "delete_cmd_prefix": "rm(",
     "library": "var_list.r",
     "varRefreshCmd": "cat(var_dic_list()) "
    }
   },
   "types_to_exclude": [
    "module",
    "function",
    "builtin_function_or_method",
    "instance",
    "_Feature"
   ],
   "window_display": false
  },
  "widgets": {
   "application/vnd.jupyter.widget-state+json": {
    "state": {},
    "version_major": 2,
    "version_minor": 0
   }
  }
 },
 "nbformat": 4,
 "nbformat_minor": 5
}
