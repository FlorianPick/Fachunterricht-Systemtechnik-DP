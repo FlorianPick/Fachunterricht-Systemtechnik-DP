{
 "cells": [
  {
   "cell_type": "markdown",
   "id": "32e0c0dd",
   "metadata": {},
   "source": [
    "# Ganze Zahlen in Python \n",
    "\n",
    "\n",
    "... haben den Datentyp **'int'**"
   ]
  },
  {
   "cell_type": "markdown",
   "id": "59ad63ee",
   "metadata": {},
   "source": [
    "Wie werden Zahlensysteme definiert  \n",
    "## Dezimalsystem\n"
   ]
  },
  {
   "cell_type": "code",
   "execution_count": null,
   "id": "80de8da2",
   "metadata": {},
   "outputs": [],
   "source": [
    "# Zahlen im Dezimalsystem  : Basis 10\n",
    "x = 24     #   2 * 10**1 + 4 * 10**0\n",
    "print(type(x))"
   ]
  },
  {
   "cell_type": "markdown",
   "id": "90e802b8",
   "metadata": {},
   "source": [
    "## Hexadezimalsystem"
   ]
  },
  {
   "cell_type": "code",
   "execution_count": null,
   "id": "87233d3d",
   "metadata": {
    "scrolled": true
   },
   "outputs": [],
   "source": [
    "# Zahlen im Hexadezimalsystem  : Basis 16\n",
    "#     210   Stelle von rechts nach links\n",
    "y = 0x418   #   jede Stelle kann  Werte von 0,1,2,3,4,5,6,7,8,9,A,B,C,D,E,F\n",
    "            #   4 * 256 + 1 * 16 + 8 = 4 * 16 ** 2 + 1 * 16 ** 1 + 8 * 16 ** 0\n",
    "print('Berechnet:',4 * 16 ** 2 + 1 * 16 ** 1 + 8 * 16 ** 0)\n",
    "print('Type:',type(y))\n",
    "print(f'{y:#x}')     # Hex Darstellung mit Prefix\n",
    "print(f'{y:#o}')     # Octal Darstellung mit Prefix\n",
    "print(f'{y:#b}')     # Binäre Darstellung mit Prefix\n",
    "print(f'{y:x}')     # Hex Darstellung\n",
    "print(f'{y:o}')     # Octal Darstellung\n",
    "print(f'{y:b}')     # Binäre Darstellung"
   ]
  },
  {
   "cell_type": "code",
   "execution_count": null,
   "id": "9daa9d8f",
   "metadata": {},
   "outputs": [],
   "source": [
    "print(y)   # Zeigt den Dezimalwert an"
   ]
  },
  {
   "cell_type": "markdown",
   "id": "ef3b5861",
   "metadata": {},
   "source": [
    "## Binärsystem"
   ]
  },
  {
   "cell_type": "code",
   "execution_count": null,
   "id": "26961778",
   "metadata": {},
   "outputs": [],
   "source": [
    "# Zahlen im Binärsystem  : Basis 2\n",
    "#s = 0b00000000 # Alle Schalter sind aus\n",
    "#s = 0b12001\n",
    "\n",
    "# 7. Schalter von rechts (Schalter an der Stelle 6)  an und 3. Schalter von rechts (Schalter an der Stelle 2) an\n",
    "s = 0b01000100 #     0*2**7 + 1*2**6 + 0*2**5 + 0*2**4 + 0*2**3 + 1*2**2 + 0*2**1 + 0*2**0\n",
    "               #       0    +   64   +   0    +   0    +   0    +    4   +   0    +    0\n",
    "print('Berechnet:',0*2**7 + 1*2**6 + 0*2**5 + 0*2**4 + 0*2**3 + 1*2**2 + 0*2**1 + 0*2**0)\n",
    "print('Type:',type(s))\n",
    "print(s)    # Zeigt den Dezimalwert an"
   ]
  },
  {
   "cell_type": "markdown",
   "id": "5952ee8f",
   "metadata": {},
   "source": [
    "## Oktalsystem"
   ]
  },
  {
   "cell_type": "code",
   "execution_count": null,
   "id": "4f598f8a",
   "metadata": {},
   "outputs": [],
   "source": [
    "# Hausaufgabe : dezimal 68 , was ist das im Oktalsystem ?\n",
    "okt_68 = 0o104\n",
    "print('Berechnet:',1*8**2 + 0*8**1 + 4*8**0)\n",
    "print('Type:',type(okt_68))\n",
    "print(okt_68)   # Ausgabe dezimal "
   ]
  },
  {
   "cell_type": "markdown",
   "id": "3bc62a99",
   "metadata": {},
   "source": [
    "## Wechseln des Zahlensystems\n"
   ]
  },
  {
   "cell_type": "code",
   "execution_count": null,
   "id": "e20a66ab",
   "metadata": {},
   "outputs": [],
   "source": [
    "b = bin(15)    # 15 als binäre Darstellung\n",
    "c = f'{15:#b}'  # hier mit f-String\n",
    "print(type(b), type(c))\n",
    "print(b, c)\n",
    "d = int(b, 2)      # 2 für Binär\n",
    "#d = int('0b1111', 2)\n",
    "print(type(d),d)\n",
    "print(f'{d:#b}')"
   ]
  },
  {
   "cell_type": "code",
   "execution_count": null,
   "id": "4cd9e58b",
   "metadata": {},
   "outputs": [],
   "source": [
    "o = oct(38361)\n",
    "print(type(o))\n",
    "print(o)\n",
    "d = int(o, 8)      # 8 für Oktal\n",
    "print(d)"
   ]
  },
  {
   "cell_type": "code",
   "execution_count": null,
   "id": "3aec96b2",
   "metadata": {},
   "outputs": [],
   "source": [
    "h = hex(16)\n",
    "print(type(h))\n",
    "print(h)\n",
    "d = int(h, 16)     # 16 für Hexadezimal    \n",
    "print(d)"
   ]
  },
  {
   "attachments": {
    "image-3.png": {
     "image/png": "[encoded data removed]"
    }
   },
   "cell_type": "markdown",
   "id": "0c69ba19",
   "metadata": {},
   "source": [
    "Binär\t1\t0\t0\t1\t0\t1\t0\t1\t1\t1\t0\t1\t1\t0\t0\t1\n",
    "\n",
    "Octal\t1\t1\t\t\t2\t\t\t7\t\t\t3\t\t\t1\t\t\n",
    "\n",
    "Hexa\t9\t\t\t\t5\t\t\t\tD\t\t\t\t9\t\t\t\n",
    "![image-3.png](attachment:image-3.png)"
   ]
  },
  {
   "cell_type": "markdown",
   "id": "da1214cf",
   "metadata": {},
   "source": [
    "## Wie multipliziert ein Computer??"
   ]
  },
  {
   "cell_type": "code",
   "execution_count": null,
   "id": "1efa2a31",
   "metadata": {},
   "outputs": [],
   "source": [
    "print(f'{0b1101}')\n",
    "print(f'{0b110100 + 0b1101}')\n",
    "print(f'{0b1000001}')"
   ]
  },
  {
   "cell_type": "code",
   "execution_count": null,
   "id": "e789bcc8",
   "metadata": {},
   "outputs": [],
   "source": [
    "# Wie multipliziert ein Computer (*5)\n",
    "b = 0b1001010111011001\n",
    "c = 0b100101011101100100 + 0b1001010111011001 \n",
    "print(type(b))\n",
    "print(b)   # Zeigt den Dezimalwert an\n",
    "#print(f'{b:x}')\n",
    "print(c)\n",
    "print(f'{c:#b}') # Binäre Ausgabe\n",
    "print(f'{c:o}') # Oktale Ausgabe\n",
    "print(f'{c:x}') # Hexadezimale Ausgabe"
   ]
  },
  {
   "cell_type": "code",
   "execution_count": null,
   "id": "ad5388d1",
   "metadata": {},
   "outputs": [],
   "source": [
    "h = 0x95d9\n",
    "print(h)  # Zeigt den Dezimalwert an"
   ]
  },
  {
   "cell_type": "code",
   "execution_count": null,
   "id": "e987e334",
   "metadata": {},
   "outputs": [],
   "source": [
    "o = 0o112731\n",
    "print(o)   # Zeigt den Dezimalwert an"
   ]
  },
  {
   "cell_type": "code",
   "execution_count": null,
   "id": "d4baf5f3",
   "metadata": {},
   "outputs": [],
   "source": [
    "a=10\n",
    "print(a<<2)    # Binäre Verschiebung um 2 Stellen nach links (*4)"
   ]
  },
  {
   "cell_type": "code",
   "execution_count": null,
   "id": "57a50651",
   "metadata": {},
   "outputs": [],
   "source": [
    "# 0b1001 = 9\n",
    "#c = 0b100100 + 0b1001 # Wie multipliziert ein Computer (*5)(4*9 + 1*9)\n",
    "c = 0b100100 + 0b10010 # Wie multipliziert ein Computer (*6)(4*9 + 2*9)\n",
    "print(c)"
   ]
  },
  {
   "cell_type": "markdown",
   "id": "bbca3c36",
   "metadata": {},
   "source": [
    "# Weitere Informationen zu Zahlensystemen\n",
    "\n",
    "Daten- und Prozessanalyse, Rheinwerk Computing, Kapitel 2 Mathematische Grundlagen Seite 35 bis 98 \n"
   ]
  },
  {
   "cell_type": "markdown",
   "id": "4b04be0b",
   "metadata": {},
   "source": [
    "# Speichern von Variablen\n",
    "Python speichert nicht, wie viele andere Programmiersprachen, den Inhalt für jede Variable ab, sondern verweist auf ein Objekt im Speicher. Dieses ist durch eine eindeutige ID gekennzeichnet. Wir der Inhalt einer Variablen geändert wird der Verweis auf ein neues Objekt geändert. Ist das Objekt noch nicht vorhanden wird es angelegt."
   ]
  },
  {
   "cell_type": "code",
   "execution_count": null,
   "id": "e52d1e87",
   "metadata": {},
   "outputs": [],
   "source": [
    "# die Funktion id()\n",
    "\n",
    "x = 42\n",
    "y = x\n",
    "k = 42\n",
    "z = 99\n",
    "print(\"id von x :\", id(x))\n",
    "print(\"id von y :\", id(y))\n",
    "print(\"id von z :\", id(z))\n",
    "print(\"id von k :\", id(k))"
   ]
  },
  {
   "cell_type": "code",
   "execution_count": null,
   "id": "ddbf3a4a",
   "metadata": {},
   "outputs": [],
   "source": [
    "x1 = x + 42\n",
    "print(id(x1))\n",
    "print(id(x1 - 42))   # ID von x und y\n"
   ]
  },
  {
   "cell_type": "code",
   "execution_count": null,
   "id": "f37ff0fd",
   "metadata": {},
   "outputs": [],
   "source": [
    "z = 42\n",
    "print(\"id von z :\", id(z))"
   ]
  },
  {
   "cell_type": "markdown",
   "id": "5f839017",
   "metadata": {},
   "source": [
    "Demo: ID's in Python:\n",
    "https://www.python-kurs.eu/images/variable_speicherort.\n"
   ]
  }
 ],
 "metadata": {
  "kernelspec": {
   "display_name": "Python 3 (ipykernel)",
   "language": "python",
   "name": "python3"
  },
  "language_info": {
   "codemirror_mode": {
    "name": "ipython",
    "version": 3
   },
   "file_extension": ".py",
   "mimetype": "text/x-python",
   "name": "python",
   "nbconvert_exporter": "python",
   "pygments_lexer": "ipython3",
   "version": "3.12.4"
  },
  "toc": {
   "base_numbering": 1,
   "nav_menu": {},
   "number_sections": true,
   "sideBar": true,
   "skip_h1_title": false,
   "title_cell": "Table of Contents",
   "title_sidebar": "Contents",
   "toc_cell": false,
   "toc_position": {},
   "toc_section_display": true,
   "toc_window_display": false
  },
  "varInspector": {
   "cols": {
    "lenName": 16,
    "lenType": 16,
    "lenVar": 40
   },
   "kernels_config": {
    "python": {
     "delete_cmd_postfix": "",
     "delete_cmd_prefix": "del ",
     "library": "var_list.py",
     "varRefreshCmd": "print(var_dic_list())"
    },
    "r": {
     "delete_cmd_postfix": ") ",
     "delete_cmd_prefix": "rm(",
     "library": "var_list.r",
     "varRefreshCmd": "cat(var_dic_list()) "
    }
   },
   "types_to_exclude": [
    "module",
    "function",
    "builtin_function_or_method",
    "instance",
    "_Feature"
   ],
   "window_display": false
  },
  "widgets": {
   "application/vnd.jupyter.widget-state+json": {
    "state": {},
    "version_major": 2,
    "version_minor": 0
   }
  }
 },
 "nbformat": 4,
 "nbformat_minor": 5
}
