{
 "cells": [
  {
   "cell_type": "markdown",
   "id": "1b1cb927",
   "metadata": {},
   "source": [
    "|Operator|Besipiel|Bedeutung|Erweitert|\n",
    "| ---    | :---  | :---  |:---|\n",
    "| &      | a & b | bitwise AND | a &= b |\n",
    "| \\|      | a \\| b | bitwise OR | a \\|= b |\n",
    "| ^      | a ^ b | bitwise XOR (exclusive OR) | a ^= b |\n",
    "| ~      | ~a.   | bitwise NOT ||\n",
    "| <<     | a << b | bitwise left shift | a <<= b |\n",
    "| >>     | a >> b | bitwise right shift | a >>= b |"
   ]
  },
  {
   "cell_type": "code",
   "execution_count": null,
   "id": "c55a6174",
   "metadata": {
    "scrolled": true
   },
   "outputs": [],
   "source": [
    "# a & b : UND \n",
    "a = 0b101011\n",
    "b = 0b111110\n",
    "print('{0:8b} = {0:2d}\\n{1:8b} = {1:2d}\\n--------\\n{2:8b} = {2:2d}'.format(a, b, a&b))\n",
    "#       0        0       1        1                 2        2      Index: 0  1   2     "
   ]
  },
  {
   "cell_type": "code",
   "execution_count": null,
   "id": "a5a1f69b",
   "metadata": {},
   "outputs": [],
   "source": [
    "# a | b : ODER\n",
    "a = 0b10101\n",
    "b = 0b01011\n",
    "\n",
    "print('{0:8b} = {0:2d}\\n{1:8b} = {1:2d}\\n--------\\n{2:8b} = {2:2d}'.format(a, b, a|b))\n",
    "\n",
    "print(f'\\n{a:8b} = {a:2d}\\n{b:8b} = {b:2d}\\n--------\\n{a|b:8b} = {a|b:2d}')"
   ]
  },
  {
   "cell_type": "code",
   "execution_count": null,
   "id": "1e1b0da3",
   "metadata": {},
   "outputs": [],
   "source": [
    "# a ^ b : Exclusiv ODER\n",
    "a = 0b111010\n",
    "b = 0b101110\n",
    "\n",
    "print('{0:8b} = {0:2d}\\n{1:8b} = {1:2d}\\n--------\\n{2:8b} = {2:2d}'.format(a, b, a^b))"
   ]
  },
  {
   "attachments": {
    "04fdf0a7-9908-4a60-a583-d3cc8be283ac.png": {
     "image/png": "[encoded data removed]"
    }
   },
   "cell_type": "markdown",
   "id": "2c2ee8ac-3fab-464c-8de5-6c3a93176da1",
   "metadata": {},
   "source": [
    "Das **Zweierkomplement** ist eine Darstellungsform für binäre Zahlen, mit dem man positive und negative Zahlen abbildet. Es ist die am häufigsten verwendete Form in der Digitaltechnik, da damit direkte Rechenoperationen, wie Addition oder Multiplikation, ohne Umrechnungen möglich sind.  \n",
    "\n",
    "\n",
    "![image.png](attachment:04fdf0a7-9908-4a60-a583-d3cc8be283ac.png)  \n",
    "\n",
    "**Regel:** *invertieren + 1*\r\n"
   ]
  },
  {
   "cell_type": "code",
   "execution_count": null,
   "id": "10630f51",
   "metadata": {},
   "outputs": [],
   "source": [
    "# Regel für neg. Zahl in 2er Komplement: Zahl invertiert + 1\n",
    "# ~a: a invertieren / Einerkomplement\n",
    "a = 0b01010100\n",
    "b = (a ^ 0b11111111)      # Invertiertes a\n",
    "an = ~a + 1               # Regel anwenden\n",
    "#an = -a     # alternative in Python\n",
    "print(f'{a:08b} = {a:2d}\\tUrsprung')\n",
    "print(f'{b:08b} = {b:2d}\\tUrsprung invertiert')\n",
    "print(f'{b + 1:08b} = {b + 1:2d}\\tUrsprung + 1 --> 2er Komplement')\n",
    "print(f'{84:010b}\\tUrsprung 10 Stellen')\n",
    "print(f'{-84:010b}')\n",
    "print(bin((1 << 8) - 1),'255 Binär')\n",
    "print(f'{0b10101100:08b} | {0b10101100:08d} Binärer 2er Komplement Wert') # System weiss nichts davon\n",
    "print(60 *'*')\n",
    "print(f'Binäre Darstellung 2er Komplement (8 Bit) : {bin(((1 << 8) - 1) & -84):>12}')\n",
    "print(f'Binäre Darstellung 2er Komplement (10 Bit): {bin(((1 << 10) - 1) & -84):>12}')\n"
   ]
  },
  {
   "cell_type": "markdown",
   "id": "1c28253e-c79e-4970-b660-252a3023e034",
   "metadata": {},
   "source": [
    "Das bitweise Komplement bildet das sogenannte Einerkomplement einer Dualzahl, das der Negation aller vorkommenden Bits entspricht.  \n",
    "In Python ist dies auf Bit-Ebene nicht möglich, da eine ganze Zahl in ihrer Länge unbegrenzt ist und das Komplement immer in einem **abgeschlossenen Zahlenraum** gebildet werden muss. Python schneidet führen de Nullen ab!   \n",
    "Deswegen wird die eigentliche Bit-Operation zur arithmetischen Operation und ist folgendermaßen definiert:\n",
    "Zur Darstellung negativer Zahlen in abgeschlossenen Zahlenräumen wird das sogenannte Zweierkomplement verwendet. Dieses erhalten Sie, indem Sie zum Einerkomplement **1** addieren.  \n",
    "Hierbei muss die Länge definiert sein, damit durch das HSB unterschieden werden kann ob die Binäre Zahl positiv (HSB = 0) oder negativ (HSB = 1) ist. Bei HSB = 1 ist die Zahl dann in Zweierkomplement Darstellung!  \n",
    "\n",
    "Also: –x  = **Zweierkomplement** von x = \\~x + 1  \n",
    "Daraus folgt: \\~x = –x – 1\n",
    "\r"
   ]
  },
  {
   "cell_type": "code",
   "execution_count": null,
   "id": "8207cc98",
   "metadata": {},
   "outputs": [],
   "source": [
    "# << : Bitweise nach links schieben\n",
    "a = 0b010101\n",
    "\n",
    "print('{0:8b} = {0:2d}\\n--------\\n{1:8b} = {1:2d}'.format(a, a<<1))"
   ]
  },
  {
   "cell_type": "code",
   "execution_count": null,
   "id": "797ae6ff",
   "metadata": {},
   "outputs": [],
   "source": [
    "# >> : Bitweise nach rechts schieben\n",
    "a = 0b101010\n",
    "\n",
    "print('{0:8b} = {0:2d}\\n--------\\n{1:8b} = {1:2d}'.format(a, a>>1))\n",
    "print()\n",
    "print('{0:8b} = {0:2d}\\n--------\\n{1:8b} = {1:2d}'.format(a, a>>2))"
   ]
  },
  {
   "cell_type": "markdown",
   "id": "4742b83a-925d-4a67-bdea-eebc29748f28",
   "metadata": {},
   "source": [
    "**Weitere Informationen:**\n",
    "https://openbook.rheinwerk-verlag.de/python/12_004.html"
   ]
  },
  {
   "cell_type": "code",
   "execution_count": null,
   "id": "c1620266",
   "metadata": {},
   "outputs": [],
   "source": [
    "a = 21\n",
    "print(type(a))\n",
    "a = a / 2\n",
    "print(type(a), a)"
   ]
  }
 ],
 "metadata": {
  "kernelspec": {
   "display_name": "Python 3 (ipykernel)",
   "language": "python",
   "name": "python3"
  },
  "language_info": {
   "codemirror_mode": {
    "name": "ipython",
    "version": 3
   },
   "file_extension": ".py",
   "mimetype": "text/x-python",
   "name": "python",
   "nbconvert_exporter": "python",
   "pygments_lexer": "ipython3",
   "version": "3.12.4"
  },
  "toc": {
   "base_numbering": 1,
   "nav_menu": {},
   "number_sections": true,
   "sideBar": true,
   "skip_h1_title": false,
   "title_cell": "Table of Contents",
   "title_sidebar": "Contents",
   "toc_cell": false,
   "toc_position": {},
   "toc_section_display": true,
   "toc_window_display": false
  },
  "varInspector": {
   "cols": {
    "lenName": 16,
    "lenType": 16,
    "lenVar": 40
   },
   "kernels_config": {
    "python": {
     "delete_cmd_postfix": "",
     "delete_cmd_prefix": "del ",
     "library": "var_list.py",
     "varRefreshCmd": "print(var_dic_list())"
    },
    "r": {
     "delete_cmd_postfix": ") ",
     "delete_cmd_prefix": "rm(",
     "library": "var_list.r",
     "varRefreshCmd": "cat(var_dic_list()) "
    }
   },
   "types_to_exclude": [
    "module",
    "function",
    "builtin_function_or_method",
    "instance",
    "_Feature"
   ],
   "window_display": false
  },
  "widgets": {
   "application/vnd.jupyter.widget-state+json": {
    "state": {},
    "version_major": 2,
    "version_minor": 0
   }
  }
 },
 "nbformat": 4,
 "nbformat_minor": 5
}
