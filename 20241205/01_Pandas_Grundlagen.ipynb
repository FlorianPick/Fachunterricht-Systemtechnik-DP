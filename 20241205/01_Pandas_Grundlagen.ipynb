{
 "cells": [
  {
   "cell_type": "markdown",
   "metadata": {},
   "source": [
    "# Pandas  \n",
    "\n"
   ]
  },
  {
   "cell_type": "markdown",
   "metadata": {},
   "source": [
    "## Einführung Pandas    \n",
    "\n",
    "In diesem Notebook werden wir zunächst herausfinden warum die Bibliothek Pandas existiert.\n",
    "\n",
    "Danach werden wir uns Pandas näher anschauen.\n",
    "\n",
    "Lernziele:\n",
    "           \n",
    "            1.1 Warum gibt es Pandas?\n",
    "            \n",
    "            1.2 Pandas Series\n",
    "                1.2.1) Erstellen\n",
    "                1.2.2) Arbeiten mit einer Series (Eigenschaften, auf einzelne Elemente zugreifen, slicing, Elemente \n",
    "                     ändern)\n",
    "                     \n",
    "            1.3. Pandas DataFrame\n",
    "                1.3.1) Erstellen\n",
    "                1.3.2) Arbeiten mit einem DataFrame\n",
    "                \n",
    "## Warum gibt es Pandas?   \n",
    "\n",
    "Pandas steht für \"Python and data analysis\" und ist eine Bibliothek für die Datenmanipulation und Analyse.\n",
    "Weiterhin wird auch gesagt, dass Pandas aus dem Begriff Paneldaten abgeleitet wird. Das Wort Paneldaten steht für mehrdimensionale strukturierte Datensätze.\n",
    "\n",
    "Wenn es um strukturierte Daten geht, haben wir festgestellt, dass in NumPy strukturierte Arrays bei der Datenbearbeitung und Abfrage Grenzen hat.\n",
    "\n",
    "\n",
    "Pandas entstand nach NumPy und setzt auf Python und NumPy auf. Daher gibt es auch viele Möglichkeiten um auf Werte in Pandas draufzuzugreifen. Hier ist es ratsam sich für eine Variante zu etnscheiden, um nicht durcheinander zu kommen.\n",
    "\n",
    "Auch bei dem Thema fehlende Werte wirst du sehen, dass Pandas auf Python und NumPy aufbaut.\n",
    "\n",
    "\n",
    "Du weißt mittlerweile, dass:\n",
    "\n",
    "                       - in Python mit Listen, dictionaries etc. gearbeitet wird\n",
    "                            \n",
    "                       - in NumPy mit mehrdimensionalen arrays\n",
    "                            \n",
    "In Pandas existierten 2 Arten von Datentypen:\n",
    " \n",
    "                                      - Pandas Series (eindimensional)\n",
    "    \n",
    "                                      - Pandas DataFrame (zweidimensional)\n",
    "    \n"
   ]
  },
  {
   "cell_type": "markdown",
   "metadata": {},
   "source": [
    "## Pandas Series?  \n",
    "\n",
    "**Pandas Hilfe:** https://pandas.pydata.org/docs/reference/frame.html\n",
    "\n",
    "Was ist eine Pandas Series?\n",
    "\n",
    "                            ... eindimensionales array mit Index\n",
    "                            \n",
    "Um mit der Pandas Bibliothek arbeiten zu können, musst du diese zunächst importieren."
   ]
  },
  {
   "cell_type": "code",
   "execution_count": null,
   "metadata": {},
   "outputs": [],
   "source": [
    "# Library importieren\n",
    "\n",
    "import pandas as pd "
   ]
  },
  {
   "cell_type": "markdown",
   "metadata": {},
   "source": [
    "### Erstellen"
   ]
  },
  {
   "cell_type": "code",
   "execution_count": null,
   "metadata": {},
   "outputs": [],
   "source": [
    "# Erstellen einer Series\n",
    "import numpy as np\n",
    "#s = pd.Series([0.25, 0.5, 0.75, 1.0], dtype='float16')\n",
    "s = pd.Series([0.25, 0.5, 0.75, 1.0])\n",
    "print(s, type(s))"
   ]
  },
  {
   "cell_type": "code",
   "execution_count": null,
   "metadata": {
    "scrolled": true
   },
   "outputs": [],
   "source": [
    "type(s)"
   ]
  },
  {
   "cell_type": "code",
   "execution_count": null,
   "metadata": {},
   "outputs": [],
   "source": [
    "# Index ändern\n",
    "\n",
    "s2 = pd.Series([0.25, 0.5, 0.75, 1.0, 'X'],\n",
    "               index=['a', 'c', 'b', 'd', 'a'])\n",
    "print(s2)"
   ]
  },
  {
   "cell_type": "code",
   "execution_count": null,
   "metadata": {},
   "outputs": [],
   "source": [
    "s2.iloc[4]"
   ]
  },
  {
   "cell_type": "markdown",
   "metadata": {},
   "source": [
    "### Arbeiten mit einer Series (Eigenschaften, auf einzelne Elemente zugreifen, slicing, Elemente ändern)\n",
    "\n",
    "<h4><font color='darkblue'>Eigenschaften</font></h4>"
   ]
  },
  {
   "cell_type": "code",
   "execution_count": null,
   "metadata": {},
   "outputs": [],
   "source": [
    "# Werte erfahren - values\n",
    "\n",
    "e1 = s2.values\n",
    "print(e1, type(e1))"
   ]
  },
  {
   "cell_type": "code",
   "execution_count": null,
   "metadata": {},
   "outputs": [],
   "source": [
    "# index erfahren - index\n",
    "print(s2.index, type(s2.index))\n",
    "s2.index \n"
   ]
  },
  {
   "cell_type": "markdown",
   "metadata": {},
   "source": [
    "#### auf einzelne Elemente zugreifen"
   ]
  },
  {
   "cell_type": "code",
   "execution_count": null,
   "metadata": {},
   "outputs": [],
   "source": [
    "# Auf ein Element zugreifen - über den Index \n",
    "# (selbe Schema wie bei Python Listen und NumPy arrays)\n",
    "\n",
    "print(s2[1]) # Hinweis auf Zugriff über (0..3) und nicht über den neuen Index (a..d)\n",
    "print(s2.iloc[1])  # Zukunftssicher"
   ]
  },
  {
   "cell_type": "code",
   "execution_count": null,
   "metadata": {},
   "outputs": [],
   "source": [
    "# oder über das Label des Indexes (korrekter Weg)\n",
    "s2['c']"
   ]
  },
  {
   "cell_type": "markdown",
   "metadata": {},
   "source": [
    "#### Werte ändern"
   ]
  },
  {
   "cell_type": "code",
   "execution_count": null,
   "metadata": {
    "scrolled": true
   },
   "outputs": [],
   "source": [
    "# Werte ändern\n",
    "\n",
    "s2.iloc[1] = 5 \n",
    "print(s2)\n",
    "s2['c'] = 11\n",
    "print(s2)"
   ]
  },
  {
   "cell_type": "markdown",
   "metadata": {},
   "source": [
    "## Pandas DataFrame?\n",
    "\n",
    "Was ist eine Pandas DataFrame?\n",
    "\n",
    "                            ... zweidimensionales array oder auch eine \"Reihung\" von Series\n",
    "                            \n",
    "                            ... besteht aus Zeilen und Spalten\n",
    "                            \n",
    "### Erstellen"
   ]
  },
  {
   "cell_type": "code",
   "execution_count": null,
   "metadata": {},
   "outputs": [],
   "source": [
    "# Erstellen eines DataFrame\n",
    "\n",
    "df = pd.DataFrame({'A' : [10000, 2, 3, 4],\n",
    "                   'B ' : [4, 3, 2, 1],\n",
    "                   'C' : [9, 8, 7, 6]}, \n",
    "                  index=['Zeile1', 'Zeile2', 'Zeile3', 'Zeile4'])\n",
    "\n",
    "print(df, '\\n', type(df))\n",
    "df "
   ]
  },
  {
   "attachments": {
    "Aufbau-DF-2.PNG": {
     "image/png": "[encoded data removed]"
    }
   },
   "cell_type": "markdown",
   "metadata": {},
   "source": [
    "![Aufbau-DF-2.PNG](attachment:Aufbau-DF-2.PNG)\n",
    "\n",
    "\n",
    "\n",
    "Der DataFrame besitzt einmal Spaltenlabels und im Hintergrund sind die Spaltenindizes zu finden.\n",
    "\n",
    "Weiterhin existieren Zeilenlabels bei denen auch im Hintergrund die Indizes \"abgelegt\" sind. Somit kannst du je nach Mehtode entweder auf die Labels oder die Indizes drauf zugreifen.\n",
    "\n",
    "Bei dem späteren Data Preprocessing musst du dich immer fragen, ob du gerade einen Teil aus dem DataFrame dir anschaust (View) oder einen Wert einer Zelle zuweise möchtest.\n"
   ]
  },
  {
   "attachments": {
    "DF_anschauen.PNG": {
     "image/png": "[encoded data removed]"
    }
   },
   "cell_type": "markdown",
   "metadata": {},
   "source": [
    "![DF_anschauen.PNG](attachment:DF_anschauen.PNG)"
   ]
  },
  {
   "cell_type": "markdown",
   "metadata": {},
   "source": [
    "### Arbeiten mit einem DataFrame\n",
    "\n",
    "#### Eigenschaften\n",
    "\n",
    "Um mit einem DataFrame arbeiten zu können, ist es wichtig zu wissen, wie die Spaltennamen heißen und welche Datentypen in den einzelnen Spalten vorliegen. Ohne diese Kenntniss kannst du keine Abfragen machen, denn der Datentyp und Spaltenname ist nicht aus dem DataFrame ersichtlich. Du siehst also nicht, ob ein Leerzeichen in dem Spaltennamen enthalten ist. Und du kannst auch nicht sehen, ob eine Zahl wirklich ein integer ist oder doch ein string. Diese Informationen musst du zunächst herausfinden."
   ]
  },
  {
   "cell_type": "code",
   "execution_count": null,
   "metadata": {},
   "outputs": [],
   "source": [
    "# Spaltennamen herausfinden\n",
    "\n",
    "df.columns"
   ]
  },
  {
   "cell_type": "code",
   "execution_count": null,
   "metadata": {},
   "outputs": [],
   "source": [
    "# die Spalte B hat ein Leerzeichen, d.h. die Spalte heißt als B Leerzeichen. Das ist sehr umständlich\n",
    "# beim Aufrufen der Daten. Daher werden wir die Spalte umbenennen und das Leerzeichen entfernen.\n",
    "\n",
    "df_rename_1 = df.rename(columns={'B ': 'B'})\n",
    "df_rename_1"
   ]
  },
  {
   "cell_type": "code",
   "execution_count": null,
   "metadata": {},
   "outputs": [],
   "source": [
    "df_rename_1.columns "
   ]
  },
  {
   "cell_type": "code",
   "execution_count": null,
   "metadata": {},
   "outputs": [],
   "source": [
    "for i in df.columns:\n",
    "    print(len(i))"
   ]
  },
  {
   "cell_type": "code",
   "execution_count": null,
   "metadata": {},
   "outputs": [],
   "source": [
    "# alternativ 2: \n",
    "\n",
    "df.columns = ['A','B','C']\n",
    "df.columns "
   ]
  },
  {
   "cell_type": "code",
   "execution_count": null,
   "metadata": {},
   "outputs": [],
   "source": [
    "# alternativ 3: \n",
    "\n",
    "df_rename_2 = df.rename(mapper={'B ': 'B'},axis=1)\n",
    "#df_rename_2 = df.rename(mapper={'B ': 'B','C':'X'},axis=1)\n",
    "df_rename_2.columns "
   ]
  },
  {
   "cell_type": "code",
   "execution_count": null,
   "metadata": {},
   "outputs": [],
   "source": [
    "# wie komme ich an die rename Dokumentation?\n",
    "\n",
    "# Variante 1\n",
    "\n",
    "help(df.rename)\n",
    "\n",
    "# Variante 2 : Pandas Webseite --> .rename() suchen\n",
    "\n",
    "# https://pandas.pydata.org/docs/reference/api/pandas.DataFrame.rename.html#pandas.DataFrame.rename\n",
    "\n",
    "# Variante 3 - googlen\n"
   ]
  },
  {
   "cell_type": "code",
   "execution_count": null,
   "metadata": {},
   "outputs": [],
   "source": [
    "# check, ob Änderung erfolgt ist\n",
    "\n",
    "df.columns"
   ]
  },
  {
   "cell_type": "code",
   "execution_count": null,
   "metadata": {},
   "outputs": [],
   "source": [
    "# Datentypen der einzelnen Spalten herausfinden\n",
    "\n",
    "df.dtypes "
   ]
  },
  {
   "cell_type": "code",
   "execution_count": null,
   "metadata": {},
   "outputs": [],
   "source": [
    "# Datentyp vom index herausfinden\n",
    "\n",
    "df.index "
   ]
  },
  {
   "cell_type": "code",
   "execution_count": null,
   "metadata": {},
   "outputs": [],
   "source": [
    "# Datentypen ändern - alternativ: to_numeric()\n",
    "\n",
    "df['A'] = df['A'].astype('int32')\n",
    "print(df['A'].dtype)\n",
    "# df['A'] = pd.to_numeric(df['A'], downcast=\"integer\")   # sucht den optimalen Datentyp anhand der vorhandenen Werte\n",
    "# print(df)\n",
    "#print(df['A'].dtype)\n",
    "print(df.dtypes)\n"
   ]
  },
  {
   "cell_type": "code",
   "execution_count": null,
   "metadata": {},
   "outputs": [],
   "source": [
    "df"
   ]
  },
  {
   "cell_type": "markdown",
   "metadata": {},
   "source": [
    "#### auf Elemente drauf zugreifen\n",
    "\n",
    "In einem DataFrame kannst du nur auf Spalten, nur auf Zeilen oder auf Zeilen & Spalten zugreifen.\n",
    "\n",
    "Da Pandas auf Python und NumPy aufbaut, kannst du auf unterschiedliche Weisen auf deine Daten in einem DataFrame zugreifen. \n",
    "\n",
    "Nachfolgend wollen wir uns das im Einzelnen einmal anschauen:"
   ]
  },
  {
   "cell_type": "markdown",
   "metadata": {},
   "source": [
    "#### auf Spalten zu greifen\n",
    "\n",
    "zunächst: auf EINE Spalte zugreifen\n",
    "\n",
    "Zielbild:\n",
    "\n",
    "                  A  \n",
    "         -------|---\n",
    "         Zeile1 | 1 \n",
    "         Zeile2 | 2\n",
    "         Zeile3 | 3\n",
    "         Zeile4 | 4\n",
    "\n",
    "\n",
    "\n",
    "                Python                           NumPy                       Pandas\n",
    "         ---------------------------------|--------------------------|----------------------\n",
    "                                          |                          |\n",
    "                 df.A                     |        df['A']           |     df.loc[:,'A']\n",
    "                                          |                          |     df.loc[:,['A']]\n",
    "                                          |                          |      \n",
    "                                          |                          |     df.iloc[:,0]\n",
    "                                          |                          |     df.iloc[:,[0]]\n",
    "\n",
    "\n",
    "#####  Pandas - loc oder iloc\n",
    "\n",
    "loc und iloc sind Pandas eigene Möglichkeiten um auf Werte zuzugreifen.\n",
    "\n",
    "loc - verwendet labels und schließt den Stopwert mit ein\n",
    "\n",
    "iloc - verwendet indizes und schließt den Stopwert aus\n",
    "\n",
    "Aufbau\n",
    "\n",
    "loc/iloc[Zeilen o.a. Bedingungen , Spalten]\n",
    "\n",
    "\n",
    "\n",
    "##### Python - attribute\n",
    "\n",
    "###### Zugriff über Label"
   ]
  },
  {
   "cell_type": "code",
   "execution_count": null,
   "metadata": {},
   "outputs": [],
   "source": [
    "df.A"
   ]
  },
  {
   "cell_type": "code",
   "execution_count": null,
   "metadata": {},
   "outputs": [],
   "source": [
    "# Rückgabewert\n",
    "\n",
    "type(df.A)"
   ]
  },
  {
   "cell_type": "markdown",
   "metadata": {},
   "source": [
    "##### NumPy - Erweiterung Python Standardnotation\n",
    "\n",
    "###### Zugriff über Label"
   ]
  },
  {
   "cell_type": "code",
   "execution_count": null,
   "metadata": {},
   "outputs": [],
   "source": [
    "df['A']     # Series"
   ]
  },
  {
   "cell_type": "code",
   "execution_count": null,
   "metadata": {},
   "outputs": [],
   "source": [
    "# alternativ:\n",
    "df[['A']]    # Dataframe"
   ]
  },
  {
   "cell_type": "code",
   "execution_count": null,
   "metadata": {},
   "outputs": [],
   "source": [
    "# Rückgabewert\n",
    "print(type(df['A']))\n",
    "# alternativ\n",
    "print(type(df[['A']]))"
   ]
  },
  {
   "cell_type": "markdown",
   "metadata": {},
   "source": [
    "###### loc   (Label)"
   ]
  },
  {
   "cell_type": "code",
   "execution_count": null,
   "metadata": {},
   "outputs": [],
   "source": [
    "#df.loc[:,'A']        # Series\n",
    "\n",
    "df.loc[:, ['A']]   # Dataframe\n",
    "#df.loc['Zeile2':'Zeile3', ['A']]   # Dataframe\n",
    "#df.loc[:, ['A', 'C']]   # Dataframe\n",
    "#type(df.loc[:, ['A']])"
   ]
  },
  {
   "cell_type": "markdown",
   "metadata": {},
   "source": [
    "###### iloc (**i**ndex)"
   ]
  },
  {
   "cell_type": "code",
   "execution_count": null,
   "metadata": {},
   "outputs": [],
   "source": [
    "print(df.iloc[:,0])       #Series\n",
    "print(type(df.iloc[:,0]))\n",
    "print(type(df.iloc[0:,[0]]))\n",
    "df.iloc[0:,[0,2]]"
   ]
  },
  {
   "cell_type": "markdown",
   "metadata": {},
   "source": [
    "##### auf mehrere Spalten drauf zugreifen"
   ]
  },
  {
   "cell_type": "code",
   "execution_count": null,
   "metadata": {},
   "outputs": [],
   "source": [
    "# übergebt eine Liste\n",
    "\n",
    "df.loc[:,['A','C']]\n",
    "\n",
    "# über slicing\n",
    "#df.loc['Zeile1':'Zeile3','A':'B']\n",
    "#df.loc[:,'A':'C':2]"
   ]
  },
  {
   "cell_type": "code",
   "execution_count": null,
   "metadata": {},
   "outputs": [],
   "source": [
    "# übergebt eine Liste\n",
    "\n",
    "#df.iloc[:,[0,2]]\n",
    "\n",
    "# über slicing\n",
    "df.iloc[:,0:2]"
   ]
  },
  {
   "cell_type": "markdown",
   "metadata": {},
   "source": [
    "#### auf Zeilen zu greifen\n",
    "\n",
    "\n",
    "Zielbild:\n",
    "\n",
    "              A   B   C\n",
    "     -------|---|---|---\n",
    "     Zeile1 | 1 | 4 | 9\n",
    "     Zeile2 | 2 | 3 | 8\n",
    "     Zeile3 | 3 | 2 | 7\n",
    "\n",
    "\n",
    "\n",
    "\n",
    "            Python                           NumPy                       Pandas\n",
    "     ---------------------------------|--------------------------|---------------------------------\n",
    "                                      |                          |\n",
    "       na, da zweidimensional         |         df[0:4]          |     df.loc['Zeile1':'Zeile3',:]\n",
    "                                      |                          |     \n",
    "                                      |                          |      \n",
    "                                      |                          |     df.iloc[0:3,:]\n",
    "                                      |                          |    \n",
    "\n",
    "\n",
    "\n",
    "\n",
    "\n",
    "\n",
    "\n",
    "##### NumPy - Erweiterung der Python Standardnotation für die zweidimensionale Abbildung\n",
    "\n",
    "###### Zugriff über Index"
   ]
  },
  {
   "cell_type": "code",
   "execution_count": null,
   "metadata": {},
   "outputs": [],
   "source": [
    "df[0:3]"
   ]
  },
  {
   "cell_type": "code",
   "execution_count": null,
   "metadata": {},
   "outputs": [],
   "source": [
    "# Rückgabewert\n",
    "\n",
    "type(df[0:3])"
   ]
  },
  {
   "cell_type": "markdown",
   "metadata": {},
   "source": [
    "#### NumPy - über Index "
   ]
  },
  {
   "cell_type": "code",
   "execution_count": null,
   "metadata": {
    "scrolled": true
   },
   "outputs": [],
   "source": [
    "df['Zeile1':'Zeile3']\n",
    "\n",
    "# die Zeilenauswahl efolgt immer übers slicing\n",
    "# Obacht! Beim Label wird der Stopwert mit einbezogen"
   ]
  },
  {
   "cell_type": "code",
   "execution_count": null,
   "metadata": {},
   "outputs": [],
   "source": [
    "df[0:3] \n",
    "\n",
    "# Obacht! Beim Index wird der Stopwert NICHT mit einbezogen"
   ]
  },
  {
   "cell_type": "code",
   "execution_count": null,
   "metadata": {},
   "outputs": [],
   "source": [
    "df['Zeile1':'Zeile3']\n",
    "\n",
    "# in manchen Foren findet ihr die Antwort, dass dies nicht funktioniert, weil es in NumPy kein Konzept für gelabelte\n",
    "# Indizes gibt --> dies ist wie ihr oben seht nicht der Fall --> vlt. war es einmal ein Bug der mittlerweile gefixed wurde"
   ]
  },
  {
   "cell_type": "markdown",
   "metadata": {},
   "source": [
    "##### Pandas - loc\n",
    "\n",
    "###### Zugriff über Label"
   ]
  },
  {
   "cell_type": "code",
   "execution_count": null,
   "metadata": {
    "scrolled": true
   },
   "outputs": [],
   "source": [
    "df.loc['Zeile1':'Zeile3',:] # OBACHT! Stopwert wird EINBEZOGEN!!!!!!!\n"
   ]
  },
  {
   "cell_type": "code",
   "execution_count": null,
   "metadata": {},
   "outputs": [],
   "source": [
    "# Rückgabewert\n",
    "\n",
    "type(df.loc['Zeile1':'Zeile3',:])"
   ]
  },
  {
   "cell_type": "markdown",
   "metadata": {},
   "source": [
    "##### Pandas - iloc\n",
    "\n",
    "###### Zugriff über Index"
   ]
  },
  {
   "cell_type": "code",
   "execution_count": null,
   "metadata": {},
   "outputs": [],
   "source": [
    "df.iloc[0:3,:] # OBACHT: Bei der Verwendung des Indizes wird der Stopwert NICHT mit einbezogen"
   ]
  },
  {
   "cell_type": "code",
   "execution_count": null,
   "metadata": {},
   "outputs": [],
   "source": [
    "# Rückgabewert\n",
    "\n",
    "type(df.iloc[0:3,:])"
   ]
  },
  {
   "cell_type": "markdown",
   "metadata": {},
   "source": [
    "#### auf Zeilen UND Spalten zu greifen\n",
    "\n",
    "\n",
    "Zielbild: \n",
    "\n",
    "              A   B  \n",
    "     -------|---|---\n",
    "     Zeile1 | 1 | 4 \n",
    "     Zeile2 | 2 | 3 \n",
    "     Zeile3 | 3 | 2 \n",
    "\n",
    "\n",
    "\n",
    "\n",
    "            Python                           NumPy                       Pandas\n",
    "     ---------------------------|----------------------------------|--------------------------------------\n",
    "                                |                                  |\n",
    "       na, da zweidimensional   |   df[0:3][['A','B']]             |   df.loc['Zeile1':'Zeile3','A':'B']\n",
    "                                |   df[['A','B']][0:3]             |   df.loc['Zeile1':'Zeile3',['A','B']]\n",
    "                                |                                  |      \n",
    "                                | df['Zeile1':'Zeile3'][['A','B']] |   df.iloc[0:3,0:2]\n",
    "                                | df[['A','B']]['Zeile1':'Zeile3'] |   df.iloc[0:3,[0,1]]\n",
    "  \n",
    "\n",
    "##### NumPy "
   ]
  },
  {
   "cell_type": "code",
   "execution_count": null,
   "metadata": {},
   "outputs": [],
   "source": [
    "# erst Spalten und dann Zeilen?\n",
    "\n",
    "df[['A','B']][0:3]"
   ]
  },
  {
   "cell_type": "code",
   "execution_count": null,
   "metadata": {},
   "outputs": [],
   "source": [
    "# oder erst Zeilen und dann Spalten?\n",
    "\n",
    "df[0:3][['A','B']]"
   ]
  },
  {
   "cell_type": "code",
   "execution_count": null,
   "metadata": {},
   "outputs": [],
   "source": [
    "df[['A','C']][0:3]   # sclicing kommt NumPy nicht klar ['A':'C']"
   ]
  },
  {
   "cell_type": "code",
   "execution_count": null,
   "metadata": {},
   "outputs": [],
   "source": [
    "# Du kannst beim Slicing für die Spalten KEINEN Index verwenden! Wie du im Beispiel siehst, werden im 2.ten Slicing\n",
    "# die Zeilen weiter eingschränkt und nicht die Spalten ausgewählt\n",
    "\n",
    "df[0:3][0:2]\n",
    "#df[0:2][0:3]"
   ]
  },
  {
   "cell_type": "code",
   "execution_count": null,
   "metadata": {},
   "outputs": [],
   "source": [
    "df['Zeile1':'Zeile3'][['A','B']]"
   ]
  },
  {
   "cell_type": "code",
   "execution_count": null,
   "metadata": {},
   "outputs": [],
   "source": [
    "df[['A','B']]['Zeile1':'Zeile3']"
   ]
  },
  {
   "cell_type": "markdown",
   "metadata": {},
   "source": [
    "##### Pandas - loc\n",
    "\n",
    "###### Zugriff über Label"
   ]
  },
  {
   "cell_type": "code",
   "execution_count": null,
   "metadata": {},
   "outputs": [],
   "source": [
    "## Label verwenden da .loc[]\n",
    "df.loc['Zeile1':'Zeile3','A':'B']\n",
    "# li = ['A','C']\n",
    "# df.loc['Zeile1':'Zeile3',li]"
   ]
  },
  {
   "cell_type": "markdown",
   "metadata": {},
   "source": [
    "##### Pandas - iloc\n",
    "\n",
    "###### Zugriff über Index"
   ]
  },
  {
   "cell_type": "code",
   "execution_count": null,
   "metadata": {},
   "outputs": [],
   "source": [
    "## Index verwenden da .iloc[]\n",
    "df.iloc[0:3,0:2]\n",
    "#df.iloc[0:3,['A','C']] # geht nicht!"
   ]
  },
  {
   "cell_type": "markdown",
   "metadata": {},
   "source": [
    "Und welche Methode soll ich nun verwenden?\n",
    "\n",
    "Am besten verwendest du loc oder iloc.\n",
    "\n",
    "Bei der Wertzuweisung hat NumPy seine Grenzen. Spätestens an dieser Stelle musst du loc oder iloc verwenden.\n",
    "\n",
    "Was du nicht tun solltest, ist bei Bedingungen NumPy und Pandas zu vermischen. Das dauert länger und verschlechtert somit die Performance! \n",
    "\n",
    "In Stackoverflow etc. wirst du Kombinationen finden, weil vielen die Unterschiede nicht klar sind. Insbesondere, wenn es um Bedingungen geht, ist der Grund warum kombinierte Abfragen funktionieren nicht mehr erklärbar. Es funktioniert allerdings, weil Pandas auf NumPy aufgebaut ist."
   ]
  },
  {
   "cell_type": "markdown",
   "metadata": {},
   "source": [
    "## Bedingungen  \n",
    "\n",
    "**df.loc[Bedingung , Spalten]**"
   ]
  },
  {
   "cell_type": "code",
   "execution_count": null,
   "metadata": {},
   "outputs": [],
   "source": [
    "# Bedingungen Grudnschema:  df.loc[Bedingung , Spalten]\n",
    "# Bedingung kann wiederum als Python attribute, numpy oder loc übergeben werden\n",
    "\n",
    "# df.loc und Python attribute\n",
    "print(df)\n",
    "df.loc[df.A == 2, 'A':'B']"
   ]
  },
  {
   "cell_type": "code",
   "execution_count": null,
   "metadata": {},
   "outputs": [],
   "source": [
    "# df.loc und NumPy\n",
    "\n",
    "df.loc[df['A']==2,'A':'B']"
   ]
  },
  {
   "cell_type": "code",
   "execution_count": null,
   "metadata": {},
   "outputs": [],
   "source": [
    "# df.loc und df.loc\n",
    "\n",
    "df.loc[df.loc[:,'A']==2,'A':'B']   # Bei slicing nur so möglich!\n",
    "#df.loc[df.loc[:,'A']==2,['A','C']] # Zugriff auf Spalte A und C"
   ]
  },
  {
   "cell_type": "code",
   "execution_count": null,
   "metadata": {},
   "outputs": [],
   "source": [
    "# Bitte NICHT machen! #########\n",
    "\n",
    "# df.loc[] um Spalten auszuwählen UND NumPy um Bedingung mitzugeben\n",
    "\n",
    "df.loc[:,'A':'B'][df['A']==2]"
   ]
  },
  {
   "cell_type": "code",
   "execution_count": null,
   "metadata": {},
   "outputs": [],
   "source": [
    "# Bedingung mit Funktion übergeben: z.B. query(), where()\n",
    "df = pd.DataFrame({'A' : [1, 2, 3, 4],\n",
    "                   'B' : [4, 3, 2, 1],\n",
    "                   'C' : [9, 8, 7, 6]}, \n",
    "                  index=['Zeile1', 'Zeile2', 'Zeile3', 'Zeile4'])\n",
    "print(df)\n",
    "df.loc[:,'A':'B'].query('A==1')\n",
    "df.query('A==1')\n",
    "df1 = df.loc[:,'A':'B'].where(df['A']>1, 'NaN')\n",
    "df1\n"
   ]
  },
  {
   "cell_type": "code",
   "execution_count": null,
   "metadata": {},
   "outputs": [],
   "source": [
    "# inplace Parameter Original DF wird verändert!\n",
    "print(df.where(df['A']==1, 99, inplace = False))\n",
    "print(df)"
   ]
  },
  {
   "cell_type": "markdown",
   "metadata": {},
   "source": [
    "<h1><font color='darkblue'>Pandas - nützliche Funktionen - Liste an DF hängen</font></h1>\n",
    "\n",
    "Durch einen DataFrame zu iterieren, kann sehr zeitintensiv sein. Insbesondere die Funktion iterrow() ist sehr teuer und sollte nur im Notfall verwendet werden.\n",
    "\n",
    "Oftmals macht es Sinn, Berechnungen auszulagern und in einer Liste zu berechnen und das Ergebnis, welches in einer Liste gespeichert wird, dann wieder an den DataFrame zu hängen. \n",
    "                                \n",
    "Anhand des nachfolgenden Beispiels soll der DataFrame mit den Einwohnerzahlen, welche in einer Liste gespeichert sind, erweitert werden."
   ]
  },
  {
   "cell_type": "code",
   "execution_count": null,
   "metadata": {},
   "outputs": [],
   "source": [
    "import pandas as pd "
   ]
  },
  {
   "cell_type": "code",
   "execution_count": null,
   "metadata": {},
   "outputs": [],
   "source": [
    "# Beispiel DataFrame\n",
    "\n",
    "df = pd.DataFrame({'city': ['Chicago', 'Boston', 'Los Angeles'], 'rank': [1, 4, 5]})\n",
    "df "
   ]
  },
  {
   "cell_type": "code",
   "execution_count": null,
   "metadata": {},
   "outputs": [],
   "source": [
    "# Beispiel Liste Einwohner\n",
    "\n",
    "citizen_list = [10,50,80] \n",
    "citizen_list "
   ]
  },
  {
   "cell_type": "code",
   "execution_count": null,
   "metadata": {},
   "outputs": [],
   "source": [
    "# Spalte neu definieren und Liste zuweisen\n",
    "\n",
    "df['citizen'] = citizen_list \n",
    "df "
   ]
  },
  {
   "cell_type": "code",
   "execution_count": null,
   "metadata": {},
   "outputs": [],
   "source": [
    "# alternativ mit insert()\n",
    "df.insert(2,'citizen_neu',citizen_list)  # Position der Spalte ist wählbar\n",
    "#df.insert(2,'citizen_neu',citizen_list,allow_duplicates=True)   # Erlaubt doppelte Spaltennamen\n",
    "df "
   ]
  },
  {
   "cell_type": "code",
   "execution_count": null,
   "metadata": {},
   "outputs": [],
   "source": [
    "x = df.loc[:,['citizen_neu']]\n",
    "print(x, type(x))\n",
    "x = x.citizen_neu\n",
    "print(x, type(x))\n",
    "print(list(x))    # Series in Liste\n",
    "#print(np.array(x)+100)    # Series in Liste\n",
    "for i in x:       # Series ist itterierbar\n",
    "    print(i)"
   ]
  },
  {
   "cell_type": "code",
   "execution_count": null,
   "metadata": {},
   "outputs": [],
   "source": [
    "# Kopieren eines DataFrames\n",
    "df1 = pd.DataFrame({'A ': [1,2,3,4,5,4,7,4,9,4],\n",
    "                    'B': [10,9,8,8,3,8,4,3,2,1],\n",
    "                    'C': [1,2,2,2,2,4,4,4,4,4]})\n",
    "print(df1)\n",
    "df2 = df1[:]              # KEINE echte Kopie!\n",
    "print(id(df1), id(df2))   # eigener Speicherbereich!\n",
    "df1.iloc[1,1] = 99\n",
    "print(df2)\n",
    "#df1 = df2[:]\n",
    "print(id(df1), id(df2))\n",
    "print(df1)                # Daten sind abhängig\n"
   ]
  },
  {
   "cell_type": "code",
   "execution_count": null,
   "metadata": {},
   "outputs": [],
   "source": [
    "# Dataframe kopieren mit .copy()\n",
    "import pandas as pd\n",
    "df1 = pd.DataFrame({'A': [1,2,3,4,5,4,7,4,9,4],\n",
    "                    'B': [10,9,8,8,3,8,4,3,2,1],\n",
    "                    'C': [1,2,2,2,2,4,4,4,4,4]})\n",
    "print('df1:\\n',df1)\n",
    "#df2 = df1.copy(deep=False)         # Kopie; abhängig\n",
    "df2 = df1.copy()                   # echte Kopie; unabhängig\n",
    "#df2 = df1.iloc[:,[0,2]]           # Teilkopie, bei [:,:] eine anhängige Kopie!\n",
    "print(id(df1), id(df2),'\\n')       # eigener Speicherbereich!\n",
    "df2.iloc[1,1] = 99\n",
    "print('df2:\\n',df2)\n",
    "#df1 = df2[:]\n",
    "print(id(df1), id(df2),'\\n')\n",
    "print('df1:\\n',df1)                # Daten sind unabhängig"
   ]
  },
  {
   "cell_type": "code",
   "execution_count": null,
   "metadata": {},
   "outputs": [],
   "source": [
    "help(df1.copy)"
   ]
  }
 ],
 "metadata": {
  "hide_input": false,
  "kernelspec": {
   "display_name": "Python 3 (ipykernel)",
   "language": "python",
   "name": "python3"
  },
  "language_info": {
   "codemirror_mode": {
    "name": "ipython",
    "version": 3
   },
   "file_extension": ".py",
   "mimetype": "text/x-python",
   "name": "python",
   "nbconvert_exporter": "python",
   "pygments_lexer": "ipython3",
   "version": "3.12.4"
  },
  "nbTranslate": {
   "displayLangs": [
    "*"
   ],
   "hotkey": "alt-t",
   "langInMainMenu": true,
   "sourceLang": "en",
   "targetLang": "fr",
   "useGoogleTranslate": true
  },
  "toc": {
   "base_numbering": 1,
   "nav_menu": {},
   "number_sections": true,
   "sideBar": true,
   "skip_h1_title": false,
   "title_cell": "Table of Contents",
   "title_sidebar": "Contents",
   "toc_cell": false,
   "toc_position": {},
   "toc_section_display": true,
   "toc_window_display": false
  },
  "varInspector": {
   "cols": {
    "lenName": 16,
    "lenType": 16,
    "lenVar": 40
   },
   "kernels_config": {
    "python": {
     "delete_cmd_postfix": "",
     "delete_cmd_prefix": "del ",
     "library": "var_list.py",
     "varRefreshCmd": "print(var_dic_list())"
    },
    "r": {
     "delete_cmd_postfix": ") ",
     "delete_cmd_prefix": "rm(",
     "library": "var_list.r",
     "varRefreshCmd": "cat(var_dic_list()) "
    }
   },
   "types_to_exclude": [
    "module",
    "function",
    "builtin_function_or_method",
    "instance",
    "_Feature"
   ],
   "window_display": false
  },
  "widgets": {
   "application/vnd.jupyter.widget-state+json": {
    "state": {},
    "version_major": 2,
    "version_minor": 0
   }
  }
 },
 "nbformat": 4,
 "nbformat_minor": 4
}
