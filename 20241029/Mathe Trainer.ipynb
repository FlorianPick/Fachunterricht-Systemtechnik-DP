{
 "cells": [
  {
   "cell_type": "markdown",
   "metadata": {},
   "source": [
    "# Mathe Trainer\n",
    "\n",
    "Schreiben Sie ein Python-Programm, um einem Schüler zu helfen, Mathematik zu üben.\n",
    "Das Programm sollte den Schüler zuerst fragen, wie viele Übungen er machen möchte.\n",
    "\n",
    "Fangen Sie die Eingabe einer zu hohen Zahl (z.B. >100) oder eines Strings ab. und fordern eine neue Eingabe an.\n",
    "Sollte eine Fliesskommazahl eingegeben werden wird deren Integer-Wert benutzt.\n",
    "  \n",
    "Dann soll das Programm zwei Zufallszahlen zwischen 1 und 10 generieren und zufällig einen Operator + oder - oder * auswählen und eine Übung generieren.\n",
    "  \n",
    "Dann liest es die Antwort des Schülers in der Eingabe und teilt mit, ob die Antwort richtig war. Wenn die Antwort falsch war, sollte die richtige Antwort angezeigt werden.\n",
    "\n",
    "Auch hier die Eingabe auf eine gültige Zahl hin überprüfen und gegebenenfalls eine neue Eingabe anfordern.\n",
    "\n",
    "```python\n",
    ">>> Wie viele Übungsläufe möchten Sie machen?  2\n",
    ">>> 2 * 7 = ?\n",
    "14\n",
    ">>> \"Ja, das ist richtig!\"\n",
    ">>> 3 * 10 = ?\n",
    "21\n",
    ">>> \"Leider falsch. Die korrekte Antwort lautet: 30\"\n",
    "```\n",
    "**Die Aufgabe mit den bisher bekannten Funktionen aus Python lösen! Ein \"try-except\"-Konstrukt soll nicht verwendet werden!!**  \n",
    "Verwenden Sie stattdessen z.B. die Stringmethoden isnumeric, isdigit .... .  \n",
    "**(30 Punkte)**\n"
   ]
  },
  {
   "cell_type": "code",
   "execution_count": null,
   "metadata": {},
   "outputs": [],
   "source": [
    "# Hier Ihren Programmcode eintragen\n",
    "# Hinweise:eval(), while, isnumeric(), isdigit(), random: randint, choice\n",
    "from random import randint\n",
    "from random import choice"
   ]
  },
  {
   "cell_type": "markdown",
   "metadata": {},
   "source": [
    "### Optional\n",
    "\n",
    "Erweitern Sie Ihre Lösung so, dass neben arithmetischen Operatoren auch boolesche Operatoren unterstützt werden. Der Benutzer sollte nur mit „Wahr“ oder „Falsch“ antworten, ansonsten muss die Eingabe wiederholt werden. ( w und f als Auswahl ist auch OK)\n",
    "\n",
    "**(5 Punkte zusätzlich)**"
   ]
  },
  {
   "cell_type": "code",
   "execution_count": null,
   "metadata": {},
   "outputs": [],
   "source": [
    "# Hier Ihren Programmcode eintragen\n",
    "# Hinweise:eval(), while, bin(), random: randint, choice"
   ]
  },
  {
   "cell_type": "markdown",
   "metadata": {},
   "source": [
    "### Optional zum kniffeln\n",
    "\n",
    "Erweitern Sie Ihre Lösung so, dass bitweise Operatoren unterstützt werden.\n",
    "Die Eingabe und Ausgabe sollte die binäre Form (010011) unterstützen.Der Binärwert sollte maximal 8 Stellen lang sein. Bei Fehler muss die Eingabe wiederholt werden oder mit 'quit' abgebrochen werden.\n",
    "\n",
    "**(15 Punkte zusätzlich)**"
   ]
  },
  {
   "cell_type": "code",
   "execution_count": null,
   "metadata": {},
   "outputs": [],
   "source": [
    "# Hier Ihren Programmcode eintragen\n",
    "# Hinweise:eval(), while, bin(), random: randint, choice"
   ]
  },
  {
   "cell_type": "code",
   "execution_count": null,
   "metadata": {},
   "outputs": [],
   "source": [
    "\n"
   ]
  }
 ],
 "metadata": {
  "kernelspec": {
   "display_name": "Python 3 (ipykernel)",
   "language": "python",
   "name": "python3"
  },
  "language_info": {
   "codemirror_mode": {
    "name": "ipython",
    "version": 3
   },
   "file_extension": ".py",
   "mimetype": "text/x-python",
   "name": "python",
   "nbconvert_exporter": "python",
   "pygments_lexer": "ipython3",
   "version": "3.12.4"
  },
  "toc": {
   "base_numbering": 1,
   "nav_menu": {},
   "number_sections": true,
   "sideBar": true,
   "skip_h1_title": false,
   "title_cell": "Table of Contents",
   "title_sidebar": "Contents",
   "toc_cell": false,
   "toc_position": {},
   "toc_section_display": true,
   "toc_window_display": false
  },
  "varInspector": {
   "cols": {
    "lenName": 16,
    "lenType": 16,
    "lenVar": 40
   },
   "kernels_config": {
    "python": {
     "delete_cmd_postfix": "",
     "delete_cmd_prefix": "del ",
     "library": "var_list.py",
     "varRefreshCmd": "print(var_dic_list())"
    },
    "r": {
     "delete_cmd_postfix": ") ",
     "delete_cmd_prefix": "rm(",
     "library": "var_list.r",
     "varRefreshCmd": "cat(var_dic_list()) "
    }
   },
   "types_to_exclude": [
    "module",
    "function",
    "builtin_function_or_method",
    "instance",
    "_Feature"
   ],
   "window_display": false
  },
  "widgets": {
   "application/vnd.jupyter.widget-state+json": {
    "state": {},
    "version_major": 2,
    "version_minor": 0
   }
  }
 },
 "nbformat": 4,
 "nbformat_minor": 4
}
