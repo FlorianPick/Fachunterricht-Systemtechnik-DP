{
 "cells": [
  {
   "cell_type": "markdown",
   "metadata": {},
   "source": [
    "# Elektroautos\n",
    "\n",
    "Dein Chef hat die neuesten Daten über den Elektroautomarkt. Wie immer ist die Zeit knapp und um 14 Uhr hält dein Chef eine Presskonferenz über die neuen Zahlen. Da dein Chef selbst heute einen vollen Terminkalendar hat, bittet er dich die Daten auf- und für die Präsentation vorzubereiten. Dein Chef bekommt die Daten von dir um 13:50 Uhr und hat damit nur 10min Zeit deine Unterlagen durchzusehen.\n",
    "\n",
    "Der Datensatz besteht aus zwei Teilen. Füge diese zunächst zusammen.\n",
    "\n",
    "Erkunde den Datensatz. Hier kannst du beim Thema fehlende Werte weitere Vorgehensweisen ausprobieren, um die Daten zu befüllen. (Häufigkeiten bestimmen: **crosstab(),idxmax()** ...)\n",
    "\n",
    "Weiterhin bietet der Datensatz ein neues **Features!** Erstelle dieses. (neue Informationen generieren aus den vorhandenen Daten)\n",
    "\n",
    "Werte den Datensatz aus! Welche Erkenntnisse kannst du daraus gewinnen?\n",
    "                            \n",
    "Vergiss nicht dein Vorgehen zu dokumentieren: **Dokumentiere deine Schritte** - bringe deine Gedanken auf Papier!\n",
    "\n",
    "### Wofür stehen die Spalten?\n",
    "\n",
    "\n",
    "- Brand ... Manufacturer of the vehicle\n",
    "- Model ... Model name\n",
    "- AccelSec ... Acceleration as 0-100 km/h\n",
    "- TopSpeed_KmH ... The top speed in km/h\n",
    "- Rang_Km ... Range in km\n",
    "- Efficiency_WhKm ... Efficiency Wh/km --> wie viel kw brauch ich pro km bzw. Stromverbrauch pro km\n",
    "- FastCharge_KmH ... Charge km/h --> Reichweite in km nach einer Stunde Schnellladen (ist ein theoretischer Wert)\n",
    "- RapidCharge ... Yes / No --> besitzt Schnellladefunktion ja/nein\n",
    "- PowerTrain ... Front (FWD), rear (RWD) , or all wheel drive (AWD)\n",
    "- PlugType ... Plug type (Stecktyp zum Laden an der Ladesäule; abhängig vom Land in dem das Auto später fährt)\n",
    "- BodyStyle ... Basic size or style (SUV, Schrägdach etc.)\n",
    "- Seats ... Number of seats\n",
    "- PriceEuro ... Price in Germany before tax incentives\n"
   ]
  },
  {
   "cell_type": "markdown",
   "metadata": {},
   "source": [
    "## to DO\n",
    "\n",
    "                                       1. Data Preprocessing\n",
    "                                           1.1) Datensatz einlesen\n",
    "                                           1.2) fehlende Werte\n",
    "                                           1.3) Ausreißer\n",
    "                                           1.4) Speicherplatz\n",
    "                                           1.5) Pairplot - erste visuelle Inspektion\n",
    "                                           1.6) Features\n",
    "                                        \n",
    "                                        2. Visualisierung"
   ]
  },
  {
   "cell_type": "code",
   "execution_count": null,
   "metadata": {},
   "outputs": [],
   "source": [
    "import pandas as pd\n",
    "import numpy as np\n",
    "import seaborn as sns"
   ]
  },
  {
   "cell_type": "code",
   "execution_count": null,
   "metadata": {},
   "outputs": [],
   "source": [
    "# Erste Datei einlesen\n",
    "df_ecar1 = pd.read_csv(r'ecar_part1.csv', sep=',', index_col=0)\n",
    "df_ecar1.head(3)\n"
   ]
  },
  {
   "cell_type": "code",
   "execution_count": null,
   "metadata": {},
   "outputs": [],
   "source": [
    "# Zweite Datei einlesen\n",
    "df_ecar2 = pd.read_csv(r'ecar_part2.csv', sep='|', index_col=0)\n",
    "df_ecar2.head(3)\n"
   ]
  },
  {
   "cell_type": "code",
   "execution_count": null,
   "metadata": {},
   "outputs": [],
   "source": [
    "# Dateien müssen Spaltenweise verbunden, 'connector' ist die KEY-Spalte\n",
    "df_ecar = df_ecar1.merge(df_ecar2,on='connector')\n",
    "df_ecar.reset_index\n",
    "df_ecar"
   ]
  },
  {
   "cell_type": "code",
   "execution_count": null,
   "metadata": {},
   "outputs": [],
   "source": [
    "# Speichern des aktuellen Standes des Datensatzes zur Dokumentation des Speicherplatzes\n",
    "df_M00 = df_ecar"
   ]
  },
  {
   "cell_type": "code",
   "execution_count": null,
   "metadata": {},
   "outputs": [],
   "source": [
    "df_M00.memory_usage(deep=True).sum() "
   ]
  },
  {
   "cell_type": "code",
   "execution_count": null,
   "metadata": {
    "scrolled": true
   },
   "outputs": [],
   "source": [
    "# Spalte 'connector' löschen\n",
    "df_ecar = df_ecar.drop(columns='connector')"
   ]
  },
  {
   "cell_type": "code",
   "execution_count": null,
   "metadata": {},
   "outputs": [],
   "source": [
    "df_ecar.head(3)"
   ]
  },
  {
   "cell_type": "markdown",
   "metadata": {},
   "source": [
    "# Fehlende Werte"
   ]
  },
  {
   "cell_type": "code",
   "execution_count": null,
   "metadata": {},
   "outputs": [],
   "source": [
    "df_ecar.columns"
   ]
  },
  {
   "cell_type": "code",
   "execution_count": null,
   "metadata": {},
   "outputs": [],
   "source": [
    "df_ecar.isnull().sum()"
   ]
  },
  {
   "cell_type": "markdown",
   "metadata": {},
   "source": [
    "FastCharge_KmH hat Null Werte (5)"
   ]
  },
  {
   "cell_type": "code",
   "execution_count": null,
   "metadata": {},
   "outputs": [],
   "source": [
    "df_ecar.head(3)"
   ]
  },
  {
   "cell_type": "code",
   "execution_count": null,
   "metadata": {},
   "outputs": [],
   "source": [
    "df_ecar.dtypes"
   ]
  },
  {
   "cell_type": "markdown",
   "metadata": {},
   "source": [
    "Datentypen \n",
    "Seats hat ? und sollte eine Zahl sein (Integer, da keine halben Sitze!)\n",
    "Welche BodyStyles haben fehlende Werte\n",
    "\n",
    "\n"
   ]
  },
  {
   "cell_type": "code",
   "execution_count": null,
   "metadata": {},
   "outputs": [],
   "source": [
    "# Kreuztabelle für Seats zum Bodystyle\n",
    "pd.crosstab(df_ecar['Seats'], df_ecar['BodyStyle'], dropna=False)\n",
    "#np.average((df_ecar['Seats'] '?'))"
   ]
  },
  {
   "cell_type": "code",
   "execution_count": null,
   "metadata": {},
   "outputs": [],
   "source": [
    "# Welche BodyStyles haben fehlende Werte und welchen Durchschnitt bei Sitzen\n",
    "for i in (df_ecar.loc[df_ecar['Seats']=='?','BodyStyle'].unique()):\n",
    "    print(f'\\nBodyStyle    : {i}')\n",
    "    x = (pd.to_numeric((df_ecar.loc[df_ecar['BodyStyle']==i,'Seats']),errors='coerce')).mean()\n",
    "    print(f'Durchschnitt : {x}\\nWerte:')\n",
    "    y = df_ecar.loc[df_ecar['BodyStyle']==i,'Seats']\n",
    "    for i in y:\n",
    "        print(i, end=' | ')\n",
    "    \n",
    "    "
   ]
  },
  {
   "cell_type": "code",
   "execution_count": null,
   "metadata": {},
   "outputs": [],
   "source": [
    "# Prüfung welche Werte in den BodyStyles am häufigsten vorkommen\n",
    "missing_types = df_ecar[\"BodyStyle\"].loc[(df_ecar[\"Seats\"] == '?')].unique()\n",
    "for style in missing_types:\n",
    "    print(style,'    \\t: ', df_ecar.loc[(df_ecar['BodyStyle'] == style), 'Seats'].value_counts().idxmax(), ' Sitze')\n",
    "    "
   ]
  },
  {
   "cell_type": "code",
   "execution_count": null,
   "metadata": {},
   "outputs": [],
   "source": [
    "# Lösung von Beatrice ***************\n",
    "missing_types = df_ecar[\"BodyStyle\"].loc[(df_ecar[\"Seats\"] == '?')].unique()\n",
    "# am häufigsten auftretende Anzahl Sitze ermitteln mit idxmax() \n",
    "for style in missing_types:\n",
    "    max_seats = df_ecar.loc[(df_ecar['BodyStyle'] == style), 'Seats'].value_counts().idxmax()\n",
    "    print(style, max_seats)\n",
    "    df_ecar.loc[(df_ecar[\"Seats\"] == '?') & (df_ecar['BodyStyle'] == style),[\"Seats\"]] = max_seats\n",
    "df_ecar.head(-20)"
   ]
  },
  {
   "cell_type": "code",
   "execution_count": null,
   "metadata": {},
   "outputs": [],
   "source": [
    "pd.crosstab((df_ecar['FastCharge_KmH'].isnull()) , df_ecar['RapidCharge'],dropna=False)"
   ]
  },
  {
   "cell_type": "markdown",
   "metadata": {},
   "source": [
    "**FastCharge_KmH ist nur vorhanden wenn RapidCharge = 'Yes'**\n",
    "\n",
    "Fehlende Werte können durch 0 ersetzt werden!"
   ]
  },
  {
   "cell_type": "code",
   "execution_count": null,
   "metadata": {},
   "outputs": [],
   "source": [
    "# FastCharge 'NaN' in 0 ändern\n",
    "\n",
    "df_ecar.loc[(df_ecar['FastCharge_KmH'].isnull()),[\"FastCharge_KmH\"]] = 0\n",
    "df_ecar.loc[(df_ecar['FastCharge_KmH'] == 0),:]"
   ]
  },
  {
   "cell_type": "markdown",
   "metadata": {},
   "source": [
    "# Speicher optimieren "
   ]
  },
  {
   "cell_type": "code",
   "execution_count": null,
   "metadata": {},
   "outputs": [],
   "source": [
    "df_M01 = df_ecar\n",
    "df_M01.memory_usage(deep=True)\n",
    "\n"
   ]
  },
  {
   "cell_type": "code",
   "execution_count": null,
   "metadata": {},
   "outputs": [],
   "source": [
    "# Werte in 'FastCharge_KmH' als Integer setzen\n",
    "df_ecar['FastCharge_KmH'] = pd.to_numeric(df_ecar.loc[:,'FastCharge_KmH'],downcast=\"integer\")\n",
    "df_ecar"
   ]
  },
  {
   "cell_type": "code",
   "execution_count": null,
   "metadata": {
    "scrolled": true
   },
   "outputs": [],
   "source": [
    "# Werte in 'Seats' als Integer setzen\n",
    "df_ecar['Seats'] = pd.to_numeric(df_ecar.loc[:,'Seats'],downcast=\"integer\")\n",
    "df_ecar"
   ]
  },
  {
   "cell_type": "code",
   "execution_count": null,
   "metadata": {},
   "outputs": [],
   "source": [
    "df_ecar[[\"TopSpeed_KmH\",\"Range_Km\",\"Efficiency_WhKm\",\"PriceEuro\"]] = df_ecar[[\"TopSpeed_KmH\",\"Range_Km\",\"Efficiency_WhKm\",\"PriceEuro\"]].apply(pd.to_numeric, downcast=\"integer\")\n",
    "df_ecar.dtypes"
   ]
  },
  {
   "cell_type": "code",
   "execution_count": null,
   "metadata": {},
   "outputs": [],
   "source": [
    "#\n",
    "df_ecar['AccelSec'] = pd.to_numeric(df_ecar.loc[:,'AccelSec'],downcast=\"float\")\n",
    "#df_ecar = df_ecar.drop(columns='SeAccelSecats')"
   ]
  },
  {
   "cell_type": "code",
   "execution_count": null,
   "metadata": {},
   "outputs": [],
   "source": [
    "df_ecar.dtypes"
   ]
  },
  {
   "cell_type": "code",
   "execution_count": null,
   "metadata": {},
   "outputs": [],
   "source": [
    "sns.pairplot(data=df_ecar)"
   ]
  },
  {
   "cell_type": "code",
   "execution_count": null,
   "metadata": {},
   "outputs": [],
   "source": [
    "df_ecar.loc[df_ecar['TopSpeed_KmH'] > 300,:]\n"
   ]
  },
  {
   "cell_type": "code",
   "execution_count": null,
   "metadata": {},
   "outputs": [],
   "source": [
    "df_ecar.memory_usage(deep=True).sum()"
   ]
  },
  {
   "cell_type": "code",
   "execution_count": null,
   "metadata": {},
   "outputs": [],
   "source": [
    "# Speicherbedarf vor Optimierung\n",
    "df_M00.memory_usage(deep=True).sum() "
   ]
  },
  {
   "cell_type": "code",
   "execution_count": null,
   "metadata": {},
   "outputs": [],
   "source": [
    "reduction = 100 * (df_M00.memory_usage(deep=True).sum()-df_ecar.memory_usage(deep=True).sum())/df_M00.memory_usage(deep=True).sum()\n",
    "print(f\"{reduction:0.2f}%\")"
   ]
  },
  {
   "cell_type": "code",
   "execution_count": null,
   "metadata": {},
   "outputs": [],
   "source": [
    "# Gruppe für PowerTrain anlegen\n",
    "categories1 = df_ecar[\"PowerTrain\"].unique()\n",
    "print(f\"Anzahl: {np.count_nonzero(categories1)} Werte: {categories1}\")\n",
    "categories2 = df_ecar[\"RapidCharge\"].unique()\n",
    "print(f\"Anzahl: {np.count_nonzero(categories2)} Werte: {categories2}\")\n",
    "categories3 = df_ecar[\"PlugType\"].unique()\n",
    "print(f\"Anzahl: {np.count_nonzero(categories3)} Werte: {categories3}\")\n",
    "categories4 = df_ecar[\"BodyStyle\"].unique()\n",
    "print(f\"Anzahl: {np.count_nonzero(categories4)} Werte: {categories4}\")\n",
    "categories5 = df_ecar[\"Brand\"].unique()\n",
    "print(f\"Anzahl: {np.count_nonzero(categories5)} Werte: {categories5}\")"
   ]
  },
  {
   "cell_type": "markdown",
   "metadata": {},
   "source": [
    "Werte in Spalte 'PowerTrain' und 'RapidCharge' können durch kürzere Strings ersetzt werden."
   ]
  },
  {
   "cell_type": "code",
   "execution_count": null,
   "metadata": {},
   "outputs": [],
   "source": [
    "# Kategorisieren der Spalten \"PowerTrain\" \"RapidCharge\" \"PlugType\" \"BodyStyle\"\n",
    "df_ecar[[\"PowerTrain\", \"RapidCharge\", \"PlugType\", \"BodyStyle\", \"Brand\"]] = df_ecar[[\"PowerTrain\", \"RapidCharge\", \"PlugType\", \"BodyStyle\", \"Brand\"]].astype('category')\n",
    "df_ecar.dtypes"
   ]
  },
  {
   "cell_type": "code",
   "execution_count": null,
   "metadata": {},
   "outputs": [],
   "source": [
    "df_ecar.memory_usage(deep=True).sum()"
   ]
  },
  {
   "cell_type": "code",
   "execution_count": null,
   "metadata": {},
   "outputs": [],
   "source": [
    "reduction = 100 * (df_M00.memory_usage(deep=True).sum()-df_ecar.memory_usage(deep=True).sum())/df_M00.memory_usage(deep=True).sum()\n",
    "print(f\"{reduction:0.2f}%\")"
   ]
  },
  {
   "cell_type": "code",
   "execution_count": null,
   "metadata": {},
   "outputs": [],
   "source": [
    " df_ecar[\"Model\"].unique()  # Macht keinen Sinn!"
   ]
  },
  {
   "cell_type": "markdown",
   "metadata": {},
   "source": [
    "# Features\n",
    "Zeit bis zur kompletten Aufladung wenn die Batterie leer ist: **Range_Km / FastCharge_KmH** (Achtung 0-Werte für FastCharge_KmH bei Fahrzeugen ohne RapidCharge!!)\n",
    "\n",
    "Akkukapazität: **Range_Km * Efficiency_WhKm**\n",
    "\n"
   ]
  },
  {
   "cell_type": "code",
   "execution_count": null,
   "metadata": {},
   "outputs": [],
   "source": [
    "# Full_Load = 'Range_Km' / 'FastCharge_KmH' : Zeit zur vollen Aufladung bei leerem Akku\n",
    "df_ecar['Full_Load'] = round((df_ecar['Range_Km']/df_ecar['FastCharge_KmH'])*60,2)  # in \n",
    "#df_ecar.insert(8,'Full_Load',((df_ecar['Range_Km']/df_ecar.loc[df_ecar['FastCharge_KmH']>0,'FastCharge_KmH'])))\n",
    "df_ecar"
   ]
  },
  {
   "cell_type": "code",
   "execution_count": null,
   "metadata": {},
   "outputs": [],
   "source": [
    "# Cap_Acc = 'Range_Km' / 'Efficiency_WhKm' : Theoretische Kapazität des Akkus\n",
    "#df_ecar.insert(9,'Cap_Acc',(df_ecar['Range_Km']*df_ecar['Efficiency_WhKm']))\n",
    "df_ecar['Cap_Acc'] = ((df_ecar['Range_Km']) * (df_ecar['Efficiency_WhKm'] / 1000))\n"
   ]
  },
  {
   "cell_type": "code",
   "execution_count": null,
   "metadata": {
    "scrolled": true
   },
   "outputs": [],
   "source": [
    "df_ecar"
   ]
  },
  {
   "cell_type": "code",
   "execution_count": null,
   "metadata": {},
   "outputs": [],
   "source": [
    "df_ecar[[\"AccelSec\", \"Full_Load\", \"Cap_Acc\"]] = df_ecar[[\"AccelSec\", \"Full_Load\", \"Cap_Acc\"]].apply(pd.to_numeric, downcast=\"float\")\n",
    "df_ecar.dtypes"
   ]
  },
  {
   "cell_type": "code",
   "execution_count": null,
   "metadata": {},
   "outputs": [],
   "source": [
    "reduction = 100 * (df_M00.memory_usage(deep=True).sum()-df_ecar.memory_usage(deep=True).sum())/df_M00.memory_usage(deep=True).sum()\n",
    "print(f\"{reduction:0.2f}%\")"
   ]
  },
  {
   "cell_type": "code",
   "execution_count": null,
   "metadata": {},
   "outputs": [],
   "source": [
    "# alternativ: to_pickle Vorteil: Abspeicherung als DataFrame inkl. seiner Eigenschaften zum Speicherplatz\n",
    "# Nachteil: wenn Versionen im Team nicht stimmen, kann der andere den DF nicht als pickle einlesen\n",
    "df_ecar.to_pickle('ecar_after_preprocessing.pkl')"
   ]
  },
  {
   "cell_type": "markdown",
   "metadata": {},
   "source": [
    "# Auswertungen\n"
   ]
  },
  {
   "cell_type": "markdown",
   "metadata": {},
   "source": [
    "1. Vergleich der Hersteller mit ihren Modellen --> Wer ist denn am Markt? Gibt es Gloablplayer oder ist der Markt diversifiziert --> geeigneter Plot: Balkendiagramm (Säulendiagramm)\n",
    "2. Autoeigenschaften vergleichen (Battery, Range_km, etc) --> Balkendiagramm, Scatterplot\n",
    "3. Abhängikeiten vom Preis und Charkatereigenschaften --> Cut FUnktion --> Scatterplot\n",
    "4. Ist RapidCharge eine special Funktion oder schon Standard? --> Piechart --> Können wir mit dieser Funktion werben oder nicht?\n",
    "5. Wie lange brauche ich, um 1000 km zurückzulegen? --> stacked barchart (um unterscheiden zu können, wie viel der Zeit ich tanke und wie viel in der Zeit ich fahre)\n",
    "6. Ist ein eauto nur für die Stadt geeigent oder kann ich auch ein eauto als Familienauto haben? --> Auswertung Bodytyle --> grouped bar chart\n",
    "\n",
    "\n",
    "Hints: cut(), group by, agg(), Reihenfolge sortieren\n",
    "\n",
    "Zu jedem Plot die Erkenntnisse aufschreiben. (Ausführlich mit Analyse und Erklärungen)\n"
   ]
  }
 ],
 "metadata": {
  "hide_input": false,
  "kernelspec": {
   "display_name": "Python 3 (ipykernel)",
   "language": "python",
   "name": "python3"
  },
  "language_info": {
   "codemirror_mode": {
    "name": "ipython",
    "version": 3
   },
   "file_extension": ".py",
   "mimetype": "text/x-python",
   "name": "python",
   "nbconvert_exporter": "python",
   "pygments_lexer": "ipython3",
   "version": "3.12.4"
  },
  "nbTranslate": {
   "displayLangs": [
    "*"
   ],
   "hotkey": "alt-t",
   "langInMainMenu": true,
   "sourceLang": "en",
   "targetLang": "fr",
   "useGoogleTranslate": true
  },
  "toc": {
   "base_numbering": 1,
   "nav_menu": {},
   "number_sections": true,
   "sideBar": true,
   "skip_h1_title": false,
   "title_cell": "Table of Contents",
   "title_sidebar": "Contents",
   "toc_cell": false,
   "toc_position": {},
   "toc_section_display": true,
   "toc_window_display": false
  },
  "varInspector": {
   "cols": {
    "lenName": 16,
    "lenType": 16,
    "lenVar": 40
   },
   "kernels_config": {
    "python": {
     "delete_cmd_postfix": "",
     "delete_cmd_prefix": "del ",
     "library": "var_list.py",
     "varRefreshCmd": "print(var_dic_list())"
    },
    "r": {
     "delete_cmd_postfix": ") ",
     "delete_cmd_prefix": "rm(",
     "library": "var_list.r",
     "varRefreshCmd": "cat(var_dic_list()) "
    }
   },
   "types_to_exclude": [
    "module",
    "function",
    "builtin_function_or_method",
    "instance",
    "_Feature"
   ],
   "window_display": false
  },
  "widgets": {
   "application/vnd.jupyter.widget-state+json": {
    "state": {},
    "version_major": 2,
    "version_minor": 0
   }
  }
 },
 "nbformat": 4,
 "nbformat_minor": 4
}
