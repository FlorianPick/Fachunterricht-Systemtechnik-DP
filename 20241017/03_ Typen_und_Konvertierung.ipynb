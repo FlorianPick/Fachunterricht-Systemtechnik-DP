{
 "cells": [
  {
   "cell_type": "markdown",
   "metadata": {},
   "source": [
    "# Typen und Konvertierung\n",
    "\n",
    "Typen repräsentieren eine Kategorie von Objekten. Zum Beispiel haben Zahlen ihren eigenen Typ oder Textobjekte haben ihren eigenen Typ und so weiter ...\n",
    "\n",
    "**numerische Typen**  \n",
    "\n",
    "- integer\n",
    "- float\n",
    "- complex"
   ]
  },
  {
   "cell_type": "code",
   "execution_count": 1,
   "metadata": {},
   "outputs": [],
   "source": [
    "# erstelle eine Variable var\n",
    "# und weise ihr einen Wert zu\n",
    "var = 100"
   ]
  },
  {
   "cell_type": "markdown",
   "metadata": {},
   "source": [
    "Welchen Typ hat 'var'?"
   ]
  },
  {
   "cell_type": "code",
   "execution_count": 10,
   "metadata": {},
   "outputs": [
    {
     "name": "stdout",
     "output_type": "stream",
     "text": [
      "<class 'int'>\n",
      "100\n"
     ]
    }
   ],
   "source": [
    "# eingebaute Funktion type()\n",
    "print(type(var))\n",
    "print(var)\n",
    "#print(var/2)           # Division macht aus einer integer Zahl eine float Zahl\n",
    "#print(type(var/1))"
   ]
  },
  {
   "cell_type": "markdown",
   "metadata": {},
   "source": [
    "**int: integer** \n",
    "\n",
    "Nummern z.B.: -2, -1, 0, 1, 2, ..."
   ]
  },
  {
   "cell_type": "code",
   "execution_count": 11,
   "metadata": {},
   "outputs": [],
   "source": [
    "# erstelle eine Variable num\n",
    "# und weise ihr eine Kommazahl zu\n",
    "num = 1.555"
   ]
  },
  {
   "cell_type": "code",
   "execution_count": 12,
   "metadata": {},
   "outputs": [
    {
     "name": "stdout",
     "output_type": "stream",
     "text": [
      "<class 'float'>\n"
     ]
    }
   ],
   "source": [
    "print(type(num))"
   ]
  },
  {
   "cell_type": "markdown",
   "metadata": {},
   "source": [
    "**float: Fliesskommazahl**  \n",
    "\n",
    "Nummern z.B.: -2.4 or 1.33, or 20.23 .."
   ]
  },
  {
   "cell_type": "markdown",
   "metadata": {},
   "source": [
    "**Komplexe Zahlen**  \n",
    "\n",
    "Die sind Zahlen, die aus 2 Teilen bestehen. Eine ist der Realteil, die andere ist der Imaginärteil [wikipedia](https://de.wikipedia.org/wiki/Komplexe_Zahl)"
   ]
  },
  {
   "cell_type": "code",
   "execution_count": 17,
   "metadata": {},
   "outputs": [
    {
     "name": "stdout",
     "output_type": "stream",
     "text": [
      "(4+3j)\n",
      "(4+3j)\n",
      "<class 'complex'>\n"
     ]
    }
   ],
   "source": [
    "# erstelle eine Variable com\n",
    "# und weise ihr eine komplexe Zahl zu\n",
    "com = 4 + 3j             # j*j = -1 imaginärer Teil\n",
    "print(com)\n",
    "com = 3j + 4             # j*j = -1 imaginärer Teil\n",
    "print(com)\n",
    "print(type(com))\n",
    "#print(com + 3j + 4)     # Python addiert richtig\n",
    "#print(1j * 1j)          # j * j = -1 !"
   ]
  },
  {
   "cell_type": "markdown",
   "metadata": {},
   "source": [
    "In Python-Programmen definieren wir einfach eine Variable und weisen ihr einen Wert zu. Wir müssen den Typ nicht deklarieren! Das nennt man:\n",
    "\n",
    " **Duck Typing**\n",
    "\n",
    "„Wenn es aussieht wie eine Ente, schwimmt wie eine Ente und quakt wie eine Ente, dann ist es wahrscheinlich eine Ente.“ [ James Whitcomb Riley (1849–1916)](https://de.wikipedia.org/wiki/Ententest)\n",
    "\n",
    "<img src='data:image/jpeg;base64,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' style='width:350px;' />"
   ]
  },
  {
   "cell_type": "markdown",
   "metadata": {},
   "source": [
    "## Konvertierung\n",
    "\n",
    "Manchmal müssen wir den Typ eines Objekts ändern, um damit Berechnungen durchzuführen.\n",
    "\n",
    "Wie kann ich 'vegan' sein und trotzdem 'bbq chicken' genießen?!\n",
    "\n",
    "Sie können es einfach in \"Auberginen\" umwandeln!\n",
    "\n",
    "Python hat dafür einige eingebaute Funktionen!"
   ]
  },
  {
   "cell_type": "markdown",
   "metadata": {},
   "source": [
    "**Exercise**\n",
    "\n",
    "Wir brauchen ein Programm, um den Nettopreis (Preis vor Steuern) vom Benutzer zu erhalten und 19% Steuern hinzuzufügen.\n",
    "\n",
    "Die Ausgabe ist der Bruttopreis (Endpreis).\n"
   ]
  },
  {
   "cell_type": "code",
   "execution_count": 18,
   "metadata": {},
   "outputs": [
    {
     "name": "stdout",
     "output_type": "stream",
     "text": [
      "Geben Sie den Nettopreis ein: 100\n"
     ]
    },
    {
     "ename": "TypeError",
     "evalue": "can't multiply sequence by non-int of type 'float'",
     "output_type": "error",
     "traceback": [
      "\u001b[1;31m---------------------------------------------------------------------------\u001b[0m",
      "\u001b[1;31mTypeError\u001b[0m                                 Traceback (most recent call last)",
      "Cell \u001b[1;32mIn[18], line 5\u001b[0m\n\u001b[0;32m      2\u001b[0m net \u001b[38;5;241m=\u001b[39m \u001b[38;5;28minput\u001b[39m(\u001b[38;5;124m'\u001b[39m\u001b[38;5;124mGeben Sie den Nettopreis ein: \u001b[39m\u001b[38;5;124m'\u001b[39m)\n\u001b[0;32m      4\u001b[0m \u001b[38;5;66;03m# Berechne den Nettopreis mit 19% Mehrwertsteuer\u001b[39;00m\n\u001b[1;32m----> 5\u001b[0m final_price \u001b[38;5;241m=\u001b[39m \u001b[43mnet\u001b[49m\u001b[43m \u001b[49m\u001b[38;5;241;43m*\u001b[39;49m\u001b[43m \u001b[49m\u001b[38;5;241;43m1.19\u001b[39;49m\n\u001b[0;32m      7\u001b[0m \u001b[38;5;66;03m# Ausgabe\u001b[39;00m\n\u001b[0;32m      8\u001b[0m \u001b[38;5;28mprint\u001b[39m(\u001b[38;5;124m'\u001b[39m\u001b[38;5;124mOk, der Bruttopreis ist: \u001b[39m\u001b[38;5;124m'\u001b[39m, final_price)\n",
      "\u001b[1;31mTypeError\u001b[0m: can't multiply sequence by non-int of type 'float'"
     ]
    }
   ],
   "source": [
    "# Eingabe Netto\n",
    "net = input('Geben Sie den Nettopreis ein: ')\n",
    "\n",
    "# Berechne den Nettopreis mit 19% Mehrwertsteuer\n",
    "final_price = net * 1.19\n",
    "\n",
    "# Ausgabe\n",
    "print('Ok, der Bruttopreis ist: ', final_price)"
   ]
  },
  {
   "cell_type": "markdown",
   "metadata": {},
   "source": [
    "Lassen Sie uns Schritt für Schritt durch dieses Programm gehen und das Problem herausfinden:"
   ]
  },
  {
   "cell_type": "code",
   "execution_count": 21,
   "metadata": {},
   "outputs": [
    {
     "name": "stdout",
     "output_type": "stream",
     "text": [
      "Geben Sie den Nettopreis ein: 100.34\n",
      "<class 'str'>\n",
      "Ok, der Bruttopreis ist:  119.4046\n"
     ]
    }
   ],
   "source": [
    "# Eingabe\n",
    "#net = float(input('Geben Sie den Nettopreis ein: '))\n",
    "net = input('Geben Sie den Nettopreis ein: ')\n",
    "print(type(net))\n",
    "# Berechne den Nettopreis mit 19% Mehrwertsteuer\n",
    "final_price = float(net) * 1.19\n",
    "# Ausgabe\n",
    "print('Ok, der Bruttopreis ist: ', final_price)"
   ]
  },
  {
   "cell_type": "markdown",
   "metadata": {},
   "source": [
    "Das heißt, die Funktion input() gibt uns ein String-Objekt (Textobjekt) mit einem Wert von 99 (oder besser gesagt '99') zurück.\n",
    "\n",
    "was passiert, wenn wir versuchen, es mit 100 (Ganzzahl) zu verketten/addieren?"
   ]
  },
  {
   "cell_type": "code",
   "execution_count": 24,
   "metadata": {},
   "outputs": [
    {
     "ename": "TypeError",
     "evalue": "can only concatenate str (not \"int\") to str",
     "output_type": "error",
     "traceback": [
      "\u001b[1;31m---------------------------------------------------------------------------\u001b[0m",
      "\u001b[1;31mTypeError\u001b[0m                                 Traceback (most recent call last)",
      "Cell \u001b[1;32mIn[24], line 1\u001b[0m\n\u001b[1;32m----> 1\u001b[0m \u001b[43mnet\u001b[49m\u001b[43m \u001b[49m\u001b[38;5;241;43m+\u001b[39;49m\u001b[43m \u001b[49m\u001b[38;5;241;43m100\u001b[39;49m\n",
      "\u001b[1;31mTypeError\u001b[0m: can only concatenate str (not \"int\") to str"
     ]
    }
   ],
   "source": [
    "net + 100\n",
    "#100 + net"
   ]
  },
  {
   "cell_type": "markdown",
   "metadata": {},
   "source": [
    "Eine Multiplikation ist somit auch nicht möglich."
   ]
  },
  {
   "cell_type": "code",
   "execution_count": 25,
   "metadata": {},
   "outputs": [
    {
     "ename": "TypeError",
     "evalue": "can't multiply sequence by non-int of type 'float'",
     "output_type": "error",
     "traceback": [
      "\u001b[1;31m---------------------------------------------------------------------------\u001b[0m",
      "\u001b[1;31mTypeError\u001b[0m                                 Traceback (most recent call last)",
      "Cell \u001b[1;32mIn[25], line 1\u001b[0m\n\u001b[1;32m----> 1\u001b[0m \u001b[43mnet\u001b[49m\u001b[43m \u001b[49m\u001b[38;5;241;43m*\u001b[39;49m\u001b[43m \u001b[49m\u001b[38;5;241;43m1.19\u001b[39;49m\n",
      "\u001b[1;31mTypeError\u001b[0m: can't multiply sequence by non-int of type 'float'"
     ]
    }
   ],
   "source": [
    "net * 1.19"
   ]
  },
  {
   "cell_type": "markdown",
   "metadata": {},
   "source": [
    "### Funktionen zur Konvertierung\n",
    "\n",
    "helfen uns bei:\n",
    "- Erstellen Sie ein Objekt eines bestimmten Typs\n",
    "- oder ein Objekt in einen anderen Typ umwandeln\n",
    "\n",
    "<code>str()</code>  \n",
    "<code>float()</code>  \n",
    "<code>int()</code>  \n",
    "\n",
    "Wir verwenden eine der Funktionen um den eingegebenen Wert in eine Zahl umzuwandeln."
   ]
  },
  {
   "cell_type": "code",
   "execution_count": 26,
   "metadata": {},
   "outputs": [],
   "source": [
    "net ='101'"
   ]
  },
  {
   "cell_type": "code",
   "execution_count": 27,
   "metadata": {},
   "outputs": [
    {
     "data": {
      "text/plain": [
       "str"
      ]
     },
     "execution_count": 27,
     "metadata": {},
     "output_type": "execute_result"
    }
   ],
   "source": [
    "type(net)"
   ]
  },
  {
   "cell_type": "code",
   "execution_count": 28,
   "metadata": {},
   "outputs": [
    {
     "data": {
      "text/plain": [
       "float"
      ]
     },
     "execution_count": 28,
     "metadata": {},
     "output_type": "execute_result"
    }
   ],
   "source": [
    "type(float(net))     # Kovertieren in einen Float-Wert"
   ]
  },
  {
   "cell_type": "code",
   "execution_count": 29,
   "metadata": {},
   "outputs": [
    {
     "data": {
      "text/plain": [
       "120.19"
      ]
     },
     "execution_count": 29,
     "metadata": {},
     "output_type": "execute_result"
    }
   ],
   "source": [
    "float(net) * 1.19"
   ]
  },
  {
   "cell_type": "code",
   "execution_count": 30,
   "metadata": {},
   "outputs": [
    {
     "name": "stdout",
     "output_type": "stream",
     "text": [
      "120.19\n"
     ]
    }
   ],
   "source": [
    "v = float(net) * 1.19\n",
    "print(v)"
   ]
  },
  {
   "cell_type": "code",
   "execution_count": 31,
   "metadata": {},
   "outputs": [
    {
     "name": "stdout",
     "output_type": "stream",
     "text": [
      "120\n"
     ]
    }
   ],
   "source": [
    "int(v)          # Nachkommastellen werden abgeschnitte!\n",
    "print(int(v))"
   ]
  },
  {
   "cell_type": "markdown",
   "metadata": {},
   "source": [
    "Korrigieren wir das ursprüngliche Programm:"
   ]
  },
  {
   "cell_type": "code",
   "execution_count": 35,
   "metadata": {},
   "outputs": [
    {
     "name": "stdout",
     "output_type": "stream",
     "text": [
      "Geben Sie den Nettopreis ein: 120\n",
      "<class 'float'>\n",
      "Ok, der Bruttopreis ist:  142.79999999999998\n"
     ]
    }
   ],
   "source": [
    "# Eingabe Netto\n",
    "#net = float(input('Geben Sie den Nettopreis ein: '))\n",
    "net = float(input('Geben Sie den Nettopreis ein: '))\n",
    "print(type(net))\n",
    "# Berechne den Nettopreis mit 19% Mehrwertsteuer\n",
    "final_price = net * 1.19\n",
    "# Ausgabe\n",
    "print('Ok, der Bruttopreis ist: ', final_price)"
   ]
  },
  {
   "cell_type": "markdown",
   "metadata": {},
   "source": [
    "**Übung 1**  \n",
    "\n",
    "Wir brauchen ein Programm, das den Benutzer nach einem Temperaturwert in Celsius fragt und diesen Wert in Fahrenheit ausgibt.\n",
    "Um einen Temperaturwert von Celsius in Fahrenheit umzurechnen, können wir diese Formeln verwenden:  \n",
    "\n",
    "```fahrenheit = celsius * 1.8 + 32 ```\n",
    "\n",
    "[ Grad Fahrenheit ](https://de.wikipedia.org/wiki/Grad_Fahrenheit)\n"
   ]
  },
  {
   "cell_type": "code",
   "execution_count": null,
   "metadata": {},
   "outputs": [],
   "source": [
    "# Hier Euren Lösungscode eintragen\n"
   ]
  }
 ],
 "metadata": {
  "kernelspec": {
   "display_name": "Python 3 (ipykernel)",
   "language": "python",
   "name": "python3"
  },
  "language_info": {
   "codemirror_mode": {
    "name": "ipython",
    "version": 3
   },
   "file_extension": ".py",
   "mimetype": "text/x-python",
   "name": "python",
   "nbconvert_exporter": "python",
   "pygments_lexer": "ipython3",
   "version": "3.10.13"
  },
  "toc": {
   "base_numbering": 1,
   "nav_menu": {},
   "number_sections": true,
   "sideBar": true,
   "skip_h1_title": false,
   "title_cell": "Table of Contents",
   "title_sidebar": "Contents",
   "toc_cell": false,
   "toc_position": {},
   "toc_section_display": true,
   "toc_window_display": false
  },
  "varInspector": {
   "cols": {
    "lenName": 16,
    "lenType": 16,
    "lenVar": 40
   },
   "kernels_config": {
    "python": {
     "delete_cmd_postfix": "",
     "delete_cmd_prefix": "del ",
     "library": "var_list.py",
     "varRefreshCmd": "print(var_dic_list())"
    },
    "r": {
     "delete_cmd_postfix": ") ",
     "delete_cmd_prefix": "rm(",
     "library": "var_list.r",
     "varRefreshCmd": "cat(var_dic_list()) "
    }
   },
   "types_to_exclude": [
    "module",
    "function",
    "builtin_function_or_method",
    "instance",
    "_Feature"
   ],
   "window_display": false
  }
 },
 "nbformat": 4,
 "nbformat_minor": 4
}
