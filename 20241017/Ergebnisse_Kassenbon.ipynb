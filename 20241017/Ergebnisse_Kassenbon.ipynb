{
 "cells": [
  {
   "cell_type": "code",
   "execution_count": 4,
   "id": "d85770c2-180d-41c6-8b43-f3f8c68e9702",
   "metadata": {},
   "outputs": [
    {
     "name": "stdout",
     "output_type": "stream",
     "text": [
      "       RECEIPT       \n",
      "    Customer Copy    \n",
      "*********************\n",
      "\n",
      "             125.50 +\n",
      "              45.00 +\n",
      "              80.25 +\n",
      "              12.50 +\n",
      "              12.50 +\n",
      "             130.00 +\n",
      "              29.95 +\n",
      "              34.75 +\n",
      "              12.50 -\n",
      "\n",
      "Sub Total      384.83\n",
      "Sales Tax       73.12\n",
      "           ==========\n",
      "Amount Due   € 457.95\n",
      "*********************\n"
     ]
    }
   ],
   "source": [
    "p1 = 125.5\n",
    "p2 = 45.0\n",
    "p3 = 80.25\n",
    "p4 = p5 = 12.5\n",
    "p6 = 130.0\n",
    "p7 = 29.95\n",
    "p8 = 34.75\n",
    "p9 = -12.5\n",
    "gesamt = p1 + p2 + p3 + p4 + p5 + p6 + p7 + p8 + p9 # Gesamtbetrag\n",
    "b = 21                      # Breite des Kassenzettel\n",
    "l1 = b * '*'                # Trennlinie\n",
    "l2 = (b//2 * '=').rjust(b)  # Summenlinie\n",
    "\n",
    "print('RECEIPT'.center(b))\n",
    "print('Customer Copy'.center(b))\n",
    "print(l1)\n",
    "print()\n",
    "print(f'{p1:6.2f} +'.rjust(b))\n",
    "print(f'{p2:6.2f} +'.rjust(b))\n",
    "print(f'{p3:6.2f} +'.rjust(b))\n",
    "print(f'{p4:6.2f} +'.rjust(b))\n",
    "print(f'{p5:6.2f} +'.rjust(b))\n",
    "print(f'{p6:6.2f} +'.rjust(b))\n",
    "print(f'{p7:6.2f} +'.rjust(b))\n",
    "print(f'{p8:6.2f} +'.rjust(b))\n",
    "print(f'{p9*-1:6.2f} -'.rjust(b))\n",
    "print()\n",
    "print('Sub Total' + f'{(gesamt / 1.19):6.2f}'.rjust(b-9))\n",
    "print('Sales Tax' + f'{(gesamt * 19/ 119):6.2f}'.rjust(b-9))\n",
    "print(l2)\n",
    "print('Amount Due' + f'€ {gesamt:6.2f}'.rjust(b - 10))\n",
    "print(l1)"
   ]
  }
 ],
 "metadata": {
  "kernelspec": {
   "display_name": "Python 3 (ipykernel)",
   "language": "python",
   "name": "python3"
  },
  "language_info": {
   "codemirror_mode": {
    "name": "ipython",
    "version": 3
   },
   "file_extension": ".py",
   "mimetype": "text/x-python",
   "name": "python",
   "nbconvert_exporter": "python",
   "pygments_lexer": "ipython3",
   "version": "3.12.4"
  },
  "toc": {
   "base_numbering": 1,
   "nav_menu": {},
   "number_sections": true,
   "sideBar": true,
   "skip_h1_title": false,
   "title_cell": "Table of Contents",
   "title_sidebar": "Contents",
   "toc_cell": false,
   "toc_position": {},
   "toc_section_display": true,
   "toc_window_display": false
  },
  "varInspector": {
   "cols": {
    "lenName": 16,
    "lenType": 16,
    "lenVar": 40
   },
   "kernels_config": {
    "python": {
     "delete_cmd_postfix": "",
     "delete_cmd_prefix": "del ",
     "library": "var_list.py",
     "varRefreshCmd": "print(var_dic_list())"
    },
    "r": {
     "delete_cmd_postfix": ") ",
     "delete_cmd_prefix": "rm(",
     "library": "var_list.r",
     "varRefreshCmd": "cat(var_dic_list()) "
    }
   },
   "types_to_exclude": [
    "module",
    "function",
    "builtin_function_or_method",
    "instance",
    "_Feature"
   ],
   "window_display": false
  },
  "widgets": {
   "application/vnd.jupyter.widget-state+json": {
    "state": {},
    "version_major": 2,
    "version_minor": 0
   }
  }
 },
 "nbformat": 4,
 "nbformat_minor": 5
}
