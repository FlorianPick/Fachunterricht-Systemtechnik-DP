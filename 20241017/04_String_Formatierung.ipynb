{
 "cells": [
  {
   "cell_type": "markdown",
   "metadata": {},
   "source": [
    "# Formating Strings\n",
    "\n",
    "Angenommen, wir haben eine Mischung aus Zahlen und Text und möchten diese _professionell_ kombinieren, um diese an die Ausgabe auf dem Bildschirm / Monitor zu senden."
   ]
  },
  {
   "cell_type": "markdown",
   "metadata": {},
   "source": [
    "**Übung 1**  \n",
    "\n",
    "Wir brauchen ein Programm, das den Benutzer nach einem Temperaturwert in Celsius fragt und diesen Wert in Fahrenheit ausgibt.\n",
    "Um einen Temperaturwert von Celsius in Fahrenheit umzurechnen, können wir diese Formeln verwenden:  \n",
    "\n",
    "```fahrenheit = celsius * 1.8 + 32 ```\n",
    "\n",
    "[ Grad Fahrenheit ](https://de.wikipedia.org/wiki/Grad_Fahrenheit)\n"
   ]
  },
  {
   "cell_type": "code",
   "execution_count": null,
   "metadata": {},
   "outputs": [],
   "source": [
    "# Benutzereingabe\n",
    "celsius = input('Temperatur in °C:          ')\n",
    "\n",
    "# Berechnung\n",
    "fahrenheit = float(celsius) * 1.8 + 32\n",
    "\n",
    "# Ausgabe\n",
    "print('Entspricht in Fahrenheit: ', fahrenheit)"
   ]
  },
  {
   "cell_type": "markdown",
   "metadata": {},
   "source": [
    "Ausgabe in folgendes Format ändern.\n",
    "\n",
    "``` Entspricht in Fahrenheit °F: 82.4 ```"
   ]
  },
  {
   "cell_type": "code",
   "execution_count": null,
   "metadata": {},
   "outputs": [],
   "source": [
    "# 1. Entwurf\n",
    "print('Entspricht in Fahrenheit °F: ', fahrenheit)"
   ]
  },
  {
   "cell_type": "code",
   "execution_count": null,
   "metadata": {},
   "outputs": [],
   "source": [
    "print('Entspricht in Fahrenheit : ', fahrenheit, '°F')"
   ]
  },
  {
   "cell_type": "markdown",
   "metadata": {},
   "source": [
    "Schöner wäre eine Ausgabe in folgender Form:\n",
    "\n",
    "Entspricht in Fahrenheit: 'Wert' °F "
   ]
  },
  {
   "cell_type": "markdown",
   "metadata": {},
   "source": [
    "### format()\n",
    "Ist eine string methode\n",
    "### Methoden?\n",
    "Methoden sind im Allgemeinen (eingebaute) Funktionen, die wir auf bestimmte Typen/Objekte anwenden können.\n",
    "\n",
    "### Methoden in Python\n",
    "\n",
    "<code>object.methode(parameter)</code>\n",
    "\n",
    "Dokumentation Python: \n",
    "https://docs.python.org/3/library/functions.html"
   ]
  },
  {
   "cell_type": "code",
   "execution_count": null,
   "metadata": {},
   "outputs": [],
   "source": [
    "# string Objekt:\n",
    "string_object = 'Entspricht in Fahrenheit {} °F' # {} als Platzhalter für einen Wert\n",
    "\n",
    "# string Methode auf string_object anwenden\n",
    "output_message = string_object.format(fahrenheit)\n",
    "\n",
    "# Ausgabe\n",
    "print(output_message)"
   ]
  },
  {
   "cell_type": "markdown",
   "metadata": {},
   "source": [
    "Es kann auch direkt in einer Zeile geschrieben werden."
   ]
  },
  {
   "cell_type": "code",
   "execution_count": null,
   "metadata": {
    "scrolled": true
   },
   "outputs": [],
   "source": [
    "print('Entspricht in Fahrenheit {} °F'.format(fahrenheit))"
   ]
  },
  {
   "cell_type": "code",
   "execution_count": null,
   "metadata": {
    "scrolled": true
   },
   "outputs": [],
   "source": [
    "# Eine andere Aternative mit f-String\n",
    "print(f'Entspricht in Fahrenheit {fahrenheit} °F')"
   ]
  },
  {
   "cell_type": "markdown",
   "metadata": {},
   "source": [
    "Ein weiteres Beispiel:"
   ]
  },
  {
   "cell_type": "code",
   "execution_count": null,
   "metadata": {},
   "outputs": [],
   "source": [
    "num = 2022 # defined variable and asigned a value to it\n",
    "print('Es ist März {}'.format(num))\n",
    "print(f'Es ist März {num}')"
   ]
  },
  {
   "cell_type": "markdown",
   "metadata": {},
   "source": [
    "Weitere Anwendungen der Funktion <code>format()<code>"
   ]
  },
  {
   "cell_type": "code",
   "execution_count": null,
   "metadata": {},
   "outputs": [],
   "source": [
    "fa = 82.4 # float\n",
    "cel = 28 # integer"
   ]
  },
  {
   "cell_type": "markdown",
   "metadata": {},
   "source": [
    "Angenommen, wir möchten Folgendes auf dem Monitor anzeigen, ohne <code>format()</code> zu verwenden:\n",
    "\n",
    "```28 °C entspricht 82.4 °F```  \n",
    "\n",
    "Wir können die Funktion <code>str()</code> verwenden, um den Typ einer Zahl in einen String (Text) umzuwandeln:"
   ]
  },
  {
   "cell_type": "code",
   "execution_count": null,
   "metadata": {},
   "outputs": [],
   "source": [
    "fa_str = str(fa)   # fa in einen String umwandeln\n",
    "cel_str = str(cel) # cel in einen String umwandeln"
   ]
  },
  {
   "cell_type": "code",
   "execution_count": null,
   "metadata": {},
   "outputs": [],
   "source": [
    "print(type(fa_str))"
   ]
  },
  {
   "cell_type": "code",
   "execution_count": null,
   "metadata": {},
   "outputs": [],
   "source": [
    "print(type(cel_str))"
   ]
  },
  {
   "cell_type": "code",
   "execution_count": null,
   "metadata": {},
   "outputs": [],
   "source": [
    "print(fa_str)"
   ]
  },
  {
   "cell_type": "code",
   "execution_count": null,
   "metadata": {},
   "outputs": [],
   "source": [
    "print(cel_str)"
   ]
  },
  {
   "cell_type": "markdown",
   "metadata": {},
   "source": [
    "### Strings verbinden\n",
    "\n",
    "string_1 + string_2 + string_3 + .."
   ]
  },
  {
   "cell_type": "code",
   "execution_count": null,
   "metadata": {},
   "outputs": [],
   "source": [
    "# Ausgabestring zusammensetzen:\n",
    "print(cel_str + ' entspricht ' + fa_str + ' °F')\n",
    "print(cel_str, 'entspricht', fa_str, '°F')"
   ]
  },
  {
   "cell_type": "code",
   "execution_count": null,
   "metadata": {},
   "outputs": [],
   "source": [
    "# ohne print (shell)\n",
    "cel_str + ' entspricht ' + fa_str + ' °F'"
   ]
  },
  {
   "cell_type": "markdown",
   "metadata": {},
   "source": [
    "#### Methode format() mit weiteren Parametern verwenden"
   ]
  },
  {
   "cell_type": "code",
   "execution_count": null,
   "metadata": {},
   "outputs": [],
   "source": [
    "fa = 82.4 # float\n",
    "cel = 28 # integer\n",
    "print('{} °C entspricht {} °F{}'.format(cel, fa, '.'))"
   ]
  },
  {
   "cell_type": "markdown",
   "metadata": {},
   "source": [
    "Anstelle der Variablen können auch direkt Werte eingesetzt werden:"
   ]
  },
  {
   "cell_type": "code",
   "execution_count": null,
   "metadata": {},
   "outputs": [],
   "source": [
    "print('{} °C entspricht {} °F{}'.format(28, 82.4, '.'))"
   ]
  },
  {
   "cell_type": "markdown",
   "metadata": {},
   "source": [
    "Oder verwenden Sie sogar direkt eine Operationen oder Funktionen wie diese:"
   ]
  },
  {
   "cell_type": "code",
   "execution_count": null,
   "metadata": {},
   "outputs": [],
   "source": [
    "cel = 37 # Körpertemperatur\n",
    "print('{}°C entspricht {}°F'.format(cel, int(cel * 1.8 + 32)))"
   ]
  },
  {
   "cell_type": "markdown",
   "metadata": {},
   "source": [
    "### F-Strings\n",
    "\n",
    "Der moderne Weg Strings in Python zu formatieren!"
   ]
  },
  {
   "cell_type": "code",
   "execution_count": null,
   "metadata": {},
   "outputs": [],
   "source": [
    "celsius = 37\n",
    "fahrenheit = 98\n",
    "print(f'{celsius}°C entspricht {fahrenheit}°F.') # f vor dem String setzen"
   ]
  },
  {
   "cell_type": "markdown",
   "metadata": {},
   "source": [
    "Wie bei format() kann in den Platzhaltern auch eine Berechnung verwendet werden."
   ]
  },
  {
   "cell_type": "code",
   "execution_count": null,
   "metadata": {},
   "outputs": [],
   "source": [
    "print(f'{celsius}°C entspricht {int(celsius*1.8+32)}°F.')"
   ]
  },
  {
   "cell_type": "code",
   "execution_count": null,
   "metadata": {},
   "outputs": [],
   "source": [
    "x = 4            # Nachkommastellen\n",
    "y = 21.2345478   # Float Zahl\n",
    "#y = 21\n",
    "print(type(y))\n",
    "print(f'Der Wert ist {y:.{x}f}')\n",
    "print(f'Der Wert ist: {y:>.2f}')"
   ]
  },
  {
   "cell_type": "markdown",
   "metadata": {},
   "source": [
    "### Alter Stil\n",
    "benutze %s für string, %f für floats, %d für integers"
   ]
  },
  {
   "cell_type": "code",
   "execution_count": null,
   "metadata": {},
   "outputs": [],
   "source": [
    "name = 'Joey'\n",
    "print('Mein Name ist %s' %name)"
   ]
  },
  {
   "cell_type": "code",
   "execution_count": null,
   "metadata": {},
   "outputs": [],
   "source": [
    "num = 100\n",
    "print('Es ist %d Grad warm.' %num)"
   ]
  },
  {
   "cell_type": "code",
   "execution_count": null,
   "metadata": {},
   "outputs": [],
   "source": [
    "temp = 39.55\n",
    "print('Es ist %f Grad warm.' %temp)"
   ]
  },
  {
   "cell_type": "code",
   "execution_count": null,
   "metadata": {},
   "outputs": [],
   "source": [
    "x = 127\n",
    "print(f'Binäre Darstellung: {x:b}')   # Umwandlung in Binär 15 --> 1111"
   ]
  },
  {
   "cell_type": "code",
   "execution_count": null,
   "metadata": {},
   "outputs": [],
   "source": [
    "# Nachkommastellen begrenzen\n",
    "print('Es ist %.4f Grad warm.' %temp)"
   ]
  },
  {
   "cell_type": "markdown",
   "metadata": {},
   "source": [
    "# Recap\n",
    "\n",
    "Wir können String-Objekte (Texte) in Python auf drei Arten formatieren:\n",
    "\n",
    "- Alter Stil    : mit %-Zeichen wie %s, %d oder %f\n",
    "- Format-Methode: string.format (Parameter oder Werte)        https://docs.python.org/3/library/functions.html\n",
    "- moderner Weg  : f-String, einfach f vor einen String setzen    https://docs.python.org/3/reference/lexical_analysis.html#f-strings\n"
   ]
  },
  {
   "cell_type": "code",
   "execution_count": null,
   "metadata": {},
   "outputs": [],
   "source": [
    "print(f'Text {{\" | \"}} Ende. {15:b}')  # Wenn man geschweifte Klammern ausgeben möchte"
   ]
  },
  {
   "cell_type": "code",
   "execution_count": null,
   "metadata": {},
   "outputs": [],
   "source": []
  }
 ],
 "metadata": {
  "kernelspec": {
   "display_name": "Python 3 (ipykernel)",
   "language": "python",
   "name": "python3"
  },
  "language_info": {
   "codemirror_mode": {
    "name": "ipython",
    "version": 3
   },
   "file_extension": ".py",
   "mimetype": "text/x-python",
   "name": "python",
   "nbconvert_exporter": "python",
   "pygments_lexer": "ipython3",
   "version": "3.12.4"
  },
  "toc": {
   "base_numbering": 1,
   "nav_menu": {},
   "number_sections": true,
   "sideBar": true,
   "skip_h1_title": false,
   "title_cell": "Table of Contents",
   "title_sidebar": "Contents",
   "toc_cell": false,
   "toc_position": {},
   "toc_section_display": true,
   "toc_window_display": false
  },
  "varInspector": {
   "cols": {
    "lenName": 16,
    "lenType": 16,
    "lenVar": 40
   },
   "kernels_config": {
    "python": {
     "delete_cmd_postfix": "",
     "delete_cmd_prefix": "del ",
     "library": "var_list.py",
     "varRefreshCmd": "print(var_dic_list())"
    },
    "r": {
     "delete_cmd_postfix": ") ",
     "delete_cmd_prefix": "rm(",
     "library": "var_list.r",
     "varRefreshCmd": "cat(var_dic_list()) "
    }
   },
   "types_to_exclude": [
    "module",
    "function",
    "builtin_function_or_method",
    "instance",
    "_Feature"
   ],
   "window_display": false
  }
 },
 "nbformat": 4,
 "nbformat_minor": 4
}
