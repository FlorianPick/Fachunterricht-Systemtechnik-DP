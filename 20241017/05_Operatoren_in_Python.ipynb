{
 "cells": [
  {
   "cell_type": "markdown",
   "metadata": {},
   "source": [
    "# Operatoren in Python\n",
    "\n",
    "- Zuweisungsoperatoren\n",
    "- Mathematisch Operatoren"
   ]
  },
  {
   "cell_type": "markdown",
   "metadata": {},
   "source": [
    "#### Zuweisungsoperator '='"
   ]
  },
  {
   "cell_type": "code",
   "execution_count": null,
   "metadata": {},
   "outputs": [],
   "source": [
    "# Erzeuge eine Variable und weise einen Wert zu\n",
    "var = 123"
   ]
  },
  {
   "cell_type": "markdown",
   "metadata": {},
   "source": [
    "Weitere Zuweisungsoperatoren werden später noch behandelt.\n",
    "\n",
    "#### Mathematische Operatoren"
   ]
  },
  {
   "cell_type": "code",
   "execution_count": null,
   "metadata": {},
   "outputs": [],
   "source": [
    "# Addition\n",
    "add = 2 + 3\n",
    "print(add, type(add))"
   ]
  },
  {
   "cell_type": "code",
   "execution_count": null,
   "metadata": {},
   "outputs": [],
   "source": [
    "# Subtraktion\n",
    "sub = 3 - 2\n",
    "print(sub, type(sub))"
   ]
  },
  {
   "cell_type": "code",
   "execution_count": null,
   "metadata": {},
   "outputs": [],
   "source": [
    "# Multiplikation\n",
    "mul = 3 * 2\n",
    "print(mul, type(mul))"
   ]
  },
  {
   "cell_type": "code",
   "execution_count": null,
   "metadata": {},
   "outputs": [],
   "source": [
    "# Division\n",
    "div = 6 / 4 # Ergebnis ist immer eine float Zahl!\n",
    "print(div, type(div))"
   ]
  },
  {
   "cell_type": "code",
   "execution_count": null,
   "metadata": {},
   "outputs": [],
   "source": [
    "div = 3 / 3 # Auch bei ganzzahligem Ergebnis --> float\n",
    "print(div, type(div))"
   ]
  },
  {
   "cell_type": "code",
   "execution_count": null,
   "metadata": {},
   "outputs": [],
   "source": [
    "# Punkt vor Strich Rechnung\n",
    "print(3 * 5 - 6 / 2)  # (3 * 5) - (6 / 2)\n",
    "print((3 * 5) - (6 / 2))"
   ]
  },
  {
   "cell_type": "code",
   "execution_count": null,
   "metadata": {},
   "outputs": [],
   "source": [
    "# Potenzierung\n",
    "\n",
    "pot = 3 ** 4 # entspricht 3 * 3 * 3 * 3\n",
    "print(pot, type(pot))"
   ]
  },
  {
   "cell_type": "code",
   "execution_count": null,
   "metadata": {},
   "outputs": [],
   "source": [
    "2 ** 3 # entspricht 8 = 2 * 2 * 2"
   ]
  },
  {
   "cell_type": "code",
   "execution_count": null,
   "metadata": {},
   "outputs": [],
   "source": [
    "# Es wird immer von rechts nach links potenzieren\n",
    "z = 3 ** 2 ** 0.5\n",
    "x = 3 ** 2\n",
    "y = 2 ** 0.5\n",
    "\n",
    "print(\"Falsch  : links  --> rechts > \" + str(x ** 0.5)) # (3 ** 2) ** 0.5\n",
    "print(\"Richtig : rechts --> links  > \" + str(3 ** y))   # 3 ** (2 ** 0.5)\n",
    "\n",
    "print(str(3 ** 2 ** 0.5))\n",
    "print(3 ** 2 ** 0.5)\n",
    "print(z)"
   ]
  },
  {
   "cell_type": "markdown",
   "metadata": {},
   "source": [
    "**Wichtig**  \n",
    "\n",
    "- Mathematische Operatoren arbeiten von links nach rechts!\n",
    "- Es gilt Punkt vor Strich Rechnung, Multiplikation und Division werden zuerst aufgelöst!\n",
    "- Vorhandene Klammer in einer Berechnung werden zuerst nach den obigen Regeln aufgelöst!\n",
    "- Bei mehrfacher Potenzierung wird von rechts nach links aufgelöst!\n",
    "- erst Potenzen auflösen und dann weiter rechnen!\n",
    "\n",
    "**PCAP Test**  \n",
    "\n",
    "Was ist die Lösung von folgender Aufgabe?\n",
    "```\n",
    "1 + 2 * 3 / 2\n",
    "```"
   ]
  },
  {
   "cell_type": "code",
   "execution_count": null,
   "metadata": {},
   "outputs": [],
   "source": [
    "1 + 2 * 3 / 2 # Zuerst werden die Multiplikation und Division berechnet\n",
    "              # danach wird das Ergebnis (3) zur 1 addiert\n",
    "              # Das Endergebnis ist eine float Zahl, da bei einer Division\n",
    "              # das Ergebnis immer ein float-Wert ist"
   ]
  },
  {
   "cell_type": "code",
   "execution_count": null,
   "metadata": {},
   "outputs": [],
   "source": [
    "print(1 + 2 * 3 / 2)"
   ]
  },
  {
   "cell_type": "markdown",
   "metadata": {},
   "source": [
    "**PCAP Test**  \n",
    "\n",
    "Was ist das Ergebnis des folgenden Ausdrucks?\n",
    "\n",
    "```\n",
    "3 ** 2 ** 3 ** 1\n",
    "```\n",
    "1. 729\n",
    "2. 568\n",
    "3. 6561\n",
    "4. 3243"
   ]
  },
  {
   "cell_type": "code",
   "execution_count": null,
   "metadata": {},
   "outputs": [],
   "source": [
    "print(3 ** 2 ** 3 ** 1)\n"
   ]
  },
  {
   "cell_type": "markdown",
   "metadata": {},
   "source": [
    "**Ganzzahlige Division**\n",
    "\n",
    "Wie oft passt die 2 in die 9?\n",
    "\n",
    "```\n",
    "9 = x * 2 + Rest\n",
    "\n",
    "```"
   ]
  },
  {
   "cell_type": "code",
   "execution_count": null,
   "metadata": {},
   "outputs": [],
   "source": [
    "print(9//2)"
   ]
  },
  {
   "cell_type": "markdown",
   "metadata": {},
   "source": [
    "**Modulus Operator**\n",
    "\n",
    "Divisionsrest (ganzzahlig)?"
   ]
  },
  {
   "cell_type": "code",
   "execution_count": null,
   "metadata": {},
   "outputs": [],
   "source": [
    "print(9//2 , 'Rest' , 9%2)"
   ]
  },
  {
   "cell_type": "code",
   "execution_count": null,
   "metadata": {},
   "outputs": [],
   "source": [
    "9%2 #. 9 - 9 // 2"
   ]
  },
  {
   "cell_type": "markdown",
   "metadata": {},
   "source": [
    "Man kann es wir folgt ausdrücken:\n",
    "\n",
    "4 mal 2 plus 1 ergibt 9\n",
    "\n",
    "Weitere Beispiele:"
   ]
  },
  {
   "cell_type": "code",
   "execution_count": null,
   "metadata": {},
   "outputs": [],
   "source": [
    "7 // 3            # Wie viele mal 3?\n",
    "#7%3"
   ]
  },
  {
   "cell_type": "code",
   "execution_count": null,
   "metadata": {},
   "outputs": [],
   "source": [
    "7 % 2             # Rest der Division?\n",
    "#3 * 2 + 1 "
   ]
  },
  {
   "cell_type": "code",
   "execution_count": null,
   "metadata": {},
   "outputs": [],
   "source": [
    "8 % 2             # 8 = 4 x 2 + 0"
   ]
  },
  {
   "cell_type": "code",
   "execution_count": null,
   "metadata": {},
   "outputs": [],
   "source": [
    "8 // 2"
   ]
  },
  {
   "cell_type": "code",
   "execution_count": null,
   "metadata": {},
   "outputs": [],
   "source": [
    "2 % 3             # 2 = 0 x 3 + 2"
   ]
  },
  {
   "cell_type": "code",
   "execution_count": null,
   "metadata": {},
   "outputs": [],
   "source": [
    "print(type(2 // 3))"
   ]
  }
 ],
 "metadata": {
  "kernelspec": {
   "display_name": "Python 3 (ipykernel)",
   "language": "python",
   "name": "python3"
  },
  "language_info": {
   "codemirror_mode": {
    "name": "ipython",
    "version": 3
   },
   "file_extension": ".py",
   "mimetype": "text/x-python",
   "name": "python",
   "nbconvert_exporter": "python",
   "pygments_lexer": "ipython3",
   "version": "3.12.4"
  },
  "toc": {
   "base_numbering": 1,
   "nav_menu": {},
   "number_sections": true,
   "sideBar": true,
   "skip_h1_title": false,
   "title_cell": "Table of Contents",
   "title_sidebar": "Contents",
   "toc_cell": false,
   "toc_position": {},
   "toc_section_display": true,
   "toc_window_display": false
  },
  "varInspector": {
   "cols": {
    "lenName": 16,
    "lenType": 16,
    "lenVar": 40
   },
   "kernels_config": {
    "python": {
     "delete_cmd_postfix": "",
     "delete_cmd_prefix": "del ",
     "library": "var_list.py",
     "varRefreshCmd": "print(var_dic_list())"
    },
    "r": {
     "delete_cmd_postfix": ") ",
     "delete_cmd_prefix": "rm(",
     "library": "var_list.r",
     "varRefreshCmd": "cat(var_dic_list()) "
    }
   },
   "types_to_exclude": [
    "module",
    "function",
    "builtin_function_or_method",
    "instance",
    "_Feature"
   ],
   "window_display": false
  }
 },
 "nbformat": 4,
 "nbformat_minor": 4
}
