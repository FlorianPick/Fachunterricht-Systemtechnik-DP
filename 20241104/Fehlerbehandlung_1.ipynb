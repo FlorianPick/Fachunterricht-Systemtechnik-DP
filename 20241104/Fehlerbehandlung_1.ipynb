{
 "cells": [
  {
   "cell_type": "markdown",
   "metadata": {},
   "source": [
    "# Fehlerbehandlung  \n",
    "\n",
    "## Kategorien von Fehlern:  \n",
    "- Syntaxfehler\n",
    "- Laufzeitfehler\n",
    "- Semantische Fehler ?? ==> Unit-Test , Akzeptanzklauseln\n",
    "- Logikfehler ?? ==> White-Box-Testing\n",
    "\n",
    "**Syntaxfehler:** werden generiert, wenn der Code Rechtschreibfehler enthält:"
   ]
  },
  {
   "cell_type": "code",
   "execution_count": null,
   "metadata": {},
   "outputs": [],
   "source": [
    "prin('Hello') # prin : t am Ende fehlt => Funktion prin ist nicht bekannt"
   ]
  },
  {
   "cell_type": "markdown",
   "metadata": {},
   "source": [
    "**Laufzeitfehler:** können während der Ausführung des Programms generiert werden"
   ]
  },
  {
   "cell_type": "code",
   "execution_count": null,
   "metadata": {},
   "outputs": [],
   "source": [
    "print(3/0) # generates ZeroDivisionError"
   ]
  },
  {
   "cell_type": "markdown",
   "metadata": {},
   "source": [
    "Dieses Mal ist ein **Ausnahmefehler** aufgetreten. Dieser Fehlertyp tritt immer dann auf, wenn syntaktisch korrekter Python-Code zu einem Fehler führt. Die letzte Zeile der Nachricht gibt an, auf welche Art von Ausnahmefehler wir gestoßen sind.\n",
    "\n",
    "Anstatt eine solche Meldung „Ausnahmefehler“ anzuzeigen, gibt Python an, welche Art von Ausnahmefehler aufgetreten ist. Hier haben wir einen ZeroDivisionError bekommen. Python hat bereits verschiedene [eingebaute Ausnahmen](https://docs.python.org/3/library/exceptions.html). Es ist auch möglich, selbst definierte Ausnahmen zu erstellen."
   ]
  },
  {
   "attachments": {
    "raise.png": {
     "image/png": "[encoded data removed]"
    }
   },
   "cell_type": "markdown",
   "metadata": {},
   "source": [
    "## Auslösen einer Ausnahme\n",
    "\n",
    "Wir können **raise** verwenden, um eine Ausnahme auszulösen, wenn eine Bedingung eintritt. Die Anweisung kann mit einer benutzerdefinierten Ausnahme abgeschlossen werden.\n",
    "<br>\n",
    "<img src=\"attachment:raise.png\" align=\"center\" width=\"400\"/>\n",
    "<br>"
   ]
  },
  {
   "cell_type": "code",
   "execution_count": null,
   "metadata": {},
   "outputs": [],
   "source": [
    "x = 10\n",
    "if x > 5:\n",
    "    raise Exception(f'x should not exceed 5, The value of x was: {x}')"
   ]
  },
  {
   "cell_type": "markdown",
   "metadata": {},
   "source": [
    "## Die **AssertionError**-Ausnahme\n",
    "\n",
    "Anstatt darauf zu warten, dass ein Programm aus einem bestimmten Grund abstürzt, können wir damit beginnen, eine Behauptung in Python aufzustellen. Wir behaupten, dass eine bestimmte Bedingung erfüllt ist. Wenn True, kann das Programm fortfahren, andernfalls löst assert-statement eine AssertionError-Ausnahme aus.\n",
    "\n",
    "Siehe auch: [sys.platform](https://docs.python.org/3/library/sys.html#sys.platform)"
   ]
  },
  {
   "cell_type": "code",
   "execution_count": null,
   "metadata": {},
   "outputs": [],
   "source": [
    "import sys\n",
    "sys.platform\n",
    "#help(sys)"
   ]
  },
  {
   "cell_type": "code",
   "execution_count": null,
   "metadata": {},
   "outputs": [],
   "source": [
    "import sys\n",
    "print(sys.platform, type(sys.platform))\n",
    "# assert statement , not a function\n",
    "assert (sys.platform in ['linux', 'darwin']), \"This code runs on Linux or MacOSX only.\"\n",
    "#assert (sys.platform in ['linux', 'darwin', 'win32']), \"This code runs on Linux or MacOSX only.\"\n",
    "#print('Weiter geht es!')\n",
    "# alternative :\n",
    "#if not (sys.platform in ['linux', 'darwin'])): raise AssertionError(\"This code runs on Linux or MacOSX only.\")"
   ]
  },
  {
   "cell_type": "markdown",
   "metadata": {},
   "source": [
    "## Der _try_ and _except_ Block: Umgang mit Ausnahmen\n"
   ]
  },
  {
   "cell_type": "code",
   "execution_count": null,
   "metadata": {},
   "outputs": [],
   "source": [
    "def linux_test():\n",
    "    assert ('linux' in sys.platform), \"Function can only run on Linux systems.\"\n",
    "    print('Do something.')"
   ]
  },
  {
   "cell_type": "markdown",
   "metadata": {},
   "source": [
    "Der linux_test() kann nur auf einem Linux-System ausgeführt werden. Das Assert in dieser Funktion löst eine AssertError-Ausnahme aus, wenn wir es z. B. auf einem Windows-System aufrufen. Wir können die Funktion also mit dem folgenden Code ausprobieren:"
   ]
  },
  {
   "cell_type": "code",
   "execution_count": null,
   "metadata": {},
   "outputs": [],
   "source": [
    "linux_test()"
   ]
  },
  {
   "cell_type": "code",
   "execution_count": null,
   "metadata": {},
   "outputs": [],
   "source": [
    "try:\n",
    "    linux_test()\n",
    "except:\n",
    "    pass\n",
    "print('Es geht weiter auch ohne Linux!!')"
   ]
  },
  {
   "cell_type": "markdown",
   "metadata": {},
   "source": [
    "Wir bekommen keine Meldung. Das Gute daran ist, dass das Programm nicht abgestürzt ist. Aber es wäre schön zu sehen, ob beim Ausführen dieses Codes eine Ausnahme aufgetreten ist. Also müssen wir den Pass in eine entsprechende Aktion ändern:"
   ]
  },
  {
   "cell_type": "code",
   "execution_count": null,
   "metadata": {},
   "outputs": [],
   "source": [
    "try:\n",
    "    x = 3/0\n",
    "    linux_test()\n",
    "except Exception as error:\n",
    "    print(error)"
   ]
  },
  {
   "cell_type": "markdown",
   "metadata": {},
   "source": [
    "Der folgende Code ist ein Beispiel, in dem wir die spezielle AssertionError-Ausnahme erfassen und eine eigene Nachricht auf dem Bildschirm ausgeben:"
   ]
  },
  {
   "cell_type": "code",
   "execution_count": null,
   "metadata": {},
   "outputs": [],
   "source": [
    "try:\n",
    "    #(1,2).append(5)\n",
    "    x = 3 / 0\n",
    "    #linux_test()\n",
    "# except Exception as error:\n",
    "#     print('Allgemeiner Fehler:', error)\n",
    "except AssertionError as error:\n",
    "    print(error)\n",
    "    print('The linux_test function was not executed!')\n",
    "except ZeroDivisionError as error:\n",
    "    print(error)\n",
    "# except AttributeError as error:\n",
    "#     print('Attribute stehen nicht zur Verfügung')\n",
    "except Exception as error:\n",
    "    print('Allgemeiner Fehler:', error)\n"
   ]
  },
  {
   "cell_type": "markdown",
   "metadata": {},
   "source": [
    "Wenn wir nicht wissen, welche Art von (besonderer) Ausnahme auftreten könnte, können wir die allgemeine Ausnahme abfangen. Hier versuchen wir eine Datei namens 'file.log' zu öffnen, siehe auch https://docs.python.org/3/library/functions.html?highlight=open#open"
   ]
  },
  {
   "cell_type": "code",
   "execution_count": null,
   "metadata": {},
   "outputs": [],
   "source": [
    "try:\n",
    "    with open('file.log') as file:\n",
    "        read_data = file.read() \n",
    "#except:\n",
    "except FileNotFoundError as error:\n",
    "    print('Could not open file.log')\n",
    "    print(error)\n"
   ]
  },
  {
   "cell_type": "code",
   "execution_count": null,
   "metadata": {},
   "outputs": [],
   "source": [
    "# Name des Fehlers finden\n",
    "with open('file.log') as file:\n",
    "    read_data = file.read() "
   ]
  },
  {
   "cell_type": "markdown",
   "metadata": {},
   "source": [
    "Dies ist eine Informationsnachricht, und unser Programm wird weiterhin ausgeführt. In dem [Python docs](https://docs.python.org/3/library/exceptions.html), sehen wir viele eingebaute Ausnahmen, die wir hier verwenden können. Eine auf dieser Seite beschriebene Ausnahme ist die folgende:\n",
    "> Ausnahme FileNotFoundError\n",
    "Wird ausgelöst, wenn eine Datei oder ein Verzeichnis angefordert wird, aber nicht vorhanden ist. Entspricht errno ENOENT.\n",
    "\n",
    "Um diese Art von Ausnahme abzufangen und auf dem Bildschirm auszugeben, könnten wir den folgenden Code verwenden:"
   ]
  },
  {
   "cell_type": "code",
   "execution_count": null,
   "metadata": {},
   "outputs": [],
   "source": [
    "try:\n",
    "    with open('file.log') as file:\n",
    "        read_data = file.read_data()\n",
    "except FileNotFoundError as error:\n",
    "    print(error)"
   ]
  },
  {
   "cell_type": "markdown",
   "metadata": {},
   "source": [
    "## Warnung:\n",
    "Catching Exception verbirgt alle Fehler, auch die völlig unerwarteten. Aus diesem Grund vermeiden wir in unseren Programmen Bare-Except-Klauseln.\n",
    "Stattdessen beziehen wir uns immer auf **_spezifische Ausnahmeklassen_** , die wir abfangen wollen. Sehen Sie sich den folgenden Code an. Hier rufen wir zuerst die Funktion linux_test() auf und versuchen dann, eine Datei zu öffnen:"
   ]
  },
  {
   "cell_type": "code",
   "execution_count": null,
   "metadata": {},
   "outputs": [],
   "source": [
    "try:\n",
    "    linux_test()\n",
    "    print('Ende Linux Test!')\n",
    "    with open('file.log') as file:\n",
    "        read_data = file.read()\n",
    "except FileNotFoundError as file_not_found_error:\n",
    "    print(file_not_found_error)\n",
    "except AssertionError as error:\n",
    "    print(error)\n",
    "    print('Linux linux_test() function was not executed!')"
   ]
  },
  {
   "cell_type": "markdown",
   "metadata": {},
   "source": [
    "**Kurze Zusammenfassung:**<br>\n",
    "- Eine try-Klausel wird bis zu dem Punkt ausgeführt, an dem die erste Ausnahme auftritt.\n",
    "- Innerhalb der _except_-Klausel, oder häufiger im Exception-Handler, bestimmen wir, wie das Programm auf die Exception reagiert.\n",
    "- (Ausnahmebehandlung mit Benutzerinteraktion sollte auf zentralem und übergeordnetem Codemodul durchgeführt werden ??)\n",
    "- Wir können mehrere Ausnahmen antizipieren und differenzieren, wie das Programm darauf reagieren soll.\n",
    "- Try-Block ist eine Art Wrapping, ja, aber nicht mit Decorator-Wrapping zu verwechseln.\n",
    "- **Vermeiden Sie die Verwendung von bloßen Ausnahmeklauseln !**\n",
    "\n",
    "**==> Ausnahmebehandlung führt zu einem gut strukturierten Quellcode!**\n"
   ]
  },
  {
   "attachments": {
    "try_except_else.png": {
     "image/png": "[encoded data removed]"
    }
   },
   "cell_type": "markdown",
   "metadata": {},
   "source": [
    "## The _else_ Clause\n",
    "\n",
    "![try_except_else.png](attachment:try_except_else.png)\n",
    "<img src=\"attachment:try_except_else.png\" align=\"center\" width=\"400\"/>\n",
    "\n",
    "In Python können wir mit der else-Klausel ein Programm anweisen, einen bestimmten Codeblock nur ohne Ausnahmen auszuführen. Schauen wir uns das folgende Beispiel an:"
   ]
  },
  {
   "cell_type": "code",
   "execution_count": null,
   "metadata": {},
   "outputs": [],
   "source": [
    "def windows_test():\n",
    "    assert ('win32' in sys.platform), \"Function can only run on Windows systems.\"\n",
    "    print('Do something in Windows.')\n",
    "    \n",
    "try:\n",
    "    windows_test()\n",
    "except AssertionError as error:\n",
    "    print(error)\n",
    "else:\n",
    "    try:\n",
    "        print('Try to open file.log')\n",
    "        with open('file.log') as file:\n",
    "            read_date = file.read()\n",
    "    except FileNotFoundError as file_not_found_error:\n",
    "        print(file_not_found_error)\n",
    "        "
   ]
  },
  {
   "cell_type": "markdown",
   "metadata": {},
   "source": [
    "Da keine Ausnahmen aufgetreten sind, wurde versucht, file.log zu öffnen. Diese Datei existierte nicht, und anstatt die Datei zu öffnen, haben wir die FileNotFoundError-Ausnahme abgefangen."
   ]
  },
  {
   "attachments": {
    "try_except_else_finally.png": {
     "image/png": "[encoded data removed]"
    }
   },
   "cell_type": "markdown",
   "metadata": {},
   "source": [
    "## Aufräumen nach der Verwendung von _finally_\n",
    "\n",
    "Angenommen, wir müssten eine Aktion implementieren, die immer ausgeführt wird, um nach unserem Code aufzuräumen. Python ermöglicht uns dies mit der **_finally-Klausel_**.\n",
    "![try_except_else_finally.png](attachment:try_except_else_finally.png)\n",
    "<br>\n",
    "<img src=\"attachment:try_except_else_finally.png\" width=400 />\n",
    "<!-- <br> -->\n",
    "\n",
    "Sehen Sie sich das folgende Beispiel an:"
   ]
  },
  {
   "cell_type": "code",
   "execution_count": null,
   "metadata": {},
   "outputs": [],
   "source": [
    "try:\n",
    "    windows_test()\n",
    "except AssertionError as error:\n",
    "    print(error)\n",
    "else:\n",
    "    try:\n",
    "        with open('file.log') as file:\n",
    "            reaf_data = file.read()\n",
    "    except FileNotFoundError as file_not_found_error:\n",
    "        print(file_not_found_error)\n",
    "    finally:\n",
    "        print('Inner Clean Up!!!!')\n",
    "finally:\n",
    "    print('Cleaning up, irrespictive of any exceptions.')"
   ]
  },
  {
   "cell_type": "code",
   "execution_count": null,
   "metadata": {},
   "outputs": [],
   "source": [
    "def final_test():\n",
    "    try:\n",
    "        #windows_test()\n",
    "        #g = 324 / 0   # Division durch 0\n",
    "        print(-999)\n",
    "    except AssertionError as error:\n",
    "        print(error)\n",
    "        #return 1\n",
    "    else:\n",
    "        try:\n",
    "            with open('file.log') as file:\n",
    "                reaf_data = file.read()\n",
    "        except FileNotFoundError as file_not_found_error:\n",
    "            print(file_not_found_error)\n",
    "            #return 21\n",
    "        finally:\n",
    "            print('Inner Clean Up!!!!')\n",
    "            #return 22\n",
    "        \n",
    "    finally:\n",
    "        try:\n",
    "            print(11)\n",
    "        except ZeroDivisionError as dbz:\n",
    "            print('22', dbz)\n",
    "            #return 23\n",
    "        else:\n",
    "            print(\"It's OK\")\n",
    "            #return 24\n",
    "        \n",
    "        finally:\n",
    "            try:\n",
    "                y = 3/0\n",
    "            except ZeroDivisionError as err:\n",
    "                y=0\n",
    "                print(err)\n",
    "            finally:\n",
    "                print(y)\n",
    "                print('Most Inner Finally')\n",
    "                #return 31\n",
    "            \n",
    "            print('DBZ Finally')\n",
    "            #return 25\n",
    "        \n",
    "        print('Cleaning up, irrespictive of any exceptions.')\n",
    "        #return 3\n",
    "        print('oberste Ebene')    \n",
    "    return 4\n",
    "\n",
    "print(final_test())"
   ]
  }
 ],
 "metadata": {
  "hide_input": false,
  "kernelspec": {
   "display_name": "Python 3 (ipykernel)",
   "language": "python",
   "name": "python3"
  },
  "language_info": {
   "codemirror_mode": {
    "name": "ipython",
    "version": 3
   },
   "file_extension": ".py",
   "mimetype": "text/x-python",
   "name": "python",
   "nbconvert_exporter": "python",
   "pygments_lexer": "ipython3",
   "version": "3.12.4"
  },
  "toc": {
   "base_numbering": 1,
   "nav_menu": {},
   "number_sections": true,
   "sideBar": true,
   "skip_h1_title": false,
   "title_cell": "Table of Contents",
   "title_sidebar": "Contents",
   "toc_cell": false,
   "toc_position": {},
   "toc_section_display": true,
   "toc_window_display": false
  },
  "varInspector": {
   "cols": {
    "lenName": 16,
    "lenType": 16,
    "lenVar": 40
   },
   "kernels_config": {
    "python": {
     "delete_cmd_postfix": "",
     "delete_cmd_prefix": "del ",
     "library": "var_list.py",
     "varRefreshCmd": "print(var_dic_list())"
    },
    "r": {
     "delete_cmd_postfix": ") ",
     "delete_cmd_prefix": "rm(",
     "library": "var_list.r",
     "varRefreshCmd": "cat(var_dic_list()) "
    }
   },
   "types_to_exclude": [
    "module",
    "function",
    "builtin_function_or_method",
    "instance",
    "_Feature"
   ],
   "window_display": false
  },
  "widgets": {
   "application/vnd.jupyter.widget-state+json": {
    "state": {},
    "version_major": 2,
    "version_minor": 0
   }
  }
 },
 "nbformat": 4,
 "nbformat_minor": 4
}
