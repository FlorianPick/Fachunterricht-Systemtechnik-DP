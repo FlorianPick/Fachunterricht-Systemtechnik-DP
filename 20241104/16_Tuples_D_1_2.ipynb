{
 "cells": [
  {
   "cell_type": "markdown",
   "metadata": {},
   "source": [
    "# Tuple\n",
    "\n",
    "- Tupel sind ein weiterer Sequenztyp, wie Listen.\n",
    "- Sie bestehen aus einer Reihe von Werten, die durch Kommas getrennt sind: (1,2,3)\n",
    "- Wir können () oder einfach Kommas verwenden, um ein Tupel zu erstellen\n",
    "- Tupel sind **unveränderlich**, d.h. immutable"
   ]
  },
  {
   "cell_type": "markdown",
   "metadata": {},
   "source": [
    "Hash-Werte: Informationen, die keine Änderungen zulassen\n",
    "\n",
    "Zum Beispiel können wir uns für jeden Kunden vorstellen, dass eine Kundennummer (Kunden-ID) unveränderlich sein muss, oder Geburtstag."
   ]
  },
  {
   "cell_type": "markdown",
   "metadata": {},
   "source": [
    "#### Tuple erstellen"
   ]
  },
  {
   "cell_type": "code",
   "execution_count": null,
   "metadata": {},
   "outputs": [],
   "source": [
    "t = 2,3,4 # Tuple erstellen"
   ]
  },
  {
   "cell_type": "code",
   "execution_count": null,
   "metadata": {},
   "outputs": [],
   "source": [
    "print(type(t), t) # Prüfe den Typ"
   ]
  },
  {
   "cell_type": "code",
   "execution_count": null,
   "metadata": {},
   "outputs": [],
   "source": [
    "r = (1, 2, 3) # Tuple mit ()"
   ]
  },
  {
   "cell_type": "code",
   "execution_count": null,
   "metadata": {},
   "outputs": [],
   "source": [
    "print(type(r), r) # Prüfe den Typ"
   ]
  },
  {
   "cell_type": "code",
   "execution_count": null,
   "metadata": {},
   "outputs": [],
   "source": [
    "print(t,'|',r)"
   ]
  },
  {
   "cell_type": "markdown",
   "metadata": {},
   "source": [
    "#### Zugriff auf Tuple "
   ]
  },
  {
   "cell_type": "code",
   "execution_count": null,
   "metadata": {},
   "outputs": [],
   "source": [
    "s = 'apple', 'banana', 'orange'\n",
    "type(s)"
   ]
  },
  {
   "cell_type": "code",
   "execution_count": null,
   "metadata": {},
   "outputs": [],
   "source": [
    "s[2] # Zugriff auf ein Element durch Index"
   ]
  },
  {
   "cell_type": "markdown",
   "metadata": {},
   "source": [
    "#### Element vorhanden prüfen"
   ]
  },
  {
   "cell_type": "code",
   "execution_count": null,
   "metadata": {},
   "outputs": [],
   "source": [
    "# Überprüfen, ob 'orange' in 's' ist oder nicht\n",
    "print(s)\n",
    "'orange' in s"
   ]
  },
  {
   "cell_type": "code",
   "execution_count": null,
   "metadata": {},
   "outputs": [],
   "source": [
    "for i in s:\n",
    "    print(i)"
   ]
  },
  {
   "cell_type": "markdown",
   "metadata": {},
   "source": [
    "#### Finden Sie den Index eines Elements in Tuple heraus"
   ]
  },
  {
   "cell_type": "code",
   "execution_count": null,
   "metadata": {},
   "outputs": [],
   "source": [
    "# Index eines Elementes herausfinden\n",
    "#s ='Blaorange'\n",
    "print(s, type(s))\n",
    "s.index('orange')"
   ]
  },
  {
   "cell_type": "code",
   "execution_count": null,
   "metadata": {},
   "outputs": [],
   "source": [
    "s[2]\n"
   ]
  },
  {
   "cell_type": "markdown",
   "metadata": {},
   "source": [
    "#### Tupel akzeptieren Duplikate"
   ]
  },
  {
   "cell_type": "code",
   "execution_count": null,
   "metadata": {},
   "outputs": [],
   "source": [
    "# Tuple mit gleichen Elementen\n",
    "companies = ('ibm', 'apple', 'microsoft', 'apple', 'oracle', 'apple', 'microsoft', 'apple')\n",
    "print(companies)"
   ]
  },
  {
   "cell_type": "code",
   "execution_count": null,
   "metadata": {},
   "outputs": [],
   "source": [
    "companies.index('apple')"
   ]
  },
  {
   "cell_type": "markdown",
   "metadata": {},
   "source": [
    "Wie finden wir den Index vom 2. apple?"
   ]
  },
  {
   "cell_type": "code",
   "execution_count": null,
   "metadata": {},
   "outputs": [],
   "source": [
    "companies.index('apple',2)\n",
    "#companies.index('apple', companies.index('apple')+1) # 2. Auftreten identifizieren"
   ]
  },
  {
   "cell_type": "markdown",
   "metadata": {},
   "source": [
    "#### Finden Sie die Häufigkeit eines Elements in einem Tupel heraus"
   ]
  },
  {
   "cell_type": "code",
   "execution_count": null,
   "metadata": {},
   "outputs": [],
   "source": [
    "lcompanies = ['ibm', 'microsoft', 'apple', 'oracle', 'apple']\n",
    "companies.count('apple')"
   ]
  },
  {
   "cell_type": "code",
   "execution_count": null,
   "metadata": {},
   "outputs": [],
   "source": [
    "c = 0\n",
    "v1 = 'apple'\n",
    "for i in companies:\n",
    "    if i == v1: c += 1\n",
    "print(c)"
   ]
  },
  {
   "cell_type": "code",
   "execution_count": null,
   "metadata": {},
   "outputs": [],
   "source": [
    "### mit .append()\n",
    "\n",
    "def aindex(tpl, val):\n",
    "    lindex = []\n",
    "    for i in range(tpl.count(val)):\n",
    "        if i == 0:\n",
    "            lindex.append(tpl.index(val))\n",
    "            print('1. Index:', lindex)\n",
    "        else:\n",
    "            lindex.append(tpl.index(val, lindex[-1] + 1))          \n",
    "            print(str(i+1) + '. Index:', lindex)\n",
    "        print(i, lindex[-1])\n",
    "    return lindex\n",
    "companies = ['ibm', 'apple', 'microsoft', 'apple', 'oracle', 'apple', 'microsoft', 'apple'] # 1,3,5,7\n",
    "#companies = ['apple', 'ibm', 'apple', 'microsoft', 'apple', 'oracle', 'apple', 'microsoft', 'apple'] # 0,2,4,6,8\n",
    "print(companies)\n",
    "print(aindex(companies, 'apple'))"
   ]
  },
  {
   "cell_type": "code",
   "execution_count": null,
   "metadata": {},
   "outputs": [],
   "source": [
    "### mit .insert() \n",
    "\n",
    "def aindex(tpl, val):\n",
    "    lindex = []\n",
    "    for i in range(tpl.count(val)):\n",
    "        if i == 0:\n",
    "            lindex.insert(0,tpl.index(val))\n",
    "        else:\n",
    "            lindex.insert(0, tpl.index(val, lindex[0] + 1))          \n",
    "        print(i, lindex[0])\n",
    "    return lindex\n",
    "companies = ['ibm', 'apple', 'microsoft', 'apple', 'oracle', 'apple', 'microsoft', 'apple'] # 1,3,5,7\n",
    "#companies = ['apple', 'ibm', 'apple', 'microsoft', 'apple', 'oracle', 'apple', 'microsoft', 'apple'] # 0,2,4,6,8\n",
    "print(companies)\n",
    "print(aindex(companies, 'apple'))                  # umgekehrte Reihenfolge\n",
    "print(sorted(aindex(companies, 'apple')))          # korrekte Reihenfolge  \n",
    "print(list(reversed(aindex(companies, 'apple'))))  # korrekte Reihenfolge (reversed() gibt Speicherobjekt zurück)\n",
    "print(aindex(companies, 'apple')[::-1])            # korrekte Reihenfolge  \n"
   ]
  },
  {
   "cell_type": "markdown",
   "metadata": {},
   "source": [
    "#### Tupel sind unveränderlich (immutable):\n",
    "\n",
    "- wir können nichts Neues hinzufügen\n",
    "- wir können ein Element nicht ersetzen\n",
    "- Wir können keine oder alle Elemente in einem Tupel löschen"
   ]
  },
  {
   "cell_type": "code",
   "execution_count": null,
   "metadata": {},
   "outputs": [],
   "source": [
    "#nums = 1,2,3, [4,5], 'X'\n",
    "nums = (1,2,3, [4,5], 'X')\n",
    "print(type(nums))\n",
    "print(nums)\n"
   ]
  },
  {
   "cell_type": "code",
   "execution_count": null,
   "metadata": {},
   "outputs": [],
   "source": [
    "lnums = list(nums)    # Umwandeln in eine Liste\n",
    "lnums[1] = 99         # Liste verändern\n",
    "print(nums[1])\n",
    "#nums[1] = 98          # nicht möglich!!\n",
    "#nums.append(99)       # nicht möglich!!\n",
    "#nums.pop()            # nicht möglich!! \n",
    "print(lnums)\n",
    "#nums = tuple(lnums)   # Tuple nums neu schreiben!!\n",
    "print(nums)\n",
    "\n"
   ]
  },
  {
   "cell_type": "markdown",
   "metadata": {},
   "source": [
    "#### Wieviele Elemente hat ein  tuple?"
   ]
  },
  {
   "cell_type": "code",
   "execution_count": null,
   "metadata": {},
   "outputs": [],
   "source": [
    "# Anzahl der Elemente\n",
    "len(nums)"
   ]
  },
  {
   "cell_type": "markdown",
   "metadata": {},
   "source": [
    "#### Verketten von Tupeln\n",
    "\n",
    "ähnlich wie bei Listen:"
   ]
  },
  {
   "cell_type": "code",
   "execution_count": null,
   "metadata": {},
   "outputs": [],
   "source": [
    "t1 = 1,2,3\n",
    "t2 = 3,4\n",
    "l1 = [9,10,11]\n",
    "t3 = t1 + t2 # ein neues tuple mit Elementen von t1 und t2\n",
    "print(t3)\n",
    "x1 = list(t1) + l1\n",
    "print(x1)\n",
    "# x2 = t1 + l1\n",
    "# print(x2)\n",
    "l2 = list(l1)    # unabhängige Liste \n",
    "#l2 = l1\n",
    "l2.append(t1)\n",
    "print(l2, l1)\n",
    "t4 = tuple(x1)\n",
    "print(t4)"
   ]
  },
  {
   "cell_type": "code",
   "execution_count": null,
   "metadata": {},
   "outputs": [],
   "source": [
    "t1"
   ]
  },
  {
   "cell_type": "code",
   "execution_count": null,
   "metadata": {},
   "outputs": [],
   "source": [
    "t2"
   ]
  },
  {
   "cell_type": "code",
   "execution_count": null,
   "metadata": {},
   "outputs": [],
   "source": [
    "# Das Ergebnis kann in eine neue Variable gespeichert werden\n",
    "t3 = t1 + t2\n",
    "print(t3)"
   ]
  },
  {
   "cell_type": "markdown",
   "metadata": {},
   "source": [
    "#### Besondere Merkmale:\n",
    "\n",
    "- Erstellen Sie ein leeres Tupel\n",
    "- Erstellen Sie ein Tupel mit nur einem Element\n",
    "- Unzip oder entpacken Sie ein Tupel"
   ]
  },
  {
   "cell_type": "markdown",
   "metadata": {},
   "source": [
    "#### Erstellen Sie ein leeres Tupel"
   ]
  },
  {
   "cell_type": "code",
   "execution_count": null,
   "metadata": {},
   "outputs": [],
   "source": [
    "# 1st Methode\n",
    "emp = tuple()\n",
    "type(emp) # Prüfe den Typ"
   ]
  },
  {
   "cell_type": "code",
   "execution_count": null,
   "metadata": {},
   "outputs": [],
   "source": [
    "len(emp) # Wieviele Elemente?"
   ]
  },
  {
   "cell_type": "code",
   "execution_count": null,
   "metadata": {},
   "outputs": [],
   "source": [
    "# 2nd Methode\n",
    "# c = ()\n",
    "#c = (2)    # Vorsicht, erzeugt einen int!\n",
    "#c = (2,)   # Erzeugt ein tuple mit einem Element!!\n",
    "type(c) # Prüfe den Typ"
   ]
  },
  {
   "cell_type": "code",
   "execution_count": null,
   "metadata": {},
   "outputs": [],
   "source": [
    "len(c)"
   ]
  },
  {
   "cell_type": "markdown",
   "metadata": {},
   "source": [
    "#### Erstellen Sie ein Tupel mit nur einem Element"
   ]
  },
  {
   "cell_type": "code",
   "execution_count": null,
   "metadata": {},
   "outputs": [],
   "source": [
    "num = 3, # identisch mit (3,)\n",
    "type(num) # Prüfe den Typ"
   ]
  },
  {
   "cell_type": "code",
   "execution_count": null,
   "metadata": {},
   "outputs": [],
   "source": [
    "len(num) # Wieviele Elemente?"
   ]
  },
  {
   "cell_type": "code",
   "execution_count": null,
   "metadata": {},
   "outputs": [],
   "source": [
    "num # Zeige den Inhalt des Tupl"
   ]
  },
  {
   "cell_type": "markdown",
   "metadata": {},
   "source": [
    "#### unzip oder entpacken Sie ein Tupel"
   ]
  },
  {
   "cell_type": "code",
   "execution_count": null,
   "metadata": {},
   "outputs": [],
   "source": [
    "values = (1, 1.5, 2)"
   ]
  },
  {
   "cell_type": "code",
   "execution_count": null,
   "metadata": {},
   "outputs": [],
   "source": [
    "type(values) # Prüfe Typ"
   ]
  },
  {
   "cell_type": "code",
   "execution_count": null,
   "metadata": {},
   "outputs": [],
   "source": [
    "len(values) # Anzahl der Elemente?"
   ]
  },
  {
   "cell_type": "code",
   "execution_count": null,
   "metadata": {},
   "outputs": [],
   "source": [
    "values"
   ]
  },
  {
   "cell_type": "code",
   "execution_count": null,
   "metadata": {},
   "outputs": [],
   "source": [
    "x, y, z = values # drei Variablen, x, y und z, weil das Tupel 3 Elemente hat"
   ]
  },
  {
   "cell_type": "code",
   "execution_count": null,
   "metadata": {},
   "outputs": [],
   "source": [
    "x # 1. Element im Tuple"
   ]
  },
  {
   "cell_type": "code",
   "execution_count": null,
   "metadata": {},
   "outputs": [],
   "source": [
    "y # 2. Element im Tuple"
   ]
  },
  {
   "cell_type": "code",
   "execution_count": null,
   "metadata": {},
   "outputs": [],
   "source": [
    "z # 3. Element im Tuple"
   ]
  },
  {
   "cell_type": "code",
   "execution_count": null,
   "metadata": {},
   "outputs": [],
   "source": [
    "for i in values:   # Itterierbar\n",
    "    print(i)\n",
    "values[0]          # Index   "
   ]
  },
  {
   "cell_type": "markdown",
   "metadata": {},
   "source": [
    "#### Iteration von Tuples"
   ]
  },
  {
   "cell_type": "code",
   "execution_count": null,
   "metadata": {},
   "outputs": [],
   "source": [
    "# Tuple anlegen\n",
    "scores = 1.0, 1.1, 2.0, 1.3, 1.7"
   ]
  },
  {
   "cell_type": "code",
   "execution_count": null,
   "metadata": {},
   "outputs": [],
   "source": [
    "for x in scores: # x: is a loop variable\n",
    "    # dmache etwas (mit (x))\n",
    "    print(x)"
   ]
  },
  {
   "cell_type": "markdown",
   "metadata": {},
   "source": [
    "### Tuples sind immutable, aber...\n",
    "\n",
    "Was ist, wenn ein Tupel aus veränderlichen (mutable) Elementen besteht?"
   ]
  },
  {
   "cell_type": "code",
   "execution_count": null,
   "metadata": {},
   "outputs": [],
   "source": [
    "alpha = ('a', 'b', 'c', ['d', 'e'])"
   ]
  },
  {
   "cell_type": "markdown",
   "metadata": {},
   "source": [
    "Zugriff auf das letzte Element:"
   ]
  },
  {
   "cell_type": "code",
   "execution_count": null,
   "metadata": {},
   "outputs": [],
   "source": [
    "a = alpha[-1] # greife auf das letzte Element zu. (index -1) \n",
    "print(type(alpha[-1]),a)\n",
    "print(type(alpha[3]),a)"
   ]
  },
  {
   "cell_type": "code",
   "execution_count": null,
   "metadata": {},
   "outputs": [],
   "source": [
    "# Erweitere das letzte Element (eine Liste)\n",
    "alpha[-1].append('f')"
   ]
  },
  {
   "cell_type": "code",
   "execution_count": null,
   "metadata": {},
   "outputs": [],
   "source": [
    "# Zeige den Tuple an\n",
    "print(alpha)\n",
    "alpha[-1].clear()\n",
    "print(alpha)\n"
   ]
  },
  {
   "cell_type": "code",
   "execution_count": null,
   "metadata": {},
   "outputs": [],
   "source": [
    "print(alpha[1])\n",
    "del(alpha[1])"
   ]
  },
  {
   "cell_type": "code",
   "execution_count": null,
   "metadata": {},
   "outputs": [],
   "source": [
    "print(alpha[3])\n",
    "alpha[3] = 'z'\n",
    "#alpha[3].append('z')\n",
    "print(alpha)"
   ]
  },
  {
   "cell_type": "markdown",
   "metadata": {},
   "source": [
    "Das Tupel selbst ist immer noch unveränderbar (immutable), aber die Liste darin ist ein veränderliches Objekt, da wir die Liste und nicht das Tupel geändert haben."
   ]
  },
  {
   "cell_type": "code",
   "execution_count": null,
   "metadata": {},
   "outputs": [],
   "source": [
    "# Zeige das letzte Element des Tuple\n",
    "print(type(alpha))\n",
    "alpha[-1]"
   ]
  },
  {
   "cell_type": "markdown",
   "metadata": {},
   "source": [
    "Als Beispiel können wir uns ein Tupel bestehend aus Kundeninformationen vorstellen:"
   ]
  },
  {
   "cell_type": "code",
   "execution_count": null,
   "metadata": {},
   "outputs": [],
   "source": [
    "customer_111 = (111, ['some street 10', 'some city', 111102], {'x':3})"
   ]
  },
  {
   "cell_type": "code",
   "execution_count": null,
   "metadata": {},
   "outputs": [],
   "source": [
    "print(customer_111)"
   ]
  },
  {
   "cell_type": "code",
   "execution_count": null,
   "metadata": {},
   "outputs": [],
   "source": [
    "customer_111[-1]"
   ]
  },
  {
   "cell_type": "code",
   "execution_count": null,
   "metadata": {},
   "outputs": [],
   "source": [
    "customer_111[-1].values()"
   ]
  },
  {
   "cell_type": "code",
   "execution_count": null,
   "metadata": {},
   "outputs": [],
   "source": [
    "customer_111[1].append('ZZZ')\n",
    "customer_111[1]"
   ]
  },
  {
   "cell_type": "markdown",
   "metadata": {},
   "source": [
    "Im obigen Tupel haben wir die Kundeninformationen in einem Tupel gespeichert:\n",
    "- Das erste Element ist die Kundennummer, die nicht geändert werden kann\n",
    "- Das zweite Element ist eine Liste mit Kundenadressen, die geändert werden kann. []  \n",
    "- Das dritte Element ist ein Dictionary, welches verändert werden kann. {}"
   ]
  }
 ],
 "metadata": {
  "kernelspec": {
   "display_name": "Python 3 (ipykernel)",
   "language": "python",
   "name": "python3"
  },
  "language_info": {
   "codemirror_mode": {
    "name": "ipython",
    "version": 3
   },
   "file_extension": ".py",
   "mimetype": "text/x-python",
   "name": "python",
   "nbconvert_exporter": "python",
   "pygments_lexer": "ipython3",
   "version": "3.11.8"
  },
  "toc": {
   "base_numbering": 1,
   "nav_menu": {},
   "number_sections": true,
   "sideBar": true,
   "skip_h1_title": false,
   "title_cell": "Table of Contents",
   "title_sidebar": "Contents",
   "toc_cell": false,
   "toc_position": {},
   "toc_section_display": true,
   "toc_window_display": false
  },
  "varInspector": {
   "cols": {
    "lenName": 16,
    "lenType": 16,
    "lenVar": 40
   },
   "kernels_config": {
    "python": {
     "delete_cmd_postfix": "",
     "delete_cmd_prefix": "del ",
     "library": "var_list.py",
     "varRefreshCmd": "print(var_dic_list())"
    },
    "r": {
     "delete_cmd_postfix": ") ",
     "delete_cmd_prefix": "rm(",
     "library": "var_list.r",
     "varRefreshCmd": "cat(var_dic_list()) "
    }
   },
   "types_to_exclude": [
    "module",
    "function",
    "builtin_function_or_method",
    "instance",
    "_Feature"
   ],
   "window_display": false
  },
  "widgets": {
   "application/vnd.jupyter.widget-state+json": {
    "state": {},
    "version_major": 2,
    "version_minor": 0
   }
  }
 },
 "nbformat": 4,
 "nbformat_minor": 4
}
