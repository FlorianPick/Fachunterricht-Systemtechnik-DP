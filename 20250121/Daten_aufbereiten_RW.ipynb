{
 "cells": [
  {
   "cell_type": "markdown",
   "id": "2712c2d1",
   "metadata": {},
   "source": [
    "# 6.3 Daten aufbereiten und untersuchen\n",
    "Begleitung zum Buch Daten- und Prozessanalyse für Fachinformatiker*innen (ISBN 978-3-8362-8112-6)  \n",
    "Kapitel 6.3, Seiten 328 bis .."
   ]
  },
  {
   "cell_type": "markdown",
   "id": "86b1531a",
   "metadata": {},
   "source": [
    "Das Programm hat zwei Hauptmethoden:  \n",
    "\n",
    "- **process()** gibt die numerischen Entsprechungen aller Zeichen des ursprünglichen Textes nach dem obigen Schema zurück  \n",
    "- **stats()** die statistische Häufigkeit jedes einzelnen Zeichens angibt (die Indizes des Arrays entsprechen den Zeichencodes, die Werte der jeweiligen Anzahl)."
   ]
  },
  {
   "cell_type": "markdown",
   "id": "0d1b9f6b",
   "metadata": {},
   "source": [
    "Jede Sequenz anderer Zeichen wird durch genau ein Leerzeichen (und damit den Wert 10) ersetzt.\n",
    "'1234#;:@#2#45#7' --> '1234 2 45 7'\n"
   ]
  },
  {
   "cell_type": "code",
   "execution_count": null,
   "id": "cb078c97",
   "metadata": {},
   "outputs": [],
   "source": [
    "\n",
    "import re\n",
    "  \n",
    "class CharArray:\n",
    "\n",
    "    CHAR_MAP = {'0': 0, '1': 1, '2': 2, '3': 3, '4': 4, '5': 5,\n",
    "        '6': 6, '7': 7, '8': 8, '9': 9, ' ': 10,\n",
    "        'a': 11, 'b': 12, 'c': 13, 'd': 14, 'e': 15,\n",
    "        'f': 16, 'g': 17, 'h': 18, 'i': 19, 'j': 20,\n",
    "        'k': 21, 'l': 22, 'm': 23, 'n': 24, 'o': 25,\n",
    "        'p': 26, 'q': 27, 'r': 28, 's': 29, 't': 30,\n",
    "        'u': 31, 'v': 32, 'w': 33, 'x': 34, 'y': 35,\n",
    "        'z': 36, 'ä': 37, 'ö': 38, 'ü': 39, 'ß': 40\n",
    "    }\n",
    "    EXCLUDE = re.compile('[^0-9 a-zäöüß]+')\n",
    "    BLANKS = re.compile(' +')\n",
    "\n",
    "    def normalize(self, text):\n",
    "        # Kleinschreibung\n",
    "        text = text.lower()\n",
    "        # Sonderzeichen ersetzen\n",
    "        text = self.EXCLUDE.sub(' ', text)\n",
    "        #print(text)\n",
    "        # Mehrere Leerzeichen durch eins ersetzen\n",
    "        text = self.BLANKS.sub(' ', text)\n",
    "        #print(text)\n",
    "        return text\n",
    "\n",
    "    def process(self, text):\n",
    "        text = self.normalize(text)\n",
    "        result = [self.CHAR_MAP[char] for char in text]\n",
    "        return result\n",
    "\n",
    "    def stats(self, text):\n",
    "        chars = self.process(text)\n",
    "        result = [0 for _ in range(0, 41)]\n",
    "        #print(result)\n",
    "        for code in chars:\n",
    "            result[code] += 1\n",
    "#            print(result)\n",
    "        return result\n",
    "\n",
    "\n",
    "if __name__ == '__main__':\n",
    "    ca = CharArray()\n",
    "    text = \"Für Machine Learning ist es manchmal erforderlich, Textdaten in Zahlen umzuwandeln.\"\n",
    "    print(ca.normalize(text))\n",
    "    print(ca.process(text))\n",
    "    print(ca.stats(text))\n",
    "\n"
   ]
  },
  {
   "cell_type": "markdown",
   "id": "57264788",
   "metadata": {},
   "source": [
    "## »Bag of Words« verwenden\n"
   ]
  },
  {
   "cell_type": "code",
   "execution_count": 1,
   "id": "dae276f0",
   "metadata": {},
   "outputs": [
    {
     "name": "stdout",
     "output_type": "stream",
     "text": [
      "  (0, 7)\t1\n",
      "  (0, 5)\t1\n",
      "  (0, 9)\t1\n",
      "  (0, 11)\t1\n",
      "  (1, 11)\t1\n",
      "  (1, 8)\t1\n",
      "  (1, 1)\t1\n",
      "  (1, 14)\t1\n",
      "  (1, 13)\t1\n",
      "  (1, 0)\t1\n",
      "  (1, 12)\t1\n",
      "  (2, 11)\t2\n",
      "  (2, 1)\t1\n",
      "  (2, 3)\t1\n",
      "  (2, 6)\t1\n",
      "  (2, 4)\t1\n",
      "  (2, 2)\t1\n",
      "  (2, 15)\t1\n",
      "  (2, 10)\t1\n"
     ]
    },
    {
     "data": {
      "text/plain": [
       "<3x16 sparse matrix of type '<class 'numpy.int64'>'\n",
       "\twith 19 stored elements in Compressed Sparse Row format>"
      ]
     },
     "execution_count": 1,
     "metadata": {},
     "output_type": "execute_result"
    }
   ],
   "source": [
    "# (0,7) 1; (String ID **0**, Wörterliste ID)  Anzahl des Vorkommens im String\n",
    "from sklearn.feature_extraction.text import CountVectorizer\n",
    "import numpy as np\n",
    "strings = [\"Machine Learning mit Python\",\n",
    "\"Mamba, Boa und Python sind bekannte Schlangen\",\n",
    "\"Das Leben des Brian von Monty Python Boa Python\"]\n",
    "string_data = np.array(strings)\n",
    "vectorizer = CountVectorizer()\n",
    "bag_of_words = vectorizer.fit_transform(string_data)\n",
    "print(bag_of_words)\n",
    "bag_of_words"
   ]
  },
  {
   "attachments": {
    "image.png": {
     "image/png": "[encoded data removed]"
    }
   },
   "cell_type": "markdown",
   "id": "3ccabc06",
   "metadata": {},
   "source": [
    "![image.png](attachment:image.png)"
   ]
  },
  {
   "cell_type": "code",
   "execution_count": null,
   "id": "aed9d6e2",
   "metadata": {},
   "outputs": [],
   "source": [
    "# Matrix in array umwandeln (Bag of Words Format)\n",
    "bag_of_words.toarray()"
   ]
  },
  {
   "cell_type": "code",
   "execution_count": null,
   "id": "1015b172",
   "metadata": {},
   "outputs": [],
   "source": [
    "# Liste der unterschiedlichen Wörter\n",
    "vectorizer.get_feature_names_out()\n"
   ]
  },
  {
   "cell_type": "markdown",
   "id": "357b10f0",
   "metadata": {},
   "source": [
    "Link zu deutschen Stoppwords  \n",
    "https://countwordsfree.com/stopwords/german\n"
   ]
  },
  {
   "cell_type": "code",
   "execution_count": null,
   "id": "ea8a42b4",
   "metadata": {},
   "outputs": [],
   "source": [
    "# Stopwords für deutschen Text\n",
    "stop = [\"das\", \"des\", \"mit\", \"sind\", \"und\", \"von\"]\n",
    "vectorizer2 = CountVectorizer(stop_words = stop)\n",
    "bag_of_words = vectorizer2.fit_transform(string_data)\n",
    "bag_of_words.toarray()"
   ]
  },
  {
   "cell_type": "code",
   "execution_count": null,
   "id": "51d96fd1",
   "metadata": {},
   "outputs": [],
   "source": [
    "# Liste der unterschiedlichen Wörter\n",
    "vectorizer2.get_feature_names_out()\n"
   ]
  },
  {
   "cell_type": "code",
   "execution_count": null,
   "id": "22265062",
   "metadata": {},
   "outputs": [],
   "source": [
    "vectorizer3 = CountVectorizer(stop_words = stop)\n",
    "print((vectorizer3.fit_transform(string_data)))"
   ]
  },
  {
   "cell_type": "markdown",
   "id": "4efe68d4-edcf-40d3-8ba8-f47cbfa36153",
   "metadata": {},
   "source": [
    "- Machine Learning mit Python\n",
    "- Mamba, Boa und Python sind bekannte Schlangen\n",
    "- Das Leben des Brian von Monty Python Boa"
   ]
  },
  {
   "cell_type": "code",
   "execution_count": null,
   "id": "2f134ad3",
   "metadata": {},
   "outputs": [],
   "source": [
    "# Mit Schwellenwert für häufiger vorkommenden Wörtern max_df = 0.9\n",
    "# Das Auftreten des eines Wortes in den jeweiligen Sätzen bestimmt 100% (1.0)\n",
    "# strings = [\"Machine Learning mit Python\",\n",
    "#            \"Mamba, Boa und Python sind bekannte Schlangen\",\n",
    "#            \"Das Leben des Brian von Monty Python Boa Python\",\n",
    "#            \"Python ist einfach zu erlernen\"]\n",
    "strings = [\"Machine Learning mit Python\",\n",
    "           \"Mamba, Boa und Python sind bekannte Schlangen\",\n",
    "           \"Das Leben des Brian von Monty Python Boa Python\"]\n",
    "string_data = np.array(strings)\n",
    "stop = [\"das\", \"des\", \"mit\", \"sind\", \"und\", \"von\", \"zu\", \"ist\"]\n",
    "vectorizer3 = CountVectorizer(stop_words = stop, max_df=1.0)   # alle Wörter\n",
    "#vectorizer3 = CountVectorizer(stop_words = stop, max_df=1.0, binary=True)   # alle Wörter mehrfaches auftreten wird mit 1 angezeigt!\n",
    "#vectorizer3 = CountVectorizer(stop_words = stop, max_df=.49)   # Test für 4 Sätze --> Verschiebung der 100% auf 4!\n",
    "#vectorizer3 = CountVectorizer(stop_words = stop, max_df=.5)   # Test für 4 Sätze --> Verschiebung der 100% auf 4!\n",
    "#vectorizer3 = CountVectorizer(stop_words = stop, max_df=0.666) # 'boa' ist raus\n",
    "#vectorizer3 = CountVectorizer(stop_words = stop, max_df=0.667) # 'boa' ist drin\n",
    "#vectorizer3 = CountVectorizer(stop_words = stop, min_df=0.33) # alle Wörter (1 mal oder mehrfach vorkommen)\n",
    "#vectorizer3 = CountVectorizer(stop_words = stop, min_df=0.34) # alle Wörter die oder mehrfach vorkommen (>1/3)\n",
    "#vectorizer3 = CountVectorizer(stop_words = stop, min_df=0.6667) # alle Wörter die 3 mal vorkommen (>2/3)\n",
    "#vectorizer3 = CountVectorizer(stop_words = stop, min_df=0.34, max_df=.667) # Bereich festlegen (1/3 > x > 2/3 --> 2 mal vorkommen)\n",
    "\n",
    "bag_of_words = vectorizer3.fit_transform(string_data)\n",
    "print(vectorizer3)\n",
    "print(bag_of_words.toarray())\n",
    "print(len(bag_of_words.toarray()[0]))\n",
    "vectorizer3.get_feature_names_out()"
   ]
  },
  {
   "cell_type": "markdown",
   "id": "b21dea80-20be-4792-aafa-a480b8ebca4f",
   "metadata": {},
   "source": [
    "10: 'bekannte', 'boa', 'brian', 'learning', 'leben', 'machine', 'mamba', 'monty', 'python', 'schlangen'\n"
   ]
  },
  {
   "cell_type": "code",
   "execution_count": null,
   "id": "37686896",
   "metadata": {},
   "outputs": [],
   "source": [
    "# Liste der unterschiedlichen Wörter\n",
    "vectorizer3.get_feature_names_out()"
   ]
  },
  {
   "cell_type": "markdown",
   "id": "a887544c",
   "metadata": {},
   "source": [
    "## Wortfolgen codieren"
   ]
  },
  {
   "cell_type": "code",
   "execution_count": null,
   "id": "5f69931d",
   "metadata": {},
   "outputs": [],
   "source": [
    "strings = [\"Machine Learning mit Python\",\n",
    "           \"Mamba, Boa und Python sind bekannte Schlangen\",\n",
    "           \"Das Leben des Brian von Monty Python Boa Python\"]\n",
    "string_data = np.array(strings)\n",
    "stop = [\"das\", \"des\", \"mit\", \"sind\", \"und\", \"von\", \"zu\", \"ist\"]\n",
    "#vectorizer4 = CountVectorizer(stop_words = stop, ngram_range = (3, 3)) # Trigramme\n",
    "vectorizer4 = CountVectorizer(stop_words = stop, ngram_range = (2, 2)) # Bigramme \n",
    "bigrams = vectorizer4.fit_transform(string_data)\n",
    "bigrams.toarray()"
   ]
  },
  {
   "cell_type": "code",
   "execution_count": null,
   "id": "39f826f8",
   "metadata": {},
   "outputs": [],
   "source": [
    "list(enumerate(vectorizer4.get_feature_names_out()))"
   ]
  },
  {
   "cell_type": "code",
   "execution_count": null,
   "id": "079ba162-7024-4969-90e0-9fe38764bf06",
   "metadata": {},
   "outputs": [],
   "source": [
    "with open('sample_neu.txt', 'r', encoding=\"utf-8\") as text_file:\n",
    "    ltext = list(text_file)\n",
    "print(ltext)"
   ]
  },
  {
   "cell_type": "code",
   "execution_count": null,
   "id": "c4035010-4000-4b74-be2e-4a047a706eb1",
   "metadata": {},
   "outputs": [],
   "source": [
    "text_data = np.array(ltext)\n",
    "#print(text_data)\n",
    "vectorizer = CountVectorizer()\n",
    "bag_of_words = vectorizer.fit_transform(text_data)\n",
    "#bag_of_words.toarray()"
   ]
  },
  {
   "cell_type": "code",
   "execution_count": null,
   "id": "57880e59-f885-431c-a841-81edb0561cc1",
   "metadata": {},
   "outputs": [],
   "source": [
    "z = 0\n",
    "#print(len(vectorizer.get_feature_names_out()))\n",
    "for i in (vectorizer.get_feature_names_out()):\n",
    "    print(i, end=' ; ')\n",
    "    z += 1\n",
    "print(f'\\n\\nAnzahl in Bag of Words : {z}')"
   ]
  },
  {
   "cell_type": "code",
   "execution_count": null,
   "id": "8349f285-2b66-473c-b72d-1b82ab5cd214",
   "metadata": {},
   "outputs": [],
   "source": [
    "# Stoppwords\n",
    "stop = [\"der\", \"die\", \"das\", \"des\", \"dem\", \"den\", \"oder\", \"aber\", \"auch\", \"ist\", \"hat\", \"mit\", \"sind\", \"und\", \"von\",\n",
    "        \"ab\", \"alle\", \"an\", \"auf\", \"aus\", \"da\", \"ein\", \"es\", \"den\", \"für\", \"in\", \"nur\", \"ob\", \"of\", \"sie\", \"um\", \"vom\",\n",
    "        \"zu\", \"um\" ]\n",
    "vectorizer1 = CountVectorizer(stop_words = stop)\n",
    "bag_of_words = vectorizer1.fit_transform(text_data)\n",
    "z = 0\n",
    "for i in (vectorizer1.get_feature_names_out()):\n",
    "    print(i, end=' ; ')\n",
    "    z += 1\n",
    "print(f'\\n\\nAnzahl in Bag of Words mit Stop-Words : {z}')"
   ]
  },
  {
   "cell_type": "code",
   "execution_count": null,
   "id": "ab44b000-e94b-42ab-8f2d-55dda0818acf",
   "metadata": {},
   "outputs": [],
   "source": [
    "vectorizer2 = CountVectorizer(stop_words = stop, min_df = 0.12) # Wörter die mehr als 1x auftreten (>1/9)\n",
    "#vectorizer2 = CountVectorizer(stop_words = stop, max_df = 0.12) # Wörter die nur 1 x auftreten (>1/9)\n",
    "bag_of_words = vectorizer2.fit_transform(text_data)\n",
    "#bag_of_words.toarray()\n",
    "z = 0\n",
    "for i in (vectorizer2.get_feature_names_out()):\n",
    "    print(i, end=' ; ')\n",
    "    z += 1\n",
    "print(f'\\n\\nAnzahl in Bag of Words mit Stop-Words, df : {z}')"
   ]
  },
  {
   "cell_type": "code",
   "execution_count": null,
   "id": "a2285b1c-3285-4be2-9d03-02cf62e32431",
   "metadata": {},
   "outputs": [],
   "source": [
    "vectorizer3 = CountVectorizer(stop_words = stop, ngram_range = (3, 3))\n",
    "bigrams = vectorizer3.fit_transform(text_data)\n",
    "bigrams.toarray()\n",
    "z = 0\n",
    "for i in (vectorizer3.get_feature_names_out()):\n",
    "    print(i, end=' ; ')\n",
    "    z += 1\n",
    "print(f'\\n\\nAnzahl in BiGramm mit Stop-Words : {z}')"
   ]
  },
  {
   "cell_type": "code",
   "execution_count": null,
   "id": "8dbcc1a6-e334-4d73-af74-270b0cea545b",
   "metadata": {},
   "outputs": [],
   "source": []
  },
  {
   "cell_type": "markdown",
   "id": "4ec57ded",
   "metadata": {},
   "source": [
    "## Längere Texte mit dem HashingVectorizer zusammenfassen"
   ]
  },
  {
   "cell_type": "code",
   "execution_count": null,
   "id": "c7113501",
   "metadata": {},
   "outputs": [],
   "source": [
    "texts = [\n",
    "\"\"\"Künstliche Intelligenz ist eine Sammelbezeichnung für Algorithmen,\n",
    "die Probleme lösen, für die Menschen Intelligenz benötigen. Ob man\n",
    "die Programme selbst als intelligent ansehen kann, ist umstritten.\n",
    "typische Lösungen gehören zum Gebiet des Machine Learning, bei dem\n",
    "der Algorithmus aus den vorliegenden Daten lernt, wie sie zu\n",
    "interpretieren sind.\"\"\",\n",
    "\"\"\"Beim Machine Learning, einem wichtigen Teilgebiet der künstlichen\n",
    "Intelligenz, unterscheidet man zwischen überwachtem und unüberwachtem\n",
    "Lernen - je nachdem, ob der Algorithmus zuerst mit Trainingsdaten\n",
    "gewissermaßen kalibriert wird, oder ob man ihn gleich auf die echten\n",
    "Daten loslässt.\"\"\",\n",
    "\"\"\"Die bekannten Forscher und Buchautoren Russell und Norvig teilen\n",
    "künstliche Intelligenz in vier verschiedene Felder ein: Menschliches\n",
    "Denken, menschliches Handeln, rationales Denken und rationales Handeln.\n",
    "Typische Algorithmen im Machine Learning gehören dabei am ehesten zum\n",
    "rationalen Denken.\"\"\",\n",
    "\"\"\"Seit Jahrhunderten streitet sich die Forschung darüber, ob menschliche\n",
    "Intelligenz angeboren ist, durch Erziehung und Bildung erworben wird,\n",
    "oder ob es sich um eine Mischung aus beidem handelt. Die beliebten\n",
    "IQ-Tests sind jedenfalls nur sehr bedingt geeignet, ein echtes Maß für\n",
    "menschliche Intelligenz zu bilden, denn das Abschneiden in diesen Tests\n",
    "lässt sich gezielt trainieren.\"\"\"]"
   ]
  },
  {
   "cell_type": "code",
   "execution_count": null,
   "id": "4730c48a",
   "metadata": {},
   "outputs": [],
   "source": [
    "texts"
   ]
  },
  {
   "cell_type": "code",
   "execution_count": null,
   "id": "3527f2ae",
   "metadata": {},
   "outputs": [],
   "source": [
    "from sklearn.feature_extraction.text import HashingVectorizer\n",
    "import numpy as np\n",
    "text_data = np.array(texts)\n",
    "hv = HashingVectorizer(n_features = 10)\n",
    "features = hv.transform(text_data)\n",
    "print(features)\n",
    "features\n"
   ]
  },
  {
   "cell_type": "code",
   "execution_count": null,
   "id": "da4fac61",
   "metadata": {},
   "outputs": [],
   "source": [
    "features.toarray()"
   ]
  },
  {
   "cell_type": "markdown",
   "id": "66243d27",
   "metadata": {},
   "source": [
    "## Bilddaten aufbereiten"
   ]
  },
  {
   "cell_type": "code",
   "execution_count": null,
   "id": "1d959998",
   "metadata": {},
   "outputs": [],
   "source": [
    "from skimage.io import imread, imshow\n",
    "image = imread(\"schnecke.jpg\", as_gray = True)\n",
    "imshow(image)"
   ]
  },
  {
   "cell_type": "code",
   "execution_count": null,
   "id": "4f9be734",
   "metadata": {},
   "outputs": [],
   "source": [
    "# Dimensionen des Bildes\n",
    "image.shape"
   ]
  },
  {
   "cell_type": "code",
   "execution_count": null,
   "id": "4deaf081",
   "metadata": {},
   "outputs": [],
   "source": [
    "# Ausschnitt des Bildes\n",
    "cropped = image[250:750, 150:650]\n",
    "imshow(cropped)"
   ]
  },
  {
   "cell_type": "markdown",
   "id": "0be95836",
   "metadata": {},
   "source": [
    "https://scikit-image.org/docs/stable/api/api.html.\n"
   ]
  },
  {
   "cell_type": "code",
   "execution_count": null,
   "id": "6e52d33d",
   "metadata": {},
   "outputs": [],
   "source": [
    "from skimage import exposure\n",
    "contrast = exposure.adjust_log(cropped)\n",
    "imshow(contrast)"
   ]
  },
  {
   "cell_type": "code",
   "execution_count": null,
   "id": "ecc2f5e8",
   "metadata": {},
   "outputs": [],
   "source": [
    "from skimage import feature\n",
    "edges = feature.canny(contrast, sigma=3)\n",
    "imshow(1 - edges)"
   ]
  },
  {
   "cell_type": "code",
   "execution_count": null,
   "id": "0f552a8e",
   "metadata": {},
   "outputs": [],
   "source": [
    "import matplotlib.pyplot as plt\n",
    "from skimage import data, img_as_float\n",
    "from skimage.segmentation import chan_vese\n",
    "\n",
    "cv = chan_vese(contrast, mu=0.25, lambda1=1, lambda2=1, tol=1e-3,\n",
    "               dt=0.5, init_level_set=\"checkerboard\",\n",
    "               extended_output=True)\n",
    "\n",
    "fig, axes = plt.subplots(2, 2, figsize=(8, 8))\n",
    "ax = axes.flatten()\n",
    "\n",
    "ax[0].imshow(image, cmap=\"gray\")\n",
    "ax[0].set_axis_off()\n",
    "ax[0].set_title(\"Original Image\", fontsize=12)\n",
    "\n",
    "ax[1].imshow(cv[0], cmap=\"gray\")\n",
    "ax[1].set_axis_off()\n",
    "title = f'Chan-Vese segmentation - {len(cv[2])} iterations'\n",
    "ax[1].set_title(title, fontsize=12)\n",
    "\n",
    "ax[2].imshow(cv[1], cmap=\"gray\")\n",
    "ax[2].set_axis_off()\n",
    "ax[2].set_title(\"Final Level Set\", fontsize=12)\n",
    "\n",
    "ax[3].plot(cv[2])\n",
    "ax[3].set_title(\"Evolution of energy over iterations\", fontsize=12)\n",
    "\n",
    "fig.tight_layout()\n",
    "plt.show()"
   ]
  },
  {
   "cell_type": "code",
   "execution_count": null,
   "id": "d54e57fb",
   "metadata": {},
   "outputs": [],
   "source": [
    "from skimage.transform import resize\n",
    "resized = resize(contrast, (50, 50))\n",
    "imshow(resized)"
   ]
  },
  {
   "cell_type": "code",
   "execution_count": null,
   "id": "302c489f",
   "metadata": {},
   "outputs": [],
   "source": [
    "resized2 = resize(contrast, (20, 20))\n",
    "imshow(resized2)\n"
   ]
  },
  {
   "cell_type": "markdown",
   "id": "4fecc38d",
   "metadata": {},
   "source": [
    "Seite 342"
   ]
  },
  {
   "cell_type": "code",
   "execution_count": null,
   "id": "5d3000ed",
   "metadata": {},
   "outputs": [],
   "source": []
  }
 ],
 "metadata": {
  "kernelspec": {
   "display_name": "Python 3 (ipykernel)",
   "language": "python",
   "name": "python3"
  },
  "language_info": {
   "codemirror_mode": {
    "name": "ipython",
    "version": 3
   },
   "file_extension": ".py",
   "mimetype": "text/x-python",
   "name": "python",
   "nbconvert_exporter": "python",
   "pygments_lexer": "ipython3",
   "version": "3.12.4"
  },
  "toc": {
   "base_numbering": 1,
   "nav_menu": {},
   "number_sections": true,
   "sideBar": true,
   "skip_h1_title": false,
   "title_cell": "Table of Contents",
   "title_sidebar": "Contents",
   "toc_cell": false,
   "toc_position": {},
   "toc_section_display": true,
   "toc_window_display": false
  },
  "varInspector": {
   "cols": {
    "lenName": 16,
    "lenType": 16,
    "lenVar": 40
   },
   "kernels_config": {
    "python": {
     "delete_cmd_postfix": "",
     "delete_cmd_prefix": "del ",
     "library": "var_list.py",
     "varRefreshCmd": "print(var_dic_list())"
    },
    "r": {
     "delete_cmd_postfix": ") ",
     "delete_cmd_prefix": "rm(",
     "library": "var_list.r",
     "varRefreshCmd": "cat(var_dic_list()) "
    }
   },
   "types_to_exclude": [
    "module",
    "function",
    "builtin_function_or_method",
    "instance",
    "_Feature"
   ],
   "window_display": false
  },
  "widgets": {
   "application/vnd.jupyter.widget-state+json": {
    "state": {},
    "version_major": 2,
    "version_minor": 0
   }
  }
 },
 "nbformat": 4,
 "nbformat_minor": 5
}
