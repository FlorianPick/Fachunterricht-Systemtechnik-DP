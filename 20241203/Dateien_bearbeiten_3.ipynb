{
 "cells": [
  {
   "cell_type": "markdown",
   "id": "a51ea589",
   "metadata": {},
   "source": [
    "# Das JSON Datenformat\n",
    "Das weitverbreitete Datenformat JSON (Java Script Object Notation) ist ein einfaches Datenformat in Textform.  \n",
    "Die Umwandlung von Daten in das JSON Format wird „serialization“genannt, das rückumwandeln „deserialization“.  \n",
    "Die Umwandlung von JSON Daten in Python-Daten ist durch das Python Modul „json“ relativ einfach.  \n",
    "Das Python Modul „json“ bietet die Methode „load“ und „loads“ für Dateiobjekte bzw. Strings, welche JSON-Daten enthalten.   Diese werden in Python-Objekte umgewandelt. Zur Umwandlung von Python-Daten in JSON-Daten gebt es demgegenüber die Methoden „dump“ und „dumps“ für Dateiobjekte oder Strings."
   ]
  },
  {
   "cell_type": "markdown",
   "id": "05c2239a",
   "metadata": {},
   "source": [
    "## Datentypen in Python und JSON:\n",
    "Die Datentypenbezeichnungen zeigen, welche JSON-Datentypen welchen PythonDatentypen entsprechen. \n",
    "\n",
    "|Python|JSON|\\||Python|JSON|\\||Python|JSON|\n",
    "| :------    | :------  | :------    | :------  | :-----    | :------  | :------  | :------    |\n",
    "|dict|Object|\\||List|Array|\\||Tuple|Array|\n",
    "|Str|String|\\||Int|Number|\\||Float|Number|\n",
    "|True|True|\\||False|False|\\||Null|Null|\n",
    "\n",
    "\n",
    "\n",
    "Wenn man einen JSON string zu Python-Datentypen umwandeln möchte, steht die Methode json.loads() zur Verfügung. "
   ]
  },
  {
   "cell_type": "code",
   "execution_count": null,
   "id": "ae2d28fe",
   "metadata": {},
   "outputs": [],
   "source": [
    "import json\n",
    "# JSON Daten als string\n",
    "x='{\"name\":\"Max\",\"alter\":\"34\", \"Wohnort\":\"Buenos Aires\" }'\n",
    "# x als json string einlesen und verarbeiten\n",
    "res = json.loads(x)\n",
    "# Das Ergebnis ist ein Python Dictionary\n",
    "print(res)\n",
    "print(type(res))\n",
    "print (res[\"alter\"])\n",
    "print (res[\"name\"])\n",
    "print (res[\"Wohnort\"])\n",
    "print(res.values())"
   ]
  },
  {
   "cell_type": "markdown",
   "id": "e9842b5c",
   "metadata": {},
   "source": [
    "Ein weiteres Beispiel:"
   ]
  },
  {
   "cell_type": "code",
   "execution_count": null,
   "id": "49ad9ef3",
   "metadata": {},
   "outputs": [],
   "source": [
    "import json\n",
    "# ein weiterer einfacher JSON String\n",
    "json_string = '{\"Vorname\": \"Claus\", \"Nachname\":\"Liebermann\", \"Nationalität\": \"deutsch\"}'\n",
    "# Verwenden der Methode \"json.loads\" für Strings\n",
    "parsed_json = json.loads(json_string)\n",
    "# Das Ergebnis ist erneut ein Python Dictionary\n",
    "print(parsed_json['Vorname'])\n",
    "print(parsed_json['Nachname'])\n",
    "print(parsed_json['Nationalität'])"
   ]
  },
  {
   "cell_type": "markdown",
   "id": "de9a1217",
   "metadata": {},
   "source": [
    "- Schreiben einer Datei mit json.dump()\n",
    "- Schreiben eines Strings mit json.dumps() "
   ]
  },
  {
   "cell_type": "code",
   "execution_count": null,
   "id": "2273198f",
   "metadata": {},
   "outputs": [],
   "source": [
    "import json\n",
    "json_string = '{\"Vorname\": \"Claus\", \"Nachname\":\"Liebermann\", \"Nationalität\": \"deutsch\"}'\n",
    "with open('test_file.json', 'w') as myfile: # json Datei schreiben\n",
    "    json.dump(json_string, myfile)"
   ]
  },
  {
   "cell_type": "markdown",
   "id": "40574c05",
   "metadata": {},
   "source": [
    "- Einlesen einer Datei mit json.load() \n",
    "- Lesen eines Strings mit json.loads()"
   ]
  },
  {
   "cell_type": "code",
   "execution_count": null,
   "id": "af4e4bae",
   "metadata": {},
   "outputs": [],
   "source": [
    "import json\n",
    "with open('test_file.json', 'r') as j: # json Datei lesen\n",
    "    json_data = json.load(j)\n",
    "print(json_data)"
   ]
  },
  {
   "cell_type": "markdown",
   "id": "8b5e53cf",
   "metadata": {},
   "source": [
    "Mit json.load() wird die JSON Datei in ein Python-Dictionary übersetzt."
   ]
  },
  {
   "cell_type": "markdown",
   "id": "6ef0f8c7",
   "metadata": {},
   "source": [
    "In einer Python-Datei kann ein JSON-String auch in einen Docstring „eingebaut“werden: "
   ]
  },
  {
   "cell_type": "code",
   "execution_count": null,
   "id": "de2f0b9e",
   "metadata": {},
   "outputs": [],
   "source": [
    "my_json_docstring = \"\"\"{\n",
    "\"Report\":[\n",
    "{\n",
    "\"id\":\"04\",\n",
    "\"language\": \"Data\",\n",
    "\"edition\": \"first\"\n",
    "}, [1,2,3]\n",
    "]\n",
    "}\n",
    "\"\"\" # Ende docstring\n",
    "parsed_json_docstring = json.loads(my_json_docstring) # json einlesen\n",
    "print(parsed_json_docstring,type(parsed_json_docstring)) # python print\n",
    "print(parsed_json_docstring[\"Report\"][0][\"id\"])   # dict-list-dict\n",
    "print(parsed_json_docstring[\"Report\"][1])   # dict-list-dict"
   ]
  },
  {
   "cell_type": "markdown",
   "id": "e1121f54",
   "metadata": {},
   "source": [
    "Wenn das Einlesen einer json-Datei ein Dictionary ergibt, kann dieses mittels der dict-Methode \".update()\" um weitere Schlüssel-Werte-Paare ergänzt werden. "
   ]
  },
  {
   "cell_type": "code",
   "execution_count": null,
   "id": "b0c6d81f",
   "metadata": {},
   "outputs": [],
   "source": [
    "my_json_docstring = \"\"\"{\n",
    "\"Report\":[\n",
    "{\n",
    "\"id\":\"04\",\n",
    "\"language\": \"Data\",\n",
    "\"edition\": \"first\"\n",
    "},\n",
    "{\n",
    "\"id\":\"05\",\n",
    "\"language\": \"Data_New\",\n",
    "\"edition\": \"second\"\n",
    "}\n",
    "]\n",
    "}\n",
    "\"\"\" # Ende docstring\n",
    "parsed_json= json.loads(my_json_docstring) # json einlesen\n",
    "new_data = {\"id\":\"06\"} # python object to be appended\n",
    "parsed_json.update(new_data) # Daten anhaengen\n",
    "print(json.dumps(parsed_json)) # Resultierende JSON Ausgabe:\n",
    "print(parsed_json[\"Report\"][1][\"id\"])   # dict-list-dict\n",
    "print(parsed_json[\"id\"])                # dict"
   ]
  },
  {
   "cell_type": "markdown",
   "id": "5006f302",
   "metadata": {},
   "source": [
    "Im Austauschverzeichnis befindet sich die Beispieldatei \"Pegel_Bonn.json\", welche mit dem unteren Programm ausgewertet wird.\n",
    "Die Auswertung ergibt eine einfache Struktur mit abwechselnden \"timestamp\" und \"value\" Einträgen. Diese wird wie folgt ausgewertet:"
   ]
  },
  {
   "cell_type": "code",
   "execution_count": null,
   "id": "e9ae62bf",
   "metadata": {},
   "outputs": [],
   "source": [
    "import datetime\n",
    "with open(\"Pegel_Bonn.json\",\"r\") as f:\n",
    "    data = json.load(f)\n",
    "my_value, my_timestamp = [],[]\n",
    "for item in data:\n",
    "    for key,val in item.items():\n",
    "        if key==\"timestamp\":\n",
    "            val = val.split(\"+\")\n",
    "            res = datetime.datetime.strptime(val[0],'%Y-%m-%dT%H:%M:%S')\n",
    "            my_timestamp.append(res)\n",
    "        elif key==\"value\":\n",
    "            my_value.append(val)\n",
    "print(len(my_timestamp),my_timestamp[11])\n",
    "print(len(my_value), my_value[11])\n",
    "      "
   ]
  },
  {
   "cell_type": "markdown",
   "id": "3992f802",
   "metadata": {},
   "source": [
    "Die Auswertung der json-Datei ergibt dann Pegelstand und Datum."
   ]
  },
  {
   "cell_type": "markdown",
   "id": "acc15e10",
   "metadata": {},
   "source": [
    "Im Austauschverzeichnis befindet sich als weiteres Beispiel die Datei \"eq_data_1_day_m1.json\", welche mit dem unteren Programm ausgewertet wird.\n",
    "Die Auswertung ergibt eine verschachtelte Struktur mit mehreren Dictionaries- in Dictionaries, deren Keys zur Ausgabe der Werte dienen: "
   ]
  },
  {
   "cell_type": "code",
   "execution_count": null,
   "id": "76e720c3-e953-4007-8131-9b098b97fab6",
   "metadata": {},
   "outputs": [],
   "source": [
    "with open(\"eq_data_1_day_m1.json\",\"r\") as f:\n",
    "    all_eq_data = json.load(f)\n",
    "all_eq_dicts= all_eq_data['features'] # key \"features\"\n",
    "print(all_eq_dicts[44]['properties']['mag'])"
   ]
  },
  {
   "cell_type": "code",
   "execution_count": null,
   "id": "908b9253",
   "metadata": {},
   "outputs": [],
   "source": [
    "with open(\"eq_data_1_day_m1.json\",\"r\") as f:\n",
    "    all_eq_data = json.load(f)\n",
    "all_eq_dicts= all_eq_data['features'] # key \"features\"\n",
    "#print(all_eq_dicts)\n",
    "for eq_dict in all_eq_dicts: # all_eq_dicts enthält Liste.\n",
    "    mag = eq_dict['properties']['mag'] #\n",
    "    pla = eq_dict['properties']['place'] #\n",
    "    lon = eq_dict['geometry']['coordinates'][0] # Angabe der passenden Keys und \"subkeys\".\n",
    "    lat = eq_dict['geometry']['coordinates'][1] # liefert die gesuchten Werte\n",
    "    print(mag, pla, lon,lat)\n",
    "#    print(eq_dict[][][])                       # ID des Datensatzes?"
   ]
  },
  {
   "cell_type": "code",
   "execution_count": null,
   "id": "81ec185c",
   "metadata": {},
   "outputs": [],
   "source": [
    "print(all_eq_data['features'][0]['properties']['time'])"
   ]
  },
  {
   "cell_type": "markdown",
   "id": "d45ecab0",
   "metadata": {},
   "source": [
    "Die Auswertung der json-Datei ergibt Magnitude, Ort, sowie Längen- und Breitengrad.  \n",
    "\n",
    "Die graphische Darstellung mittels Matplotlib erfolgt anhand der Längen- und Breitengrade, während die Magnitude die\n",
    "Punktgröße steuert."
   ]
  },
  {
   "cell_type": "code",
   "execution_count": null,
   "id": "ac45babf",
   "metadata": {},
   "outputs": [],
   "source": [
    "mags, plas, lons, lats = [], [], [], []\n",
    "# print(all_eq_dicts)\n",
    "for eq_dict in all_eq_dicts:  # extract values from determined entities\n",
    "    mag = eq_dict['properties']['mag']\n",
    "    pla = eq_dict['properties']['place']\n",
    "    lon = eq_dict['geometry']['coordinates'][0]  # extracted values may be lists with more than one entry\n",
    "    lat = eq_dict['geometry']['coordinates'][1]  # here we address the second list entry\n",
    "    mags.append(mag)  # and add it to the prepared list\n",
    "    plas.append(pla)\n",
    "    lons.append(lon)\n",
    "    lats.append(lat)"
   ]
  },
  {
   "cell_type": "code",
   "execution_count": null,
   "id": "418c1e10",
   "metadata": {
    "scrolled": true
   },
   "outputs": [],
   "source": [
    "import matplotlib.pyplot as plt\n",
    "#mags[:]= [entry *25 for entry in mags] # list comprehension\n",
    "                                       # Multiply a List with a constant factor\n",
    "plt.figure(figsize=(10,5))\n",
    "plt.scatter(lons,lats,s = mags)\n",
    "plt.grid()\n",
    "#plt.legend()\n",
    "plt.xlabel(\"longitude\")\n",
    "plt.ylabel(\"latitude\")\n",
    "plt.tick_params(axis=\"both\", which=\"major\")\n",
    "plt.tick_params(axis=\"both\", which=\"minor\")\n",
    "plt.xticks()\n",
    "plt.yticks()\n",
    "plt.show()"
   ]
  },
  {
   "cell_type": "code",
   "execution_count": null,
   "id": "0ea1d152",
   "metadata": {},
   "outputs": [],
   "source": [
    "#pip install cartopy\n"
   ]
  },
  {
   "cell_type": "code",
   "execution_count": null,
   "id": "075e2c23",
   "metadata": {},
   "outputs": [],
   "source": [
    "import json\n",
    "import matplotlib.pyplot as plt\n",
    "import cartopy.crs as ccrs  # download from anaconda prompt: conda install cartopy  (conda install -c conda-forge cartopy)\n",
    "#\n",
    "plt.figure(figsize=(15,8))\n",
    "#ax = plt.axes(projection=ccrs.PlateCarree())  # Using the PlateCarree projection\n",
    "ax = plt.axes(projection=ccrs.PlateCarree())  # Using the PlateCarree projection\n",
    "ax.stock_img()  # Add Background colour\n",
    "ax.coastlines()  # Display the coastlines\n",
    "filename = 'eq_data_1_day_m1.json'\n",
    "with open(filename) as f:  # Read JSON Dataset\n",
    "    all_eq_data = json.load(f)\n",
    "all_eq_dicts = all_eq_data['features']  # Investigate JSON structure: stepping deeper\n",
    "\n",
    "mags, plas, lons, lats = [], [], [], []\n",
    "for eq_dict in all_eq_dicts:  # extract values from determined entities\n",
    "    mag = eq_dict['properties']['mag']\n",
    "    pla = eq_dict['properties']['place']\n",
    "    lon = eq_dict['geometry']['coordinates'][0]  # extracted values may be lists with more than one entry\n",
    "    lat = eq_dict['geometry']['coordinates'][1]  # here we address the second list entry\n",
    "    mags.append(mag)  # and add it to the prepared list\n",
    "    plas.append(pla)\n",
    "    lons.append(lon)\n",
    "    lats.append(lat)\n",
    "\n",
    "smags = [entry * 40 for entry in mags]  # Multiply a List with a constant factor (new list)\n",
    "#smags = [entry * 30 for entry in mags]\n",
    "# mags[:]= [entry *10 for entry in mags]          # Multiply a List with a constant factor (in-place)\n",
    "print(len(lons), len(lats), len(mags))\n",
    "scpl = ax.scatter(lons, lats, marker=\"o\",  c = 'C3', s=smags, alpha=1.0, label=\"eqs magnitude\", edgecolors=\"k\",\n",
    "                  zorder=1)  # color= RGBA-Wert\n",
    "\n",
    "ax.set_xlim(-180, 180)\n",
    "ax.set_ylim(-90, 90)\n",
    "ax.set_xlabel(\"longitude\")\n",
    "ax.set_ylabel(\"latitide\")\n",
    "ax.legend()\n",
    "\n",
    "plt.show()  # Create visible plot window (Navigation Toolbar will appear automatically)\n",
    "\n"
   ]
  },
  {
   "cell_type": "markdown",
   "id": "b987a277",
   "metadata": {},
   "source": [
    "Die Auswertung der json-Datei ergibt Magnitude, Ort, sowie Längen- und Breitengrad.  \n",
    "\n",
    "Die graphische Darstellung mittels Matplotlib erfolgt anhand der Längen- und Breitengrade, während die Magnitude die\n",
    "Punktgröße steuert. "
   ]
  },
  {
   "cell_type": "code",
   "execution_count": null,
   "id": "ba230a72",
   "metadata": {},
   "outputs": [],
   "source": [
    "x = int(datetime.datetime.now().strftime('%S%f'))\n",
    "np.random.seed(x)"
   ]
  },
  {
   "cell_type": "code",
   "execution_count": null,
   "id": "eab3264a",
   "metadata": {},
   "outputs": [],
   "source": [
    "import numpy as np\n",
    "\n",
    "x = int(datetime.datetime.now().strftime('%S%f'))\n",
    "print(x)\n",
    "np.random.seed(x)\n",
    "import matplotlib.pyplot as plt\n",
    "\n",
    "fig, ax = plt.subplots()\n",
    "for color in ['tab:blue', 'tab:orange', 'tab:green']:\n",
    "    n = 10\n",
    "    x, y = np.random.rand(2, n)\n",
    "    print(x,y)\n",
    "    scale = 200.0 * np.random.rand(n)\n",
    "    ax.scatter(x, y, c=color, s=scale, label=color,\n",
    "               alpha=0.3, edgecolors='none')\n",
    "\n",
    "ax.legend()\n",
    "ax.grid(True)\n",
    "\n",
    "plt.show()"
   ]
  },
  {
   "cell_type": "code",
   "execution_count": null,
   "id": "b2e232f4",
   "metadata": {},
   "outputs": [],
   "source": [
    "# \"marker\" an pos. 3 der folgenden Argumentenliste\n",
    "#plt.plot(x,y,marker=\"+\",s=10)\n",
    "# (s = size)\n",
    "import numpy as np\n",
    "np.random.seed(5)\n",
    "n=3\n",
    "for marker in ['o', '.', ',', 'x', '+', 'v', '^', '<', '>', 's', 'd']:\n",
    "    x, y = np.random.rand(2, 3)\n",
    "    plt.plot(x, y, marker, label=\"marker='{0}'\".format(marker))\n",
    "    plt.legend()\n",
    "   "
   ]
  },
  {
   "cell_type": "code",
   "execution_count": null,
   "id": "72207760",
   "metadata": {},
   "outputs": [],
   "source": []
  },
  {
   "cell_type": "code",
   "execution_count": null,
   "id": "1e63a335",
   "metadata": {},
   "outputs": [],
   "source": []
  }
 ],
 "metadata": {
  "kernelspec": {
   "display_name": "Python 3 (ipykernel)",
   "language": "python",
   "name": "python3"
  },
  "language_info": {
   "codemirror_mode": {
    "name": "ipython",
    "version": 3
   },
   "file_extension": ".py",
   "mimetype": "text/x-python",
   "name": "python",
   "nbconvert_exporter": "python",
   "pygments_lexer": "ipython3",
   "version": "3.12.4"
  },
  "toc": {
   "base_numbering": 1,
   "nav_menu": {},
   "number_sections": true,
   "sideBar": true,
   "skip_h1_title": false,
   "title_cell": "Table of Contents",
   "title_sidebar": "Contents",
   "toc_cell": false,
   "toc_position": {},
   "toc_section_display": true,
   "toc_window_display": false
  },
  "varInspector": {
   "cols": {
    "lenName": 16,
    "lenType": 16,
    "lenVar": 40
   },
   "kernels_config": {
    "python": {
     "delete_cmd_postfix": "",
     "delete_cmd_prefix": "del ",
     "library": "var_list.py",
     "varRefreshCmd": "print(var_dic_list())"
    },
    "r": {
     "delete_cmd_postfix": ") ",
     "delete_cmd_prefix": "rm(",
     "library": "var_list.r",
     "varRefreshCmd": "cat(var_dic_list()) "
    }
   },
   "types_to_exclude": [
    "module",
    "function",
    "builtin_function_or_method",
    "instance",
    "_Feature"
   ],
   "window_display": false
  },
  "widgets": {
   "application/vnd.jupyter.widget-state+json": {
    "state": {},
    "version_major": 2,
    "version_minor": 0
   }
  }
 },
 "nbformat": 4,
 "nbformat_minor": 5
}
