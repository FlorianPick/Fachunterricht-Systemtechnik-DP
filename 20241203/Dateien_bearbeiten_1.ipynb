{
 "cells": [
  {
   "cell_type": "markdown",
   "id": "b24584d7",
   "metadata": {},
   "source": [
    "# Dateien in Python\n",
    "## Dateien öffnen, Berechtigung setzen:\n",
    "\n",
    "Öffnet die Datei \"datei\" im Modus \"w\" für \"writeable\" und gibt das Dateiobjekt \"file\" zurück. Der Modus setzt die Berechtigungen der geöffneten Datei und kann sein:\n",
    "\n",
    "\n",
    "|Modus|Bedeutung|\n",
    "| :---    | :---  |\n",
    "|  \"w\"  | beschreibbar (writeable)                    |\n",
    "|  \"r\"  | nur lesbar (only readable) (Voreingestellt) |\n",
    "|  \"a\"  | anhängbar (appendable)                      |\n",
    "|  \"r+\" | lese- und schreibbar (readable +)           |\n",
    "|  \"w+\" | schreib- und lesbar (wie \"r+\")              |\n"
   ]
  },
  {
   "cell_type": "markdown",
   "id": "d3733409",
   "metadata": {},
   "source": [
    "Bei Bedarf erst die Datei \"daten_1.txt\" erstellen."
   ]
  },
  {
   "cell_type": "code",
   "execution_count": 9,
   "id": "29b09594",
   "metadata": {},
   "outputs": [
    {
     "name": "stdout",
     "output_type": "stream",
     "text": [
      "Overwriting daten_1.txt\n"
     ]
    }
   ],
   "source": [
    "%%writefile daten_1.txt\n",
    "Zeile 1\n",
    "Zeile 2\n",
    "Zeile 3\n",
    "Zeile 4"
   ]
  },
  {
   "cell_type": "code",
   "execution_count": 8,
   "id": "0a90a092",
   "metadata": {},
   "outputs": [
    {
     "data": {
      "text/plain": [
       "False"
      ]
     },
     "execution_count": 8,
     "metadata": {},
     "output_type": "execute_result"
    }
   ],
   "source": [
    "datei = 'daten_1.txt'\n",
    "file = open(datei,'r')\n",
    "file.close()\n",
    "file.closed"
   ]
  },
  {
   "cell_type": "markdown",
   "id": "4b43b42c",
   "metadata": {},
   "source": [
    "Bei \"open\" werden noch keine Lese- oder Schreiboperationen durchgeführt, es wird lediglich ein Dateiobjekt erzeugt.\n",
    "\n",
    "Ein kompletter Einlesevorgang : "
   ]
  },
  {
   "cell_type": "code",
   "execution_count": 10,
   "id": "c7e053a2",
   "metadata": {},
   "outputs": [
    {
     "data": {
      "text/plain": [
       "True"
      ]
     },
     "execution_count": 10,
     "metadata": {},
     "output_type": "execute_result"
    }
   ],
   "source": [
    "datei = \"daten_1.txt\"      # Dateipfadangabe\n",
    "with open(datei,\"r\") as f: # öffnet die Datei als Dateiobjekt \"f\" im Modus \"r\".\n",
    "    read_data = f.read()   # Lesen der gesamten Datei in die Variable \"read_data\"\n",
    "# Nach Leseende wird die Einrückung verlassen und dabei die Datei wieder automatisch\n",
    "# geschlossen.\n",
    "f.closed                   # Abfrage des Attributes \"closed\" des Fileobjektes f ergibt:\n"
   ]
  },
  {
   "cell_type": "markdown",
   "id": "1845d901",
   "metadata": {},
   "source": [
    "Nach dem Öffnungsbefehl \"with open () as f:\" erfolgt eine Zeile mit dem eigentlichen Lesebefehl: \"f.read()\"  \n",
    "Nach dem Ende des Einlesevorgangs wird die Datei automatisch geschlossen und die Abfrage f.closed ergibt „True“.  \n",
    "Wird andernfalls mit dem Konstrukt gearbeitet:"
   ]
  },
  {
   "cell_type": "code",
   "execution_count": 11,
   "id": "89ec60b4",
   "metadata": {},
   "outputs": [
    {
     "name": "stdout",
     "output_type": "stream",
     "text": [
      "Zeile 1\n",
      "Zeile 2\n",
      "Zeile 3\n",
      "Zeile 4\n",
      "\n"
     ]
    }
   ],
   "source": [
    "datei = 'daten_1.txt'\n",
    "f = open(datei,'r')\n",
    "read_data = f.read()\n",
    "print(read_data)\n"
   ]
  },
  {
   "cell_type": "markdown",
   "id": "51232ff3",
   "metadata": {},
   "source": [
    "sollte abschliessend die Datei explizit geschlossen werden:  "
   ]
  },
  {
   "cell_type": "code",
   "execution_count": 13,
   "id": "85d723ef",
   "metadata": {},
   "outputs": [
    {
     "data": {
      "text/plain": [
       "True"
      ]
     },
     "execution_count": 13,
     "metadata": {},
     "output_type": "execute_result"
    }
   ],
   "source": [
    "f.close()   # Der Befehl f.close() schließt das Dateiobjekt f\n",
    "f.closed    # Die Abfrage des Attributes closed liefert den Wert „True“"
   ]
  },
  {
   "cell_type": "markdown",
   "id": "11c383bc",
   "metadata": {},
   "source": [
    "Neben dem Lesen der gesamten Datei kann das Lesen auch zeilenweise erfolgen:"
   ]
  },
  {
   "cell_type": "code",
   "execution_count": 16,
   "id": "1d7a7faf",
   "metadata": {
    "scrolled": true
   },
   "outputs": [
    {
     "name": "stdout",
     "output_type": "stream",
     "text": [
      "Zeile 1 <class 'str'>\n",
      "Zeile 2 <class 'str'>\n",
      "['Zeile 3\\n', 'Zeile 4\\n'] <class 'list'>\n",
      "\n"
     ]
    }
   ],
   "source": [
    "workfile = \"daten_1.txt\" # Dateipfadangabe\n",
    "f = open(workfile,\"r\")\n",
    "line1 = f.readline().strip()      # Nach jedem Aufruf wird eine Zeile gelesen.\n",
    "print(line1, type(line1))\n",
    "line2 = f.readline().strip()      # \"line\" ist ein beliebiger Name.\n",
    "print(line2, type(line2))\n",
    "lines = f.readlines()             # Liest alle Zeilen auf einmal ein und gibt eine Liste aus. \n",
    "print(lines, type(lines))\n",
    "print(f.readline())               # Keine Ausgabe, da Dateiende erreicht!"
   ]
  },
  {
   "cell_type": "markdown",
   "id": "a094fdbb",
   "metadata": {},
   "source": [
    "Das Dateiobjekt \"f\" ist iterierbar, d.h. man kann auch wie folgt zeilenweise einlesen, was sehr Speichereffizient ist: "
   ]
  },
  {
   "cell_type": "code",
   "execution_count": 23,
   "id": "60b282aa",
   "metadata": {},
   "outputs": [
    {
     "name": "stdout",
     "output_type": "stream",
     "text": [
      "Zeile 1\n",
      "Zeile 2\n",
      "Zeile 3\n",
      "Zeile 4\n"
     ]
    }
   ],
   "source": [
    "f.seek(0)                  # Zeiger auf Anfang der Datei setzen\n",
    "for line in f:\n",
    "    print (line, end = \"\") # end=\"\" bedeutet, am Zeilenende wird statt \"\\n\"\n",
    "                           # (newline) ein Leerzeichen \"\" angehängt,\n",
    "                           # was einen doppelten Zeilenumbruch verhindert\n",
    "    #print (line.strip())   # hat den gleichen Effekt"
   ]
  },
  {
   "cell_type": "markdown",
   "id": "2f046ffe",
   "metadata": {},
   "source": [
    "Die Methode f.write() beschreibt Dateien zeilenweise.  \n",
    "Zeilenumbrüche müssen mit “\\n“ manuell eingefügt werden."
   ]
  },
  {
   "cell_type": "code",
   "execution_count": 24,
   "id": "87fd5eb6",
   "metadata": {},
   "outputs": [
    {
     "name": "stdout",
     "output_type": "stream",
     "text": [
      "geschriebene Zeichen 20\n",
      "False\n"
     ]
    },
    {
     "data": {
      "text/plain": [
       "True"
      ]
     },
     "execution_count": 24,
     "metadata": {},
     "output_type": "execute_result"
    }
   ],
   "source": [
    "workfile = \"daten_2.txt\"            # Dateipfadangabe\n",
    "f = open(workfile,\"w\")              # Dateiobjekt mit Schreibberechtigung öffnen\n",
    "r = f.write(\"This is a new line\\n\") # Der Inhalt der Klammer muß vom Typ str() sein.\n",
    "r = f.write(\"This is a new line2\\n\") # Der Inhalt der Klammer muß vom Typ str() sein.\n",
    "f.close\n",
    "\n",
    "print(f'geschriebene Zeichen {r}')  # Der Rückgabewert enthält die Anz. geschriebener Zeichen\n",
    "with open(workfile,\"a\") as f:       # Datei \"workfile\" im Modus \"append\" öffnen.\n",
    "    f.write(\"This is line 1 \\n\")    # Zeile 1 schreiben\n",
    "    f.write(\"This is line 2 \\n\")    # Zeile 2 schreiben. Nach dem Rücksprung der\n",
    "    print(f.closed)\n",
    "f.closed                            # Einrückungsebene wird die Datei automatisch geschlossen."
   ]
  },
  {
   "cell_type": "markdown",
   "id": "876efaff",
   "metadata": {},
   "source": [
    "Schreiben aller Listeninhalte in eine Datei:"
   ]
  },
  {
   "cell_type": "code",
   "execution_count": 25,
   "id": "4b78c4d0",
   "metadata": {},
   "outputs": [],
   "source": [
    "workfile = \"daten_3.txt\"        # Dateipfadangabe\n",
    "with open(workfile,\"w\") as f:   #\n",
    "    f.writelines([\"abc\\n\",\"def\\n\", \"ghi\\n\"]) # Schreiben aller Listeninhalte in eine Datei\n"
   ]
  },
  {
   "cell_type": "markdown",
   "id": "2905146d",
   "metadata": {},
   "source": [
    "Bei Arbeiten mit Dateien treten besonders oft Fehlermeldungen auf, da beispielsweise die Datei nicht gefunden wird.  \n",
    "Python hat eine wirksame Methode zum Umgang mit diesen Programmfehlern.  \n",
    "Dabei handelt es sich um sogenannte \"try- except – Blöcke\". Mit diesen lassen sich Programmabbrüche „abfangen“. "
   ]
  },
  {
   "cell_type": "markdown",
   "id": "38207035",
   "metadata": {},
   "source": [
    "Beispiel für einen \"try-except-Block\":"
   ]
  },
  {
   "cell_type": "code",
   "execution_count": 26,
   "id": "0cd42b6b",
   "metadata": {},
   "outputs": [
    {
     "name": "stdin",
     "output_type": "stream",
     "text": [
      "Please Enter a number:  f\n"
     ]
    },
    {
     "name": "stdout",
     "output_type": "stream",
     "text": [
      "This was not a valid number. Try again: \n"
     ]
    },
    {
     "name": "stdin",
     "output_type": "stream",
     "text": [
      "Please Enter a number:  w\n"
     ]
    },
    {
     "name": "stdout",
     "output_type": "stream",
     "text": [
      "This was not a valid number. Try again: \n"
     ]
    },
    {
     "name": "stdin",
     "output_type": "stream",
     "text": [
      "Please Enter a number:  5\n"
     ]
    },
    {
     "name": "stdout",
     "output_type": "stream",
     "text": [
      "This was a correct number.\n"
     ]
    }
   ],
   "source": [
    "while True:\n",
    "    try:\n",
    "        x = int(input(\"Please Enter a number: \"))\n",
    "        print(\"This was a correct number.\")\n",
    "        break\n",
    "    except ValueError:\n",
    "        print(\"This was not a valid number. Try again: \")"
   ]
  },
  {
   "cell_type": "markdown",
   "id": "c655f45a",
   "metadata": {},
   "source": [
    "- Zunächst wird der „try“-Code ausgeführt. Tritt ein Fehler, hier vom Typ ValueError auf, dann wird der „except“-Code ausgeführt.\n",
    "-  Weiterhin können noch „else“- und „finally“- Blöcke definiert werden.\n",
    "-  Der Typ des Fehlers, welcher mit „except“ abgefangen werden soll, wird an „except“ angefügt. Es können auch mehrere Errortypen angegeben werden. Für „alle“ Fehlertypen ist „except:“ ohne weitere Angaben zu verwenden.  \n",
    "\n",
    "Mit dem Befehl „raise ErrorType“ kann ein Fehler manuell erzeugt werden.\n",
    "Es gibt eine Vielzahl eingebauter Fehlertypen.\n",
    "Es ist möglich, mehrere „except“-Blöcke mit jeweils einem oder mehreren Errortypen zu definieren. Die Errortypen sind\n",
    "mit Komma getrennt in Klammern zu schreiben. Die genaue Schreibweise (Groß/Kleinschreibung) ist dabei zu beachten:  \n",
    "```except (ValueError, RuntimeError, ZeroDivisionError): ```\n",
    "Es können auch eigene Fehlertypen selbst definiert werden.  \n",
    "Beispiel für mehrere except-Blöcke:"
   ]
  },
  {
   "cell_type": "code",
   "execution_count": null,
   "id": "c8709cb0",
   "metadata": {},
   "outputs": [],
   "source": [
    "while True:\n",
    "    try:\n",
    "        x = int(input(\"Please Enter a number: \"))\n",
    "        print(\"This was a correct number.\")\n",
    "        break\n",
    "    except ValueError:\n",
    "        print(\"This was not a valid number. Try again: \")\n",
    "    except (RuntimeError,TypeError):\n",
    "        print(\"Please check your spelling. Try again: \")"
   ]
  },
  {
   "cell_type": "markdown",
   "id": "d7c9d498",
   "metadata": {},
   "source": [
    "Fehlende Dateien erzeugen einen FileNotFoundError:"
   ]
  },
  {
   "cell_type": "code",
   "execution_count": 27,
   "id": "0d3261bf",
   "metadata": {},
   "outputs": [
    {
     "name": "stdout",
     "output_type": "stream",
     "text": [
      "Sorry, no File found.\n"
     ]
    }
   ],
   "source": [
    "try:\n",
    "    open(\"testfile\",\"r\")\n",
    "except FileNotFoundError:\n",
    "    print(\"Sorry, no File found.\")"
   ]
  },
  {
   "cell_type": "markdown",
   "id": "a1579e13",
   "metadata": {},
   "source": [
    "Mit except/pass werden Fehler „übergangen“:"
   ]
  },
  {
   "cell_type": "code",
   "execution_count": 28,
   "id": "5b846541",
   "metadata": {},
   "outputs": [
    {
     "name": "stdin",
     "output_type": "stream",
     "text": [
      "Please Enter a number:  5\n"
     ]
    },
    {
     "ename": "ZeroDivisionError",
     "evalue": "division by zero",
     "output_type": "error",
     "traceback": [
      "\u001b[1;31m---------------------------------------------------------------------------\u001b[0m",
      "\u001b[1;31mZeroDivisionError\u001b[0m                         Traceback (most recent call last)",
      "Cell \u001b[1;32mIn[28], line 2\u001b[0m\n\u001b[0;32m      1\u001b[0m x \u001b[38;5;241m=\u001b[39m \u001b[38;5;28mint\u001b[39m(\u001b[38;5;28minput\u001b[39m(\u001b[38;5;124m\"\u001b[39m\u001b[38;5;124mPlease Enter a number: \u001b[39m\u001b[38;5;124m\"\u001b[39m))\n\u001b[1;32m----> 2\u001b[0m x \u001b[38;5;241m=\u001b[39m x \u001b[38;5;241m/\u001b[39m \u001b[38;5;241m0\u001b[39m\n",
      "\u001b[1;31mZeroDivisionError\u001b[0m: division by zero"
     ]
    }
   ],
   "source": [
    "        x = int(input(\"Please Enter a number: \"))\n",
    "        x = x / 0\n"
   ]
  },
  {
   "cell_type": "code",
   "execution_count": 31,
   "id": "e176a276",
   "metadata": {},
   "outputs": [
    {
     "name": "stdin",
     "output_type": "stream",
     "text": [
      "Please Enter a number:  t\n"
     ]
    },
    {
     "name": "stdout",
     "output_type": "stream",
     "text": [
      "Keine Zahl !!\n",
      "Ende\n"
     ]
    }
   ],
   "source": [
    "while True:\n",
    "    try:\n",
    "        x = int(input(\"Please Enter a number: \"))\n",
    "        x = x / 0\n",
    "        #print('Bla')\n",
    "    except ZeroDivisionError:\n",
    "        #print(\"Zero Division occurred.\")\n",
    "        pass       # Falls kein Eintrag unter except, kann mit\n",
    "                   # pass dennoch eine “lautlose” Ausführung erreicht werden.\n",
    "    except ValueError:\n",
    "        print('Keine Zahl !!')\n",
    "    print('Ende')\n",
    "    break"
   ]
  },
  {
   "cell_type": "markdown",
   "id": "df612e04",
   "metadata": {},
   "source": [
    "Mit assert (Expression) werden User-definierte Annahmen erzeugt. Bei Nichterfüllung erfolgt ein AssertionError:"
   ]
  },
  {
   "cell_type": "code",
   "execution_count": 32,
   "id": "194bc1a4",
   "metadata": {},
   "outputs": [
    {
     "name": "stdin",
     "output_type": "stream",
     "text": [
      "Please Enter a positive number:  -2\n"
     ]
    },
    {
     "ename": "AssertionError",
     "evalue": "Only Positive Values allowed for x",
     "output_type": "error",
     "traceback": [
      "\u001b[1;31m---------------------------------------------------------------------------\u001b[0m",
      "\u001b[1;31mAssertionError\u001b[0m                            Traceback (most recent call last)",
      "Cell \u001b[1;32mIn[32], line 2\u001b[0m\n\u001b[0;32m      1\u001b[0m x \u001b[38;5;241m=\u001b[39m \u001b[38;5;28mint\u001b[39m(\u001b[38;5;28minput\u001b[39m(\u001b[38;5;124m\"\u001b[39m\u001b[38;5;124mPlease Enter a positive number: \u001b[39m\u001b[38;5;124m\"\u001b[39m))\n\u001b[1;32m----> 2\u001b[0m \u001b[38;5;28;01massert\u001b[39;00m (x \u001b[38;5;241m>\u001b[39m \u001b[38;5;241m0\u001b[39m), \u001b[38;5;124m\"\u001b[39m\u001b[38;5;124mOnly Positive Values allowed for x\u001b[39m\u001b[38;5;124m\"\u001b[39m\n",
      "\u001b[1;31mAssertionError\u001b[0m: Only Positive Values allowed for x"
     ]
    }
   ],
   "source": [
    "x = int(input(\"Please Enter a positive number: \"))\n",
    "assert (x > 0), \"Only Positive Values allowed for x\"\n"
   ]
  },
  {
   "cell_type": "code",
   "execution_count": 34,
   "id": "4085d56a",
   "metadata": {},
   "outputs": [
    {
     "name": "stdin",
     "output_type": "stream",
     "text": [
      "Please Enter a positive number:  f\n"
     ]
    },
    {
     "name": "stdout",
     "output_type": "stream",
     "text": [
      "Exception \"invalid literal for int() with base 10: 'f'\" occurred.\n"
     ]
    }
   ],
   "source": [
    "try: # Abfangen eines AssertionErrors\n",
    "    x = int(input(\"Please Enter a positive number: \")) # mit einem try-except-Block\n",
    "    assert (x > 0), \"Only Positive Values allowed for x\"\n",
    "except Exception as e:\n",
    "    print (f\"Exception \\\"{e}\\\" occurred.\")"
   ]
  },
  {
   "cell_type": "markdown",
   "id": "935fbd24",
   "metadata": {},
   "source": [
    "Weitere Exception-Typen sind z.B:\n",
    "- IsADirectoryError\n",
    "- NotADirectoryError\n",
    "- PermissionErrorTimeOutError,\n",
    "- FileExistsError\n",
    "- ConnectionRefusedError\n",
    "- TypeError\n",
    "- SyntaxError\n",
    "- RunTimeError\n",
    "- AttributeError\n",
    "- ImportError\n",
    "- FloatingPointError\n",
    "- ModuleNotFoundError\n",
    "- KeyError\n",
    "- IndentationError, uva."
   ]
  }
 ],
 "metadata": {
  "kernelspec": {
   "display_name": "Python 3 (ipykernel)",
   "language": "python",
   "name": "python3"
  },
  "language_info": {
   "codemirror_mode": {
    "name": "ipython",
    "version": 3
   },
   "file_extension": ".py",
   "mimetype": "text/x-python",
   "name": "python",
   "nbconvert_exporter": "python",
   "pygments_lexer": "ipython3",
   "version": "3.11.8"
  },
  "toc": {
   "base_numbering": 1,
   "nav_menu": {},
   "number_sections": true,
   "sideBar": true,
   "skip_h1_title": false,
   "title_cell": "Table of Contents",
   "title_sidebar": "Contents",
   "toc_cell": false,
   "toc_position": {},
   "toc_section_display": true,
   "toc_window_display": false
  },
  "varInspector": {
   "cols": {
    "lenName": 16,
    "lenType": 16,
    "lenVar": 40
   },
   "kernels_config": {
    "python": {
     "delete_cmd_postfix": "",
     "delete_cmd_prefix": "del ",
     "library": "var_list.py",
     "varRefreshCmd": "print(var_dic_list())"
    },
    "r": {
     "delete_cmd_postfix": ") ",
     "delete_cmd_prefix": "rm(",
     "library": "var_list.r",
     "varRefreshCmd": "cat(var_dic_list()) "
    }
   },
   "types_to_exclude": [
    "module",
    "function",
    "builtin_function_or_method",
    "instance",
    "_Feature"
   ],
   "window_display": false
  },
  "widgets": {
   "application/vnd.jupyter.widget-state+json": {
    "state": {},
    "version_major": 2,
    "version_minor": 0
   }
  }
 },
 "nbformat": 4,
 "nbformat_minor": 5
}
