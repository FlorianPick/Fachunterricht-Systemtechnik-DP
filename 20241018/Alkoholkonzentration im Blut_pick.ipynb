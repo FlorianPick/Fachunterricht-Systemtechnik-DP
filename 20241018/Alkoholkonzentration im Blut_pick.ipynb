{
 "cells": [
  {
   "attachments": {},
   "cell_type": "markdown",
   "metadata": {},
   "source": [
    "## Alkoholkonzentration im Blut\n",
    "\n",
    "Wir benutzen die Formel von [Erik Widmark](https://de.wikipedia.org/wiki/Erik_Widmark) um die Alkoholkonzentration im Blut zu berechnen.\n",
    "\n",
    "c = a / (m\\*r)  \n",
    "\n",
    "**c**:   ist die Alkoholkonzentration im Blut.  \n",
    "\n",
    "**a**:   ist die Menge an Alkohol die jemand aufgenommen hat. Diese muss nach dieser Formel berechnet werden:\n",
    "\n",
    "a = v \\* e \\* p  \n",
    "\n",
    "**r**:   Die Absorptionsrate: Für Männer ist diese 0.7 und für Frauen ist es 0.6.\n",
    "\n",
    "**m**:   Körpergewicht in kg\n",
    "\n",
    "**v**:   Das Volumen des Getränks in ml \n",
    "\n",
    "**p**:   0.8 g/ml (Alkoholdichte)\n",
    "\n",
    "**e**:   Das Alkoholvolumen in % - Für Bier z.B. 4%\n",
    "\n",
    "Beispiel:  \n",
    "\n",
    "![Beispiel Berechnung](A_Beispiel.png)  \n",
    "(A_Beispiel.png)"
   ]
  },
  {
   "cell_type": "markdown",
   "metadata": {},
   "source": [
    "Wir brauchen ein Programm, das den Benutzer nach folgenden Informationen fragt und die Alkoholkonzentration in seinem Blut berechnet:\n",
    "\n",
    "- Alkoholgehalt in Ihrem Getränk? (4 % für Bier, 12 % für Wein usw.), um 'e' in unserer Formel einen Wert zuzuweisen\n",
    "- das Volumen des Getränks im ml? um es 'v' in der Formel zuzuweisen\n",
    "- die Körpermasse in kg? um es in der Formel 'm' zuzuweisen\n",
    "- Fragen Sie nach dem Geschlecht, wenn männlich, dann r = 0,7 und wenn weiblich, dann r = 0,6"
   ]
  },
  {
   "cell_type": "code",
   "execution_count": 10,
   "metadata": {
    "scrolled": true
   },
   "outputs": [
    {
     "name": "stdout",
     "output_type": "stream",
     "text": [
      "Ihre geschätzte Blutalkoholkonzentration beträgt: 0.5024 Promille.\n",
      "Sie sind auf dem richtigen Weg! Mama ist stolz!\n"
     ]
    }
   ],
   "source": [
    "# Schreiben Sie Ihren Programmcode hier\n",
    "from IPython.display import clear_output\n",
    "#import os\n",
    "# Funktion, um das Terminal zu leeren\n",
    "#def clear_terminal():\n",
    "#    Unterscheidung zwischen Betriebssystemen\n",
    "#    if os.name == 'nt':  # 'nt' steht für Windows\n",
    "#        os.system('cls')\n",
    "#    else:  # für Unix-basierte Systeme wie Linux und macOS\n",
    "#        os.system('clear')\n",
    "\n",
    "#print(os.name)\n",
    "\n",
    "# Eingabe der benötigten Werte\n",
    "volumen = float(input(\"Wie viel ml haben Sie getrunken? (z.B. 500 für ein Bier): \"))\n",
    "clear_output()\n",
    "\n",
    "alkoholgehalt = float(input(\"Wie viel Prozent Alkohol hat das Getränk? (z.B. 4 für Bier, 12 für Wein): \"))\n",
    "clear_output()\n",
    "\n",
    "koerpergewicht = float(input(\"Wie viel wiegen Sie in kg? (z.B. 80): \"))\n",
    "clear_output()\n",
    "\n",
    "geschlecht = input(\"Sind Sie männlich oder weiblich? (male/female): \")\n",
    "clear_output()\n",
    "\n",
    "# Festlegung des Absorptionsfaktors basierend auf dem Geschlecht\n",
    "if geschlecht == \"male\" or \"m\":\n",
    "    r = 0.7\n",
    "elif geschlecht == \"female\" or \"f\":\n",
    "    r = 0.6\n",
    "else:\n",
    "    print(\"What is a woman?\")\n",
    "    exit()\n",
    "\n",
    "# Die Alkoholdichte ist immer 0.8 g/ml\n",
    "alkoholdichte = 0.8\n",
    "\n",
    "# Berechnung der Menge des aufgenommenen Alkohols (a)\n",
    "alkoholmenge = volumen * (alkoholgehalt / 100) * alkoholdichte\n",
    "\n",
    "# Berechnung der Blutalkoholkonzentration (c)\n",
    "blutalkoholkonzentration = alkoholmenge / (koerpergewicht * r)\n",
    "\n",
    "if blutalkoholkonzentration <= 0.5 :\n",
    "    print(f\"Ihre geschätzte Blutalkoholkonzentration beträgt: {blutalkoholkonzentration:.4f} Promille.\")\n",
    "    print(\"Da geht noch was!\")\n",
    "    \n",
    "else: #blutalkoholkonzentration > 0.5 :\n",
    "    print(f\"Ihre geschätzte Blutalkoholkonzentration beträgt: {blutalkoholkonzentration:.4f} Promille.\")\n",
    "    print(\"Sie sind auf dem richtigen Weg! Mama ist stolz!\")\n"
   ]
  },
  {
   "cell_type": "code",
   "execution_count": null,
   "metadata": {},
   "outputs": [],
   "source": []
  }
 ],
 "metadata": {
  "kernelspec": {
   "display_name": "Python 3 (ipykernel)",
   "language": "python",
   "name": "python3"
  },
  "language_info": {
   "codemirror_mode": {
    "name": "ipython",
    "version": 3
   },
   "file_extension": ".py",
   "mimetype": "text/x-python",
   "name": "python",
   "nbconvert_exporter": "python",
   "pygments_lexer": "ipython3",
   "version": "3.12.4"
  },
  "toc": {
   "base_numbering": 1,
   "nav_menu": {},
   "number_sections": true,
   "sideBar": true,
   "skip_h1_title": false,
   "title_cell": "Table of Contents",
   "title_sidebar": "Contents",
   "toc_cell": false,
   "toc_position": {},
   "toc_section_display": true,
   "toc_window_display": false
  },
  "varInspector": {
   "cols": {
    "lenName": 16,
    "lenType": 16,
    "lenVar": 40
   },
   "kernels_config": {
    "python": {
     "delete_cmd_postfix": "",
     "delete_cmd_prefix": "del ",
     "library": "var_list.py",
     "varRefreshCmd": "print(var_dic_list())"
    },
    "r": {
     "delete_cmd_postfix": ") ",
     "delete_cmd_prefix": "rm(",
     "library": "var_list.r",
     "varRefreshCmd": "cat(var_dic_list()) "
    }
   },
   "types_to_exclude": [
    "module",
    "function",
    "builtin_function_or_method",
    "instance",
    "_Feature"
   ],
   "window_display": false
  }
 },
 "nbformat": 4,
 "nbformat_minor": 4
}
