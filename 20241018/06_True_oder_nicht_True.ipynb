{
 "cells": [
  {
   "cell_type": "markdown",
   "metadata": {},
   "source": [
    "# True oder nicht True (FALSE): das ist die Frage!\n",
    "\n",
    "### Boolesche Ausdrücke\n",
    "\n",
    "- Geht auf die Theorie von George Bool zurück.\n",
    "- Jeder Ausdruck ist entweder **True (1)** or **False (0)**\n",
    "- In der Informatik werden diese Werte (Wahr und Falsch) verwendet, um zu prüfen, ob eine Bedingung erfüllt ist oder nicht.\n",
    "- Wikipedia: https://de.wikipedia.org/wiki/Boolesche_Algebra\n",
    "- Im Begleitbuch Seite 44 bis 49\n"
   ]
  },
  {
   "cell_type": "markdown",
   "metadata": {},
   "source": [
    "Diese Werte sind in jeder Programmiersprache implementiert und wir brauchen einige spezielle Operatoren, um mit ihnen arbeiten zu können. Angenommen, wir haben zwei Variablen:"
   ]
  },
  {
   "cell_type": "code",
   "execution_count": null,
   "metadata": {},
   "outputs": [],
   "source": [
    "a = c = 1\n",
    "b = d = 2\n",
    "#a, c, b, d = 1,1,2,2   # alternativ\n",
    "print(a, b, c, d)"
   ]
  },
  {
   "cell_type": "code",
   "execution_count": null,
   "metadata": {},
   "outputs": [],
   "source": [
    "a = 3\n",
    "print(a, c)\n",
    "a = 1\n",
    "print(a, b, c, d)"
   ]
  },
  {
   "cell_type": "code",
   "execution_count": null,
   "metadata": {},
   "outputs": [],
   "source": [
    "a == b"
   ]
  },
  {
   "cell_type": "markdown",
   "metadata": {},
   "source": [
    "## Vergleichsoperatoren\n",
    "\n",
    "- ist gleich (equal)          '=='\n",
    "- ist ungleich (not-equal)    '!='\n",
    "- ist größer (greater)        '>'\n",
    "- ist größer, gleich (greater, equal)        '>='\n",
    "- ist kleiner (smaller)       '<'\n",
    "- ist kleiner, gleich (smaller, equal)       '<='"
   ]
  },
  {
   "cell_type": "code",
   "execution_count": null,
   "metadata": {},
   "outputs": [],
   "source": [
    "# Vergleichsoperatoren x ?? y\n",
    "l = 24 * '*'             # Trennzeile\n",
    "print(l)\n",
    "print(f'== |{a==c} \\tfür {a}=={c}')             # ist gleich\n",
    "print(f'== |{a==b} \\tfür {a}=={b}')             # ist gleich\n",
    "print(l)\n",
    "print(f'!= |{a!=c} \\tfür {a}!={c}')             # ist ungleich\n",
    "print(f'!= |{a!=b} \\tfür {a}!={b}')             # ist ungleich\n",
    "print(l)\n",
    "print(f' > |{a>c} \\tfür {a}>{c}')               # ist größer\n",
    "print(f' > |{a>b} \\tfür {a}>{b}')               # ist größer\n",
    "print(f' > |{b>a} \\tfür {b}>{a}')               # ist größer\n",
    "print(l)\n",
    "print(f' >= |{a>=c} \\tfür {a}>={c}')            # ist größer, gleich\n",
    "print(f' >= |{a>=b} \\tfür {a}>={b}')            # ist größer, gleich\n",
    "print(f' >= |{b>=a} \\tfür {b}>={a}')            # ist größer, gleich\n",
    "print(l)\n",
    "print(f' < |{a<c} \\tfür {a}<{c}')               # ist kleiner\n",
    "print(f' < |{a<b} \\tfür {a}<{b}')               # ist kleiner\n",
    "print(f' < |{b<a} \\tfür {b}<{a}')               # ist kleiner\n",
    "print(l)\n",
    "print(f' <= |{a<=c} \\tfür {a}<={c}')            # ist kleiner, gleich\n",
    "print(f' <= |{a<=b} \\tfür {a}<={b}')            # ist kleiner, gleich\n",
    "print(f' <= |{b<=a} \\tfür {b}<={a}')            # ist kleiner, gleich\n",
    "print(l)"
   ]
  },
  {
   "cell_type": "code",
   "execution_count": null,
   "metadata": {},
   "outputs": [],
   "source": [
    "# ist a + 1 gleich b?\n",
    "print(a+1, b)\n",
    "(a + 1) == b"
   ]
  },
  {
   "cell_type": "markdown",
   "metadata": {},
   "source": [
    "## Elementoperatoren\n",
    "\n",
    "Um zu prüfen, ob ein Objekt in einem anderen Objekt _existiert_ oder nicht.\n",
    "\n",
    "- in\n",
    "- not in"
   ]
  },
  {
   "cell_type": "code",
   "execution_count": 1,
   "metadata": {},
   "outputs": [
    {
     "name": "stdout",
     "output_type": "stream",
     "text": [
      "y in python: True\n",
      "x in python: False\n"
     ]
    }
   ],
   "source": [
    "word = 'python'\n",
    "# Prüft ob der Buchstabe 'y' in word vorkommt.\n",
    "print(f'y in {word}: {\"y\" in word}')   # Prüfung\n",
    "print(f'x in {word}: {\"x\" in word}')   # Prüfung"
   ]
  },
  {
   "cell_type": "code",
   "execution_count": 3,
   "metadata": {},
   "outputs": [
    {
     "name": "stdout",
     "output_type": "stream",
     "text": [
      "Y not in python: True\n",
      "y not in python: False\n",
      "h not in python: False\n"
     ]
    }
   ],
   "source": [
    "word = 'python'\n",
    "# Prüft ob der Buchstabe 'Y' nicht in word vorkommt.\n",
    "print(f'Y not in {word}: {\"Y\" not in word}')   # Prüfung Y (gross)\n",
    "print(f'y not in {word}: {\"y\" not in word}')   # Prüfung y (klein)\n",
    "print(f'h not in {word}: {\"h\" not in word}')   # Prüfung"
   ]
  },
  {
   "cell_type": "code",
   "execution_count": null,
   "metadata": {},
   "outputs": [],
   "source": [
    "for i in 'Python':      # Aufrufen der einzelnen Elemente (Buchstaben)\n",
    "    print(i)\n",
    "print('ENDE')"
   ]
  },
  {
   "cell_type": "code",
   "execution_count": null,
   "metadata": {},
   "outputs": [],
   "source": [
    "for i in '1234567890':\n",
    "    print(type(i),i)\n",
    "    print(type(int(i)),i)"
   ]
  },
  {
   "cell_type": "markdown",
   "metadata": {},
   "source": [
    "## not: Bool invertieren"
   ]
  },
  {
   "cell_type": "code",
   "execution_count": null,
   "metadata": {},
   "outputs": [],
   "source": [
    "not True"
   ]
  },
  {
   "cell_type": "code",
   "execution_count": null,
   "metadata": {},
   "outputs": [],
   "source": [
    "not False"
   ]
  }
 ],
 "metadata": {
  "kernelspec": {
   "display_name": "Python 3 (ipykernel)",
   "language": "python",
   "name": "python3"
  },
  "language_info": {
   "codemirror_mode": {
    "name": "ipython",
    "version": 3
   },
   "file_extension": ".py",
   "mimetype": "text/x-python",
   "name": "python",
   "nbconvert_exporter": "python",
   "pygments_lexer": "ipython3",
   "version": "3.12.4"
  },
  "toc": {
   "base_numbering": 1,
   "nav_menu": {},
   "number_sections": true,
   "sideBar": true,
   "skip_h1_title": false,
   "title_cell": "Table of Contents",
   "title_sidebar": "Contents",
   "toc_cell": false,
   "toc_position": {},
   "toc_section_display": true,
   "toc_window_display": false
  },
  "varInspector": {
   "cols": {
    "lenName": 16,
    "lenType": 16,
    "lenVar": 40
   },
   "kernels_config": {
    "python": {
     "delete_cmd_postfix": "",
     "delete_cmd_prefix": "del ",
     "library": "var_list.py",
     "varRefreshCmd": "print(var_dic_list())"
    },
    "r": {
     "delete_cmd_postfix": ") ",
     "delete_cmd_prefix": "rm(",
     "library": "var_list.r",
     "varRefreshCmd": "cat(var_dic_list()) "
    }
   },
   "types_to_exclude": [
    "module",
    "function",
    "builtin_function_or_method",
    "instance",
    "_Feature"
   ],
   "window_display": false
  }
 },
 "nbformat": 4,
 "nbformat_minor": 4
}
