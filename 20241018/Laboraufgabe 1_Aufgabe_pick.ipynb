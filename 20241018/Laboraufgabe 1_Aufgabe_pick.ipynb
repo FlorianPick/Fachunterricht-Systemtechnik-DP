{
 "cells": [
  {
   "cell_type": "markdown",
   "metadata": {},
   "source": [
    "# LAB 1\n",
    "\n",
    "## Willkommen zur ersten Laboraufgabe\n",
    "\n",
    "## Ziele\n",
    "\n",
    "In diesem Lab haben wir 8 Übungen für Sie vorbereitet. Bitte machen Sie **mindestens 5 Übungen (Ihrer Wahl)** und reichen Sie Ihre Antworten als py-File oder Jupyter Notebook ein.\n",
    "\n",
    "Bitte schreiben Sie Kommentare und halten Sie Ihren Code lesbar. Danke!\n",
    "\n",
    "**Geschätzte Zeit: 4 Stunden**"
   ]
  },
  {
   "cell_type": "markdown",
   "metadata": {},
   "source": [
    "<h1>Table of contents</h1>\n",
    "\n",
    "<div class=\"alert alert-block alert-info\" style=\"margin-top: 20px\">\n",
    "    <ol>\n",
    "        <li><a href=\"#1\">Aufgabe 1: E-Mail-Adresse</a></li>\n",
    "        <li><a href=\"#2\">Aufgabe 2: Hallo</a></li>\n",
    "        <li><a href=\"#3\">Aufgabe 3: Fläche eines Raums berechnen</a></li>\n",
    "        <li><a href=\"#4\">Aufgabe 4: Fläche eines Ackers</a></li>\n",
    "        <li><a href=\"#5\">Aufgabe 5: Zeiteinheiten</a></li>\n",
    "        <li><a href=\"#6\">Aufgabe 6: Steuern und Trinkgeld\n",
    "</a></li>\n",
    "        <li><a href=\"#7\">Aufgabe 7:Summe der ersten n positiven ganzen Zahlens</a></li>\n",
    "        <li><a href=\"#8\">Aufgabe 8:Fläche und Volumene</a></li>\n",
    "    </ol>\n",
    "</div>\n",
    "<br>\n",
    "<hr>"
   ]
  },
  {
   "cell_type": "markdown",
   "metadata": {},
   "source": [
    "<div id=\"1\">\n",
    "    <h2>Aufgabe 1: E-Mail-Adresse</h2>\n",
    "    <br>\n",
    "Stellen Sie sich vor, Sie benötigen für Ihr Unternehmen ein Programm, das den Vor- und Nachnamen jedes Mitarbeiters ausliest und eine E-Mail-Adresse als Kombination wie folgt erstellt: \n",
    "\n",
    "<code>vorname.nachname@firma.de</code>\n",
    "</div>\n"
   ]
  },
  {
   "cell_type": "code",
   "execution_count": 69,
   "metadata": {},
   "outputs": [
    {
     "name": "stdout",
     "output_type": "stream",
     "text": [
      "jochen.schneider@fliesen-pick.de\n",
      "dieter.schmitz@fliesen-pick.de\n",
      "klaus.rosenbaum@fliesen-pick.de\n",
      "\n",
      "++++++++++++++++++++++++++++++++++++++++++++++++++\n",
      "\n",
      "jochen.schmitz@fliesen-pick.de\n",
      "manuel.müller@fliesen-pick.de\n",
      "eli.goldstein@fliesen-pick.de\n",
      "anna.gruber@fliesen-pick.de\n"
     ]
    }
   ],
   "source": [
    "# hier den Programmcode eingeben\n",
    "\n",
    "\n",
    "\n",
    "\n",
    "# 2. Lösungsansatz zwei Listen die durch die funktion zip(), parallel itteriert werden und ihre values zugreifbar macht.\n",
    "vorname = [\"Jochen\", \"Dieter\", \"Klaus\"]\n",
    "nachname = [\"Schneider\", \"Schmitz\", \"Rosenbaum\"]\n",
    "firma = \"@fliesen-pick.de\"\n",
    "\n",
    "for val1, val2 in zip(vorname, nachname, strict = True):\n",
    "    print(val1.lower()+\".\"+val2.lower()+firma.lower())\n",
    "\n",
    "print()\n",
    "print(50*'+')\n",
    "print()\n",
    "\n",
    "\n",
    "# 3. Lösungsansatz Pandas zum einlesen der csv \n",
    "import pandas as pd\n",
    "\n",
    "# Einlesen der CSV-Datei\n",
    "file_path = './mitarbeiter.csv'\n",
    "df = pd.read_csv(file_path)\n",
    "firma = \"@fliesen-pick.de\"\n",
    "\n",
    "# Erzeugen der E-Mail-Adressen\n",
    "df['email'] = df['vorname'].str.lower() + '.' + df['nachname'].str.lower() + firma\n",
    "\n",
    "# Ausgeben der E-Mail-Adressen\n",
    "for email in df['email']:\n",
    "    print(email)\n",
    "\n",
    "\n",
    "\n",
    "\n"
   ]
  },
  {
   "cell_type": "markdown",
   "metadata": {},
   "source": [
    "<div id=\"2\">\n",
    "    <h2>Aufgabe 2: Hallo</h2>\n",
    "    <br>\n",
    "Schreiben Sie ein Programm, das den Benutzer auffordert, seinen Namen einzugeben. \n",
    "Antworten Sie mit einer Nachricht, die den Benutzer unter Verwendung seines Namens begrüßt.\n",
    "</div>\n",
    "\n"
   ]
  },
  {
   "cell_type": "code",
   "execution_count": 73,
   "metadata": {},
   "outputs": [
    {
     "name": "stdin",
     "output_type": "stream",
     "text": [
      "Guten Tag! Bitte gib deinen Namen ein:  Möp\n"
     ]
    },
    {
     "name": "stdout",
     "output_type": "stream",
     "text": [
      "Herzlich willkommen Möp\n"
     ]
    }
   ],
   "source": [
    "# hier den Programmcode eingeben\n",
    "#Eingabeaufforderung an den User \n",
    "name = input(\"Guten Tag! Bitte gib deinen Namen ein: \")\n",
    "\n",
    "print(\"Herzlich willkommen\", name, )\n"
   ]
  },
  {
   "cell_type": "markdown",
   "metadata": {},
   "source": [
    "<div id=\"3\">\n",
    "    <h2>Aufgabe 3: Fläche eines Raums berechnen</h2>\n",
    "    <br>\n",
    "Schreiben Sie ein Programm, welches den Benutzer auffordert, die Breite und Länge eines Raums einzugeben. Sobald diese Werte gelesen wurden, sollte Ihr Programm die Fläche des Raums berechnen und anzeigen. Die Länge und die Breite werden als Fließkommazahlen eingegeben. Schließen Sie Einheiten in Ihre Eingabeaufforderung und Ausgabenachricht ein; entweder Fuß oder Meter, je nachdem, mit welcher Einheit Sie sich wohler fühlen.</div>"
   ]
  },
  {
   "cell_type": "code",
   "execution_count": 16,
   "metadata": {},
   "outputs": [
    {
     "name": "stdin",
     "output_type": "stream",
     "text": [
      "Bitte geben Sie die 1. Seitenlänge des Raumes in Metern an : 12\n",
      "Bitte geben Sie die 2. Seitenlänge des Raumes in Metern an : 12\n"
     ]
    },
    {
     "name": "stdout",
     "output_type": "stream",
     "text": [
      "Die Grundfläche des Raumes beträgt: 144.00 m²\n"
     ]
    }
   ],
   "source": [
    "# hier den Programmcode eingeben\n",
    "länge = float(input('Bitte geben Sie die 1. Seitenlänge des Raumes in Metern an :'))\n",
    "breite = float(input('Bitte geben Sie die 2. Seitenlänge des Raumes in Metern an :'))\n",
    "grundfläche = länge * breite\n",
    "\n",
    "print(\"Die Grundfläche des Raumes beträgt: \"+ f\"{grundfläche:.2f} m²\")"
   ]
  },
  {
   "cell_type": "markdown",
   "metadata": {},
   "source": [
    "<div id=\"4\">\n",
    "    <h2>Aufgabe 4: Fläche eines Ackers</h2>\n",
    "    <br>\n",
    "Erstellen Sie ein Programm, das die Länge und Breite des Feldes eines Bauern vom Benutzer in Meter (m) einliest.\n",
    "Zeige die Fläche des Feldes in Hektar an. \n",
    "    <br>\n",
    "    <code>Hinweis: 1 Hektar = 100 Ar = 10.000 m² = 0,01 km²</code>\n",
    "</div>"
   ]
  },
  {
   "cell_type": "code",
   "execution_count": null,
   "metadata": {},
   "outputs": [],
   "source": [
    "# hier den Programmcode eingeben\n"
   ]
  },
  {
   "cell_type": "markdown",
   "metadata": {},
   "source": [
    "<div id=\"5\">\n",
    "    <h2>Aufgabe 5: Zeiteinheiten</h2>\n",
    "    <br>\n",
    "Erstellen Sie ein Programm, das vom Benutzer eine Dauer von Tagen, Stunden, Minuten und Sekunden abfragt. Berechnen Sie die Gesamtzahl der Sekunden, die durch diese Dauer dargestellt wird, und zeigen Sie diese an.\n",
    "</div>"
   ]
  },
  {
   "cell_type": "code",
   "execution_count": null,
   "metadata": {},
   "outputs": [],
   "source": [
    "# hier den Programmcode eingeben"
   ]
  },
  {
   "cell_type": "markdown",
   "metadata": {},
   "source": [
    "<div id=\"6\">\n",
    "    <h2>Aufgabe 6: Steuern und Trinkgeld</h2>\n",
    "    <br>\n",
    "</div>    \n",
    "Das Programm, das Sie für diese Übung erstellen, liest zunächst die Kosten für eine vom Benutzer in einem Restaurant bestellte Mahlzeit. ZUsätzlich wird abgefragt ob im Restaurant gegessen wird oder das Essen mitgenommen wird. Dann berechnet Ihr Programm die Steuer und das Trinkgeld für das Essen. \n",
    "\n",
    "- außer Haus   : ermäßigter Steuersatz 7 %  ; Trinkgeld 3 %\n",
    "- im Restaurant:            Steuersatz 19 % ; Trinkgeld 12 %\n",
    "    \n",
    "Das Trinkgeld wird aus dem Betrag vor Steuern berechnet.\n",
    "Die Ausgabe Ihres Programms sollte den Steuerbetrag, das Trinkgeld und die Gesamtsumme für das Essen einschließlich der Steuer und dem Trinkgeld enthalten. Formatieren Sie die Ausgabe so, dass alle Werte mit zwei Dezimalstellen angezeigt werden."
   ]
  },
  {
   "cell_type": "code",
   "execution_count": null,
   "metadata": {},
   "outputs": [],
   "source": [
    "# hier den Programmcode eingeben"
   ]
  },
  {
   "cell_type": "markdown",
   "metadata": {},
   "source": [
    "<div id=\"7\">\n",
    "    <h2>Aufgabe 7: Summe der ersten n positiven ganzen Zahlen</h2>\n",
    "    <br>\n",
    "Schreiben Sie ein Programm, das eine positive ganze Zahl n vom Benutzer liest und dann die Summe aller ganzen Zahlen von 1 bis n anzeigt.<br>  \n",
    "Die Summe der ersten n positiven ganzen Zahlen wird mit folgender Formel berechnet werden:<br><code>sum = n*(n+1)/2</code>\n",
    "</div>"
   ]
  },
  {
   "cell_type": "code",
   "execution_count": null,
   "metadata": {},
   "outputs": [],
   "source": [
    "# hier den Programmcode eingeben"
   ]
  },
  {
   "cell_type": "markdown",
   "metadata": {},
   "source": [
    "<div id=\"8\">\n",
    "    <h2>Aufgabe 8: Fläche und Volumen</h2>\n",
    "    <br>\n",
    "Schreiben Sie ein Programm, das damit beginnt, einen Radius r vom Benutzer zu lesen. Das Programm fährt fort, indem es die Fläche eines Kreises mit dem Radius r und das Volumen einer Kugel mit dem Radius r berechnet und anzeigt. Verwenden Sie in Ihren Berechnungen die Pi-Konstante gleich 3.14 und begrenzen das Ergebnis auf 2 Nachkommastellen.\n",
    "    <br>\n",
    "    <br>\n",
    "<code>Hinweis:<br>Die Fläche eines Kreises berechnet sich nach der Formel Fläche = pi * r ** 2. <br>Das Volumen einer Kugel berechnet sich nach der Formel Volumen = (4/3) * pi * (r ** 3).</code></div>"
   ]
  },
  {
   "cell_type": "code",
   "execution_count": null,
   "metadata": {},
   "outputs": [],
   "source": [
    "# hier den Programmcode eingeben"
   ]
  }
 ],
 "metadata": {
  "kernelspec": {
   "display_name": "Python 3 (ipykernel)",
   "language": "python",
   "name": "python3"
  },
  "language_info": {
   "codemirror_mode": {
    "name": "ipython",
    "version": 3
   },
   "file_extension": ".py",
   "mimetype": "text/x-python",
   "name": "python",
   "nbconvert_exporter": "python",
   "pygments_lexer": "ipython3",
   "version": "3.12.4"
  },
  "toc": {
   "base_numbering": 1,
   "nav_menu": {},
   "number_sections": true,
   "sideBar": true,
   "skip_h1_title": false,
   "title_cell": "Table of Contents",
   "title_sidebar": "Contents",
   "toc_cell": false,
   "toc_position": {},
   "toc_section_display": true,
   "toc_window_display": false
  },
  "varInspector": {
   "cols": {
    "lenName": 16,
    "lenType": 16,
    "lenVar": 40
   },
   "kernels_config": {
    "python": {
     "delete_cmd_postfix": "",
     "delete_cmd_prefix": "del ",
     "library": "var_list.py",
     "varRefreshCmd": "print(var_dic_list())"
    },
    "r": {
     "delete_cmd_postfix": ") ",
     "delete_cmd_prefix": "rm(",
     "library": "var_list.r",
     "varRefreshCmd": "cat(var_dic_list()) "
    }
   },
   "types_to_exclude": [
    "module",
    "function",
    "builtin_function_or_method",
    "instance",
    "_Feature"
   ],
   "window_display": false
  },
  "widgets": {
   "application/vnd.jupyter.widget-state+json": {
    "state": {},
    "version_major": 2,
    "version_minor": 0
   }
  }
 },
 "nbformat": 4,
 "nbformat_minor": 4
}
