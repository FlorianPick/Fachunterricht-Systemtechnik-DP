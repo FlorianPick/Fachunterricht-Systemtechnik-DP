{
 "cells": [
  {
   "attachments": {},
   "cell_type": "markdown",
   "id": "6cb8ed8c-639d-4439-be90-eb5ea9feb1f8",
   "metadata": {},
   "source": [
    "# Schreibtischtest BubbleSort in Python  \n",
    "\n",
    "Schreiben Sie ein Python Programm, welches eine ähnliche Ausgabe wie Ihre Excel Lösung erzeugt.  \n",
    "Verwenden Sie alternativ die Ausgabe der Musterlösung.  \n",
    "\n",
    "**Beispiel:**  \n",
    "\n",
    "<img src=\"Ergebnisliste.png\" width=\"300\" />"
   ]
  },
  {
   "cell_type": "code",
   "execution_count": null,
   "id": "a4438e23-8518-47c5-9ed0-c20a13578234",
   "metadata": {},
   "outputs": [],
   "source": [
    "# Funktion BubbleSort(a) \n",
    "# Es wird eine Liste (a) übergeben und dann sortiert\n",
    "\n",
    "def BubbleSort(a) :\n",
    "    pass\n",
    "\n",
    "# tausche(a, j) tauscht, bei Bedarf, die beiden Listenelemente\n",
    "\n",
    "def tausche(a, j):\n",
    "    pass\n",
    "\n",
    "\n",
    "###############    \n",
    "### M A I N ###\n",
    "###############\n",
    "\n",
    "a = [ 7, 4, 12, 1, 2]\n",
    "\n",
    "BubbleSort(a)\n",
    "print('#######################################')\n",
    "print('Ergebnis:             ',a, sep='')\n"
   ]
  }
 ],
 "metadata": {
  "kernelspec": {
   "display_name": "Python 3 (ipykernel)",
   "language": "python",
   "name": "python3"
  },
  "language_info": {
   "codemirror_mode": {
    "name": "ipython",
    "version": 3
   },
   "file_extension": ".py",
   "mimetype": "text/x-python",
   "name": "python",
   "nbconvert_exporter": "python",
   "pygments_lexer": "ipython3",
   "version": "3.12.4"
  },
  "widgets": {
   "application/vnd.jupyter.widget-state+json": {
    "state": {},
    "version_major": 2,
    "version_minor": 0
   }
  }
 },
 "nbformat": 4,
 "nbformat_minor": 5
}
