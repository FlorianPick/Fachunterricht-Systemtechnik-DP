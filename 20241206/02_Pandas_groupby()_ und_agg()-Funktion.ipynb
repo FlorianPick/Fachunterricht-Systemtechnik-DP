{
 "cells": [
  {
   "cell_type": "markdown",
   "metadata": {},
   "source": [
    "<h1><font color='darkblue'>Daten gruppieren (groupby-Funktion)</font></h1>\n",
    "\n",
    "Für die Visualisierung ist eine Gruppierung der Daten hilfreich.\n",
    "\n",
    "\n",
    "Hierfür kannst du die groupby() Funktion in Kombination mit der agg() Funktion verwenden.\n",
    "                            \n",
    "\n",
    "<h3><font color='darkblue'>groupby()</font></h3>\n",
    "\n",
    "\n",
    " 1.      groupby()    -->   WELCHE Daten sollen gruppiert werden?\n",
    "            \n",
    "            \n",
    "            \n",
    " 2.      agg()       -->    WIE sollen die gruppierten Daten berechnet werden?\n",
    " \n",
    " \n",
    "<h4><font color='darkblue'>Outside the box:</font></h4> \n",
    "\n",
    " \n",
    " agg() oder aggregate()???\n",
    " \n",
    " Was soll ich verwenden?\n",
    " \n",
    " Es gibt die agg() und aggregate(). Beide Methoden sehen identisch aus. Welche solltest du also verwenden?\n",
    " \n",
    " In der Doku findest du eine Antwort :-)\n"
   ]
  },
  {
   "cell_type": "code",
   "execution_count": null,
   "metadata": {},
   "outputs": [],
   "source": [
    "# benötigte Bibliotheken importieren\n",
    "\n",
    "import seaborn as sns \n",
    "import pandas as pd \n",
    "import numpy as np "
   ]
  },
  {
   "cell_type": "code",
   "execution_count": null,
   "metadata": {},
   "outputs": [],
   "source": [
    "# Beispieldatensatz\n",
    "\n",
    "df_tips = sns.load_dataset('tips')\n",
    "df_tips  "
   ]
  },
  {
   "cell_type": "code",
   "execution_count": null,
   "metadata": {},
   "outputs": [],
   "source": [
    "df_tips.size\n",
    "df_tips.dtypes"
   ]
  },
  {
   "cell_type": "markdown",
   "metadata": {},
   "source": [
    "Um die Frage: wieviele Männer und Frauen besuchen unser Restaurant? zu beantworten, muss die spalte geschlecht zunächst nach Männern und Frauen gruppiert werden. danach kann die Anzahl ermittelt werden."
   ]
  },
  {
   "cell_type": "code",
   "execution_count": null,
   "metadata": {},
   "outputs": [],
   "source": [
    "# Wie viele Frauen und Männer essen bei uns im Restaurant?\n",
    "\n",
    "# groupby - erst gruppieren und danach eine Aggregationsfunktion aufrufen\n",
    "\n",
    "df_tips.groupby('sex', observed=False).size()  # Anzahl der Elemente\n",
    "#df_tips.groupby('day').size()  # Anzahl der Elemente\n"
   ]
  },
  {
   "cell_type": "markdown",
   "metadata": {},
   "source": [
    "Wenn du mehrere Werte berechnen möchtest, gibst du im groupby deine spalte an die gruppiert werden soll. die zu berechnenden Werte gibst du in der Aggregationsfunktion an.\n",
    "\n",
    "Frage: An welchen Tagen wird wie viel Trinkgeld im Schnitt gegeben und wie viel Leute kommen an den Tagen?\n",
    "\n",
    "Vorüberlegung: \n",
    "              Zu Gruppieren ist nach den Tagen. Die Berechnung erfolgt für das Trinkgeld und die Tage"
   ]
  },
  {
   "cell_type": "code",
   "execution_count": null,
   "metadata": {},
   "outputs": [],
   "source": [
    "# An welchen Tagen wird wieviel Trinkgeld gegeben und wieviele Leute waren im restaurant?\n",
    "#table_groupby = df.groupby(['A','B','C']).agg({'D':['sum', 'mean'],'E':['mean']})\n",
    "df_tips.groupby('day', observed=False).agg({'tip': 'mean', 'size': ['sum']})"
   ]
  },
  {
   "cell_type": "code",
   "execution_count": null,
   "metadata": {},
   "outputs": [],
   "source": [
    "df_tips.groupby('day', observed=False).size()"
   ]
  },
  {
   "cell_type": "code",
   "execution_count": null,
   "metadata": {},
   "outputs": [],
   "source": [
    "print(np.median([1,2,3,4,5,2,2,2,6,1])) # [1,1,2,2,2,2,3,4,5,6]\n",
    "print(np.mean([1,2,3,4,5,2,2,2,6,1]))"
   ]
  },
  {
   "cell_type": "code",
   "execution_count": null,
   "metadata": {},
   "outputs": [],
   "source": [
    "# alternativ:'median' = pandas Methoden\n",
    "\n",
    "#df_tips.groupby('day').agg({'tip': ['mean', np.median], 'day': np.size})\n",
    "df_tips.groupby('day', observed=False).agg({'tip': ['mean', 'median', 'max', 'min'], 'day': np.size})"
   ]
  },
  {
   "cell_type": "code",
   "execution_count": null,
   "metadata": {},
   "outputs": [],
   "source": [
    "# Pandas: Gruppieren nach 2 Kriterien \n",
    "\n",
    "df_tips_gruppiert = df_tips.groupby(['smoker', 'day'], observed=False).agg({'tip': ['size', 'mean']})\n",
    "#df_tips_gruppiert = df_tips.groupby([ 'time', 'day','smoker'], observed=False).agg({'tip': ['size', 'mean']})\n",
    "df_tips_gruppiert "
   ]
  },
  {
   "cell_type": "code",
   "execution_count": null,
   "metadata": {},
   "outputs": [],
   "source": [
    "# wie komme ich an smoker?\n",
    "\n",
    "df_tips_gruppiert.loc[:,'smoker']\n",
    "#df_tips_gruppiert.loc[:,'tip']\n",
    "\n",
    "# spalte exisitert nicht?"
   ]
  },
  {
   "cell_type": "code",
   "execution_count": null,
   "metadata": {},
   "outputs": [],
   "source": [
    "df_tips_gruppiert.columns "
   ]
  },
  {
   "cell_type": "code",
   "execution_count": null,
   "metadata": {},
   "outputs": [],
   "source": [
    "# also smoker und day sind ein index --> gibt unterschiedliche Wege damit umzugehen\n",
    "\n",
    "# eine Möglichkeit --> as_index=False setzen\n",
    "\n",
    "df_tips_gruppiert2 = df_tips.groupby(['smoker', 'day'], observed=False, as_index=False).agg({'tip': ['size', 'mean']})\n",
    "df_tips_gruppiert2 "
   ]
  },
  {
   "cell_type": "code",
   "execution_count": null,
   "metadata": {},
   "outputs": [],
   "source": [
    "df_tips_gruppiert2.loc[:,'smoker']\n",
    "#df_tips_gruppiert2.loc[:,('tip', 'size')]  # Zugriff über Multiindex"
   ]
  },
  {
   "cell_type": "code",
   "execution_count": null,
   "metadata": {},
   "outputs": [],
   "source": [
    "# wie heißen meine spalten?\n",
    "\n",
    "df_tips_gruppiert2.columns "
   ]
  },
  {
   "cell_type": "markdown",
   "metadata": {},
   "source": [
    "Weitere Möglichkeit: reset_index(inplace=True) --> unnötige spalten löschen\n",
    "\n",
    "Zu beachten: Wenn columns den gleichen Namen haben --> work around: erst gruppieren, dann rename() dann reset_index()\n",
    "\n",
    "etc...."
   ]
  },
  {
   "cell_type": "code",
   "execution_count": null,
   "metadata": {},
   "outputs": [],
   "source": [
    "print(df_tips.reset_index())\n",
    "print(df_tips)\n"
   ]
  },
  {
   "cell_type": "markdown",
   "metadata": {},
   "source": [
    "<h2><font color='darkblue'>Unterschied zu Pivot_table()</font></h2>"
   ]
  },
  {
   "cell_type": "code",
   "execution_count": null,
   "metadata": {},
   "outputs": [],
   "source": [
    "# beispiel datensatz\n",
    "\n",
    "df = pd.DataFrame({\"A\": [\"foo\", \"foo\", \"foo\", \"foo\", \"foo\",\n",
    "\n",
    "                         \"bar\", \"bar\", \"bar\", \"bar\"],\n",
    "\n",
    "                   \"B\": [\"one\", \"one\", \"one\", \"two\", \"two\",\n",
    "\n",
    "                         \"one\", \"one\", \"two\", \"two\"],\n",
    "\n",
    "                   \"C\": [\"small\", \"large\", \"large\", \"small\",\n",
    "\n",
    "                         \"small\", \"large\", \"small\", \"small\",\n",
    "\n",
    "                         \"large\"],\n",
    "\n",
    "                   \"D\": [1, 2, 2, 3, 3, 4, 5, 6, 7],\n",
    "\n",
    "                   \"E\": [2, 4, 5, 5, 6, 6, 8, 9, 9]})\n",
    "\n",
    "df"
   ]
  },
  {
   "cell_type": "markdown",
   "metadata": {},
   "source": [
    "https://pandas.pydata.org/docs/reference/api/pandas.DataFrame.pivot_table.html#pandas.DataFrame.pivot_table"
   ]
  },
  {
   "cell_type": "code",
   "execution_count": null,
   "metadata": {},
   "outputs": [],
   "source": [
    "a = np.array([[0, 1, 7, 0],\n",
    "              [3, 0, 2, 19]])\n",
    "print(a)\n",
    "#a.size\n",
    "np.count_nonzero(a)"
   ]
  },
  {
   "cell_type": "code",
   "execution_count": null,
   "metadata": {},
   "outputs": [],
   "source": [
    "table = pd.pivot_table(df, values='D', index=['A', 'B'],columns=['C'], aggfunc=[np.sum, np.mean, np.count_nonzero])\n",
    "#table = pd.pivot_table(df, values=['D', 'E'], index=['A', 'B'],columns=['C'], aggfunc=np.sum)\n",
    "\n",
    "table \n",
    "# https://pandas.pydata.org/docs/reference/api/pandas.DataFrame.pivot_table.html#pandas.DataFrame.pivot_table"
   ]
  },
  {
   "cell_type": "code",
   "execution_count": null,
   "metadata": {},
   "outputs": [],
   "source": [
    "table.columns "
   ]
  },
  {
   "cell_type": "markdown",
   "metadata": {},
   "source": [
    "https://pandas.pydata.org/docs/reference/api/pandas.DataFrame.groupby.html#pandas.DataFrame.groupby"
   ]
  },
  {
   "cell_type": "code",
   "execution_count": null,
   "metadata": {},
   "outputs": [],
   "source": [
    "# nachbauen mit groupby und aggregate\n",
    "\n",
    "table_groupby = df.groupby(['A','B','C']).agg({'D':['sum', 'mean'],'E':['mean']})\n",
    "table_groupby "
   ]
  },
  {
   "cell_type": "code",
   "execution_count": null,
   "metadata": {},
   "outputs": [],
   "source": [
    "table_groupby.columns "
   ]
  },
  {
   "cell_type": "code",
   "execution_count": null,
   "metadata": {},
   "outputs": [],
   "source": [
    "sns.get_dataset_names()"
   ]
  },
  {
   "cell_type": "code",
   "execution_count": null,
   "metadata": {},
   "outputs": [],
   "source": [
    "df_titanic = sns.load_dataset('titanic')\n",
    "df_titanic"
   ]
  }
 ],
 "metadata": {
  "hide_input": false,
  "kernelspec": {
   "display_name": "Python 3 (ipykernel)",
   "language": "python",
   "name": "python3"
  },
  "language_info": {
   "codemirror_mode": {
    "name": "ipython",
    "version": 3
   },
   "file_extension": ".py",
   "mimetype": "text/x-python",
   "name": "python",
   "nbconvert_exporter": "python",
   "pygments_lexer": "ipython3",
   "version": "3.12.4"
  },
  "nbTranslate": {
   "displayLangs": [
    "*"
   ],
   "hotkey": "alt-t",
   "langInMainMenu": true,
   "sourceLang": "en",
   "targetLang": "fr",
   "useGoogleTranslate": true
  },
  "toc": {
   "base_numbering": 1,
   "nav_menu": {},
   "number_sections": true,
   "sideBar": true,
   "skip_h1_title": false,
   "title_cell": "Table of Contents",
   "title_sidebar": "Contents",
   "toc_cell": false,
   "toc_position": {},
   "toc_section_display": true,
   "toc_window_display": false
  },
  "varInspector": {
   "cols": {
    "lenName": 16,
    "lenType": 16,
    "lenVar": 40
   },
   "kernels_config": {
    "python": {
     "delete_cmd_postfix": "",
     "delete_cmd_prefix": "del ",
     "library": "var_list.py",
     "varRefreshCmd": "print(var_dic_list())"
    },
    "r": {
     "delete_cmd_postfix": ") ",
     "delete_cmd_prefix": "rm(",
     "library": "var_list.r",
     "varRefreshCmd": "cat(var_dic_list()) "
    }
   },
   "types_to_exclude": [
    "module",
    "function",
    "builtin_function_or_method",
    "instance",
    "_Feature"
   ],
   "window_display": false
  },
  "widgets": {
   "application/vnd.jupyter.widget-state+json": {
    "state": {},
    "version_major": 2,
    "version_minor": 0
   }
  }
 },
 "nbformat": 4,
 "nbformat_minor": 4
}
