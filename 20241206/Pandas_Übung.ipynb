{
 "cells": [
  {
   "cell_type": "markdown",
   "metadata": {},
   "source": [
    "# Pandas - Übung\n",
    "\n",
    "In diesem Notebook üben wir die elementaren Fertigkeiten die du für das Data Preprocessing benötigst.\n",
    "\n",
    "Welche Fertigkeiten benötigst du grundsätzlich?\n",
    "\n",
    "   - Teilbereiche in einem DataFrame anschauen\n",
    "   - Werte zuordnen\n",
    "   - An Elemente \"herankommen\"\n",
    "   - Datentyp kennen\n",
    "   - Spaltennamen kennen\n",
    "\n",
    "\n",
    "Übersicht: \n",
    "\n",
    "            - Übung 1: Mit dem DataFrame vertraut machen\n",
    "            - Übung 2: Auf Elemente zugreifen\n",
    "            - Übung 3: Kenntnisse an einem neuen Datensatz üben"
   ]
  },
  {
   "cell_type": "code",
   "execution_count": null,
   "metadata": {},
   "outputs": [],
   "source": [
    "# bib importieren\n",
    "\n",
    "import pandas as pd \n",
    "import seaborn as sns # wird nachher benötigt, um einen in seaborn enthaltenen Datensatz zu bearbeiten"
   ]
  },
  {
   "cell_type": "markdown",
   "metadata": {},
   "source": [
    "## Übung 1: Mit dem DataFrame vertraut machen\n",
    "\n",
    "Nach dem Einlesen eines Datensatzes ist es zunächst wichtig zu wissen wie die Spalten heißen und welche Datentypen in den Spalten stecken.\n",
    "\n",
    "Warum ist das wichtig?\n",
    "\n",
    "Damit du weißt wie du Spalten aufrufen und bei Bedingungen die Bedinung übergeben musst."
   ]
  },
  {
   "cell_type": "code",
   "execution_count": null,
   "metadata": {},
   "outputs": [],
   "source": [
    "# Beispieldatensatz: df1 \n",
    "\n",
    "df1 = pd.DataFrame({'A ': [1,2,3,4,5,4,7,4,9,4],\n",
    "                    'B': [10,9,8,8,3,8,4,3,2,1],\n",
    "                    'C': [1,2,2,2,2,4,4,4,4,4]})\n",
    "print(df1) "
   ]
  },
  {
   "cell_type": "code",
   "execution_count": null,
   "metadata": {},
   "outputs": [],
   "source": [
    "# wie lauten die Spaltennamen?\n"
   ]
  },
  {
   "cell_type": "code",
   "execution_count": null,
   "metadata": {},
   "outputs": [],
   "source": [
    "# musst du etwas an den Spaltennamen ändern? Wenn ja, dann ändern\n",
    "\n"
   ]
  },
  {
   "cell_type": "code",
   "execution_count": null,
   "metadata": {},
   "outputs": [],
   "source": [
    "# check, ob Änderung erfolgt ist\n"
   ]
  },
  {
   "cell_type": "code",
   "execution_count": null,
   "metadata": {},
   "outputs": [],
   "source": [
    "# welche Datentypen haben die Spalten?\n"
   ]
  },
  {
   "cell_type": "code",
   "execution_count": null,
   "metadata": {},
   "outputs": [],
   "source": [
    "# Was ist, wenn ich nur von EINER Spalte den Datentyp haben möchte?\n"
   ]
  },
  {
   "cell_type": "code",
   "execution_count": null,
   "metadata": {},
   "outputs": [],
   "source": [
    "# alternativ:\n"
   ]
  },
  {
   "cell_type": "markdown",
   "metadata": {},
   "source": [
    "## Übung 2: Auf Elemente zugreifen\n",
    "\n",
    "#### eine ganze Spalte anzeigen lassen\n",
    "\n",
    "Wie kommst du auf nachfolgendes Ergebnis?\n",
    "\n",
    "                               B\n",
    "                          ---|---\n",
    "                           0 | 10\n",
    "                           1 |  9\n",
    "                           2 |  8\n",
    "                           3 |  8\n",
    "                           4 |  3\n",
    "                           5 |  8\n",
    "                           6 |  4\n",
    "                           7 |  3\n",
    "                           8 |  2\n",
    "                           9 |  1 "
   ]
  },
  {
   "cell_type": "code",
   "execution_count": null,
   "metadata": {},
   "outputs": [],
   "source": [
    "# Platz für deinen Code 1\n"
   ]
  },
  {
   "cell_type": "code",
   "execution_count": null,
   "metadata": {},
   "outputs": [],
   "source": [
    "# alternativ:\n"
   ]
  },
  {
   "cell_type": "markdown",
   "metadata": {},
   "source": [
    "#### ganze Zeile anzeigen lassen\n",
    "       \n",
    "Wie kommst du auf nachfolgendes Ergebnis?\n",
    "\n",
    "                    | A | B | C\n",
    "                 ---|---|---|---\n",
    "                  5 | 4 | 8 | 4"
   ]
  },
  {
   "cell_type": "code",
   "execution_count": null,
   "metadata": {},
   "outputs": [],
   "source": [
    "# Platz für deinen Code\n"
   ]
  },
  {
   "cell_type": "code",
   "execution_count": null,
   "metadata": {},
   "outputs": [],
   "source": [
    "# alternativ:\n"
   ]
  },
  {
   "cell_type": "code",
   "execution_count": null,
   "metadata": {},
   "outputs": [],
   "source": [
    "# alternativ:\n"
   ]
  },
  {
   "cell_type": "code",
   "execution_count": null,
   "metadata": {},
   "outputs": [],
   "source": [
    "# alternativ:\n"
   ]
  },
  {
   "cell_type": "markdown",
   "metadata": {},
   "source": [
    "#### einzelne Elemente anzeigen lassen\n",
    "\n",
    "Wie kommst du auf nachfolgendes Ergebnis?\n",
    "\n",
    "                             B\n",
    "                        ---|---\n",
    "                         1 | 9"
   ]
  },
  {
   "cell_type": "code",
   "execution_count": null,
   "metadata": {},
   "outputs": [],
   "source": [
    "# Platz für deinen Code (mehrere Versionen angeben)\n"
   ]
  },
  {
   "cell_type": "markdown",
   "metadata": {},
   "source": [
    "#### Mehrere Elemente anzeigen lassen über mehrere Spalten\n",
    "\n",
    "Wie kommst du auf nachfolgendes Ergebnis?\n",
    "\n",
    "                                A   B\n",
    "                           ---|---|---\n",
    "                            4 | 5 | 3"
   ]
  },
  {
   "cell_type": "code",
   "execution_count": null,
   "metadata": {},
   "outputs": [],
   "source": [
    "# Platz für deinen Code\n"
   ]
  },
  {
   "cell_type": "markdown",
   "metadata": {},
   "source": [
    "#### Mehrere Elemente in einer Spalte anzeigen lassen - Bedingungen\n",
    "\n",
    "Wie kommst du auf nachfolgendes Ergebnis?\n",
    "\n",
    "                                 C\n",
    "                            ---|---\n",
    "                             5 | 4\n",
    "                             6 | 4\n",
    "                             7 | 4\n",
    "                             8 | 4\n",
    "                             9 | 4"
   ]
  },
  {
   "cell_type": "code",
   "execution_count": null,
   "metadata": {},
   "outputs": [],
   "source": [
    "# Platz für deinen Code\n"
   ]
  },
  {
   "cell_type": "markdown",
   "metadata": {},
   "source": [
    "#### Werte zuweisen und arbeiten mit Bedingungen\n",
    "\n",
    "Wie kommst du auf nachfolgendes Ergebnis?\n",
    "\n",
    "\n",
    "            vorher      -->  nachher\n",
    "            \n",
    "                 C                C\n",
    "            ---|---          ---|---\n",
    "             0 | 1            0 | 1\n",
    "             1 | 2            1 | 8\n",
    "             2 | 2            2 | 8\n",
    "             3 | 2            3 | 8\n",
    "             4 | 2            4 | 8\n",
    "             5 | 4            5 | 4\n",
    "             6 | 4            6 | 4\n",
    "             7 | 4            7 | 4\n",
    "             8 | 4            8 | 4\n",
    "             9 | 4            9 | 4\n",
    "             "
   ]
  },
  {
   "cell_type": "code",
   "execution_count": null,
   "metadata": {},
   "outputs": [],
   "source": [
    "# Platz für deinen Code\n",
    "# df11 für Tests\n",
    "#df11 = pd.DataFrame({'A ': [1,2,3,4,5,4,7,4,9,4],\n",
    "#                    'B': [10,9,8,8,3,8,4,3,2,1],\n",
    "#                    'C': [1,2,2,2,2,4,4,4,4,4]})\n"
   ]
  },
  {
   "cell_type": "code",
   "execution_count": null,
   "metadata": {},
   "outputs": [],
   "source": [
    "# alternativ: mit where()\n"
   ]
  },
  {
   "cell_type": "markdown",
   "metadata": {},
   "source": [
    "#### mehrere Bedingungen\n",
    "\n",
    "Wie kommst du auf nachfolgendes Ergebnis?\n",
    "\n",
    "                             vorher      --->    nachher\n",
    "                             \n",
    "                            A   B   C                A   B   C\n",
    "                       ---|---|---|---          ---|---|---|---\n",
    "                         ............            .............\n",
    "                        3 | 4 | 8 | 8            3 | 4 | 8 | 10\n",
    "                         ............            .............\n",
    "                        5 | 4 | 8 | 4            5 | 4 | 8 | 10\n",
    "                         ............             ............."
   ]
  },
  {
   "cell_type": "code",
   "execution_count": null,
   "metadata": {},
   "outputs": [],
   "source": [
    "# Platz für deinen Code\n",
    "# df11 für Tests\n",
    "#df11 = pd.DataFrame({'A ': [1,2,3,4,5,4,7,4,9,4],\n",
    "#                    'B': [10,9,8,8,3,8,4,3,2,1],\n",
    "#                    'C': [1,2,2,2,2,4,4,4,4,4]})"
   ]
  },
  {
   "cell_type": "code",
   "execution_count": null,
   "metadata": {},
   "outputs": [],
   "source": []
  },
  {
   "cell_type": "markdown",
   "metadata": {},
   "source": [
    "## Übung 3: Kenntnisse an einem neuen Datensatz üben\n",
    "\n",
    "wir importieren aus seaborn den mpg Datensatz und werden mit diesem weiter üben "
   ]
  },
  {
   "cell_type": "code",
   "execution_count": null,
   "metadata": {},
   "outputs": [],
   "source": [
    "# mpg datensatz aus seaborn importieren\n",
    "\n",
    "df_mpg = sns.load_dataset('mpg')\n",
    "df_mpg"
   ]
  },
  {
   "cell_type": "code",
   "execution_count": null,
   "metadata": {},
   "outputs": [],
   "source": [
    "# Wie greifst du auf die Spalten später zu?\n"
   ]
  },
  {
   "cell_type": "code",
   "execution_count": null,
   "metadata": {},
   "outputs": [],
   "source": [
    "# Wie musst du später Bedingungen übergeben?\n"
   ]
  },
  {
   "cell_type": "code",
   "execution_count": null,
   "metadata": {},
   "outputs": [],
   "source": [
    "# welche Herukunftsländer gibt es ? Tip: unique()\n"
   ]
  },
  {
   "cell_type": "code",
   "execution_count": null,
   "metadata": {},
   "outputs": [],
   "source": [
    "# ändere usa in america um  Tip: replace()\n"
   ]
  },
  {
   "cell_type": "code",
   "execution_count": null,
   "metadata": {},
   "outputs": [],
   "source": [
    "# alternativ: durch Wertzuweisung\n"
   ]
  },
  {
   "cell_type": "code",
   "execution_count": null,
   "metadata": {},
   "outputs": [],
   "source": [
    "# welche Autos kommen aus america und haben cylinders größer gleich 8?\n"
   ]
  },
  {
   "cell_type": "code",
   "execution_count": null,
   "metadata": {},
   "outputs": [],
   "source": [
    "# welche autos kommen aus japan oder europa, haben eine horspower größer gleich 120 und wiegen über 3500?\n",
    "\n",
    "# idee: da es nur 3 herkunftsländer gibt und 2 gescuht werden, ist die idee zu sagen, dass das 3.te herukunftsland nicht in der lösung ist\n"
   ]
  },
  {
   "cell_type": "code",
   "execution_count": null,
   "metadata": {},
   "outputs": [],
   "source": [
    "# alternativ:\n"
   ]
  },
  {
   "cell_type": "code",
   "execution_count": null,
   "metadata": {},
   "outputs": [],
   "source": [
    "# wandle den Datentyp vom herstellungsjahr in einen string um\n"
   ]
  },
  {
   "cell_type": "code",
   "execution_count": null,
   "metadata": {},
   "outputs": [],
   "source": [
    "# check, ob Umwandlung funktioniert hat\n"
   ]
  },
  {
   "cell_type": "code",
   "execution_count": null,
   "metadata": {},
   "outputs": [],
   "source": [
    "# welche Autos wurden im Jahr 1980 gebaut?\n"
   ]
  },
  {
   "cell_type": "code",
   "execution_count": null,
   "metadata": {},
   "outputs": [],
   "source": [
    "# welche autos wurden in den Jahren 70,75,79 und 82 gebaut?\n"
   ]
  },
  {
   "cell_type": "code",
   "execution_count": null,
   "metadata": {},
   "outputs": [],
   "source": [
    "# alternativ: mit query()\n"
   ]
  },
  {
   "cell_type": "markdown",
   "metadata": {},
   "source": [
    "## Zusatz: Performance - Was dauert länger?"
   ]
  },
  {
   "cell_type": "code",
   "execution_count": null,
   "metadata": {},
   "outputs": [],
   "source": [
    "df1= pd.DataFrame({'A' : [1, 2, 3, 4],\n",
    "                   'B' : [4, 3, 2, 8],\n",
    "                   'C' : [9, 8, 7, 6]}, \n",
    "                  index=['Zeile1', 'Zeile2', 'Zeile3', 'Zeile4'])\n",
    "\n",
    "print(df1)\n",
    "df1"
   ]
  },
  {
   "cell_type": "code",
   "execution_count": null,
   "metadata": {},
   "outputs": [],
   "source": [
    "%%timeit\n",
    "\n",
    "df1.loc[(df1[\"A\"]==4) & (df1[\"B\"]==8), 'C'] = 10  \n",
    "df1 \n",
    "\n",
    "# mikrosekunde "
   ]
  },
  {
   "cell_type": "code",
   "execution_count": null,
   "metadata": {},
   "outputs": [],
   "source": [
    "#%%timeit\n",
    "\n",
    "my_query_index = df1.query('B == 8 & A == 4').index\n",
    "\n",
    "df1.loc[my_query_index,'C'] = 5000\n",
    "df1 \n",
    "\n",
    "# millisekunde"
   ]
  },
  {
   "cell_type": "code",
   "execution_count": null,
   "metadata": {},
   "outputs": [],
   "source": [
    "#%%timeit\n",
    "\n",
    "df1['C'][(df1[\"A\"]==4) & (df1[\"B\"]==8)] = 3000\n",
    "df1 \n",
    " \n",
    "# millisekunde"
   ]
  },
  {
   "cell_type": "code",
   "execution_count": null,
   "metadata": {
    "scrolled": true
   },
   "outputs": [],
   "source": [
    "#%%timeit\n",
    "\n",
    "df1.loc[:,'C'][(df1[\"A\"]==4) & (df1[\"B\"]==8)] = 4000\n",
    "df1"
   ]
  }
 ],
 "metadata": {
  "hide_input": false,
  "kernelspec": {
   "display_name": "Python 3 (ipykernel)",
   "language": "python",
   "name": "python3"
  },
  "language_info": {
   "codemirror_mode": {
    "name": "ipython",
    "version": 3
   },
   "file_extension": ".py",
   "mimetype": "text/x-python",
   "name": "python",
   "nbconvert_exporter": "python",
   "pygments_lexer": "ipython3",
   "version": "3.12.4"
  },
  "nbTranslate": {
   "displayLangs": [
    "*"
   ],
   "hotkey": "alt-t",
   "langInMainMenu": true,
   "sourceLang": "en",
   "targetLang": "fr",
   "useGoogleTranslate": true
  },
  "toc": {
   "base_numbering": 1,
   "nav_menu": {},
   "number_sections": true,
   "sideBar": true,
   "skip_h1_title": false,
   "title_cell": "Table of Contents",
   "title_sidebar": "Contents",
   "toc_cell": false,
   "toc_position": {},
   "toc_section_display": true,
   "toc_window_display": false
  },
  "varInspector": {
   "cols": {
    "lenName": 16,
    "lenType": 16,
    "lenVar": 40
   },
   "kernels_config": {
    "python": {
     "delete_cmd_postfix": "",
     "delete_cmd_prefix": "del ",
     "library": "var_list.py",
     "varRefreshCmd": "print(var_dic_list())"
    },
    "r": {
     "delete_cmd_postfix": ") ",
     "delete_cmd_prefix": "rm(",
     "library": "var_list.r",
     "varRefreshCmd": "cat(var_dic_list()) "
    }
   },
   "types_to_exclude": [
    "module",
    "function",
    "builtin_function_or_method",
    "instance",
    "_Feature"
   ],
   "window_display": false
  },
  "widgets": {
   "application/vnd.jupyter.widget-state+json": {
    "state": {},
    "version_major": 2,
    "version_minor": 0
   }
  }
 },
 "nbformat": 4,
 "nbformat_minor": 4
}
