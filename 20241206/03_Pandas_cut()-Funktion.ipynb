{
 "cells": [
  {
   "cell_type": "markdown",
   "metadata": {},
   "source": [
    "# Numerische Daten in Kategorien einteilen\n",
    "\n",
    "- cut-Funktion\n",
    "\n",
    "Hintergrund/Zweck/Anwendung: Beim Plotten können nur kategorische Daten als Gruppierung angezeigt werden. Folglich müssen numerische Daten in kategorische Daten umgewandelt werden\n",
    "Da Kategorien mit Aliassen arbeitet wird Arbeitsspeichernutzung reduziert.\n",
    "Macht nur Sinn, wenn wenige Werte in einer (Object) Spalte sind. So ist die Speicherersparnis am Größten.\n",
    "\n",
    "Bsp Plot: pairplot(hue=kategorische Daten)\n",
    "\n",
    "\n",
    "- Kategorien automatisch festlegen lassen\n",
    "- Kategorien selbst festlegen"
   ]
  },
  {
   "cell_type": "markdown",
   "metadata": {},
   "source": [
    "### Was ist der kategoriale Datentyp?\n",
    "\n",
    "\n",
    "https://www.data-science-architect.de/categorial-pandas/"
   ]
  },
  {
   "cell_type": "code",
   "execution_count": null,
   "metadata": {},
   "outputs": [],
   "source": [
    "import pandas as pd \n",
    "import seaborn as sns "
   ]
  },
  {
   "cell_type": "markdown",
   "metadata": {},
   "source": [
    "### Kategorien automatisch festlegen lassen"
   ]
  },
  {
   "cell_type": "code",
   "execution_count": null,
   "metadata": {},
   "outputs": [],
   "source": [
    "# anhand eines Beispiels\n",
    "\n",
    "df_mpg = sns.load_dataset('mpg')\n",
    "df_mpg"
   ]
  },
  {
   "cell_type": "markdown",
   "metadata": {},
   "source": [
    "Die Spalte Beschleunigung soll in 5 Kategorien eingeteilt werden. Bei der cut-Funktion kann man die Anzahl der Kategorien mitgeben. In dem Fall teilt sich die Cut-Funktion von selbst ein, welche Bandbreite sie verwendet für die Einteilung. "
   ]
  },
  {
   "cell_type": "code",
   "execution_count": null,
   "metadata": {
    "scrolled": true
   },
   "outputs": [],
   "source": [
    "df_mpg['acceleration'].unique()"
   ]
  },
  {
   "cell_type": "code",
   "execution_count": null,
   "metadata": {},
   "outputs": [],
   "source": [
    "# je höher der wert, desto langsamer die Beschleugnigung\n",
    "# kleine Zahl --> schnell; größere Zahlen --> langsamer\n",
    " \n",
    "kategorien = ['super-schnell','schnell','normal','langsam','schneckentempo']\n",
    "\n",
    "df_mpg['Beschleunigung'] = pd.cut(df_mpg['acceleration'], 5, labels=kategorien)\n",
    "df_mpg "
   ]
  },
  {
   "cell_type": "code",
   "execution_count": null,
   "metadata": {},
   "outputs": [],
   "source": [
    "df_mpg['Beschleunigung'].unique()"
   ]
  },
  {
   "cell_type": "code",
   "execution_count": null,
   "metadata": {},
   "outputs": [],
   "source": [
    "df_mpg.dtypes "
   ]
  },
  {
   "cell_type": "code",
   "execution_count": null,
   "metadata": {},
   "outputs": [],
   "source": [
    "df_mpg['Beschleunigung'].value_counts()"
   ]
  },
  {
   "cell_type": "code",
   "execution_count": null,
   "metadata": {},
   "outputs": [],
   "source": [
    "df_mpg.loc[df_mpg['Beschleunigung']=='schneckentempo',['acceleration']].min()"
   ]
  },
  {
   "cell_type": "markdown",
   "metadata": {},
   "source": [
    "## Kategorien selbst festlegen"
   ]
  },
  {
   "cell_type": "code",
   "execution_count": null,
   "metadata": {},
   "outputs": [],
   "source": [
    "df_mpg['acceleration'].min()"
   ]
  },
  {
   "cell_type": "code",
   "execution_count": null,
   "metadata": {},
   "outputs": [],
   "source": [
    "df_mpg['acceleration'].max()"
   ]
  },
  {
   "cell_type": "code",
   "execution_count": null,
   "metadata": {},
   "outputs": [],
   "source": [
    "# je höher der wert, desto langsamer die Beschleugnigung\n",
    "\n",
    "kategorien = ['super-schnell','schnell','normal','langsam','schneckentempo']\n",
    "\n",
    "max_value = (df_mpg['acceleration'].max())\n",
    "min_value = (df_mpg['acceleration'].min())\n",
    "# max_value = ((df_mpg['acceleration']/df_mpg['horsepower']).max()) * 100\n",
    "# min_value = ((df_mpg['acceleration']/df_mpg['horsepower']).min()) * 100\n",
    "\n",
    "print(max_value, min_value)\n",
    "einteilung = [0,min_value+1,11,15,20,max_value] # 1 Wert mehr, da mit Bereichen gearbeitet wird(z.B: 0 bis min_value,...)\n",
    "# einteilung_hp = [0,min_value+3,16,30,38,max_value] # 1 Wert mehr, da mit Bereichen gearbeitet wird(z.B: 0 bis min_value,...)\n",
    "\n",
    "df_mpg['Beschleunigung2'] = pd.cut(df_mpg['acceleration'], bins=einteilung, labels=kategorien)\n",
    "### Berechnung als Basis für die Kategorisierung ###\n",
    "# df_mpg['Beschleunigung3'] = pd.cut(((df_mpg['acceleration'] / df_mpg['horsepower']) * 100), bins = einteilung, labels=kategorien)\n",
    "\n",
    "df_mpg"
   ]
  },
  {
   "cell_type": "code",
   "execution_count": null,
   "metadata": {},
   "outputs": [],
   "source": [
    "type(((df_mpg['acceleration'] / df_mpg['horsepower'])*100))\n",
    "\n",
    "#type(df_mpg['acceleration'])"
   ]
  },
  {
   "cell_type": "code",
   "execution_count": null,
   "metadata": {},
   "outputs": [],
   "source": [
    "df_mpg['Beschleunigung2'].unique()"
   ]
  },
  {
   "cell_type": "code",
   "execution_count": null,
   "metadata": {},
   "outputs": [],
   "source": [
    "df_mpg['Beschleunigung2'].value_counts()\n",
    "#df_mpg['Beschleunigung3'].value_counts()"
   ]
  },
  {
   "cell_type": "code",
   "execution_count": null,
   "metadata": {},
   "outputs": [],
   "source": [
    "df_mpg.loc[df_mpg['Beschleunigung2']=='super-schnell']\n",
    "#df_mpg.loc[df_mpg['Beschleunigung3']=='super-schnell']"
   ]
  }
 ],
 "metadata": {
  "hide_input": false,
  "kernelspec": {
   "display_name": "Python 3 (ipykernel)",
   "language": "python",
   "name": "python3"
  },
  "language_info": {
   "codemirror_mode": {
    "name": "ipython",
    "version": 3
   },
   "file_extension": ".py",
   "mimetype": "text/x-python",
   "name": "python",
   "nbconvert_exporter": "python",
   "pygments_lexer": "ipython3",
   "version": "3.12.4"
  },
  "nbTranslate": {
   "displayLangs": [
    "*"
   ],
   "hotkey": "alt-t",
   "langInMainMenu": true,
   "sourceLang": "en",
   "targetLang": "fr",
   "useGoogleTranslate": true
  },
  "toc": {
   "base_numbering": 1,
   "nav_menu": {},
   "number_sections": true,
   "sideBar": true,
   "skip_h1_title": false,
   "title_cell": "Table of Contents",
   "title_sidebar": "Contents",
   "toc_cell": false,
   "toc_position": {},
   "toc_section_display": true,
   "toc_window_display": false
  },
  "varInspector": {
   "cols": {
    "lenName": 16,
    "lenType": 16,
    "lenVar": 40
   },
   "kernels_config": {
    "python": {
     "delete_cmd_postfix": "",
     "delete_cmd_prefix": "del ",
     "library": "var_list.py",
     "varRefreshCmd": "print(var_dic_list())"
    },
    "r": {
     "delete_cmd_postfix": ") ",
     "delete_cmd_prefix": "rm(",
     "library": "var_list.r",
     "varRefreshCmd": "cat(var_dic_list()) "
    }
   },
   "types_to_exclude": [
    "module",
    "function",
    "builtin_function_or_method",
    "instance",
    "_Feature"
   ],
   "window_display": false
  },
  "widgets": {
   "application/vnd.jupyter.widget-state+json": {
    "state": {},
    "version_major": 2,
    "version_minor": 0
   }
  }
 },
 "nbformat": 4,
 "nbformat_minor": 4
}
