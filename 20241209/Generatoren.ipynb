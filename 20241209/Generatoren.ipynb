{
 "cells": [
  {
   "cell_type": "markdown",
   "id": "6f5f555d",
   "metadata": {},
   "source": [
    "# Generatoren in Python  \n",
    "**Quellen:**  \n",
    "https://www.python-kurs.eu/python3_generatoren.php  \n",
    "https://lernenpython.com/generator/\n",
    "\n"
   ]
  },
  {
   "cell_type": "markdown",
   "id": "8ef1f2d4",
   "metadata": {},
   "source": [
    "An der Oberfläche sehen Generatoren in Python wie Funktionen aus, aber es gibt sowohl einen syntaktischen als auch einen semantischen Unterschied. Ein Unterscheidungsmerkmal sind die *yield-Anweisungen.*  \n",
    "Die yield-Anweisung verwandelt eine Funktiondefinition in einen Generator.  \n",
    "Ein Generator ist eine Funktion, die ein Generatorobjekt zurückgibt. Dieses Generatorobjekt kann als eine Funktion angesehen werden, die anstelle eines einzelnen Objekts eine Folge von Ergebnissen erzeugt. Diese Folge von Werten wird durch Iteration darüber erzeugt, z. B. mit einer for-Schleife. Die Werte, auf denen iteriert werden kann, werden mithilfe der yield-Anweisung erstellt. Der von der yield-Anweisung erstellte Wert ist der Wert, der auf das yield-Schlüsselwort folgt. Die Ausführung des Codes wird beendet, wenn eine yield-Anweisung erreicht ist. Der Wert des Ausdrucks, der hinter yield folgt, wird zurückgegeben. Die Ausführung des Generators wird jetzt unterbrochen. Sobald next erneut für das Generatorobjekt aufgerufen wird, nimmt die Generatorfunktion die Ausführung direkt nach der yield-Anweisung im Code wieder auf, in dem der letzte Aufruf erfolgt. Die Ausführung wird in dem Zustand fortgesetzt, in dem der Generator nach letzten yield verlassen wurde.  \n",
    "Mit anderen Worten, alle lokalen Variablen sind noch vorhanden, da sie zwischen den Aufrufen automatisch gespeichert werden. Dies ist ein grundlegender Unterschied zu Funktionen: Funktionen beginnen ihre Ausführung immer am Anfang des Funktionskörpers, unabhängig davon, wo sie in früheren Aufrufen verlassen worden sind. Sie haben keine statischen oder dauerhaften Werte. Der Code eines Generators kann mehr als eine yield-Anweisung enthalten, oder die yield-Anweisung befindet sich möglicherweise im Hauptteil einer Schleife. Wenn der Code eines Generators eine return-Anweisung enthält, wird die Ausführung mit einem StopIteration-Ausnahmefehler beendet, wenn dieser Code vom Python-Interpreter ausgeführt wird. Das Wort \"Generator\" wird manchmal mehrdeutig verwendet, um sowohl die Generatorfunktion selbst als auch die Objekte zu bezeichnen, die von einem Generator erzeugt (\"generiert\") werden.\n",
    "\n",
    "Alles, was mit einem Generator gemacht werden kann, kann auch mit einem klassenbasierten Iterator implementiert werden. Der entscheidende Vorteil von Generatoren besteht jedoch darin, dass die Methoden **\\_\\_iter\\_\\_()** und **\\_\\_next()\\_\\_** automatisch erstellt werden. Generatoren bieten eine geeignete Möglichkeit, Daten zu erzeugen, die riesig oder sogar unendlich sind.\n",
    "\n",
    "Das Folgende ist ein einfaches Beispiel für einen Generator, der verschiedene Städtenamen erzeugen kann.\n",
    "\n",
    "Mit diesem Generator kann ein Generatorobjekt erstellt werden, das nacheinander die Städtenamen der yield-Anweisungen generiert."
   ]
  },
  {
   "cell_type": "code",
   "execution_count": null,
   "id": "762b33d3",
   "metadata": {},
   "outputs": [],
   "source": [
    "def stadt_generator():\n",
    "    yield \"Hamburg\"\n",
    "    yield \"Konstanz\"\n",
    "    yield \"Berlin\"\n",
    "    yield \"Zürich\"\n",
    "    yield \"Schaffhausen\"\n",
    "    yield \"Stuttgart\""
   ]
  },
  {
   "cell_type": "code",
   "execution_count": null,
   "id": "62416378",
   "metadata": {},
   "outputs": [],
   "source": [
    "stadt = stadt_generator()\n",
    "next(stadt)"
   ]
  },
  {
   "cell_type": "code",
   "execution_count": null,
   "id": "7ef7f37f",
   "metadata": {},
   "outputs": [],
   "source": [
    "next(stadt)"
   ]
  },
  {
   "cell_type": "markdown",
   "id": "96da3697",
   "metadata": {},
   "source": [
    "Wir haben einen Iterator erstellt, indem wir stadt_generator() aufgerufen haben:"
   ]
  },
  {
   "cell_type": "code",
   "execution_count": null,
   "id": "de6b33df",
   "metadata": {},
   "outputs": [],
   "source": [
    "stadt = stadt_generator()\n",
    "print(type(stadt))\n",
    "print(next(stadt))\n",
    "print(next(stadt))\n",
    "print(next(stadt))\n",
    "print(next(stadt))\n",
    "print(next(stadt))\n",
    "print(next(stadt))\n",
    "print(next(stadt))"
   ]
  },
  {
   "cell_type": "markdown",
   "id": "e3900631",
   "metadata": {},
   "source": [
    "Wie wir sehen können, haben wir in der interaktiven Shell einen Iterator stadt generiert.  \n",
    "Jeder Aufruf der Methode next(stadt) gibt eine andere Stadt zurück. Nachdem die letzte Stadt, d. h. Stuttgart, erstellt wurde, löst ein weiterer Aufruf von next(stadt) eine Ausnahme aus, die besagt, dass die Iteration gestoppt wurde, d. h. StopIteration.  \n",
    "\"Können wir einen Reset an einen Generator senden?\" ist eine häufig gestellte Frage, damit die Iteration von vorne beginnen kann.  \n",
    "Es gibt kein Reset, aber es ist möglich, ein neues Generatorobjekt zu erstellen, indem man erneut die Anweisung stadt = stast_generator() ausführen lässt. Obwohl die yield-Anweisung auf den ersten Blick wie die Return-Anweisung einer Funktion aussieht, können wir in diesem Beispiel sehen, dass es einen großen Unterschied gibt.  \n",
    "Wenn wir im vorherigen Beispiel eine return-Anweisung anstelle eines yield hätten, wäre dies eine Funktion. Aber diese Funktion würde immer nur die erste Stadt, also \"Hamburg\" zurückliefern und niemals eine der anderen Städte, d. h. \"Konstanz\", \"Berlin\", \"Zürich\", \"Schaffhausen\" und \"Stuttgart\""
   ]
  },
  {
   "cell_type": "markdown",
   "id": "f9ee071e",
   "metadata": {},
   "source": [
    "## Funktionsweise\n",
    "\n",
    "Wie wir in der Einleitung dieses Kapitels ausgeführt haben, bieten die Generatoren eine komfortable Möglichkeit zum Generieren von Iteratoren. Deshalb werden sie als Generatoren bezeichnet.\n",
    "\n",
    "Arbeitsweise:\n",
    "\n",
    "- Ein Generator wird aufgerufen wie eine Funktion. Sein Rückgabewert ist ein Iterator, d. h. ein Generatorobjekt. Der Code des Generators wird zu diesem Zeitpunkt nicht ausgeführt.\n",
    "- Der Iterator kann durch Aufrufen der next-Methode aufgerufen werden. Beim ersten Aufruf wird mit der ersten Codezeile des Iteratorobjektes begonnen. Der Code wird solange ausgeführt, bis eine yield-Anweisung erreicht wird.\n",
    "- yield gibt den Wert des Ausdrucks zurück, der dem Schlüsselwort yield folgt. Beim nächsten Aufruf wird die Ausführung mit der Anweisung fortgesetzt, die auf die yield-Anweisung folgt, und die Variablen haben dieselben Werte wie beim vorherigen Aufruf.\n",
    "- Der Iterator ist beendet, wenn der Generatorkörper vollständig durchgearbeitet worden ist oder wenn der Programmablauf auf eine return-Anweisung ohne Wert stößt.  \n",
    "\n",
    "Wir werden dieses Verhalten im folgenden Beispiel veranschaulichen. Der Generator count erstellt einen Iterator, der eine Folge von Werten erstellt, indem er mit dem Startwert firstval zu zählen beginnt und den Wert von step als Inkrement für die Zählung verwendet:"
   ]
  },
  {
   "cell_type": "code",
   "execution_count": null,
   "id": "70223ba0",
   "metadata": {},
   "outputs": [],
   "source": [
    "import time\n",
    "def zahl(firstval=0, step=1):\n",
    "    x = firstval\n",
    "    while True:\n",
    "        yield x\n",
    "        x += step"
   ]
  },
  {
   "cell_type": "code",
   "execution_count": null,
   "id": "6f0f4c0a",
   "metadata": {},
   "outputs": [],
   "source": [
    "#zähler = zahl() # count beginnt mit 0\n",
    "#for i in range(10):\n",
    "#    print(next(zähler), end=\", \")\n",
    "start_wert = 2.1\n",
    "step_wert = 0.3\n",
    "print(\"\\nNeuer Zähler:\")\n",
    "zähler = zahl(start_wert, step_wert)\n",
    "for i in range(20):\n",
    "    neue_wert = next(zähler)\n",
    "    print(f\"{neue_wert:2.2f}\", end=\", \")\n",
    "    time.sleep(2)\n",
    "print(f'\\n{next(zähler):2.2f}')"
   ]
  },
  {
   "cell_type": "code",
   "execution_count": null,
   "id": "c71c4fcc",
   "metadata": {},
   "outputs": [],
   "source": [
    "next(zähler)"
   ]
  },
  {
   "cell_type": "code",
   "execution_count": null,
   "id": "0690761a",
   "metadata": {},
   "outputs": [],
   "source": [
    "x = zahl(10000)"
   ]
  },
  {
   "cell_type": "code",
   "execution_count": null,
   "id": "bd005380",
   "metadata": {},
   "outputs": [],
   "source": [
    "next(x)"
   ]
  },
  {
   "attachments": {
    "image.png": {
     "image/png": "[encoded data removed]"
    }
   },
   "cell_type": "markdown",
   "id": "90eb70ab",
   "metadata": {},
   "source": [
    "## Fibonacci-Sequenz als Generator:\n",
    "\n",
    "Die Fibonacci-Sequenz ist nach Leonardo von Pisa benannt, der als Fibonacci bekannt war (eine Kontraktion von Filius Bonacci, \"Sohn von Bonaccio\"). In seinem Lehrbuch Liber Abaci, das im Jahr 1202 erschien, hatte er eine Aufgabe, die sich mit Kaninchen und ihre Fortpflanzung beschäftigte: Es geht los mit einem neugeborenen Kaninchenpaar, d. h. mit einem Männchen und einem Weibchen. Es dauert einen Monat, bis sie sich paaren können. Am Ende des zweiten Monats bringt das Weibchen ein neues Kaninchenpaar zur Welt. Nehmen wir nun an, dass jedes weibliche Kaninchen jeden Monat nach dem Ende des ersten Monats ein weiteres Kaninchenpaar zur Welt bringt. Wir müssen erwähnen, dass Fibonaccis Kaninchen niemals sterben. Nun kann man sich fragen, wie groß die Population nach einer bestimmten Anzahl von Monaten sein wird.\n",
    "\n",
    "Dies erzeugt eine Folge von Zahlen: 0, 1, 1, 2, 3, 5, 8, 13\n",
    "\n",
    "Diese Sequenz kann in mathematischen Begriffen wie folgt definiert werden:\n",
    "![image.png](attachment:image.png)"
   ]
  },
  {
   "cell_type": "code",
   "execution_count": null,
   "id": "7a29db26",
   "metadata": {},
   "outputs": [],
   "source": [
    "def fibonacci(n):\n",
    "    \"\"\" Ein Generator zum Erstellen der Fibonacci-Zahlen\"\"\"\n",
    "    a, b, zähler = 0, 1, 0 # Initialisierung \n",
    "    while True:\n",
    "        if (zähler > n): \n",
    "            return\n",
    "        yield a\n",
    "        a, b = b, a + b\n",
    "        zähler += 1\n",
    "\n",
    "### M A I N ###\n",
    "f = fibonacci(10)          # Generatorobjekt (Iterator)\n",
    "for x in f:\n",
    "    print(x, \" \", end=\"\") # \n",
    "print()\n",
    "# f = fibonacci(10)          # Generatorobjekt (Iterator)\n",
    "# for i in range(12):\n",
    "#     print(next(f))"
   ]
  },
  {
   "cell_type": "code",
   "execution_count": null,
   "id": "e745095a",
   "metadata": {},
   "outputs": [],
   "source": [
    "for x in [0 , 1 , 1 , 2 , 3 , 5 , 8 , 13 , 21 , 34 , 55  ]:\n",
    "    \n",
    "    print(x, ' ',end = '')"
   ]
  },
  {
   "cell_type": "markdown",
   "id": "5815c9d6",
   "metadata": {},
   "source": [
    "Der obige Generator kann verwendet werden, um die ersten n durch Leerzeichen getrennten Fibonacci-Zahlen oder bessere (n + 1) Zahlen zu erstellen, da auch die 0. Zahl enthalten ist. Im nächsten Beispiel stellen wir eine Version vor, die einen *endlosen Iterator* zurückgeben kann. Wir müssen bei der Verwendung dieses Iterators darauf achten, dass ein **Beendigungskriterium** verwendet wird:"
   ]
  },
  {
   "cell_type": "code",
   "execution_count": null,
   "id": "dbcdafc5",
   "metadata": {},
   "outputs": [],
   "source": [
    "def fibonacci():\n",
    "    \"\"\"Erzeugt bei Bedarf eine unendliche Folge von Fibonacci-Zahlen\"\"\"\n",
    "    a, b = 0, 1\n",
    "    while True:\n",
    "        yield a\n",
    "        a, b = b, a + b\n",
    "f = fibonacci()\n",
    "#print(f)\n",
    "zähler = 0\n",
    "for x in f: # Endlos --> Beendigungskriterium mit break\n",
    "    print(x, \" \", end=\"\")\n",
    "    zähler += 1\n",
    "    if (zähler > 20): \n",
    "        break \n",
    "print()"
   ]
  },
  {
   "cell_type": "code",
   "execution_count": null,
   "id": "b2f5b504",
   "metadata": {},
   "outputs": [],
   "source": [
    "# Begrenzung durch for mit range()\n",
    "def all_even():\n",
    "    n = 0\n",
    "    while True:\n",
    "        yield n\n",
    "        n += 2\n",
    "\n",
    "x = all_even()\n",
    "for i in range(10):    # wir 10 mal durchlaufen --> Generator liefert endlos wird aber durch for begrenzt\n",
    "    print(next(x))\n",
    "print('Nächster Wert: ',next(x))\n"
   ]
  },
  {
   "cell_type": "code",
   "execution_count": null,
   "id": "9dc9bb5d-ef81-48c4-908c-2a932a39aec5",
   "metadata": {},
   "outputs": [],
   "source": [
    "next(x)"
   ]
  },
  {
   "cell_type": "markdown",
   "id": "e8ffc3f9",
   "metadata": {},
   "source": [
    "## Memory Efficient\n",
    "Eine normale Funktion zur Rückgabe einer Sequenz erstellt die gesamte Sequenz im Speicher, bevor sie das Ergebnis zurückgibt. Dies ist ein Overkill, wenn die Anzahl der Elemente in der Sequenz sehr groß ist.\n",
    "\n",
    "Die Generator implementierung solcher Sequenzen ist speicherfreundlich und wird bevorzugt, da sie jeweils nur ein Element erzeugt."
   ]
  },
  {
   "cell_type": "markdown",
   "id": "2763df55",
   "metadata": {},
   "source": [
    "## Verwenden einer 'Return'-Anweisung in einem Generator\n",
    "\n",
    "Seit Python 3.3 können Generatoren auch return-Anweisungen verwenden, aber ein Generator benötigt immer noch mindestens eine yield-Anweisung, um ein Generator zu sein! Eine return-Anweisung in einem Generator entspricht einer StopIteration\n",
    "\n",
    "Schauen wir uns einen Generator an, in dem wir StopIteration explizit auslösen:"
   ]
  },
  {
   "cell_type": "code",
   "execution_count": null,
   "id": "78b31e93",
   "metadata": {},
   "outputs": [],
   "source": [
    "def gen():\n",
    "    yield 1\n",
    "    #return \n",
    "    #raise StopIteration(42)\n",
    "    yield 2\n",
    "    print('3')\n",
    "    return\n",
    "g = gen()\n",
    "for i in g:\n",
    "    print(i)\n",
    "    \n"
   ]
  },
  {
   "cell_type": "code",
   "execution_count": null,
   "id": "8308f781",
   "metadata": {},
   "outputs": [],
   "source": [
    "town = stadt_generator()\n",
    "for i in town:\n",
    "    print(i)"
   ]
  },
  {
   "cell_type": "code",
   "execution_count": null,
   "id": "a5de603b-c889-4d50-b23d-5804fbb78f27",
   "metadata": {},
   "outputs": [],
   "source": [
    "town = stadt_generator()\n",
    "if 'Berlin' in town:\n",
    "    print('Treffer')"
   ]
  },
  {
   "cell_type": "code",
   "execution_count": null,
   "id": "32a95faf-5c44-49a5-b861-062af2a0e807",
   "metadata": {},
   "outputs": [],
   "source": [
    "next(town)"
   ]
  },
  {
   "cell_type": "markdown",
   "id": "4fea4500",
   "metadata": {},
   "source": [
    "## Pipelining Generators\n",
    " \n",
    "\n",
    "Mehrere Generatoren können verwendet werden, um eine Reihe von Operationen über eine Pipeline zu leiten. Dies lässt sich am besten anhand eines Beispiels veranschaulichen.\n",
    "\n",
    "Angenommen, wir haben einen Generator, der die Zahlen der Fibonacci-Reihe erzeugt. Und wir haben einen weiteren Generator zum Quadrieren von Zahlen.\n",
    "\n",
    "Wenn wir die Summe der Quadrate der Zahlen in der Fibonacci-Reihe herausfinden wollen, können wir dies auf folgende Weise tun, indem wir die Ausgabe der Generator funktionen zusammen pipelineing."
   ]
  },
  {
   "cell_type": "code",
   "execution_count": null,
   "id": "cfc0445e",
   "metadata": {},
   "outputs": [],
   "source": [
    "def fibonacci_numbers(nums):\n",
    "    '''\n",
    "    nums --> Integer \n",
    "    \n",
    "    '''\n",
    "    x, y = 0, 1\n",
    "    for _ in range(nums):\n",
    "        x, y = y, x+y\n",
    "        yield x\n",
    "        \n",
    "def square(nums):\n",
    "    '''\n",
    "    nums --> Itterationsobjekt\n",
    "    \n",
    "    '''\n",
    "    for num in nums:\n",
    "        yield num**2\n",
    "        \n",
    "        \n",
    "print(sum(square(fibonacci_numbers(6))))  # Werte aus fibonacci --> quadrieren --> Summe bilden\n",
    "print(list(fibonacci_numbers(6)))"
   ]
  },
  {
   "cell_type": "markdown",
   "id": "7d273a24",
   "metadata": {},
   "source": [
    "## Python Generator Expression\n",
    "\n",
    "Einfache Generatoren können mit Hilfe von Generatorausdrücken einfach on-the-fly erstellt werden. Es macht das Erstellen von Generatoren einfach.\n",
    "\n",
    "Ähnlich wie die Lambda-Funktionen, die _anonyme Funktionen_ erzeugen, erzeugen Generatorausdrücke _anonyme Generatorfunktionen._\n",
    "\n",
    "Die Syntax für Generatorausdrücke ist ähnlich wie die einer Listenauffassung in Python. Allerdings werden die eckigen Klammern durch runde Klammern ersetzt.\n",
    "\n",
    "Der Hauptunterschied zwischen einem Listenaufruf und einem Generatorausdruck ist, dass ein Listenaufruf die gesamte Liste erzeugt, während der Generatorausdruck jeweils ein Element erzeugt.\n",
    "\n",
    "Sie haben eine träge Ausführung (produzieren Elemente nur, wenn sie angefordert werden). Aus diesem Grund ist ein Generatorausdruck viel speichereffizienter als ein entsprechendes Listenverständnis."
   ]
  },
  {
   "cell_type": "code",
   "execution_count": null,
   "id": "c21c72b0",
   "metadata": {},
   "outputs": [],
   "source": [
    "# Initialisieren der Liste\n",
    "my_list = [1, 3, 6, 10]\n",
    "# jeden Begriff mit Hilfe des Listenverständnisses quadrieren\n",
    "list_ = [x**2 for x in my_list]\n",
    "# Das Gleiche kann mit einem Generator-Ausdruck gemacht werden\n",
    "# Generatorausdrücke sind von Klammern umgeben ()\n",
    "generator = (x**2 for x in my_list)\n",
    "print(list_)\n",
    "print(next(generator))\n",
    "#print(list(generator))\n",
    "print(next(generator))\n",
    "for i in generator:\n",
    "    print(i)"
   ]
  },
  {
   "cell_type": "markdown",
   "id": "a05b7dd9",
   "metadata": {},
   "source": [
    "Wir können oben sehen, dass der Generator-Ausdruck nicht sofort das gewünschte Ergebnis erzeugt hat. Stattdessen wurde ein Generatorobjekt zurückgegeben, das Elemente nur bei Bedarf produziert.\n",
    "\n",
    "Hier sehen Sie, wie wir anfangen können, Elemente vom Generator abzurufen:"
   ]
  },
  {
   "cell_type": "code",
   "execution_count": null,
   "id": "aad8ae5a",
   "metadata": {},
   "outputs": [],
   "source": [
    "# Initialize the list\n",
    "my_list = [1, 3, 6, 10]\n",
    "a = (x**2 for x in my_list)\n",
    "\n",
    "for g in a:\n",
    "    print(g)\n",
    "# print(next(a))\n",
    "# print(next(a))\n",
    "# print(next(a))\n",
    "# print(next(a))\n",
    "# next(a)"
   ]
  }
 ],
 "metadata": {
  "kernelspec": {
   "display_name": "Python 3 (ipykernel)",
   "language": "python",
   "name": "python3"
  },
  "language_info": {
   "codemirror_mode": {
    "name": "ipython",
    "version": 3
   },
   "file_extension": ".py",
   "mimetype": "text/x-python",
   "name": "python",
   "nbconvert_exporter": "python",
   "pygments_lexer": "ipython3",
   "version": "3.12.4"
  },
  "toc": {
   "base_numbering": 1,
   "nav_menu": {},
   "number_sections": true,
   "sideBar": true,
   "skip_h1_title": false,
   "title_cell": "Table of Contents",
   "title_sidebar": "Contents",
   "toc_cell": false,
   "toc_position": {},
   "toc_section_display": true,
   "toc_window_display": false
  },
  "varInspector": {
   "cols": {
    "lenName": 16,
    "lenType": 16,
    "lenVar": 40
   },
   "kernels_config": {
    "python": {
     "delete_cmd_postfix": "",
     "delete_cmd_prefix": "del ",
     "library": "var_list.py",
     "varRefreshCmd": "print(var_dic_list())"
    },
    "r": {
     "delete_cmd_postfix": ") ",
     "delete_cmd_prefix": "rm(",
     "library": "var_list.r",
     "varRefreshCmd": "cat(var_dic_list()) "
    }
   },
   "types_to_exclude": [
    "module",
    "function",
    "builtin_function_or_method",
    "instance",
    "_Feature"
   ],
   "window_display": false
  },
  "widgets": {
   "application/vnd.jupyter.widget-state+json": {
    "state": {},
    "version_major": 2,
    "version_minor": 0
   }
  }
 },
 "nbformat": 4,
 "nbformat_minor": 5
}
