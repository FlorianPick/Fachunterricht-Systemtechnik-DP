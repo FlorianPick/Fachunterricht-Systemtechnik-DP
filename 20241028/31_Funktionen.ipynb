{
 "cells": [
  {
   "cell_type": "markdown",
   "id": "f87315fc",
   "metadata": {},
   "source": [
    "# Funktionen\n",
    "Eine Funktion ist ein Befehlsbereich, welcher eine definierte\n",
    "Aufgabe erfüllt. Die Funktion muß nur einmal definiert werden,\n",
    "für die (erneute) Ausführung genügt ein (erneuter)\n",
    "Funktionsaufruf. \n",
    "\n",
    "Beispiel:"
   ]
  },
  {
   "cell_type": "code",
   "execution_count": null,
   "id": "3214f657",
   "metadata": {},
   "outputs": [],
   "source": [
    "\n",
    "def working_message(): # Definition der Funktion\n",
    "# Anzeige Programm läuft\n",
    "    print(\"Program läuft…\") # Funktionscode\n",
    "#\n",
    "working_message() # Funktionsaufruf\n",
    "#working_message() # Funktionsaufruf"
   ]
  },
  {
   "cell_type": "markdown",
   "id": "cdbbf5d8",
   "metadata": {},
   "source": [
    "Die Nomenklatur einer Funktion ist immer mindestens:\n",
    "\n",
    "def funktionsname():\n",
    "\n",
    "    \"Programmcode\"\n",
    "\n",
    "\n",
    "Soll nun ein Parameter an die Funktion übergeben werden, so\n",
    "wird dieses in die Klammer geschrieben (Parameter) und bei\n",
    "dem Funktionsaufruf mit angegeben (Argument): "
   ]
  },
  {
   "cell_type": "code",
   "execution_count": null,
   "id": "df9ea2f2",
   "metadata": {},
   "outputs": [],
   "source": [
    "def working_message(progname):\n",
    "# Anzeige Programm <progname> läuft\n",
    "     print(\"Program \" + progname + \" läuft…\")\n",
    "#\n",
    "progname = 'XX'\n",
    "working_message(\"Mein neues Prog\") # Funktionsaufruf\n",
    "print(progname)"
   ]
  },
  {
   "cell_type": "markdown",
   "id": "d33046d2",
   "metadata": {},
   "source": [
    "Bei dem folgenden Funktionsaufruf erwartet dann das Programm, daß immer der Wert der Variablen „progname“ mitgeliefert wird, sobald ein Funktionsaufruf erfolgt.\n",
    "\n",
    "In der Funktionsdefinition wird progname als Parameter der Funktion bezeichnet, wogegen „myprog“ im Funktionsaufruf als Argument bezeichnet wird. "
   ]
  },
  {
   "cell_type": "code",
   "execution_count": null,
   "id": "9bc303b9",
   "metadata": {},
   "outputs": [],
   "source": [
    "def working_message(progname): # <- Parameter\n",
    "# Anzeige Programm <progname> läuft\n",
    "     print(\"Program \" + progname + \" läuft…\")\n",
    "#\n",
    "working_message(\"Mein Prog\")   # <- Argument\n",
    "#working_message()   # <- ohne Argument"
   ]
  },
  {
   "cell_type": "markdown",
   "id": "68876825",
   "metadata": {},
   "source": [
    "Bei mehreren Parametern und Argumenten werden diese im einfachsten Fall hintereinander in die Klammer geschrieben."
   ]
  },
  {
   "cell_type": "code",
   "execution_count": null,
   "id": "f7bab9f0",
   "metadata": {},
   "outputs": [],
   "source": [
    "def working_message(progname, probname):\n",
    "    '''\n",
    "    Test Docstring\n",
    "    '''\n",
    "# Display working message with program and problem name\n",
    "    print(\"Programm \" + progname + \" arbeitet an \" + probname)\n",
    "#\n",
    "working_message(\"Mein Programm\",\"meinem Problem\")          "
   ]
  },
  {
   "cell_type": "markdown",
   "id": "a37a7e36",
   "metadata": {},
   "source": [
    "Falls die Reihenfolge der Argumente nicht eingehalten wird,entstehen Positionsfehler. Dieser ist jedoch nicht als\n",
    "Syntaxfehler erkennbar und erzeugt keine Fehlermeldung."
   ]
  },
  {
   "cell_type": "code",
   "execution_count": null,
   "id": "db2c6857",
   "metadata": {},
   "outputs": [],
   "source": [
    "#\n",
    "working_message(\"meinem Problem\",\"Mein Programm\")"
   ]
  },
  {
   "cell_type": "code",
   "execution_count": null,
   "id": "9e688c22",
   "metadata": {},
   "outputs": [],
   "source": [
    "help(working_message)"
   ]
  },
  {
   "cell_type": "markdown",
   "id": "8377535d",
   "metadata": {},
   "source": [
    "Zur Vermeidung von Positionsfehlern besteht die Möglichkeit der Schlüsselwortargumentübergabe wie folgt: "
   ]
  },
  {
   "cell_type": "code",
   "execution_count": null,
   "id": "070f8654",
   "metadata": {},
   "outputs": [],
   "source": [
    "#\n",
    "working_message (progname = \"Mein Programm\", probname = \"Meinem Problem\")\n",
    "working_message (probname = \"Meinem Problem\", progname = \"Mein Programm\") # Argumente durch Schlüsselwort definiert\n"
   ]
  },
  {
   "cell_type": "markdown",
   "id": "7b1cd59d",
   "metadata": {},
   "source": [
    "- Die Anzahl der Argumente kann beliebig groß sein. \n",
    "- Der Aufruf einer Funktion kann beliebig oft erfolgen.\n",
    "- Die Funktion wird jedoch nur einmal definiert."
   ]
  },
  {
   "cell_type": "code",
   "execution_count": null,
   "id": "3bc3e944",
   "metadata": {},
   "outputs": [],
   "source": [
    "working_message (progname = \"Mein Programm\", probname = \"Meinem Problem\")\n",
    "print(50*'#')\n",
    "working_message ('Micky', 'meinem Auto')\n",
    "print(50*'#')\n",
    "working_message ('Mini', 'meinem Fahrrad')\n",
    "print(50*'#')\n",
    "working_message ('Mini', probname = 'meinem Fahrrad')\n"
   ]
  },
  {
   "cell_type": "code",
   "execution_count": null,
   "id": "1806276a",
   "metadata": {},
   "outputs": [],
   "source": [
    "def sternchen(anz):\n",
    "    print(anz * \"*\")\n",
    "\n",
    "### Hauptprogramm ###\n",
    "sternchen(20)\n",
    "sternchen(10)\n",
    "sternchen(5)"
   ]
  },
  {
   "cell_type": "markdown",
   "id": "0fb1491b",
   "metadata": {},
   "source": [
    "Parameter können mit einem Standardwert vorbelegt werden. In diesem Fall ist das entsprechende Argument optional. Beim Weglassen wird der Standardwert verwendet."
   ]
  },
  {
   "cell_type": "code",
   "execution_count": null,
   "id": "123dabaf",
   "metadata": {},
   "outputs": [],
   "source": [
    "def working_message(probname, progname=\"Geheim\"):\n",
    "    print(\"Program \" + progname +\" arbeitet an \" + probname)\n",
    "#\n",
    "working_message (probname = \"Problem C_35\")               # Aufruf für Standardwert\n",
    "print(50*'#')\n",
    "working_message (\"Problem C_35\")                          # Aufruf für Standardwert\n",
    "sternchen(50)\n",
    "#\n",
    "working_message (progname = \"Geheim 1\", probname = \"Problem C_35\") # Aufruf mit allen Argumenten\n",
    "print(50*'#')\n",
    "working_message (\"Geheim 1\", \"Problem C_35\") # Aufruf mit allen Argumenten in falscher Reihenfolge!\n"
   ]
  },
  {
   "cell_type": "markdown",
   "id": "b89f5394",
   "metadata": {},
   "source": [
    "Falls es verschiedene Typen von Parametern in der Definitionszeile einer Funktion gibt, muß deren Auftreten einer festgelegten Reihenfolge entsprechen. Diese ist Typ1-2-3-4: "
   ]
  },
  {
   "cell_type": "markdown",
   "id": "92f6dbcb",
   "metadata": {},
   "source": [
    "|Reihenfolge|Argumentart|Beispiel|\n",
    "| :---    | :---  | :---  |\n",
    "|Typ 1 |Parameter ohne Standardwert (a, b, c) |def func(a,b,c):|\n",
    "|Typ 2 |Parameter mit Standardwert (d = “xy“, e = “zz“) |def func(d=\"xy\", e= \"zz\"):|\n",
    "|Typ 3 |Bel. Anzahl Parameter (\\*args) |def func(\\*args):|\n",
    "|Typ 4 |Bel. Anzahl Parameter mit Schlüsselwort (\\*\\*kwargs) |def func(\\*\\*kwargs):|"
   ]
  },
  {
   "cell_type": "code",
   "execution_count": null,
   "id": "51f52370",
   "metadata": {},
   "outputs": [],
   "source": [
    "# Typ 3 \n",
    "def new_func(a, *argumente):\n",
    "    print(argumente, type(argumente))\n",
    "    print(a)\n",
    "new_func(1,2,3,4)"
   ]
  },
  {
   "cell_type": "code",
   "execution_count": null,
   "id": "c04d0e5c",
   "metadata": {},
   "outputs": [],
   "source": [
    "# Typ 4\n",
    "def new_func(a, **kwargumente):\n",
    "    print(kwargumente, type(kwargumente))\n",
    "    print(a)\n",
    "new_func(1, c = 2, d = 3, b = 4)"
   ]
  },
  {
   "cell_type": "markdown",
   "id": "af31ed72",
   "metadata": {},
   "source": [
    "Unterschiedliche Funktionsaufrufe können identische Ergebnisse erzielen:"
   ]
  },
  {
   "cell_type": "code",
   "execution_count": null,
   "id": "7ee71828",
   "metadata": {},
   "outputs": [],
   "source": [
    "def mul(*args, **kwargs):\n",
    "    erg = 1\n",
    "    for i in args:\n",
    "        erg *= i\n",
    "    return erg\n",
    "print(mul(1,2,3,4))         # Zahlen als Argumente\n",
    "print(*range(1,5))\n",
    "print(mul(*range(1,5)))     # Funktion von Range verwenden"
   ]
  },
  {
   "cell_type": "code",
   "execution_count": null,
   "id": "34ccc7f2",
   "metadata": {},
   "outputs": [],
   "source": [
    "working_message (probname = \"Problem C_35\")\n",
    "#\n",
    "working_message (progname = \"Geheim\", probname = \"Problem C_35\")\n",
    "#\n",
    "working_message (\"Problem C_35\")"
   ]
  },
  {
   "cell_type": "markdown",
   "id": "a99e9f21",
   "metadata": {},
   "source": [
    "Fehlerhafte Funktionsaufrufe erzeugen Fehlermeldungen mit Position und Art des Fehlers sowie einer Fehlerbeschreibung:"
   ]
  },
  {
   "cell_type": "code",
   "execution_count": null,
   "id": "ed2bb99b",
   "metadata": {},
   "outputs": [],
   "source": [
    "working_message ()"
   ]
  },
  {
   "cell_type": "markdown",
   "id": "cd867b15",
   "metadata": {},
   "source": [
    "Argumentlisten können auf nur-Positionell,/, gemischt oder,*,\n",
    "auf nur-Schlüsselwort beschränkt werden (Python >=3.8). "
   ]
  },
  {
   "attachments": {
    "image-2.png": {
     "image/png": "[encoded data removed]"
    }
   },
   "cell_type": "markdown",
   "id": "25077859",
   "metadata": {},
   "source": [
    "Spezielle Parameter zur besseren Darstellung der verschiedenen Parameter\n",
    "![image-2.png](attachment:image-2.png)\n",
    "\n",
    "https://docs.python.org/3/tutorial/controlflow.html#special-parameters"
   ]
  },
  {
   "cell_type": "code",
   "execution_count": null,
   "id": "c5e5b4cd",
   "metadata": {},
   "outputs": [],
   "source": [
    "def f1(a, b, /, c, d='D', *, e='E', f='F'): # Argumenttyp:\n",
    "# a, b nur positionell, c,d gemischt, e,f nur Schlüsselwort\n",
    "    print(a, b, c, d, e, f)\n",
    "# Beispiel:\n",
    "f1('A', 'B', 'C', d='D', e='G')\n",
    "f1('Eins', 'Be', 'C', d='D', e='G', f='Neu')\n",
    "f1('Eins', 'Be', c='C', d='D', e='G', f='Neu')\n",
    "f1('G','H','I',d='J')\n",
    "f1('G','H','I')\n",
    "# Fehler!\n",
    "#f1('G', b = 'H', c = 'I') # Positionalen Parameter testen \n",
    "#f1('G', 'H', c = 'I', 'K') # Wenn Keywort --> dann nur noch witer damit!\n",
    "#f1('G', 'H', 'I', 'K', 'L')  # Keyword only testen"
   ]
  },
  {
   "cell_type": "markdown",
   "id": "75fde42e",
   "metadata": {},
   "source": [
    "Funktionen können auch Rückgabewerte erzeugen. Mit return erzeugt man einen Rückgabewert, welcher an der Stelle des Funtionsaufrufes eingesetzt wird (hier vom Typ str)."
   ]
  },
  {
   "cell_type": "code",
   "execution_count": null,
   "id": "d841afc0",
   "metadata": {},
   "outputs": [],
   "source": [
    "def working_message(probname, progname=\"Geheim\"):\n",
    "    return(\"Program \" + progname +\" working on \" + probname)\n",
    "#\n",
    "#print(working_message (probname = \"Problem C_35\"))\n",
    "#working_message(probname = \"Problem C_35\")\n",
    "str1 = working_message (probname = \"Problem C_35\")\n",
    "print(str1,'\\n', type(str1))"
   ]
  },
  {
   "cell_type": "markdown",
   "id": "86d0e62d",
   "metadata": {},
   "source": [
    "Neben Variablen vom Typ “str“ können auch andere Variablen, Listen und Dictionaries zurückgegeben werden. "
   ]
  },
  {
   "cell_type": "code",
   "execution_count": null,
   "id": "f9ddbfa6",
   "metadata": {
    "scrolled": true
   },
   "outputs": [],
   "source": [
    "def divmod(a, b, /): # Nur positionelle Argumente sind erlaubt (Python >= 3.8)\n",
    "    # \"Emulation der eingebauten divmod() funktion\"\n",
    "    if b != 0:                 # Division durch 0 vermeiden!\n",
    "        return (a // b, a % b) # Tupel zurueckgeben\n",
    "    else:\n",
    "        return (None,None)\n",
    "### MAIN ###  \n",
    "a = 17\n",
    "b = 4\n",
    "res = divmod(a,b)\n",
    "print(res) # (4,1)\n",
    "c,d = divmod(a,b)         # Ergebnis direkt in Variablen schreiben\n",
    "print(c, d)"
   ]
  },
  {
   "cell_type": "code",
   "execution_count": null,
   "id": "f7b6b4df",
   "metadata": {},
   "outputs": [],
   "source": [
    "def bike_labeler(Bikename, make=\"Buffalo\"):\n",
    "    Bike_descript={\"Bike_Name\":Bikename, \"Bike_make\":make}\n",
    "    return Bike_descript\n",
    "#\n",
    "val = bike_labeler(\"HotRod\")\n",
    "print(val, '\\n', type(val))"
   ]
  },
  {
   "cell_type": "markdown",
   "id": "7955c660",
   "metadata": {},
   "source": [
    "Funktionen in while-Schleifen:"
   ]
  },
  {
   "cell_type": "code",
   "execution_count": null,
   "id": "2f7f0986",
   "metadata": {},
   "outputs": [],
   "source": [
    "Bike_List=[]\n",
    "while True:\n",
    "    print(\"Enter Name of Bike, q for quit: \")\n",
    "    ans = input()\n",
    "    if ans != \"q\":\n",
    "        Bike_List.append(bike_labeler(ans))\n",
    "    else:\n",
    "        print(Bike_List)\n",
    "        break\n",
    "# Mögliche Namen: Cobra; Tornado, Bonanza"
   ]
  },
  {
   "cell_type": "markdown",
   "id": "b0bcda3b",
   "metadata": {},
   "source": [
    "Funktionen sind eine effiziente Methode, große Datenmengen, beispielsweise in Listen, zu bearbeiten. Hierbei kann die Liste natürlich auch verändert werden.\n",
    "\n",
    "Um Listen jedoch einerseits zu bearbeiten, andererseits die originale Liste zu erhalten, kann diese bei der Übergabe kopiert werden, bevor Sie an die Funktion übergeben wird:\n",
    "\n",
    "``funktionsname(Listenname[:])``"
   ]
  },
  {
   "cell_type": "markdown",
   "id": "82ce56de",
   "metadata": {},
   "source": [
    "Eine Funktion kann auch beliebig viele Argumente als Parameter entgegennehmen, deren Anzahl vorher nicht bekannt ist. Mit *bike_options wird Python angewiesen, ein leeres Tupel zu erzeugen, worin alle Argumentwerte unterzubringen sind (Argument Typ 3):"
   ]
  },
  {
   "cell_type": "code",
   "execution_count": null,
   "id": "8e076380",
   "metadata": {},
   "outputs": [],
   "source": [
    "def bike_labeler(Bikename, *bike_options):\n",
    "    Bike_Label=Bikename + \" \"\n",
    "    #print(bike_options, type(bike_options))\n",
    "    for bike_option in bike_options:\n",
    "        Bike_Label = Bike_Label + \"| \" + bike_option\n",
    "    return Bike_Label\n",
    "#\n",
    "print(bike_labeler(\"HotRod\"))\n",
    "print(bike_labeler(\"HotRod\",\"green\"))\n",
    "print(bike_labeler(\"HotRod\",\"green\",\"spokes\", \"Hardtail\"))"
   ]
  },
  {
   "cell_type": "markdown",
   "id": "12831325",
   "metadata": {},
   "source": [
    "Wie bereits erwähnt, müssen bei Parameter verschiedenen Typs in einer Funktionsdefinition diese in der richtigen Reihenfolge stehen. “*bike_options“ muß somit rechts von “Bikename“ stehen, ansonsten erhält man eine Fehlermeldung.\n",
    "Die korrekte Argumenten-Parameterübergabe erfordert etwas Übung, weshalb in der Folge mit der geringstmöglichen Anzahl unterschiedlicher Parametertypen gearbeitet werden sollte."
   ]
  },
  {
   "cell_type": "markdown",
   "id": "af823d0e",
   "metadata": {},
   "source": [
    "Funktionen können auch eine unbekannte Anzahl von Schlüsselwortparametern entgegennehmen. Hierzu wird der Aufruf \\*\\*bike_options verwendet, welcher ein leeres Dictionary erstellt, welches dann mit den Schlüsselwort-WertPaaren des Funktionsaufrufes gefüllt wird."
   ]
  },
  {
   "cell_type": "code",
   "execution_count": null,
   "id": "642f854c",
   "metadata": {},
   "outputs": [],
   "source": [
    "def bike_labeler(Bikename, **bike_options):\n",
    "    BikeLabel={}\n",
    "    BikeLabel[\"Name\"] = Bikename\n",
    "    print(bike_options, type(bike_options))\n",
    "    for key,value in bike_options.items():\n",
    "        BikeLabel[key] = value\n",
    "    return BikeLabel\n",
    "### MAIN ###\n",
    "x = bike_labeler(\"HotRod\", colour = \"green\")\n",
    "print(x)\n",
    "print(bike_labeler(\"HotRod\", colour = \"green\"))\n",
    "print(bike_labeler(\"HotRod\",colour=\"green\",lights=\"standard\", brake='manual'))"
   ]
  },
  {
   "cell_type": "markdown",
   "id": "9a79eb41",
   "metadata": {},
   "source": [
    "Funktionen sind einzelne Programmblöcke, welche aus dem eigentlichen Programm ausgelagert werden können. Dadurch wird das Gesamtprogramm übersichtlicher. Funktionen können auch in separaten Dateien gespeichert werden. Diese werden auch als Module bezeichnet. Der Dateiname muß auf “.py“ enden und sollte im Ausführungsverzeichnis von python stehen. Der Dateiname sollte die Funktion beschreiben und kann dann mittels eines „import“- Befehls verfügbar gemacht werden. "
   ]
  },
  {
   "cell_type": "markdown",
   "id": "de3f8ba7",
   "metadata": {},
   "source": [
    "Beispiel: BikeLabeler.py \n",
    "Importieren mit „import BikeLabeler“, Funktionsaufruf mit BikeLabeler.bike_labeler(Bikename, \\*\\*bike_options)"
   ]
  },
  {
   "cell_type": "code",
   "execution_count": null,
   "id": "171fc518",
   "metadata": {},
   "outputs": [],
   "source": [
    "import BikeLabeler\n",
    "#from BikeLabeler import bike_labeler, working_message\n",
    "#import BikeLabeler as BL\n",
    "#from BikeLabeler import bike_labeler as bl\n",
    "#print(BikeLabeler.bike_labeler(\"HotRod\",colour=\"green\", lights=\"standard\"))\n",
    "#print(bike_labeler(\"HotRod\",colour=\"green\", lights=\"standard\"))\n",
    "#print(BL.bike_labeler(\"HotRod\",colour=\"green\", lights=\"standard\"))\n",
    "#print(bl(\"HotRod\",colour=\"green\", lights=\"standard\"))\n",
    "help(BikeLabeler)\n",
    "#print(working_message('Mein Progremm'))"
   ]
  },
  {
   "cell_type": "markdown",
   "id": "2b6dd2fa",
   "metadata": {},
   "source": [
    "Hilfe für BikeLabeler aufrufen."
   ]
  },
  {
   "cell_type": "code",
   "execution_count": null,
   "id": "beb820c0",
   "metadata": {
    "scrolled": true
   },
   "outputs": [],
   "source": [
    "help(BikeLabeler.bike_labeler)"
   ]
  },
  {
   "cell_type": "markdown",
   "id": "f043efd6",
   "metadata": {},
   "source": [
    "Inhalt des Moduls anzeigen. "
   ]
  },
  {
   "cell_type": "code",
   "execution_count": null,
   "id": "5136ad9d",
   "metadata": {
    "scrolled": true
   },
   "outputs": [],
   "source": [
    "print(dir(BikeLabeler))\n",
    "#dir(BL)\n",
    "#BikeLabeler.__file__\n",
    "#BikeLabeler.__name__"
   ]
  },
  {
   "cell_type": "code",
   "execution_count": null,
   "id": "9e07ba4f",
   "metadata": {},
   "outputs": [],
   "source": [
    "#print(BL.bike_labeler('GIANT', Rahmen='Trapez'))\n",
    "print(BikeLabeler.bike_labeler('GIANT', Rahmen='Trapez', Farbe = 'Grün'))\n",
    "print(BikeLabeler.working_message('Fieses Problem', 'Master'))"
   ]
  },
  {
   "cell_type": "markdown",
   "id": "93a4361c",
   "metadata": {},
   "source": [
    "Das Importieren von Modulen mittels “import“- statement erzeugt einen gleichnamigen Namensraum:\n",
    "\n",
    "``import BikeLabeler\n",
    "#Funktionsaufruf:\n",
    "BikeLabeler.bike_labeler(args)``\n",
    "\n",
    "In einem Modul kann mehr als eine Funktion definiert sein. Diese Funktion(en) können einzeln oder alle zusammen in den Builtin-Namensraum importiert werden:\n",
    "\n",
    "``from BikeLabeler import bike_labeler # Bike_counter ,… oder\n",
    "#from BikeLabeler import *\n",
    "#Funktionsaufruf:\n",
    "bike_labeler(args)``"
   ]
  },
  {
   "cell_type": "code",
   "execution_count": null,
   "id": "5f24bc60",
   "metadata": {},
   "outputs": [],
   "source": [
    "from BikeLabeler import bike_labeler, working_message\n",
    "print(bike_labeler('GIANT', Rahmen='Trapez'))\n",
    "print(working_message('Fieses Problem', 'Master'))"
   ]
  },
  {
   "cell_type": "markdown",
   "id": "334402f0",
   "metadata": {},
   "source": [
    "Bei dem Importieren eines Moduls mittels “import“ kann der neu erzeugte Namensraum mit as umbenannt werden:\n",
    "\n",
    "``\n",
    "import BikeLabeler as BL\n",
    "#Funktionsaufruf:\n",
    "BL.bike_labeler(args)\n",
    "``\n",
    "\n",
    "Ebenso kann auch eine einzeln importierte Funktion mit as umbenannt werden:\n",
    "\n",
    "``\n",
    "from BikeLabeler import bike_labeler as bl\n",
    "#Funktionsaufruf:\n",
    "bl(args)\n",
    "``"
   ]
  },
  {
   "cell_type": "markdown",
   "id": "e8530e32",
   "metadata": {},
   "source": [
    "## Gültigkeitsbereich von Variablen:\n",
    "\n",
    "Variablen im \"oberen\" Namensbereich (main) sind immer implizit globale Variablen, auch ohne diese als solche zu deklarieren. Diese sind sowohl ausserhalb als auch innerhalb von Funktionen lesbar. "
   ]
  },
  {
   "cell_type": "code",
   "execution_count": null,
   "id": "03c2273a",
   "metadata": {},
   "outputs": [],
   "source": [
    "var1 = \"Hello\" # Variablen im \"main\" Namensraum sind implizite \"globale\" Variablen\n",
    "#\n",
    "def myfunc():\n",
    "    print(\"##################\")\n",
    "    print('In Funktion: ' + var1)\n",
    "#\n",
    "print(type(myfunc))\n",
    "print('In Main    : ' + var1)\n",
    "myfunc()\n"
   ]
  },
  {
   "cell_type": "markdown",
   "id": "545908c6",
   "metadata": {},
   "source": [
    "Innerhalb von Funktionen sind diese jedoch nicht veränderbar*. Es kann jedoch eine neue Variable (var2) gebildet werden, welche jedoch nur lokal innerhalb der Funktion verwendet werden kann. Im \"main\" Namespace ist diese neue Variable (var2) dagegen nicht bekannt. "
   ]
  },
  {
   "cell_type": "code",
   "execution_count": null,
   "id": "e372892d",
   "metadata": {},
   "outputs": [],
   "source": [
    "#\n",
    "def myfunc():\n",
    "    print(\"We may access this variable in a function\")\n",
    "    print('myfunc : ' + var1)\n",
    "    #var1 = var1 + \", World!\" # Error! Traceback...\n",
    "    var2 = var1 + \", World!\"\n",
    "    print('myfunc : ' +var2)\n",
    "    return var2\n",
    "\n",
    "#\n",
    "var1 = \"Hello\" # Variablen im \"main\" Namensraum sind implizite \"globale\" Variablen\n",
    "print(var1)\n",
    "var1 = var1 + myfunc()\n",
    "print(var1)      # NameError: name 'var2' is not defined\n",
    "#print(var2)      # Fehler, var2 nicht definiert, da lokal in myfunc()\n",
    "print(myfunc())\n",
    "x = myfunc()\n",
    "print(x)"
   ]
  },
  {
   "cell_type": "markdown",
   "id": "be099502",
   "metadata": {},
   "source": [
    "Wird die (implizit globale) Variable jedoch innerhalb der Funktion explizit als \"global\" deklariert, so kann diese auch innerhalb der Funktion verändert werden und ist dann auch wieder im \"main\" Namespace verfügbar \\*. \n",
    "\n",
    "\\*Gilt nur für \"immutable\" Types (int, float, string, tuple, frozenset, bytes, complex). Mutable Types (dict, list,set, byte array) sind nicht betroffen. "
   ]
  },
  {
   "cell_type": "code",
   "execution_count": null,
   "id": "dd6f21e8",
   "metadata": {},
   "outputs": [],
   "source": [
    "var1 = \"Hello\" # Variablen im \"main\" Namensraum sind implizite \"globale\" Variablen\n",
    "liste = ['Apfel']\n",
    "lvar = ['Hallo']\n",
    "############\n",
    "def myfunc():\n",
    "    global var1              # Deklariere var1 als globale Variable innerhalb der Funktion um diese verändern zu können\n",
    "    #lmyfunc = ['F_Liste']\n",
    "    print(\"We may access this variable in a function\")\n",
    "    print('myfunc : ' + var1)\n",
    "    print('myfunc : ', liste)\n",
    "    liste.append('Birne')    # Eine Liste ist ein Mutable Type und steht überall zur Verfügung\n",
    "    #liste.clear()            # Liste global löschen\n",
    "    var1 = var1+\", World!\"    # Nun kann man ändern! --> global var1!\n",
    "    lvar[0] = 'Hallo Global'\n",
    "    \n",
    "def myfunc1():\n",
    "    #global var1              # Deklariere var1 als globale Variable innerhalb der Funktion um diese verändern zu können\n",
    "    var1 = 'NEU'              # var1 gilt im Namensraum von myfunc1 !!!\n",
    "    liste.append('Zitrone')    # Eine Liste ist ein Mutable Type und steht überall zur Verfügung\n",
    "    lvar[0] = 'Hallo Global 1'\n",
    "    return lvar\n",
    "    \n",
    "############\n",
    "print('Main : ',var1)\n",
    "myfunc()\n",
    "print('Main : ',var1)     # wurde verändert\n",
    "print('Main : ',liste)    # wurde verändert\n",
    "#print('Main : ',lmyfunc)    # wurde verändert\n",
    "print('Main : ',lvar)\n",
    "ret = myfunc1()\n",
    "print(type(ret), ret[0])\n",
    "print(f'Main : {var1}')\n",
    "print('Main : ',liste)    # wurde verändert\n",
    "print('Main : ',lvar)"
   ]
  },
  {
   "cell_type": "markdown",
   "id": "bd216b93",
   "metadata": {},
   "source": [
    "Lambda-Funktion (auch lambda-Operator, anonyme Funktion) Eine lambda-Funktion ist eine kleine, unbenannte Funktion, welche verwendet wird, wenn eine vollständige Funktionsdefinition vermieden werden soll. Sie ist insbesondere für kleine einzeilige Funktionen gedacht und in diesem Fall effizienter als herkömmliche Funktionen.\n",
    "\n",
    "**Allgemeiner Aufbau:** f = lambda Argumentenliste **:** Ausdruck\n",
    "\n",
    "Erklärung lambda Funktion:   \n",
    "https://www.delftstack.com/de/howto/python/lambda-functions-in-sort/\n",
    "\n",
    "https://www.python-kurs.eu/lambda.php"
   ]
  },
  {
   "cell_type": "code",
   "execution_count": null,
   "id": "abecec8a",
   "metadata": {},
   "outputs": [],
   "source": [
    "f = lambda x, y : x + y  #lambda Funktion mit 2 Argumenten x und y\n",
    "print(type(f))\n",
    "print(f(2,1))            # f(1,1) liefert in diesem Falle die Summe der Argumente."
   ]
  },
  {
   "cell_type": "code",
   "execution_count": null,
   "id": "b90e6256",
   "metadata": {},
   "outputs": [],
   "source": [
    "f(3,4)"
   ]
  },
  {
   "cell_type": "code",
   "execution_count": null,
   "id": "c7d8f1c9",
   "metadata": {},
   "outputs": [],
   "source": [
    "g = lambda x, y, z=2 : x * y + z # Allgemeiner Aufbau: lambda Argumentenliste : Ausdruck\n",
    "print(g(1,2))                    # g(1,2,3) liefert in diesem Falle die Summe aus dem Produkt\n",
    "print(g(x = 1,y = 2,z = 3))\n",
    "                                 # der ersten beiden Argumente und dem dritten Argument"
   ]
  },
  {
   "cell_type": "code",
   "execution_count": null,
   "id": "b1a5866d",
   "metadata": {},
   "outputs": [],
   "source": [
    "# Als Funktion\n",
    "def g1(x,y,z=2):\n",
    "    return x*y+z\n",
    "# Aufruf g1\n",
    "g1(1,2,3)\n"
   ]
  },
  {
   "cell_type": "markdown",
   "id": "13781e64",
   "metadata": {},
   "source": [
    "Bei einer Vielzahl von Aufrufen wird die lambda-Funktion deutlich Laufzeiteffizienter als eine herkömmliche Funktion, insbesondere auch bei zunehmender Anzahl von Parametern.\n",
    "\n",
    "Lambdas können auch innerhalb tkinter-command-Statements verwendet werden."
   ]
  },
  {
   "cell_type": "markdown",
   "id": "2c6dd1fb",
   "metadata": {},
   "source": [
    "## Wichtig\n",
    "\n",
    "- Sorgen Sie für eine korrekte Formatierung von Funktionen und Modulen gemäß PEP8.\n",
    "- Verwenden Sie Kommentare und Docstrings, wo erforderlich.\n",
    "- Zwischen zwei Funktionen können zur besseren Erkennbarkeit zwei Leerzeilen stehen\n",
    "- Für Funktions- und Modulnamen am besten Kleinbuchstaben und _ Unterstriche verwenden, Klassennamen werden jedoch Großgeschrieben"
   ]
  }
 ],
 "metadata": {
  "kernelspec": {
   "display_name": "Python 3 (ipykernel)",
   "language": "python",
   "name": "python3"
  },
  "language_info": {
   "codemirror_mode": {
    "name": "ipython",
    "version": 3
   },
   "file_extension": ".py",
   "mimetype": "text/x-python",
   "name": "python",
   "nbconvert_exporter": "python",
   "pygments_lexer": "ipython3",
   "version": "3.10.13"
  },
  "toc": {
   "base_numbering": 1,
   "nav_menu": {},
   "number_sections": true,
   "sideBar": true,
   "skip_h1_title": false,
   "title_cell": "Table of Contents",
   "title_sidebar": "Contents",
   "toc_cell": false,
   "toc_position": {},
   "toc_section_display": true,
   "toc_window_display": false
  },
  "varInspector": {
   "cols": {
    "lenName": 16,
    "lenType": 16,
    "lenVar": 40
   },
   "kernels_config": {
    "python": {
     "delete_cmd_postfix": "",
     "delete_cmd_prefix": "del ",
     "library": "var_list.py",
     "varRefreshCmd": "print(var_dic_list())"
    },
    "r": {
     "delete_cmd_postfix": ") ",
     "delete_cmd_prefix": "rm(",
     "library": "var_list.r",
     "varRefreshCmd": "cat(var_dic_list()) "
    }
   },
   "types_to_exclude": [
    "module",
    "function",
    "builtin_function_or_method",
    "instance",
    "_Feature"
   ],
   "window_display": false
  }
 },
 "nbformat": 4,
 "nbformat_minor": 5
}
